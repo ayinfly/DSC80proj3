{
 "cells": [
  {
   "cell_type": "markdown",
   "metadata": {},
   "source": [
    "# Power Outage\n",
    "\n",
    "**Name(s)**: Luke, Andrew\n",
    "\n",
    "**Website Link**: https://lukelin15.github.io/Power-Outage-Analysis/"
   ]
  },
  {
   "cell_type": "markdown",
   "metadata": {},
   "source": [
    "# Power Outage Analysis\n",
    "\n",
    "In this Jupyter Notebook, we will analyze a dataset containing major power outage data in the continental U.S. The dataset covers the period from January 2000 to July 2016.\n",
    "\n",
    "## Import Statements\n",
    "\n",
    "### Pandas\n",
    "Pandas is a powerful data manipulation library. We will use it to load, clean, and analyze the power outage dataset.\n",
    "\n",
    "### NumPy\n",
    "NumPy is a library for numerical operations in Python. It provides support for large, multi-dimensional arrays and matrices. We may use it for numerical computations related to the power outage data.\n",
    "\n",
    "### OS\n",
    "The os module provides a way to interact with the operating system. We might use it for handling file paths or checking the existence of files.\n",
    "\n",
    "### Folium\n",
    "Folium is a Python library that makes it easy to visualize spatial data and create interactive maps. We will use it to create an interactive map displaying the geographical distribution of power outages.\n",
    "\n",
    "### Geopy\n",
    "Geopy provides tools for geocoding (finding the latitude and longitude of an address) and reverse geocoding (finding the address of a set of latitude and longitude coordinates). We may use it in conjunction with Folium for location-based analysis.\n",
    "\n",
    "### HeatMap (Folium Plugin)\n",
    "The HeatMap plugin from Folium allows us to create a heatmap layer on our interactive map. It can be used to visualize the intensity or concentration of power outages in different geographical areas."
   ]
  },
  {
   "cell_type": "code",
   "execution_count": 1,
   "metadata": {
    "ExecuteTime": {
     "end_time": "2019-10-31T23:36:28.652554Z",
     "start_time": "2019-10-31T23:36:27.180520Z"
    }
   },
   "outputs": [],
   "source": [
    "import pandas as pd\n",
    "import numpy as np\n",
    "import os\n",
    "from scipy.stats import ks_2samp\n",
    "\n",
    "# Interactive Map \n",
    "import folium\n",
    "from geopy.geocoders import Nominatim\n",
    "from folium.plugins import HeatMap\n",
    "\n",
    "import plotly.express as px\n",
    "import plotly.graph_objects as go\n",
    "pd.options.plotting.backend = 'plotly'"
   ]
  },
  {
   "cell_type": "markdown",
   "metadata": {},
   "source": [
    "# Data Cleaning and Preparation\n",
    "\n",
    "In this section, we perform several steps to clean and prepare the power outage data for analysis."
   ]
  },
  {
   "cell_type": "code",
   "execution_count": 2,
   "metadata": {
    "ExecuteTime": {
     "end_time": "2019-10-31T23:36:28.657068Z",
     "start_time": "2019-10-31T23:36:28.654650Z"
    }
   },
   "outputs": [
    {
     "name": "stdout",
     "output_type": "stream",
     "text": [
      "(1534, 11)\n"
     ]
    }
   ],
   "source": [
    "# Read the Excel file into a pandas DataFrame\n",
    "outage = pd.read_excel(\"outage.xlsx\", sheet_name=\"Masterdata\")\n",
    "\n",
    "# Drop informational rows\n",
    "outage_cleaned = outage.drop(range(4)).dropna(axis=1, how='all')\n",
    "\n",
    "# Set column names based on the first row\n",
    "outage_cleaned.columns = outage_cleaned.iloc[0]\n",
    "\n",
    "# Drop rows related to units and variables\n",
    "outage_cleaned = outage_cleaned.drop([4, 5])\n",
    "outage_cleaned = outage_cleaned.drop(columns=\"variables\")\n",
    "\n",
    "# Combine 'OUTAGE.START.DATE' and 'OUTAGE.START.TIME' into a new datetime column\n",
    "outage_cleaned['OUTAGE.START'] = pd.to_datetime(outage_cleaned['OUTAGE.START.DATE']) + pd.to_timedelta(outage_cleaned['OUTAGE.START.TIME'].astype(str))\n",
    "\n",
    "# Combine 'OUTAGE.RESTORATION.DATE' and 'OUTAGE.RESTORATION.TIME' into a new datetime column\n",
    "outage_cleaned['OUTAGE.RESTORATION'] = pd.to_datetime(outage_cleaned['OUTAGE.RESTORATION.DATE']) + pd.to_timedelta(outage_cleaned['OUTAGE.RESTORATION.TIME'].astype(str))\n",
    "\n",
    "# Drop the original date and time columns\n",
    "outage_cleaned = outage_cleaned.drop(['OUTAGE.START.DATE', 'OUTAGE.START.TIME', 'OUTAGE.RESTORATION.DATE', 'OUTAGE.RESTORATION.TIME'], axis=1)\n",
    "\n",
    "# Replace \"NA\" with NaN for missing values\n",
    "outage_cleaned.replace(\"NA\", np.nan, inplace=True)\n",
    "\n",
    "#Essential Columns Analysis\n",
    "essential_col = [\n",
    "    \"U.S._STATE\", \n",
    "    'OUTAGE.START',\n",
    "    \"OUTAGE.RESTORATION\", \n",
    "    \"CUSTOMERS.AFFECTED\", \n",
    "    \"OUTAGE.DURATION\", \n",
    "    \"DEMAND.LOSS.MW\", \n",
    "    \"RES.PRICE\", \n",
    "    \"NERC.REGION\", \n",
    "    \"CLIMATE.REGION\",\n",
    "    \"CAUSE.CATEGORY\",\n",
    "    \"TOTAL.SALES\"\n",
    "]\n",
    "# Display the cleaned DataFrame\n",
    "outage_cleaned = outage_cleaned[essential_col]\n",
    "print(outage_cleaned.shape)\n"
   ]
  },
  {
   "cell_type": "code",
   "execution_count": null,
   "metadata": {},
   "outputs": [],
   "source": []
  },
  {
   "cell_type": "markdown",
   "metadata": {},
   "source": [
    "# Data Visualization\n",
    "The provided code utilizes the plotly libraries to create histograms for four key columns in the power outage dataset: 'OUTAGE.DURATION', 'DEMAND.LOSS.MW', 'CUSTOMERS.AFFECTED', and 'RES.PRICE'. Below are some objectives we are attempting to find by illustrating these graphs. \n",
    "\n",
    "## Distribution of OUTAGE.DURATION\n",
    "\n",
    "Objective:\n",
    "- Understand the distribution of outage durations to identify common patterns and outliers.\n",
    "\n",
    "Justification:\n",
    "\n",
    "- Outage duration is a crucial metric, providing insights into the temporal aspect of power outages.\n",
    "- A histogram with a kernel density estimate (KDE) allows us to observe the central tendency and spread of outage durations.\n",
    "\n",
    "## Distribution of DEMAND.LOSS.MW\n",
    "\n",
    "Objective:\n",
    "- Analyze the distribution of demand loss in terms of megawatts during power outages.\n",
    "\n",
    "Justification:\n",
    "\n",
    "- 'DEMAND.LOSS.MW' represents the amount of demand lost during an outage, offering insights into the severity of power disruptions.\n",
    "- A histogram with KDE enables visualization of the range and frequency of demand losses.\n",
    "\n",
    "## Distribution of CUSTOMERS.AFFECTED\n",
    "\n",
    "Objective:\n",
    "- Explore the impact of power outages on the number of customers affected.\n",
    "\n",
    "Justification:\n",
    "- 'CUSTOMERS.AFFECTED' provides information on the scale of the outage in terms of affected users.\n",
    "- A histogram with KDE helps understand the distribution of the number of affected customers.\n",
    "\n",
    "## Distribution of RES.PRICE\n",
    "\n",
    "Objective:\n",
    "- Investigate the distribution of residential electricity prices during power outage events.\n",
    "\n",
    "Justification:\n",
    "- 'RES.PRICE' represents the residential electricity price, which may correlate with the severity or causes of power outages.\n",
    "- A histogram with KDE allows us to visualize the distribution of residential electricity prices.\n",
    "\n",
    "## Summary:\n",
    "These visualizations serve as essential exploratory tools to gain a deeper understanding of key features in the power outage dataset. By analyzing the distributions of relevant columns, we can identify trends, outliers, and potential relationships between variables, providing a foundation for further analysis and hypothesis formulation."
   ]
  },
  {
   "cell_type": "code",
   "execution_count": 3,
   "metadata": {},
   "outputs": [
    {
     "data": {
      "application/vnd.plotly.v1+json": {
       "config": {
        "plotlyServerURL": "https://plot.ly"
       },
       "data": [
        {
         "nbinsx": 30,
         "type": "histogram",
         "x": [
          3060,
          1,
          3000,
          2550,
          1740,
          1860,
          2970,
          3960,
          155,
          3621,
          7740,
          8880,
          0,
          1322,
          60,
          19,
          0,
          21,
          196,
          840,
          935,
          1260,
          null,
          619,
          150,
          762,
          0,
          660,
          1,
          2700,
          1,
          4921,
          95,
          251,
          4125,
          2550,
          null,
          1200,
          310,
          2818,
          5054,
          136,
          528,
          150,
          46,
          1,
          1920,
          null,
          32,
          null,
          135,
          3000,
          32,
          108653,
          8468,
          960,
          44,
          1605,
          4410,
          388,
          480,
          1219,
          90,
          18660,
          538,
          104,
          60,
          1272,
          60,
          1,
          1000,
          17339,
          9576,
          3090,
          6510,
          5820,
          1078,
          1513,
          4830,
          3051,
          4200,
          2085,
          5730,
          4290,
          2670,
          3540,
          3637,
          1710,
          4320,
          3915,
          3120,
          4590,
          7530,
          5034,
          8160,
          3300,
          4320,
          1770,
          9857,
          4080,
          5670,
          5700,
          1995,
          300,
          5115,
          2670,
          7650,
          4338,
          761,
          5760,
          2820,
          4110,
          3360,
          3015,
          232,
          11525,
          6420,
          46080,
          5700,
          5610,
          78377,
          270,
          4050,
          5865,
          1,
          2325,
          4170,
          4485,
          2694,
          168,
          5580,
          705,
          11850,
          3494,
          4560,
          2760,
          5760,
          8922,
          6030,
          7800,
          4242,
          3120,
          5700,
          900,
          1046,
          7620,
          3630,
          1260,
          5840,
          5790,
          2820,
          600,
          4259,
          2939,
          7080,
          3600,
          1588,
          4260,
          2700,
          200,
          8430,
          85,
          9150,
          1019,
          420,
          1140,
          7440,
          4458,
          373,
          1203,
          868,
          1455,
          206,
          1195,
          1559,
          900,
          2690,
          5115,
          5,
          189,
          2142,
          360,
          null,
          225,
          2340,
          480,
          9486,
          480,
          3000,
          300,
          3020,
          766,
          null,
          1335,
          197,
          245,
          3255,
          12180,
          1077,
          600,
          186,
          690,
          27698,
          402,
          2420,
          327,
          1,
          1860,
          220,
          455,
          318,
          757,
          847,
          410,
          215,
          5,
          570,
          12124,
          2655,
          20160,
          1440,
          600,
          39,
          181,
          1185,
          1500,
          0,
          271,
          1860,
          1200,
          2159,
          6300,
          null,
          1620,
          224,
          70,
          1697,
          95,
          2220,
          null,
          7809,
          1200,
          121,
          63,
          5595,
          1,
          557,
          240,
          3360,
          685,
          2280,
          210,
          167,
          1920,
          3569,
          3300,
          10,
          1560,
          840,
          240,
          990,
          6000,
          17865,
          1282,
          1080,
          7540,
          1320,
          1110,
          27698,
          130,
          3040,
          394,
          10140,
          20160,
          21540,
          45,
          1,
          1200,
          550,
          900,
          885,
          940,
          null,
          3050,
          1830,
          6000,
          1500,
          150,
          1955,
          2220,
          330,
          74,
          420,
          1440,
          255,
          1060,
          12240,
          5250,
          4320,
          120,
          233,
          null,
          65,
          2120,
          96,
          3,
          4320,
          65,
          2146,
          96,
          4032,
          2580,
          6,
          569,
          0,
          15950,
          200,
          1980,
          4045,
          2730,
          3314,
          7319,
          1,
          47,
          1440,
          276,
          0,
          0,
          3646,
          1130,
          2880,
          513,
          35,
          23773,
          10,
          3872,
          23187,
          12240,
          390,
          null,
          3264,
          1230,
          803,
          77,
          30,
          300,
          1,
          5,
          1450,
          2680,
          null,
          7609,
          150,
          3000,
          420,
          479,
          1680,
          2700,
          149,
          1110,
          2790,
          659,
          1320,
          1830,
          3000,
          null,
          870,
          810,
          1336,
          1695,
          360,
          360,
          120,
          3000,
          1290,
          1530,
          2370,
          1200,
          1200,
          90,
          120,
          1200,
          2761,
          720,
          1120,
          2100,
          960,
          450,
          1440,
          1020,
          0,
          2010,
          120,
          9230,
          1240,
          465,
          0,
          2460,
          1183,
          8880,
          394,
          219,
          487,
          19,
          28,
          0,
          1,
          5340,
          8940,
          467,
          0,
          1920,
          0,
          25,
          420,
          2040,
          0,
          1,
          1423,
          60,
          1620,
          3300,
          385,
          663,
          123,
          1276,
          1919,
          null,
          440,
          6690,
          null,
          0,
          null,
          717,
          1204,
          292,
          313,
          1,
          5,
          6276,
          0,
          74,
          0,
          null,
          248,
          1,
          2700,
          25,
          126,
          1,
          255,
          1207,
          0,
          0,
          245,
          476,
          null,
          null,
          null,
          1,
          2639,
          502,
          548,
          369,
          6480,
          15,
          5,
          null,
          1,
          0,
          432,
          21,
          1697,
          0,
          2615,
          9630,
          3507,
          2820,
          314,
          5855,
          0,
          0,
          1,
          22769,
          70,
          4285,
          355,
          0,
          2520,
          0,
          180,
          554,
          50,
          70,
          180,
          3842,
          35,
          1,
          189,
          49320,
          4200,
          353,
          1,
          87,
          66,
          null,
          1,
          227,
          null,
          1440,
          1,
          2700,
          null,
          49320,
          2,
          215,
          451,
          418,
          100,
          2021,
          1671,
          3938,
          4470,
          2279,
          4440,
          2760,
          0,
          1,
          0,
          1,
          1840,
          428,
          331,
          1980,
          1,
          1,
          1950,
          3037,
          1,
          1,
          1196,
          5628,
          1440,
          7700,
          2,
          12890,
          4232,
          95,
          2610,
          4320,
          17,
          113,
          0,
          2507,
          0,
          1,
          4920,
          1,
          4080,
          0,
          960,
          185,
          1320,
          1673,
          2855,
          3060,
          565,
          1,
          1,
          7298,
          5790,
          3040,
          11700,
          7987,
          304,
          4517,
          0,
          3058,
          13381,
          2865,
          152,
          380,
          9450,
          7803,
          5579,
          8979,
          4800,
          3060,
          4792,
          3894,
          1757,
          2880,
          2985,
          164,
          3232,
          2319,
          4338,
          2880,
          1714,
          90,
          59,
          4139,
          10530,
          6938,
          930,
          278,
          299,
          5320,
          2880,
          1,
          4260,
          6713,
          5160,
          1440,
          78,
          7523,
          2668,
          1,
          376,
          1324,
          6940,
          2684,
          54,
          100,
          720,
          2880,
          3189,
          2790,
          13679,
          2843,
          13488,
          1642,
          7709,
          7080,
          1440,
          1,
          1680,
          1579,
          652,
          108,
          300,
          1020,
          3570,
          6492,
          23700,
          10499,
          15180,
          0,
          120,
          1,
          1,
          1,
          1,
          1,
          1,
          60,
          113,
          204,
          31,
          57,
          13,
          2,
          11,
          283,
          0,
          1,
          871,
          1631,
          56,
          15,
          15,
          20,
          60,
          1,
          95,
          300,
          1,
          3186,
          575,
          2275,
          15,
          1,
          44,
          21,
          1,
          114,
          1,
          60,
          4920,
          null,
          4920,
          420,
          0,
          7,
          21,
          340,
          4200,
          805,
          5040,
          7430,
          5490,
          165,
          3630,
          11640,
          1590,
          3137,
          1440,
          7920,
          360,
          0,
          1440,
          1372,
          6480,
          2190,
          285,
          75,
          1843,
          1,
          11531,
          1420,
          0,
          930,
          11420,
          0,
          352,
          0,
          960,
          1733,
          3690,
          10619,
          634,
          11280,
          1440,
          180,
          1574,
          45,
          563,
          388,
          373,
          4510,
          290,
          1950,
          270,
          1355,
          1318,
          2490,
          1265,
          195,
          3120,
          3388,
          1025,
          990,
          240,
          1485,
          129,
          0,
          1528,
          1890,
          2551,
          985,
          405,
          1698,
          167,
          1460,
          182,
          4113,
          null,
          885,
          15,
          42,
          1050,
          1,
          132,
          4140,
          2880,
          null,
          11430,
          3599,
          0,
          2941,
          null,
          6090,
          1365,
          375,
          2520,
          10080,
          76,
          0,
          3720,
          333,
          0,
          353,
          11337,
          0,
          0,
          7020,
          11058,
          null,
          9360,
          3300,
          3339,
          2880,
          11580,
          9600,
          13201,
          9719,
          488,
          2415,
          180,
          4177,
          7440,
          3480,
          6600,
          300,
          1526,
          60,
          210,
          2,
          1350,
          73,
          1,
          200,
          0,
          null,
          4380,
          0,
          120,
          2680,
          840,
          989,
          4313,
          214,
          4,
          164,
          91,
          1050,
          838,
          60,
          1,
          1,
          9886,
          2425,
          390,
          14500,
          6660,
          159,
          54,
          30,
          8077,
          855,
          65,
          810,
          4150,
          4740,
          25,
          0,
          null,
          2070,
          870,
          12652,
          2880,
          120,
          1199,
          null,
          1470,
          4140,
          15420,
          50,
          0,
          1,
          1,
          0,
          0,
          0,
          457,
          1,
          1,
          0,
          30,
          1,
          1,
          65,
          1,
          0,
          0,
          0,
          1,
          null,
          1,
          0,
          1,
          1,
          110,
          39,
          1,
          1,
          1,
          1,
          1,
          1,
          507,
          213,
          4254,
          1,
          1,
          53,
          0,
          0,
          251,
          347,
          1637,
          21360,
          2161,
          2880,
          1044,
          8670,
          56,
          93,
          13,
          2089,
          20280,
          14639,
          2880,
          681,
          494,
          1,
          5355,
          0,
          3943,
          3300,
          191,
          0,
          73,
          4680,
          17310,
          10080,
          10726,
          1,
          5,
          2515,
          25920,
          2730,
          9480,
          5400,
          30,
          3584,
          3600,
          5850,
          4710,
          1,
          1732,
          0,
          23040,
          1800,
          6074,
          null,
          49,
          2299,
          5760,
          420,
          7320,
          2880,
          448,
          2520,
          18717,
          5513,
          21,
          2100,
          3120,
          8221,
          3240,
          2880,
          255,
          2355,
          161,
          50,
          258,
          13140,
          8640,
          18240,
          15492,
          8268,
          0,
          300,
          14400,
          7962,
          2400,
          11296,
          48,
          60480,
          28170,
          300,
          8054,
          2775,
          2775,
          2160,
          2100,
          2775,
          3180,
          2775,
          1440,
          430,
          2129,
          1755,
          null,
          692,
          732,
          7,
          510,
          420,
          13215,
          557,
          300,
          17812,
          20416,
          6240,
          467,
          3067,
          3060,
          355,
          430,
          300,
          227,
          52,
          null,
          2880,
          18804,
          1867,
          1690,
          295,
          17,
          240,
          17520,
          8189,
          182,
          5820,
          83,
          230,
          2009,
          720,
          155,
          4320,
          4320,
          480,
          1005,
          221,
          372,
          13430,
          4320,
          91,
          1419,
          3600,
          10080,
          5071,
          152,
          6840,
          221,
          24780,
          38,
          61,
          7560,
          90,
          10380,
          396,
          2040,
          12060,
          1080,
          1680,
          13920,
          14101,
          1099,
          2460,
          540,
          52,
          816,
          420,
          155,
          437,
          247,
          540,
          1135,
          437,
          180,
          171,
          656,
          84,
          202,
          255,
          1054,
          1,
          1254,
          1456,
          177,
          106,
          32,
          2464,
          55,
          144,
          70,
          64,
          8873,
          945,
          null,
          523,
          56,
          3,
          8472,
          155,
          33,
          749,
          159,
          null,
          270,
          2790,
          224,
          1470,
          334,
          2050,
          370,
          26,
          797,
          12,
          195,
          1,
          230,
          125,
          15,
          316,
          365,
          1560,
          4740,
          294,
          455,
          2878,
          336,
          295,
          480,
          25,
          null,
          223,
          2645,
          2016,
          7371,
          360,
          3408,
          3698,
          4890,
          1,
          871,
          2759,
          250,
          3301,
          249,
          164,
          435,
          420,
          854,
          5160,
          133,
          15180,
          2055,
          451,
          140,
          199,
          721,
          179,
          1524,
          78,
          268,
          39,
          1,
          14190,
          47,
          161,
          900,
          6070,
          697,
          234,
          14,
          5910,
          null,
          34390,
          40,
          166,
          182,
          829,
          15,
          64,
          13,
          245,
          1080,
          null,
          390,
          47,
          269,
          null,
          400,
          660,
          213,
          null,
          761,
          8100,
          180,
          124,
          4320,
          2820,
          3100,
          49427,
          989,
          125,
          44,
          26,
          245,
          null,
          98,
          1,
          0,
          135,
          50,
          1008,
          53,
          554,
          1260,
          2895,
          89,
          98,
          865,
          128,
          230,
          252,
          130,
          5,
          157,
          6914,
          11,
          13,
          2880,
          270,
          962,
          47,
          null,
          20,
          108,
          9855,
          75,
          17,
          21,
          1950,
          11867,
          141,
          959,
          1035,
          617,
          1230,
          572,
          324,
          1835,
          6780,
          900,
          null,
          37,
          72,
          1,
          251,
          620,
          89,
          909,
          236,
          326,
          300,
          751,
          122,
          214,
          193,
          8,
          5227,
          null,
          1414,
          448,
          4605,
          4080,
          null,
          1914,
          759,
          1,
          10274,
          3,
          2700,
          105,
          240,
          210,
          1,
          1201,
          30,
          2806,
          1226,
          300,
          206,
          270,
          2880,
          513,
          8160,
          3314,
          414,
          126,
          60,
          285,
          110,
          62,
          2363,
          424,
          180,
          0,
          448,
          2,
          624,
          2435,
          131,
          null,
          208,
          103,
          1355,
          1523,
          90,
          1205,
          385,
          144,
          235,
          241,
          6787,
          1337,
          1673,
          3366,
          2640,
          1826,
          570,
          1565,
          2691,
          1072,
          115,
          816,
          168,
          30,
          160,
          485,
          1508,
          1301,
          159,
          60,
          4,
          9600,
          106,
          0,
          0,
          1,
          32,
          61,
          314,
          30,
          0,
          92,
          390,
          161,
          60,
          76,
          1,
          1,
          160,
          20,
          1,
          1,
          70,
          50,
          15,
          810,
          1380,
          1800,
          1560,
          2054,
          1452,
          1865,
          1999,
          120,
          1950,
          360,
          1087,
          1200,
          4122,
          360,
          645,
          108,
          0,
          1,
          1440,
          4560,
          1,
          1,
          110,
          210,
          120,
          0,
          4260,
          76,
          210,
          3305,
          5880,
          145,
          60,
          2640,
          1042,
          110,
          11880,
          2245,
          984,
          7200,
          1381,
          148,
          13972,
          null,
          796,
          300,
          null,
          2612,
          3000,
          431,
          5310,
          1732,
          0,
          6685,
          3300,
          280,
          117,
          2895,
          480,
          31,
          1,
          0,
          0,
          103,
          4745,
          307,
          1656,
          3525,
          374,
          1068,
          1569,
          114,
          115,
          15,
          2891,
          1,
          1676,
          0,
          0,
          3604,
          195,
          1,
          0,
          2108,
          198,
          3667,
          1037,
          673,
          null,
          2652,
          300,
          881,
          618,
          1187,
          950,
          2535,
          27,
          108,
          73,
          200,
          5,
          75,
          0,
          77,
          660,
          0,
          92,
          30,
          33,
          1895,
          274,
          1,
          1534,
          1,
          60,
          108,
          2,
          175,
          null,
          2040,
          2710,
          284,
          105,
          4019,
          1,
          391,
          439,
          5,
          201,
          2140,
          103,
          null,
          187,
          1406,
          348,
          13650,
          90,
          913,
          null,
          14040,
          1367,
          174,
          543,
          237,
          1906,
          224,
          0,
          95,
          360,
          1548,
          870,
          0,
          null,
          220,
          720,
          null,
          59,
          181,
          null
         ]
        }
       ],
       "layout": {
        "template": {
         "data": {
          "bar": [
           {
            "error_x": {
             "color": "#2a3f5f"
            },
            "error_y": {
             "color": "#2a3f5f"
            },
            "marker": {
             "line": {
              "color": "#E5ECF6",
              "width": 0.5
             },
             "pattern": {
              "fillmode": "overlay",
              "size": 10,
              "solidity": 0.2
             }
            },
            "type": "bar"
           }
          ],
          "barpolar": [
           {
            "marker": {
             "line": {
              "color": "#E5ECF6",
              "width": 0.5
             },
             "pattern": {
              "fillmode": "overlay",
              "size": 10,
              "solidity": 0.2
             }
            },
            "type": "barpolar"
           }
          ],
          "carpet": [
           {
            "aaxis": {
             "endlinecolor": "#2a3f5f",
             "gridcolor": "white",
             "linecolor": "white",
             "minorgridcolor": "white",
             "startlinecolor": "#2a3f5f"
            },
            "baxis": {
             "endlinecolor": "#2a3f5f",
             "gridcolor": "white",
             "linecolor": "white",
             "minorgridcolor": "white",
             "startlinecolor": "#2a3f5f"
            },
            "type": "carpet"
           }
          ],
          "choropleth": [
           {
            "colorbar": {
             "outlinewidth": 0,
             "ticks": ""
            },
            "type": "choropleth"
           }
          ],
          "contour": [
           {
            "colorbar": {
             "outlinewidth": 0,
             "ticks": ""
            },
            "colorscale": [
             [
              0,
              "#0d0887"
             ],
             [
              0.1111111111111111,
              "#46039f"
             ],
             [
              0.2222222222222222,
              "#7201a8"
             ],
             [
              0.3333333333333333,
              "#9c179e"
             ],
             [
              0.4444444444444444,
              "#bd3786"
             ],
             [
              0.5555555555555556,
              "#d8576b"
             ],
             [
              0.6666666666666666,
              "#ed7953"
             ],
             [
              0.7777777777777778,
              "#fb9f3a"
             ],
             [
              0.8888888888888888,
              "#fdca26"
             ],
             [
              1,
              "#f0f921"
             ]
            ],
            "type": "contour"
           }
          ],
          "contourcarpet": [
           {
            "colorbar": {
             "outlinewidth": 0,
             "ticks": ""
            },
            "type": "contourcarpet"
           }
          ],
          "heatmap": [
           {
            "colorbar": {
             "outlinewidth": 0,
             "ticks": ""
            },
            "colorscale": [
             [
              0,
              "#0d0887"
             ],
             [
              0.1111111111111111,
              "#46039f"
             ],
             [
              0.2222222222222222,
              "#7201a8"
             ],
             [
              0.3333333333333333,
              "#9c179e"
             ],
             [
              0.4444444444444444,
              "#bd3786"
             ],
             [
              0.5555555555555556,
              "#d8576b"
             ],
             [
              0.6666666666666666,
              "#ed7953"
             ],
             [
              0.7777777777777778,
              "#fb9f3a"
             ],
             [
              0.8888888888888888,
              "#fdca26"
             ],
             [
              1,
              "#f0f921"
             ]
            ],
            "type": "heatmap"
           }
          ],
          "heatmapgl": [
           {
            "colorbar": {
             "outlinewidth": 0,
             "ticks": ""
            },
            "colorscale": [
             [
              0,
              "#0d0887"
             ],
             [
              0.1111111111111111,
              "#46039f"
             ],
             [
              0.2222222222222222,
              "#7201a8"
             ],
             [
              0.3333333333333333,
              "#9c179e"
             ],
             [
              0.4444444444444444,
              "#bd3786"
             ],
             [
              0.5555555555555556,
              "#d8576b"
             ],
             [
              0.6666666666666666,
              "#ed7953"
             ],
             [
              0.7777777777777778,
              "#fb9f3a"
             ],
             [
              0.8888888888888888,
              "#fdca26"
             ],
             [
              1,
              "#f0f921"
             ]
            ],
            "type": "heatmapgl"
           }
          ],
          "histogram": [
           {
            "marker": {
             "pattern": {
              "fillmode": "overlay",
              "size": 10,
              "solidity": 0.2
             }
            },
            "type": "histogram"
           }
          ],
          "histogram2d": [
           {
            "colorbar": {
             "outlinewidth": 0,
             "ticks": ""
            },
            "colorscale": [
             [
              0,
              "#0d0887"
             ],
             [
              0.1111111111111111,
              "#46039f"
             ],
             [
              0.2222222222222222,
              "#7201a8"
             ],
             [
              0.3333333333333333,
              "#9c179e"
             ],
             [
              0.4444444444444444,
              "#bd3786"
             ],
             [
              0.5555555555555556,
              "#d8576b"
             ],
             [
              0.6666666666666666,
              "#ed7953"
             ],
             [
              0.7777777777777778,
              "#fb9f3a"
             ],
             [
              0.8888888888888888,
              "#fdca26"
             ],
             [
              1,
              "#f0f921"
             ]
            ],
            "type": "histogram2d"
           }
          ],
          "histogram2dcontour": [
           {
            "colorbar": {
             "outlinewidth": 0,
             "ticks": ""
            },
            "colorscale": [
             [
              0,
              "#0d0887"
             ],
             [
              0.1111111111111111,
              "#46039f"
             ],
             [
              0.2222222222222222,
              "#7201a8"
             ],
             [
              0.3333333333333333,
              "#9c179e"
             ],
             [
              0.4444444444444444,
              "#bd3786"
             ],
             [
              0.5555555555555556,
              "#d8576b"
             ],
             [
              0.6666666666666666,
              "#ed7953"
             ],
             [
              0.7777777777777778,
              "#fb9f3a"
             ],
             [
              0.8888888888888888,
              "#fdca26"
             ],
             [
              1,
              "#f0f921"
             ]
            ],
            "type": "histogram2dcontour"
           }
          ],
          "mesh3d": [
           {
            "colorbar": {
             "outlinewidth": 0,
             "ticks": ""
            },
            "type": "mesh3d"
           }
          ],
          "parcoords": [
           {
            "line": {
             "colorbar": {
              "outlinewidth": 0,
              "ticks": ""
             }
            },
            "type": "parcoords"
           }
          ],
          "pie": [
           {
            "automargin": true,
            "type": "pie"
           }
          ],
          "scatter": [
           {
            "fillpattern": {
             "fillmode": "overlay",
             "size": 10,
             "solidity": 0.2
            },
            "type": "scatter"
           }
          ],
          "scatter3d": [
           {
            "line": {
             "colorbar": {
              "outlinewidth": 0,
              "ticks": ""
             }
            },
            "marker": {
             "colorbar": {
              "outlinewidth": 0,
              "ticks": ""
             }
            },
            "type": "scatter3d"
           }
          ],
          "scattercarpet": [
           {
            "marker": {
             "colorbar": {
              "outlinewidth": 0,
              "ticks": ""
             }
            },
            "type": "scattercarpet"
           }
          ],
          "scattergeo": [
           {
            "marker": {
             "colorbar": {
              "outlinewidth": 0,
              "ticks": ""
             }
            },
            "type": "scattergeo"
           }
          ],
          "scattergl": [
           {
            "marker": {
             "colorbar": {
              "outlinewidth": 0,
              "ticks": ""
             }
            },
            "type": "scattergl"
           }
          ],
          "scattermapbox": [
           {
            "marker": {
             "colorbar": {
              "outlinewidth": 0,
              "ticks": ""
             }
            },
            "type": "scattermapbox"
           }
          ],
          "scatterpolar": [
           {
            "marker": {
             "colorbar": {
              "outlinewidth": 0,
              "ticks": ""
             }
            },
            "type": "scatterpolar"
           }
          ],
          "scatterpolargl": [
           {
            "marker": {
             "colorbar": {
              "outlinewidth": 0,
              "ticks": ""
             }
            },
            "type": "scatterpolargl"
           }
          ],
          "scatterternary": [
           {
            "marker": {
             "colorbar": {
              "outlinewidth": 0,
              "ticks": ""
             }
            },
            "type": "scatterternary"
           }
          ],
          "surface": [
           {
            "colorbar": {
             "outlinewidth": 0,
             "ticks": ""
            },
            "colorscale": [
             [
              0,
              "#0d0887"
             ],
             [
              0.1111111111111111,
              "#46039f"
             ],
             [
              0.2222222222222222,
              "#7201a8"
             ],
             [
              0.3333333333333333,
              "#9c179e"
             ],
             [
              0.4444444444444444,
              "#bd3786"
             ],
             [
              0.5555555555555556,
              "#d8576b"
             ],
             [
              0.6666666666666666,
              "#ed7953"
             ],
             [
              0.7777777777777778,
              "#fb9f3a"
             ],
             [
              0.8888888888888888,
              "#fdca26"
             ],
             [
              1,
              "#f0f921"
             ]
            ],
            "type": "surface"
           }
          ],
          "table": [
           {
            "cells": {
             "fill": {
              "color": "#EBF0F8"
             },
             "line": {
              "color": "white"
             }
            },
            "header": {
             "fill": {
              "color": "#C8D4E3"
             },
             "line": {
              "color": "white"
             }
            },
            "type": "table"
           }
          ]
         },
         "layout": {
          "annotationdefaults": {
           "arrowcolor": "#2a3f5f",
           "arrowhead": 0,
           "arrowwidth": 1
          },
          "autotypenumbers": "strict",
          "coloraxis": {
           "colorbar": {
            "outlinewidth": 0,
            "ticks": ""
           }
          },
          "colorscale": {
           "diverging": [
            [
             0,
             "#8e0152"
            ],
            [
             0.1,
             "#c51b7d"
            ],
            [
             0.2,
             "#de77ae"
            ],
            [
             0.3,
             "#f1b6da"
            ],
            [
             0.4,
             "#fde0ef"
            ],
            [
             0.5,
             "#f7f7f7"
            ],
            [
             0.6,
             "#e6f5d0"
            ],
            [
             0.7,
             "#b8e186"
            ],
            [
             0.8,
             "#7fbc41"
            ],
            [
             0.9,
             "#4d9221"
            ],
            [
             1,
             "#276419"
            ]
           ],
           "sequential": [
            [
             0,
             "#0d0887"
            ],
            [
             0.1111111111111111,
             "#46039f"
            ],
            [
             0.2222222222222222,
             "#7201a8"
            ],
            [
             0.3333333333333333,
             "#9c179e"
            ],
            [
             0.4444444444444444,
             "#bd3786"
            ],
            [
             0.5555555555555556,
             "#d8576b"
            ],
            [
             0.6666666666666666,
             "#ed7953"
            ],
            [
             0.7777777777777778,
             "#fb9f3a"
            ],
            [
             0.8888888888888888,
             "#fdca26"
            ],
            [
             1,
             "#f0f921"
            ]
           ],
           "sequentialminus": [
            [
             0,
             "#0d0887"
            ],
            [
             0.1111111111111111,
             "#46039f"
            ],
            [
             0.2222222222222222,
             "#7201a8"
            ],
            [
             0.3333333333333333,
             "#9c179e"
            ],
            [
             0.4444444444444444,
             "#bd3786"
            ],
            [
             0.5555555555555556,
             "#d8576b"
            ],
            [
             0.6666666666666666,
             "#ed7953"
            ],
            [
             0.7777777777777778,
             "#fb9f3a"
            ],
            [
             0.8888888888888888,
             "#fdca26"
            ],
            [
             1,
             "#f0f921"
            ]
           ]
          },
          "colorway": [
           "#636efa",
           "#EF553B",
           "#00cc96",
           "#ab63fa",
           "#FFA15A",
           "#19d3f3",
           "#FF6692",
           "#B6E880",
           "#FF97FF",
           "#FECB52"
          ],
          "font": {
           "color": "#2a3f5f"
          },
          "geo": {
           "bgcolor": "white",
           "lakecolor": "white",
           "landcolor": "#E5ECF6",
           "showlakes": true,
           "showland": true,
           "subunitcolor": "white"
          },
          "hoverlabel": {
           "align": "left"
          },
          "hovermode": "closest",
          "mapbox": {
           "style": "light"
          },
          "paper_bgcolor": "white",
          "plot_bgcolor": "#E5ECF6",
          "polar": {
           "angularaxis": {
            "gridcolor": "white",
            "linecolor": "white",
            "ticks": ""
           },
           "bgcolor": "#E5ECF6",
           "radialaxis": {
            "gridcolor": "white",
            "linecolor": "white",
            "ticks": ""
           }
          },
          "scene": {
           "xaxis": {
            "backgroundcolor": "#E5ECF6",
            "gridcolor": "white",
            "gridwidth": 2,
            "linecolor": "white",
            "showbackground": true,
            "ticks": "",
            "zerolinecolor": "white"
           },
           "yaxis": {
            "backgroundcolor": "#E5ECF6",
            "gridcolor": "white",
            "gridwidth": 2,
            "linecolor": "white",
            "showbackground": true,
            "ticks": "",
            "zerolinecolor": "white"
           },
           "zaxis": {
            "backgroundcolor": "#E5ECF6",
            "gridcolor": "white",
            "gridwidth": 2,
            "linecolor": "white",
            "showbackground": true,
            "ticks": "",
            "zerolinecolor": "white"
           }
          },
          "shapedefaults": {
           "line": {
            "color": "#2a3f5f"
           }
          },
          "ternary": {
           "aaxis": {
            "gridcolor": "white",
            "linecolor": "white",
            "ticks": ""
           },
           "baxis": {
            "gridcolor": "white",
            "linecolor": "white",
            "ticks": ""
           },
           "bgcolor": "#E5ECF6",
           "caxis": {
            "gridcolor": "white",
            "linecolor": "white",
            "ticks": ""
           }
          },
          "title": {
           "x": 0.05
          },
          "xaxis": {
           "automargin": true,
           "gridcolor": "white",
           "linecolor": "white",
           "ticks": "",
           "title": {
            "standoff": 15
           },
           "zerolinecolor": "white",
           "zerolinewidth": 2
          },
          "yaxis": {
           "automargin": true,
           "gridcolor": "white",
           "linecolor": "white",
           "ticks": "",
           "title": {
            "standoff": 15
           },
           "zerolinecolor": "white",
           "zerolinewidth": 2
          }
         }
        },
        "title": {
         "text": "Distribution of OUTAGE.DURATION"
        },
        "xaxis": {
         "title": {
          "text": "Duration (minutes)"
         }
        },
        "yaxis": {
         "title": {
          "text": "Frequency"
         }
        }
       }
      }
     },
     "metadata": {},
     "output_type": "display_data"
    },
    {
     "data": {
      "application/vnd.plotly.v1+json": {
       "config": {
        "plotlyServerURL": "https://plot.ly"
       },
       "data": [
        {
         "nbinsx": 30,
         "type": "histogram",
         "x": [
          null,
          null,
          null,
          null,
          250,
          null,
          null,
          75,
          20,
          null,
          null,
          null,
          0,
          0,
          null,
          926,
          null,
          null,
          100,
          null,
          null,
          null,
          0,
          null,
          null,
          null,
          null,
          300,
          null,
          null,
          null,
          300,
          1,
          null,
          494,
          300,
          null,
          null,
          null,
          null,
          359,
          860,
          null,
          null,
          140,
          null,
          null,
          0,
          850,
          null,
          null,
          10,
          15,
          null,
          null,
          150,
          null,
          0,
          600,
          30,
          null,
          0,
          null,
          null,
          424,
          null,
          null,
          220,
          null,
          24,
          null,
          null,
          700,
          250,
          366,
          82,
          8881,
          null,
          null,
          11000,
          300,
          585,
          null,
          null,
          50,
          75,
          50,
          null,
          null,
          null,
          55,
          null,
          1826,
          null,
          212,
          82,
          262,
          0,
          null,
          null,
          null,
          200,
          null,
          null,
          null,
          null,
          null,
          null,
          310,
          null,
          240,
          null,
          60,
          null,
          null,
          null,
          100,
          240,
          null,
          340,
          378,
          null,
          371,
          null,
          null,
          null,
          210,
          null,
          1007,
          320,
          125,
          null,
          500,
          218,
          630,
          null,
          400,
          100,
          540,
          303,
          350,
          500,
          75,
          null,
          0,
          1000,
          null,
          null,
          700,
          null,
          null,
          null,
          75,
          408,
          150,
          190,
          null,
          400,
          null,
          0,
          null,
          254,
          500,
          null,
          null,
          null,
          null,
          254,
          350,
          null,
          400,
          null,
          12,
          null,
          null,
          150,
          null,
          null,
          null,
          380,
          null,
          null,
          null,
          null,
          null,
          0,
          265,
          null,
          null,
          null,
          null,
          399,
          null,
          485,
          0,
          1000,
          null,
          260,
          null,
          null,
          212,
          179,
          8087,
          null,
          null,
          399,
          0,
          294,
          null,
          null,
          1084,
          476,
          153,
          null,
          491,
          0,
          350,
          703,
          null,
          null,
          1231,
          221,
          300,
          220,
          null,
          544,
          null,
          339,
          null,
          473,
          null,
          null,
          null,
          1950,
          null,
          400,
          4000,
          108,
          920,
          46,
          null,
          100,
          260,
          117,
          null,
          null,
          0,
          0,
          null,
          null,
          null,
          null,
          350,
          176,
          null,
          null,
          0,
          51,
          null,
          null,
          null,
          0,
          300,
          null,
          null,
          0,
          null,
          328,
          null,
          40,
          null,
          0,
          null,
          null,
          650,
          null,
          null,
          1900,
          null,
          219,
          250,
          746,
          null,
          null,
          null,
          null,
          null,
          85,
          null,
          null,
          null,
          null,
          672,
          null,
          null,
          null,
          null,
          600,
          null,
          0,
          47,
          15,
          50,
          null,
          57,
          null,
          null,
          38,
          null,
          null,
          535,
          null,
          49,
          null,
          0,
          545,
          null,
          null,
          1000,
          null,
          1024,
          null,
          425,
          50,
          null,
          null,
          0,
          null,
          200,
          null,
          null,
          null,
          41,
          null,
          650,
          null,
          500,
          506,
          217,
          null,
          null,
          null,
          366,
          null,
          null,
          30,
          null,
          0,
          0,
          null,
          null,
          null,
          null,
          null,
          null,
          null,
          null,
          null,
          350,
          null,
          null,
          null,
          127,
          null,
          null,
          null,
          null,
          null,
          null,
          null,
          null,
          null,
          null,
          null,
          null,
          200,
          200,
          null,
          300,
          null,
          371,
          null,
          null,
          null,
          null,
          null,
          80,
          null,
          null,
          null,
          null,
          null,
          null,
          300,
          null,
          null,
          null,
          184,
          null,
          250,
          null,
          null,
          null,
          275,
          0,
          null,
          0,
          150,
          180,
          null,
          null,
          1600,
          null,
          200,
          115,
          260,
          null,
          0,
          null,
          0,
          null,
          null,
          null,
          null,
          0,
          null,
          0,
          0,
          null,
          null,
          null,
          null,
          null,
          0,
          244,
          0,
          0,
          null,
          0,
          null,
          0,
          null,
          null,
          900,
          100,
          null,
          420,
          null,
          0,
          null,
          null,
          null,
          0,
          null,
          null,
          null,
          0,
          null,
          9,
          null,
          750,
          null,
          null,
          null,
          175,
          null,
          null,
          null,
          null,
          null,
          null,
          0,
          null,
          0,
          null,
          360,
          150,
          280,
          null,
          50,
          0,
          null,
          630,
          null,
          null,
          300,
          null,
          null,
          1200,
          null,
          null,
          5299,
          null,
          null,
          null,
          455,
          1000,
          null,
          null,
          null,
          null,
          null,
          null,
          null,
          138,
          0,
          null,
          2,
          null,
          null,
          960,
          null,
          null,
          null,
          null,
          3963,
          null,
          200,
          440,
          354,
          300,
          300,
          null,
          270,
          500,
          null,
          null,
          0,
          null,
          0,
          null,
          0,
          null,
          null,
          null,
          null,
          400,
          null,
          0,
          null,
          null,
          null,
          0,
          null,
          0,
          2000,
          null,
          null,
          335,
          null,
          0,
          null,
          1,
          null,
          1,
          800,
          375,
          0,
          625,
          0,
          null,
          null,
          null,
          0,
          60,
          160,
          null,
          0,
          0,
          1500,
          400,
          480,
          1114,
          1465,
          null,
          null,
          null,
          null,
          null,
          15,
          630,
          105,
          null,
          null,
          null,
          null,
          null,
          null,
          156,
          null,
          null,
          null,
          null,
          0,
          389,
          null,
          750,
          null,
          null,
          null,
          200,
          null,
          null,
          72,
          null,
          87,
          600,
          null,
          null,
          null,
          null,
          546,
          130,
          null,
          90,
          null,
          null,
          null,
          null,
          150,
          null,
          null,
          null,
          0,
          250,
          110,
          null,
          null,
          null,
          0,
          null,
          null,
          null,
          null,
          null,
          null,
          null,
          null,
          342,
          2,
          null,
          null,
          null,
          600,
          null,
          70,
          21,
          0,
          0,
          null,
          null,
          null,
          null,
          null,
          null,
          0,
          6,
          461,
          0,
          0,
          null,
          null,
          0,
          306,
          0,
          null,
          2818,
          null,
          0,
          0,
          0,
          null,
          0,
          null,
          0,
          0,
          null,
          null,
          0,
          null,
          316,
          null,
          null,
          0,
          null,
          0,
          null,
          null,
          392,
          294,
          177,
          null,
          0,
          0,
          420,
          null,
          1000,
          380,
          11000,
          500,
          null,
          null,
          168,
          250,
          null,
          7000,
          null,
          null,
          null,
          null,
          null,
          null,
          null,
          null,
          0,
          null,
          400,
          null,
          469,
          null,
          0,
          168,
          430,
          7,
          206,
          0,
          null,
          null,
          null,
          null,
          null,
          475,
          215,
          70,
          null,
          40,
          null,
          300,
          48,
          null,
          3,
          400,
          null,
          600,
          300,
          500,
          null,
          2,
          null,
          1000,
          300,
          null,
          180,
          null,
          40,
          null,
          600,
          400,
          200,
          250,
          0,
          1000,
          0,
          null,
          14435,
          null,
          175,
          null,
          1655,
          null,
          1500,
          0,
          198,
          400,
          null,
          null,
          125,
          55,
          0,
          null,
          90,
          null,
          438,
          0,
          320,
          null,
          null,
          0,
          80,
          215,
          0,
          null,
          null,
          0,
          0,
          null,
          null,
          null,
          null,
          null,
          null,
          500,
          null,
          null,
          null,
          100,
          450,
          null,
          4545,
          700,
          450,
          600,
          300,
          4853,
          null,
          12,
          210,
          null,
          null,
          0,
          null,
          32,
          null,
          null,
          null,
          null,
          null,
          0,
          null,
          null,
          null,
          0,
          null,
          0,
          null,
          350,
          null,
          0,
          null,
          null,
          null,
          null,
          null,
          null,
          null,
          140,
          null,
          700,
          3000,
          null,
          400,
          266,
          300,
          200,
          10,
          null,
          0,
          null,
          135,
          200,
          null,
          null,
          0,
          0,
          null,
          null,
          210,
          95,
          0,
          null,
          null,
          0,
          0,
          0,
          0,
          0,
          null,
          0,
          null,
          0,
          null,
          0,
          null,
          0,
          0,
          0,
          null,
          null,
          0,
          0,
          null,
          null,
          null,
          0,
          0,
          0,
          null,
          null,
          null,
          0,
          0,
          0,
          null,
          null,
          null,
          null,
          0,
          0,
          null,
          400,
          null,
          null,
          0,
          null,
          750,
          200,
          null,
          null,
          null,
          225,
          null,
          null,
          null,
          null,
          null,
          null,
          null,
          null,
          null,
          650,
          82,
          null,
          0,
          100,
          675,
          null,
          200,
          null,
          null,
          null,
          300,
          null,
          null,
          null,
          0,
          50,
          108,
          675,
          400,
          null,
          11202,
          0,
          675,
          null,
          null,
          null,
          460,
          null,
          null,
          null,
          null,
          0,
          250,
          null,
          150,
          22934,
          null,
          180,
          100,
          null,
          null,
          null,
          500,
          417,
          0,
          200,
          null,
          353,
          null,
          300,
          600,
          null,
          null,
          null,
          676,
          null,
          30,
          null,
          460,
          675,
          200,
          null,
          350,
          null,
          null,
          null,
          null,
          null,
          null,
          null,
          null,
          null,
          150,
          null,
          null,
          300,
          32,
          33,
          null,
          200,
          null,
          null,
          null,
          400,
          40,
          700,
          null,
          null,
          300,
          225,
          null,
          null,
          103,
          163,
          null,
          null,
          350,
          150,
          120,
          null,
          0,
          null,
          0,
          0,
          3200,
          null,
          0,
          51,
          null,
          280,
          500,
          0,
          0,
          1400,
          250,
          283,
          null,
          0,
          0,
          318,
          55,
          6000,
          0,
          null,
          180,
          350,
          250,
          148,
          120,
          140,
          1800,
          297,
          2100,
          113,
          1250,
          1100,
          10000,
          125,
          1300,
          0,
          65,
          125,
          206,
          150,
          27,
          null,
          483,
          133,
          41788,
          4000,
          0,
          null,
          695,
          197,
          685,
          2578,
          240,
          null,
          119,
          null,
          13850,
          null,
          595,
          null,
          150,
          null,
          360,
          31,
          null,
          180,
          0,
          630,
          176,
          300,
          324,
          30,
          420,
          150,
          300,
          null,
          220,
          null,
          10,
          140,
          3,
          2650,
          308,
          null,
          160,
          5,
          5,
          0,
          80,
          55,
          300,
          90,
          115,
          400,
          300,
          null,
          120,
          300,
          150,
          null,
          120,
          null,
          null,
          360,
          176,
          7,
          null,
          300,
          200,
          0,
          91,
          null,
          91,
          null,
          318,
          240,
          null,
          null,
          864,
          240,
          null,
          null,
          130,
          270,
          15,
          500,
          500,
          1000,
          400,
          500,
          220,
          240,
          464,
          0,
          22,
          324,
          null,
          290,
          300,
          103,
          100,
          null,
          0,
          110,
          3,
          160,
          null,
          null,
          180,
          160,
          140,
          null,
          24,
          480,
          136,
          null,
          400,
          null,
          350,
          522,
          160,
          null,
          1,
          null,
          295,
          null,
          250,
          800,
          414,
          512,
          null,
          56,
          250,
          0,
          88,
          200,
          null,
          5,
          206,
          130,
          15,
          null,
          0,
          20,
          3,
          526,
          10,
          700,
          null,
          null,
          null,
          null,
          300,
          null,
          150,
          208,
          150,
          9,
          30,
          91,
          16,
          390,
          null,
          662,
          280,
          522,
          0,
          null,
          225,
          null,
          300,
          700,
          451,
          170,
          5,
          null,
          240,
          1,
          3900,
          200,
          220,
          611,
          300,
          180,
          300,
          3300,
          199,
          29,
          0,
          22,
          200,
          150,
          136,
          null,
          null,
          null,
          211,
          null,
          0,
          1,
          126,
          75,
          null,
          214,
          null,
          0,
          110,
          null,
          150,
          430,
          null,
          null,
          4,
          600,
          null,
          null,
          null,
          null,
          22,
          null,
          50,
          null,
          45,
          84,
          0,
          null,
          null,
          null,
          null,
          40,
          650,
          null,
          null,
          null,
          null,
          4,
          900,
          150,
          0,
          293,
          null,
          120,
          null,
          300,
          143,
          240,
          188,
          600,
          520,
          250,
          790,
          72,
          null,
          950,
          null,
          5000,
          350,
          475,
          null,
          210,
          850,
          170,
          400,
          63,
          300,
          120,
          100,
          335,
          null,
          null,
          250,
          900,
          600,
          65,
          650,
          428,
          400,
          101,
          0,
          0,
          null,
          6,
          null,
          0,
          null,
          1040,
          null,
          null,
          0,
          null,
          null,
          null,
          0,
          0,
          null,
          null,
          null,
          0,
          0,
          0,
          10,
          83,
          150,
          2200,
          729,
          312,
          75,
          620,
          363,
          100,
          100,
          221,
          290,
          1246,
          854,
          563,
          null,
          0,
          null,
          null,
          null,
          null,
          0,
          130,
          75,
          null,
          0,
          null,
          null,
          null,
          50,
          null,
          0,
          null,
          null,
          null,
          0,
          500,
          null,
          92,
          null,
          null,
          30,
          null,
          null,
          null,
          75,
          null,
          null,
          null,
          300,
          null,
          500,
          0,
          280,
          null,
          8,
          null,
          null,
          null,
          51,
          null,
          0,
          0,
          340,
          null,
          null,
          null,
          null,
          22700,
          200,
          null,
          null,
          630,
          0,
          1,
          0,
          0,
          null,
          0,
          null,
          null,
          0,
          null,
          null,
          75,
          null,
          50,
          null,
          null,
          null,
          0,
          0,
          180,
          null,
          null,
          null,
          0,
          0,
          0,
          null,
          0,
          0,
          0,
          null,
          null,
          0,
          null,
          0,
          0,
          0,
          null,
          0,
          56,
          null,
          null,
          0,
          123,
          0,
          0,
          null,
          150,
          580,
          null,
          0,
          null,
          300,
          428,
          120,
          0,
          null,
          0,
          550,
          null,
          0,
          null,
          500,
          0,
          null,
          null,
          200,
          1060,
          220,
          110,
          120,
          1170,
          290,
          0,
          157,
          0,
          0,
          null,
          0,
          0,
          485,
          155,
          1650,
          84,
          373,
          35
         ]
        }
       ],
       "layout": {
        "template": {
         "data": {
          "bar": [
           {
            "error_x": {
             "color": "#2a3f5f"
            },
            "error_y": {
             "color": "#2a3f5f"
            },
            "marker": {
             "line": {
              "color": "#E5ECF6",
              "width": 0.5
             },
             "pattern": {
              "fillmode": "overlay",
              "size": 10,
              "solidity": 0.2
             }
            },
            "type": "bar"
           }
          ],
          "barpolar": [
           {
            "marker": {
             "line": {
              "color": "#E5ECF6",
              "width": 0.5
             },
             "pattern": {
              "fillmode": "overlay",
              "size": 10,
              "solidity": 0.2
             }
            },
            "type": "barpolar"
           }
          ],
          "carpet": [
           {
            "aaxis": {
             "endlinecolor": "#2a3f5f",
             "gridcolor": "white",
             "linecolor": "white",
             "minorgridcolor": "white",
             "startlinecolor": "#2a3f5f"
            },
            "baxis": {
             "endlinecolor": "#2a3f5f",
             "gridcolor": "white",
             "linecolor": "white",
             "minorgridcolor": "white",
             "startlinecolor": "#2a3f5f"
            },
            "type": "carpet"
           }
          ],
          "choropleth": [
           {
            "colorbar": {
             "outlinewidth": 0,
             "ticks": ""
            },
            "type": "choropleth"
           }
          ],
          "contour": [
           {
            "colorbar": {
             "outlinewidth": 0,
             "ticks": ""
            },
            "colorscale": [
             [
              0,
              "#0d0887"
             ],
             [
              0.1111111111111111,
              "#46039f"
             ],
             [
              0.2222222222222222,
              "#7201a8"
             ],
             [
              0.3333333333333333,
              "#9c179e"
             ],
             [
              0.4444444444444444,
              "#bd3786"
             ],
             [
              0.5555555555555556,
              "#d8576b"
             ],
             [
              0.6666666666666666,
              "#ed7953"
             ],
             [
              0.7777777777777778,
              "#fb9f3a"
             ],
             [
              0.8888888888888888,
              "#fdca26"
             ],
             [
              1,
              "#f0f921"
             ]
            ],
            "type": "contour"
           }
          ],
          "contourcarpet": [
           {
            "colorbar": {
             "outlinewidth": 0,
             "ticks": ""
            },
            "type": "contourcarpet"
           }
          ],
          "heatmap": [
           {
            "colorbar": {
             "outlinewidth": 0,
             "ticks": ""
            },
            "colorscale": [
             [
              0,
              "#0d0887"
             ],
             [
              0.1111111111111111,
              "#46039f"
             ],
             [
              0.2222222222222222,
              "#7201a8"
             ],
             [
              0.3333333333333333,
              "#9c179e"
             ],
             [
              0.4444444444444444,
              "#bd3786"
             ],
             [
              0.5555555555555556,
              "#d8576b"
             ],
             [
              0.6666666666666666,
              "#ed7953"
             ],
             [
              0.7777777777777778,
              "#fb9f3a"
             ],
             [
              0.8888888888888888,
              "#fdca26"
             ],
             [
              1,
              "#f0f921"
             ]
            ],
            "type": "heatmap"
           }
          ],
          "heatmapgl": [
           {
            "colorbar": {
             "outlinewidth": 0,
             "ticks": ""
            },
            "colorscale": [
             [
              0,
              "#0d0887"
             ],
             [
              0.1111111111111111,
              "#46039f"
             ],
             [
              0.2222222222222222,
              "#7201a8"
             ],
             [
              0.3333333333333333,
              "#9c179e"
             ],
             [
              0.4444444444444444,
              "#bd3786"
             ],
             [
              0.5555555555555556,
              "#d8576b"
             ],
             [
              0.6666666666666666,
              "#ed7953"
             ],
             [
              0.7777777777777778,
              "#fb9f3a"
             ],
             [
              0.8888888888888888,
              "#fdca26"
             ],
             [
              1,
              "#f0f921"
             ]
            ],
            "type": "heatmapgl"
           }
          ],
          "histogram": [
           {
            "marker": {
             "pattern": {
              "fillmode": "overlay",
              "size": 10,
              "solidity": 0.2
             }
            },
            "type": "histogram"
           }
          ],
          "histogram2d": [
           {
            "colorbar": {
             "outlinewidth": 0,
             "ticks": ""
            },
            "colorscale": [
             [
              0,
              "#0d0887"
             ],
             [
              0.1111111111111111,
              "#46039f"
             ],
             [
              0.2222222222222222,
              "#7201a8"
             ],
             [
              0.3333333333333333,
              "#9c179e"
             ],
             [
              0.4444444444444444,
              "#bd3786"
             ],
             [
              0.5555555555555556,
              "#d8576b"
             ],
             [
              0.6666666666666666,
              "#ed7953"
             ],
             [
              0.7777777777777778,
              "#fb9f3a"
             ],
             [
              0.8888888888888888,
              "#fdca26"
             ],
             [
              1,
              "#f0f921"
             ]
            ],
            "type": "histogram2d"
           }
          ],
          "histogram2dcontour": [
           {
            "colorbar": {
             "outlinewidth": 0,
             "ticks": ""
            },
            "colorscale": [
             [
              0,
              "#0d0887"
             ],
             [
              0.1111111111111111,
              "#46039f"
             ],
             [
              0.2222222222222222,
              "#7201a8"
             ],
             [
              0.3333333333333333,
              "#9c179e"
             ],
             [
              0.4444444444444444,
              "#bd3786"
             ],
             [
              0.5555555555555556,
              "#d8576b"
             ],
             [
              0.6666666666666666,
              "#ed7953"
             ],
             [
              0.7777777777777778,
              "#fb9f3a"
             ],
             [
              0.8888888888888888,
              "#fdca26"
             ],
             [
              1,
              "#f0f921"
             ]
            ],
            "type": "histogram2dcontour"
           }
          ],
          "mesh3d": [
           {
            "colorbar": {
             "outlinewidth": 0,
             "ticks": ""
            },
            "type": "mesh3d"
           }
          ],
          "parcoords": [
           {
            "line": {
             "colorbar": {
              "outlinewidth": 0,
              "ticks": ""
             }
            },
            "type": "parcoords"
           }
          ],
          "pie": [
           {
            "automargin": true,
            "type": "pie"
           }
          ],
          "scatter": [
           {
            "fillpattern": {
             "fillmode": "overlay",
             "size": 10,
             "solidity": 0.2
            },
            "type": "scatter"
           }
          ],
          "scatter3d": [
           {
            "line": {
             "colorbar": {
              "outlinewidth": 0,
              "ticks": ""
             }
            },
            "marker": {
             "colorbar": {
              "outlinewidth": 0,
              "ticks": ""
             }
            },
            "type": "scatter3d"
           }
          ],
          "scattercarpet": [
           {
            "marker": {
             "colorbar": {
              "outlinewidth": 0,
              "ticks": ""
             }
            },
            "type": "scattercarpet"
           }
          ],
          "scattergeo": [
           {
            "marker": {
             "colorbar": {
              "outlinewidth": 0,
              "ticks": ""
             }
            },
            "type": "scattergeo"
           }
          ],
          "scattergl": [
           {
            "marker": {
             "colorbar": {
              "outlinewidth": 0,
              "ticks": ""
             }
            },
            "type": "scattergl"
           }
          ],
          "scattermapbox": [
           {
            "marker": {
             "colorbar": {
              "outlinewidth": 0,
              "ticks": ""
             }
            },
            "type": "scattermapbox"
           }
          ],
          "scatterpolar": [
           {
            "marker": {
             "colorbar": {
              "outlinewidth": 0,
              "ticks": ""
             }
            },
            "type": "scatterpolar"
           }
          ],
          "scatterpolargl": [
           {
            "marker": {
             "colorbar": {
              "outlinewidth": 0,
              "ticks": ""
             }
            },
            "type": "scatterpolargl"
           }
          ],
          "scatterternary": [
           {
            "marker": {
             "colorbar": {
              "outlinewidth": 0,
              "ticks": ""
             }
            },
            "type": "scatterternary"
           }
          ],
          "surface": [
           {
            "colorbar": {
             "outlinewidth": 0,
             "ticks": ""
            },
            "colorscale": [
             [
              0,
              "#0d0887"
             ],
             [
              0.1111111111111111,
              "#46039f"
             ],
             [
              0.2222222222222222,
              "#7201a8"
             ],
             [
              0.3333333333333333,
              "#9c179e"
             ],
             [
              0.4444444444444444,
              "#bd3786"
             ],
             [
              0.5555555555555556,
              "#d8576b"
             ],
             [
              0.6666666666666666,
              "#ed7953"
             ],
             [
              0.7777777777777778,
              "#fb9f3a"
             ],
             [
              0.8888888888888888,
              "#fdca26"
             ],
             [
              1,
              "#f0f921"
             ]
            ],
            "type": "surface"
           }
          ],
          "table": [
           {
            "cells": {
             "fill": {
              "color": "#EBF0F8"
             },
             "line": {
              "color": "white"
             }
            },
            "header": {
             "fill": {
              "color": "#C8D4E3"
             },
             "line": {
              "color": "white"
             }
            },
            "type": "table"
           }
          ]
         },
         "layout": {
          "annotationdefaults": {
           "arrowcolor": "#2a3f5f",
           "arrowhead": 0,
           "arrowwidth": 1
          },
          "autotypenumbers": "strict",
          "coloraxis": {
           "colorbar": {
            "outlinewidth": 0,
            "ticks": ""
           }
          },
          "colorscale": {
           "diverging": [
            [
             0,
             "#8e0152"
            ],
            [
             0.1,
             "#c51b7d"
            ],
            [
             0.2,
             "#de77ae"
            ],
            [
             0.3,
             "#f1b6da"
            ],
            [
             0.4,
             "#fde0ef"
            ],
            [
             0.5,
             "#f7f7f7"
            ],
            [
             0.6,
             "#e6f5d0"
            ],
            [
             0.7,
             "#b8e186"
            ],
            [
             0.8,
             "#7fbc41"
            ],
            [
             0.9,
             "#4d9221"
            ],
            [
             1,
             "#276419"
            ]
           ],
           "sequential": [
            [
             0,
             "#0d0887"
            ],
            [
             0.1111111111111111,
             "#46039f"
            ],
            [
             0.2222222222222222,
             "#7201a8"
            ],
            [
             0.3333333333333333,
             "#9c179e"
            ],
            [
             0.4444444444444444,
             "#bd3786"
            ],
            [
             0.5555555555555556,
             "#d8576b"
            ],
            [
             0.6666666666666666,
             "#ed7953"
            ],
            [
             0.7777777777777778,
             "#fb9f3a"
            ],
            [
             0.8888888888888888,
             "#fdca26"
            ],
            [
             1,
             "#f0f921"
            ]
           ],
           "sequentialminus": [
            [
             0,
             "#0d0887"
            ],
            [
             0.1111111111111111,
             "#46039f"
            ],
            [
             0.2222222222222222,
             "#7201a8"
            ],
            [
             0.3333333333333333,
             "#9c179e"
            ],
            [
             0.4444444444444444,
             "#bd3786"
            ],
            [
             0.5555555555555556,
             "#d8576b"
            ],
            [
             0.6666666666666666,
             "#ed7953"
            ],
            [
             0.7777777777777778,
             "#fb9f3a"
            ],
            [
             0.8888888888888888,
             "#fdca26"
            ],
            [
             1,
             "#f0f921"
            ]
           ]
          },
          "colorway": [
           "#636efa",
           "#EF553B",
           "#00cc96",
           "#ab63fa",
           "#FFA15A",
           "#19d3f3",
           "#FF6692",
           "#B6E880",
           "#FF97FF",
           "#FECB52"
          ],
          "font": {
           "color": "#2a3f5f"
          },
          "geo": {
           "bgcolor": "white",
           "lakecolor": "white",
           "landcolor": "#E5ECF6",
           "showlakes": true,
           "showland": true,
           "subunitcolor": "white"
          },
          "hoverlabel": {
           "align": "left"
          },
          "hovermode": "closest",
          "mapbox": {
           "style": "light"
          },
          "paper_bgcolor": "white",
          "plot_bgcolor": "#E5ECF6",
          "polar": {
           "angularaxis": {
            "gridcolor": "white",
            "linecolor": "white",
            "ticks": ""
           },
           "bgcolor": "#E5ECF6",
           "radialaxis": {
            "gridcolor": "white",
            "linecolor": "white",
            "ticks": ""
           }
          },
          "scene": {
           "xaxis": {
            "backgroundcolor": "#E5ECF6",
            "gridcolor": "white",
            "gridwidth": 2,
            "linecolor": "white",
            "showbackground": true,
            "ticks": "",
            "zerolinecolor": "white"
           },
           "yaxis": {
            "backgroundcolor": "#E5ECF6",
            "gridcolor": "white",
            "gridwidth": 2,
            "linecolor": "white",
            "showbackground": true,
            "ticks": "",
            "zerolinecolor": "white"
           },
           "zaxis": {
            "backgroundcolor": "#E5ECF6",
            "gridcolor": "white",
            "gridwidth": 2,
            "linecolor": "white",
            "showbackground": true,
            "ticks": "",
            "zerolinecolor": "white"
           }
          },
          "shapedefaults": {
           "line": {
            "color": "#2a3f5f"
           }
          },
          "ternary": {
           "aaxis": {
            "gridcolor": "white",
            "linecolor": "white",
            "ticks": ""
           },
           "baxis": {
            "gridcolor": "white",
            "linecolor": "white",
            "ticks": ""
           },
           "bgcolor": "#E5ECF6",
           "caxis": {
            "gridcolor": "white",
            "linecolor": "white",
            "ticks": ""
           }
          },
          "title": {
           "x": 0.05
          },
          "xaxis": {
           "automargin": true,
           "gridcolor": "white",
           "linecolor": "white",
           "ticks": "",
           "title": {
            "standoff": 15
           },
           "zerolinecolor": "white",
           "zerolinewidth": 2
          },
          "yaxis": {
           "automargin": true,
           "gridcolor": "white",
           "linecolor": "white",
           "ticks": "",
           "title": {
            "standoff": 15
           },
           "zerolinecolor": "white",
           "zerolinewidth": 2
          }
         }
        },
        "title": {
         "text": "Distribution of DEMAND.LOSS.MW"
        },
        "xaxis": {
         "title": {
          "text": "Demand Loss (Megawatt)"
         }
        },
        "yaxis": {
         "title": {
          "text": "Frequency"
         }
        }
       }
      }
     },
     "metadata": {},
     "output_type": "display_data"
    },
    {
     "data": {
      "application/vnd.plotly.v1+json": {
       "config": {
        "plotlyServerURL": "https://plot.ly"
       },
       "data": [
        {
         "nbinsx": 30,
         "type": "histogram",
         "x": [
          70000,
          null,
          70000,
          68200,
          250000,
          60000,
          63000,
          300000,
          5941,
          400000,
          193000,
          200000,
          0,
          0,
          55951,
          null,
          null,
          null,
          64000,
          57000,
          null,
          50001,
          0,
          null,
          null,
          null,
          106300,
          63000,
          56475,
          null,
          null,
          73000,
          215,
          50000,
          38500,
          105000,
          null,
          null,
          null,
          80000,
          63000,
          136000,
          65904,
          null,
          null,
          null,
          null,
          0,
          null,
          null,
          null,
          48000,
          7000,
          null,
          null,
          52000,
          null,
          0,
          110000,
          7600,
          63000,
          0,
          null,
          null,
          120000,
          null,
          null,
          51160,
          null,
          null,
          66383,
          208000,
          265000,
          113000,
          53000,
          245000,
          null,
          145314,
          60000,
          2100000,
          425000,
          78213,
          150000,
          164000,
          140000,
          70793,
          134288,
          60000,
          69000,
          75000,
          105000,
          118000,
          201580,
          325325,
          118000,
          131000,
          160000,
          0,
          50000,
          133777,
          125000,
          248209,
          162000,
          160895,
          210517,
          111000,
          247847,
          68000,
          null,
          50000,
          285000,
          86915,
          122000,
          65562,
          50114,
          null,
          252089,
          2,
          137000,
          80000,
          null,
          53000,
          130000,
          182000,
          0,
          50000,
          60175,
          146500,
          101000,
          null,
          239663,
          230000,
          150000,
          111393,
          250000,
          138802,
          75000,
          358000,
          127534,
          122600,
          140735,
          66000,
          160000,
          156627,
          0,
          114711,
          99188,
          85000,
          159870,
          75000,
          72520,
          100000,
          99000,
          272355,
          315000,
          190000,
          58156,
          82000,
          168000,
          0,
          197166,
          103000,
          129607,
          138000,
          138000,
          56000,
          105000,
          65000,
          30000,
          null,
          86013,
          52000,
          3314,
          null,
          null,
          119000,
          57000,
          454000,
          null,
          489478,
          126000,
          79741,
          null,
          null,
          118000,
          0,
          108000,
          238000,
          null,
          96000,
          280982,
          98700,
          null,
          79000,
          0,
          200000,
          85000,
          200000,
          null,
          null,
          68530,
          67000,
          2142678,
          null,
          130252,
          60000,
          0,
          262000,
          null,
          null,
          null,
          192000,
          71823,
          0,
          73000,
          0,
          64801,
          211266,
          62000,
          null,
          null,
          83000,
          100000,
          70000,
          214864,
          80000,
          null,
          null,
          219681,
          78000,
          2000000,
          500000,
          null,
          715000,
          null,
          100000,
          1069730,
          51404,
          175000,
          43000,
          881000,
          85000,
          68000,
          17311,
          488689,
          null,
          0,
          0,
          238392,
          340350,
          null,
          null,
          24506,
          158000,
          234393,
          89000,
          0,
          73000,
          120377,
          null,
          null,
          0,
          63000,
          null,
          171117,
          0,
          57531,
          123000,
          2504366,
          9000,
          61000,
          0,
          36073,
          null,
          113247,
          null,
          null,
          500000,
          null,
          82000,
          132000,
          81586,
          70000,
          415103,
          300000,
          800000,
          65000,
          62500,
          100000,
          157019,
          null,
          null,
          243000,
          114000,
          null,
          127000,
          null,
          135000,
          61705,
          0,
          9700,
          124000,
          9700,
          50000,
          9700,
          null,
          75065,
          7500,
          201000,
          null,
          61705,
          56000,
          9800,
          82621,
          0,
          114791,
          61413,
          94345,
          186000,
          86615,
          215387,
          70000,
          null,
          9600,
          52702,
          null,
          0,
          null,
          141000,
          63000,
          null,
          53000,
          9700,
          53700,
          null,
          58000,
          null,
          75000,
          65000,
          160000,
          60000,
          75000,
          111644,
          null,
          null,
          10000,
          null,
          0,
          0,
          300000,
          101830,
          629590,
          109000,
          192106,
          181000,
          190000,
          471932,
          400000,
          51500,
          121000,
          420000,
          245000,
          127000,
          169000,
          320000,
          11000,
          330000,
          109000,
          283451,
          300000,
          72000,
          157000,
          80000,
          653000,
          71500,
          200000,
          65400,
          237000,
          135000,
          115000,
          51000,
          239567,
          null,
          165000,
          325000,
          127000,
          130000,
          169000,
          170519,
          190000,
          500000,
          125000,
          null,
          68800,
          null,
          null,
          null,
          92090,
          null,
          250000,
          null,
          null,
          null,
          null,
          0,
          null,
          0,
          145000,
          63992,
          null,
          null,
          426000,
          null,
          null,
          76300,
          110433,
          null,
          0,
          null,
          0,
          null,
          105000,
          null,
          null,
          0,
          null,
          0,
          0,
          null,
          140000,
          56000,
          null,
          500000,
          0,
          93300,
          0,
          0,
          null,
          0,
          160000,
          0,
          null,
          null,
          89000,
          8000,
          null,
          123535,
          null,
          0,
          null,
          null,
          null,
          0,
          null,
          null,
          null,
          0,
          300000,
          null,
          null,
          175000,
          null,
          null,
          null,
          200000,
          null,
          null,
          null,
          null,
          null,
          null,
          0,
          null,
          0,
          null,
          172060,
          123827,
          75000,
          null,
          50000,
          0,
          null,
          null,
          700000,
          null,
          187000,
          null,
          null,
          64000,
          null,
          null,
          160000,
          null,
          null,
          null,
          null,
          47000,
          null,
          null,
          null,
          140000,
          null,
          null,
          null,
          40911,
          0,
          null,
          2713,
          null,
          null,
          null,
          null,
          null,
          null,
          null,
          69000,
          null,
          30000,
          90000,
          60000,
          70000,
          60000,
          108000,
          122000,
          180000,
          87600,
          null,
          0,
          0,
          0,
          null,
          0,
          null,
          108000,
          null,
          null,
          104195,
          93000,
          0,
          null,
          null,
          55118,
          0,
          297700,
          0,
          650000,
          234326,
          null,
          70000,
          86390,
          0,
          null,
          1,
          219000,
          1,
          181000,
          110000,
          0,
          133000,
          0,
          null,
          65000,
          249408,
          0,
          85091,
          138000,
          null,
          0,
          0,
          153000,
          155183,
          124000,
          760113,
          600000,
          null,
          64943,
          null,
          167564,
          50000,
          120000,
          null,
          null,
          57000,
          146721,
          198000,
          400000,
          146094,
          111555,
          52000,
          64500,
          143000,
          200717,
          142315,
          0,
          82861,
          105312,
          185000,
          109335,
          93837,
          200000,
          62000,
          213000,
          850000,
          124596,
          118000,
          null,
          105000,
          177528,
          264000,
          715000,
          null,
          160875,
          132000,
          65112,
          55000,
          492955,
          62159,
          null,
          43903,
          120001,
          144000,
          168449,
          null,
          0,
          106000,
          284000,
          65000,
          95630,
          312359,
          0,
          270000,
          35000,
          355000,
          223000,
          null,
          null,
          78000,
          181700,
          null,
          110,
          375000,
          76000,
          383000,
          190000,
          0,
          18000,
          3500,
          0,
          0,
          null,
          null,
          null,
          null,
          null,
          37,
          0,
          5763,
          85179,
          0,
          0,
          null,
          null,
          0,
          null,
          0,
          null,
          74031,
          60000,
          0,
          0,
          0,
          null,
          0,
          null,
          0,
          0,
          null,
          0,
          0,
          null,
          null,
          null,
          null,
          0,
          null,
          0,
          null,
          null,
          281000,
          null,
          127000,
          null,
          0,
          0,
          null,
          null,
          95000,
          45000,
          134500,
          175000,
          107833,
          67000,
          184000,
          246990,
          122314,
          1203000,
          0,
          211000,
          0,
          null,
          null,
          57054,
          150000,
          56000,
          0,
          0,
          50636,
          0,
          564728,
          59106,
          0,
          184000,
          245164,
          2000,
          23000,
          0,
          52747,
          48102,
          86000,
          346000,
          null,
          100000,
          60000,
          72000,
          220000,
          12000,
          null,
          70135,
          6100,
          200000,
          1200,
          103776,
          69106,
          203345,
          50718,
          130000,
          null,
          1200,
          null,
          340000,
          71000,
          61000,
          51600,
          53000,
          12000,
          29376,
          50000,
          112000,
          136000,
          61377,
          0,
          175000,
          0,
          47000,
          null,
          285465,
          50000,
          57000,
          320000,
          4196,
          370900,
          0,
          156338,
          100000,
          650000,
          null,
          197000,
          135000,
          0,
          95400,
          73000,
          248800,
          156729,
          0,
          140000,
          263000,
          50900,
          0,
          130000,
          75654,
          0,
          null,
          50000,
          0,
          0,
          150000,
          205000,
          null,
          217000,
          180000,
          67900,
          665000,
          221000,
          null,
          379000,
          360000,
          125000,
          50465,
          677858,
          120124,
          133000,
          150000,
          81000,
          677858,
          9000,
          2500,
          71000,
          null,
          null,
          0,
          null,
          3,
          null,
          null,
          249500,
          null,
          null,
          0,
          null,
          null,
          111000,
          0,
          null,
          0,
          null,
          84500,
          null,
          0,
          null,
          null,
          97651,
          220000,
          76729,
          530000,
          210000,
          52000,
          null,
          40000,
          425000,
          101003,
          null,
          83000,
          null,
          62500,
          null,
          null,
          0,
          63000,
          53000,
          20000,
          70000,
          55000,
          0,
          0,
          100000,
          56444,
          95000,
          18400,
          0,
          null,
          null,
          0,
          0,
          0,
          0,
          0,
          null,
          0,
          null,
          0,
          null,
          0,
          null,
          0,
          0,
          0,
          null,
          null,
          0,
          0,
          null,
          null,
          null,
          0,
          0,
          0,
          null,
          null,
          null,
          0,
          0,
          0,
          65000,
          null,
          null,
          null,
          0,
          0,
          null,
          140000,
          null,
          null,
          0,
          null,
          215000,
          21000,
          null,
          null,
          null,
          160000,
          632816,
          818000,
          152261,
          null,
          null,
          116000,
          145000,
          0,
          59000,
          300000,
          56645,
          null,
          0,
          18600,
          null,
          null,
          190000,
          null,
          null,
          61795,
          null,
          74300,
          173000,
          60000,
          0,
          54316,
          null,
          null,
          68000,
          null,
          3125350,
          0,
          null,
          null,
          50000,
          null,
          137000,
          100000,
          153000,
          null,
          55000,
          0,
          200000,
          150000,
          null,
          null,
          null,
          50280,
          18600,
          99700,
          65000,
          180000,
          null,
          null,
          0,
          61000,
          0,
          120000,
          50000,
          null,
          250000,
          371000,
          null,
          null,
          null,
          161151,
          18600,
          25000,
          null,
          null,
          null,
          null,
          59057,
          null,
          null,
          1100000,
          null,
          null,
          85000,
          null,
          287000,
          null,
          1,
          null,
          57184,
          143000,
          11000,
          11000,
          null,
          null,
          246092,
          null,
          null,
          150000,
          50000,
          190000,
          null,
          95000,
          50000,
          null,
          null,
          null,
          21800,
          28000,
          242910,
          null,
          125000,
          68018,
          null,
          null,
          0,
          440000,
          0,
          0,
          584384,
          430000,
          0,
          25000,
          50000,
          105000,
          150000,
          0,
          0,
          1200000,
          179000,
          42124,
          null,
          0,
          0,
          53965,
          31000,
          2775093,
          0,
          101950,
          37,
          110000,
          78000,
          84900,
          56000,
          47661,
          722000,
          104498,
          832898,
          32593,
          285300,
          268000,
          3241437,
          26000,
          502000,
          0,
          23000,
          26000,
          87000,
          20900,
          16500,
          null,
          null,
          null,
          null,
          null,
          0,
          null,
          null,
          128050,
          124000,
          900000,
          null,
          148000,
          37784,
          null,
          6810,
          79000,
          null,
          2500,
          null,
          150000,
          null,
          15000,
          null,
          26000,
          0,
          null,
          null,
          150000,
          290000,
          10000,
          850068,
          null,
          70000,
          null,
          null,
          null,
          10008,
          407440,
          477,
          50000,
          130000,
          null,
          null,
          727,
          484,
          0,
          1,
          48400,
          58850,
          94000,
          433,
          null,
          55655,
          null,
          442000,
          30000,
          89500,
          null,
          null,
          null,
          null,
          null,
          null,
          4300,
          160000,
          100000,
          1271893,
          0,
          80000,
          0,
          80000,
          null,
          null,
          505000,
          null,
          null,
          409000,
          65255,
          null,
          null,
          null,
          939000,
          6800,
          2606931,
          null,
          null,
          null,
          null,
          109750,
          null,
          null,
          0,
          7077,
          null,
          null,
          1700000,
          255000,
          59458,
          95000,
          147223,
          0,
          50000,
          2035,
          241000,
          426,
          108000,
          null,
          78164,
          null,
          null,
          9956,
          182000,
          null,
          null,
          null,
          430984,
          859554,
          null,
          null,
          65000,
          70,
          null,
          165000,
          null,
          140000,
          1667316,
          null,
          280000,
          0,
          385000,
          125000,
          0,
          55677,
          1,
          484,
          127,
          133900,
          32000,
          null,
          null,
          0,
          4,
          2650,
          null,
          5314,
          null,
          null,
          73514,
          null,
          0,
          null,
          420,
          null,
          200000,
          54332,
          6635,
          70,
          128000,
          2674,
          null,
          null,
          940,
          20345,
          null,
          0,
          null,
          70848,
          91690,
          null,
          300000,
          90323,
          263000,
          null,
          25000,
          104000,
          638,
          1400000,
          158977,
          null,
          null,
          null,
          1500000,
          null,
          1400000,
          68780,
          9956,
          0,
          7077,
          123000,
          null,
          1,
          80000,
          null,
          null,
          115500,
          null,
          0,
          1,
          null,
          60000,
          null,
          null,
          null,
          0,
          671189,
          null,
          120000,
          400000,
          null,
          111818,
          null,
          215700,
          null,
          null,
          64951,
          null,
          null,
          null,
          13000,
          null,
          7935,
          25159,
          0,
          13000,
          null,
          43000,
          null,
          8000,
          50797,
          null,
          57200,
          9200,
          null,
          null,
          115000,
          51580,
          0,
          88000,
          null,
          88110,
          52739,
          67000,
          37000,
          60000,
          119000,
          150084,
          156000,
          56000,
          175000,
          107000,
          55000,
          81000,
          600000,
          880000,
          null,
          119000,
          145157,
          217000,
          253800,
          114618,
          233000,
          130000,
          75000,
          80000,
          58500,
          67000,
          null,
          50000,
          126000,
          283000,
          190000,
          null,
          126000,
          120212,
          15000,
          35500,
          0,
          0,
          null,
          null,
          null,
          0,
          null,
          500000,
          null,
          null,
          0,
          null,
          null,
          null,
          0,
          0,
          null,
          null,
          null,
          0,
          0,
          0,
          47165,
          82000,
          30689,
          150000,
          218783,
          93828,
          52659,
          186035,
          109000,
          80539,
          83450,
          66445,
          102000,
          373835,
          85455,
          169000,
          null,
          0,
          null,
          158000,
          50752,
          null,
          0,
          56400,
          75000,
          null,
          0,
          67000,
          50100,
          null,
          50246,
          224912,
          0,
          null,
          52000,
          54476,
          0,
          1881134,
          112000,
          14500,
          68705,
          null,
          null,
          256663,
          50500,
          96966,
          null,
          35000,
          54000,
          41306,
          null,
          127000,
          92748,
          0,
          56874,
          55609,
          1500,
          null,
          54000,
          80000,
          29250,
          50000,
          0,
          0,
          130000,
          50000,
          null,
          50000,
          50000,
          380000,
          50500,
          null,
          null,
          300000,
          0,
          1,
          0,
          0,
          0,
          0,
          127545,
          null,
          0,
          0,
          131000,
          63000,
          169757,
          50462,
          60863,
          null,
          52500,
          0,
          0,
          110000,
          50000,
          117142,
          50000,
          0,
          0,
          0,
          null,
          0,
          0,
          0,
          null,
          102568,
          0,
          null,
          0,
          0,
          0,
          1100,
          0,
          null,
          null,
          110000,
          0,
          35230,
          0,
          0,
          204000,
          86058,
          null,
          null,
          0,
          null,
          31000,
          null,
          30379,
          0,
          65000,
          0,
          270000,
          null,
          0,
          70000,
          95000,
          0,
          null,
          110000,
          211000,
          294000,
          62000,
          59886,
          29300,
          291000,
          null,
          0,
          35000,
          0,
          0,
          null,
          0,
          0,
          null,
          34500,
          null,
          null,
          null,
          14273
         ]
        }
       ],
       "layout": {
        "template": {
         "data": {
          "bar": [
           {
            "error_x": {
             "color": "#2a3f5f"
            },
            "error_y": {
             "color": "#2a3f5f"
            },
            "marker": {
             "line": {
              "color": "#E5ECF6",
              "width": 0.5
             },
             "pattern": {
              "fillmode": "overlay",
              "size": 10,
              "solidity": 0.2
             }
            },
            "type": "bar"
           }
          ],
          "barpolar": [
           {
            "marker": {
             "line": {
              "color": "#E5ECF6",
              "width": 0.5
             },
             "pattern": {
              "fillmode": "overlay",
              "size": 10,
              "solidity": 0.2
             }
            },
            "type": "barpolar"
           }
          ],
          "carpet": [
           {
            "aaxis": {
             "endlinecolor": "#2a3f5f",
             "gridcolor": "white",
             "linecolor": "white",
             "minorgridcolor": "white",
             "startlinecolor": "#2a3f5f"
            },
            "baxis": {
             "endlinecolor": "#2a3f5f",
             "gridcolor": "white",
             "linecolor": "white",
             "minorgridcolor": "white",
             "startlinecolor": "#2a3f5f"
            },
            "type": "carpet"
           }
          ],
          "choropleth": [
           {
            "colorbar": {
             "outlinewidth": 0,
             "ticks": ""
            },
            "type": "choropleth"
           }
          ],
          "contour": [
           {
            "colorbar": {
             "outlinewidth": 0,
             "ticks": ""
            },
            "colorscale": [
             [
              0,
              "#0d0887"
             ],
             [
              0.1111111111111111,
              "#46039f"
             ],
             [
              0.2222222222222222,
              "#7201a8"
             ],
             [
              0.3333333333333333,
              "#9c179e"
             ],
             [
              0.4444444444444444,
              "#bd3786"
             ],
             [
              0.5555555555555556,
              "#d8576b"
             ],
             [
              0.6666666666666666,
              "#ed7953"
             ],
             [
              0.7777777777777778,
              "#fb9f3a"
             ],
             [
              0.8888888888888888,
              "#fdca26"
             ],
             [
              1,
              "#f0f921"
             ]
            ],
            "type": "contour"
           }
          ],
          "contourcarpet": [
           {
            "colorbar": {
             "outlinewidth": 0,
             "ticks": ""
            },
            "type": "contourcarpet"
           }
          ],
          "heatmap": [
           {
            "colorbar": {
             "outlinewidth": 0,
             "ticks": ""
            },
            "colorscale": [
             [
              0,
              "#0d0887"
             ],
             [
              0.1111111111111111,
              "#46039f"
             ],
             [
              0.2222222222222222,
              "#7201a8"
             ],
             [
              0.3333333333333333,
              "#9c179e"
             ],
             [
              0.4444444444444444,
              "#bd3786"
             ],
             [
              0.5555555555555556,
              "#d8576b"
             ],
             [
              0.6666666666666666,
              "#ed7953"
             ],
             [
              0.7777777777777778,
              "#fb9f3a"
             ],
             [
              0.8888888888888888,
              "#fdca26"
             ],
             [
              1,
              "#f0f921"
             ]
            ],
            "type": "heatmap"
           }
          ],
          "heatmapgl": [
           {
            "colorbar": {
             "outlinewidth": 0,
             "ticks": ""
            },
            "colorscale": [
             [
              0,
              "#0d0887"
             ],
             [
              0.1111111111111111,
              "#46039f"
             ],
             [
              0.2222222222222222,
              "#7201a8"
             ],
             [
              0.3333333333333333,
              "#9c179e"
             ],
             [
              0.4444444444444444,
              "#bd3786"
             ],
             [
              0.5555555555555556,
              "#d8576b"
             ],
             [
              0.6666666666666666,
              "#ed7953"
             ],
             [
              0.7777777777777778,
              "#fb9f3a"
             ],
             [
              0.8888888888888888,
              "#fdca26"
             ],
             [
              1,
              "#f0f921"
             ]
            ],
            "type": "heatmapgl"
           }
          ],
          "histogram": [
           {
            "marker": {
             "pattern": {
              "fillmode": "overlay",
              "size": 10,
              "solidity": 0.2
             }
            },
            "type": "histogram"
           }
          ],
          "histogram2d": [
           {
            "colorbar": {
             "outlinewidth": 0,
             "ticks": ""
            },
            "colorscale": [
             [
              0,
              "#0d0887"
             ],
             [
              0.1111111111111111,
              "#46039f"
             ],
             [
              0.2222222222222222,
              "#7201a8"
             ],
             [
              0.3333333333333333,
              "#9c179e"
             ],
             [
              0.4444444444444444,
              "#bd3786"
             ],
             [
              0.5555555555555556,
              "#d8576b"
             ],
             [
              0.6666666666666666,
              "#ed7953"
             ],
             [
              0.7777777777777778,
              "#fb9f3a"
             ],
             [
              0.8888888888888888,
              "#fdca26"
             ],
             [
              1,
              "#f0f921"
             ]
            ],
            "type": "histogram2d"
           }
          ],
          "histogram2dcontour": [
           {
            "colorbar": {
             "outlinewidth": 0,
             "ticks": ""
            },
            "colorscale": [
             [
              0,
              "#0d0887"
             ],
             [
              0.1111111111111111,
              "#46039f"
             ],
             [
              0.2222222222222222,
              "#7201a8"
             ],
             [
              0.3333333333333333,
              "#9c179e"
             ],
             [
              0.4444444444444444,
              "#bd3786"
             ],
             [
              0.5555555555555556,
              "#d8576b"
             ],
             [
              0.6666666666666666,
              "#ed7953"
             ],
             [
              0.7777777777777778,
              "#fb9f3a"
             ],
             [
              0.8888888888888888,
              "#fdca26"
             ],
             [
              1,
              "#f0f921"
             ]
            ],
            "type": "histogram2dcontour"
           }
          ],
          "mesh3d": [
           {
            "colorbar": {
             "outlinewidth": 0,
             "ticks": ""
            },
            "type": "mesh3d"
           }
          ],
          "parcoords": [
           {
            "line": {
             "colorbar": {
              "outlinewidth": 0,
              "ticks": ""
             }
            },
            "type": "parcoords"
           }
          ],
          "pie": [
           {
            "automargin": true,
            "type": "pie"
           }
          ],
          "scatter": [
           {
            "fillpattern": {
             "fillmode": "overlay",
             "size": 10,
             "solidity": 0.2
            },
            "type": "scatter"
           }
          ],
          "scatter3d": [
           {
            "line": {
             "colorbar": {
              "outlinewidth": 0,
              "ticks": ""
             }
            },
            "marker": {
             "colorbar": {
              "outlinewidth": 0,
              "ticks": ""
             }
            },
            "type": "scatter3d"
           }
          ],
          "scattercarpet": [
           {
            "marker": {
             "colorbar": {
              "outlinewidth": 0,
              "ticks": ""
             }
            },
            "type": "scattercarpet"
           }
          ],
          "scattergeo": [
           {
            "marker": {
             "colorbar": {
              "outlinewidth": 0,
              "ticks": ""
             }
            },
            "type": "scattergeo"
           }
          ],
          "scattergl": [
           {
            "marker": {
             "colorbar": {
              "outlinewidth": 0,
              "ticks": ""
             }
            },
            "type": "scattergl"
           }
          ],
          "scattermapbox": [
           {
            "marker": {
             "colorbar": {
              "outlinewidth": 0,
              "ticks": ""
             }
            },
            "type": "scattermapbox"
           }
          ],
          "scatterpolar": [
           {
            "marker": {
             "colorbar": {
              "outlinewidth": 0,
              "ticks": ""
             }
            },
            "type": "scatterpolar"
           }
          ],
          "scatterpolargl": [
           {
            "marker": {
             "colorbar": {
              "outlinewidth": 0,
              "ticks": ""
             }
            },
            "type": "scatterpolargl"
           }
          ],
          "scatterternary": [
           {
            "marker": {
             "colorbar": {
              "outlinewidth": 0,
              "ticks": ""
             }
            },
            "type": "scatterternary"
           }
          ],
          "surface": [
           {
            "colorbar": {
             "outlinewidth": 0,
             "ticks": ""
            },
            "colorscale": [
             [
              0,
              "#0d0887"
             ],
             [
              0.1111111111111111,
              "#46039f"
             ],
             [
              0.2222222222222222,
              "#7201a8"
             ],
             [
              0.3333333333333333,
              "#9c179e"
             ],
             [
              0.4444444444444444,
              "#bd3786"
             ],
             [
              0.5555555555555556,
              "#d8576b"
             ],
             [
              0.6666666666666666,
              "#ed7953"
             ],
             [
              0.7777777777777778,
              "#fb9f3a"
             ],
             [
              0.8888888888888888,
              "#fdca26"
             ],
             [
              1,
              "#f0f921"
             ]
            ],
            "type": "surface"
           }
          ],
          "table": [
           {
            "cells": {
             "fill": {
              "color": "#EBF0F8"
             },
             "line": {
              "color": "white"
             }
            },
            "header": {
             "fill": {
              "color": "#C8D4E3"
             },
             "line": {
              "color": "white"
             }
            },
            "type": "table"
           }
          ]
         },
         "layout": {
          "annotationdefaults": {
           "arrowcolor": "#2a3f5f",
           "arrowhead": 0,
           "arrowwidth": 1
          },
          "autotypenumbers": "strict",
          "coloraxis": {
           "colorbar": {
            "outlinewidth": 0,
            "ticks": ""
           }
          },
          "colorscale": {
           "diverging": [
            [
             0,
             "#8e0152"
            ],
            [
             0.1,
             "#c51b7d"
            ],
            [
             0.2,
             "#de77ae"
            ],
            [
             0.3,
             "#f1b6da"
            ],
            [
             0.4,
             "#fde0ef"
            ],
            [
             0.5,
             "#f7f7f7"
            ],
            [
             0.6,
             "#e6f5d0"
            ],
            [
             0.7,
             "#b8e186"
            ],
            [
             0.8,
             "#7fbc41"
            ],
            [
             0.9,
             "#4d9221"
            ],
            [
             1,
             "#276419"
            ]
           ],
           "sequential": [
            [
             0,
             "#0d0887"
            ],
            [
             0.1111111111111111,
             "#46039f"
            ],
            [
             0.2222222222222222,
             "#7201a8"
            ],
            [
             0.3333333333333333,
             "#9c179e"
            ],
            [
             0.4444444444444444,
             "#bd3786"
            ],
            [
             0.5555555555555556,
             "#d8576b"
            ],
            [
             0.6666666666666666,
             "#ed7953"
            ],
            [
             0.7777777777777778,
             "#fb9f3a"
            ],
            [
             0.8888888888888888,
             "#fdca26"
            ],
            [
             1,
             "#f0f921"
            ]
           ],
           "sequentialminus": [
            [
             0,
             "#0d0887"
            ],
            [
             0.1111111111111111,
             "#46039f"
            ],
            [
             0.2222222222222222,
             "#7201a8"
            ],
            [
             0.3333333333333333,
             "#9c179e"
            ],
            [
             0.4444444444444444,
             "#bd3786"
            ],
            [
             0.5555555555555556,
             "#d8576b"
            ],
            [
             0.6666666666666666,
             "#ed7953"
            ],
            [
             0.7777777777777778,
             "#fb9f3a"
            ],
            [
             0.8888888888888888,
             "#fdca26"
            ],
            [
             1,
             "#f0f921"
            ]
           ]
          },
          "colorway": [
           "#636efa",
           "#EF553B",
           "#00cc96",
           "#ab63fa",
           "#FFA15A",
           "#19d3f3",
           "#FF6692",
           "#B6E880",
           "#FF97FF",
           "#FECB52"
          ],
          "font": {
           "color": "#2a3f5f"
          },
          "geo": {
           "bgcolor": "white",
           "lakecolor": "white",
           "landcolor": "#E5ECF6",
           "showlakes": true,
           "showland": true,
           "subunitcolor": "white"
          },
          "hoverlabel": {
           "align": "left"
          },
          "hovermode": "closest",
          "mapbox": {
           "style": "light"
          },
          "paper_bgcolor": "white",
          "plot_bgcolor": "#E5ECF6",
          "polar": {
           "angularaxis": {
            "gridcolor": "white",
            "linecolor": "white",
            "ticks": ""
           },
           "bgcolor": "#E5ECF6",
           "radialaxis": {
            "gridcolor": "white",
            "linecolor": "white",
            "ticks": ""
           }
          },
          "scene": {
           "xaxis": {
            "backgroundcolor": "#E5ECF6",
            "gridcolor": "white",
            "gridwidth": 2,
            "linecolor": "white",
            "showbackground": true,
            "ticks": "",
            "zerolinecolor": "white"
           },
           "yaxis": {
            "backgroundcolor": "#E5ECF6",
            "gridcolor": "white",
            "gridwidth": 2,
            "linecolor": "white",
            "showbackground": true,
            "ticks": "",
            "zerolinecolor": "white"
           },
           "zaxis": {
            "backgroundcolor": "#E5ECF6",
            "gridcolor": "white",
            "gridwidth": 2,
            "linecolor": "white",
            "showbackground": true,
            "ticks": "",
            "zerolinecolor": "white"
           }
          },
          "shapedefaults": {
           "line": {
            "color": "#2a3f5f"
           }
          },
          "ternary": {
           "aaxis": {
            "gridcolor": "white",
            "linecolor": "white",
            "ticks": ""
           },
           "baxis": {
            "gridcolor": "white",
            "linecolor": "white",
            "ticks": ""
           },
           "bgcolor": "#E5ECF6",
           "caxis": {
            "gridcolor": "white",
            "linecolor": "white",
            "ticks": ""
           }
          },
          "title": {
           "x": 0.05
          },
          "xaxis": {
           "automargin": true,
           "gridcolor": "white",
           "linecolor": "white",
           "ticks": "",
           "title": {
            "standoff": 15
           },
           "zerolinecolor": "white",
           "zerolinewidth": 2
          },
          "yaxis": {
           "automargin": true,
           "gridcolor": "white",
           "linecolor": "white",
           "ticks": "",
           "title": {
            "standoff": 15
           },
           "zerolinecolor": "white",
           "zerolinewidth": 2
          }
         }
        },
        "title": {
         "text": "Distribution of CUSTOMERS.AFFECTED"
        },
        "xaxis": {
         "title": {
          "text": "Number of Customers Affected"
         }
        },
        "yaxis": {
         "title": {
          "text": "Frequency"
         }
        }
       }
      }
     },
     "metadata": {},
     "output_type": "display_data"
    },
    {
     "data": {
      "application/vnd.plotly.v1+json": {
       "config": {
        "plotlyServerURL": "https://plot.ly"
       },
       "data": [
        {
         "nbinsx": 30,
         "type": "histogram",
         "x": [
          11.6,
          12.12,
          10.87,
          11.79,
          13.07,
          10.63,
          11.41,
          9.1,
          11.53,
          12.71,
          12.71,
          8.76,
          11.6,
          11.23,
          12.73,
          10.43,
          10,
          10.43,
          9.98,
          7.81,
          9.96,
          10.14,
          10.31,
          9.82,
          9.73,
          9.07,
          9.98,
          9.98,
          10.85,
          10.24,
          10.85,
          9.98,
          10.58,
          9.85,
          10.85,
          9.98,
          null,
          9.73,
          9.79,
          9.98,
          9.98,
          9.47,
          10.57,
          9.73,
          9.98,
          10.85,
          9.73,
          10.22,
          9.59,
          14.38,
          12.86,
          9.83,
          14.27,
          12.86,
          13.52,
          8.9,
          12.86,
          13.77,
          9.97,
          12.95,
          12.88,
          8.79,
          12.86,
          13.09,
          14.38,
          14.27,
          12.86,
          14.27,
          12.86,
          9.62,
          9.57,
          10.18,
          9.92,
          13.37,
          8.58,
          8.24,
          13.93,
          14.88,
          10.46,
          8.7,
          8.19,
          13.37,
          12.91,
          14.59,
          13.63,
          10.67,
          10.03,
          14.68,
          10.46,
          12.32,
          8.73,
          12.42,
          8.73,
          14.59,
          8.21,
          8.71,
          12.64,
          12.26,
          14.2,
          14.22,
          10.67,
          8.19,
          15.43,
          null,
          10.67,
          15.06,
          10.67,
          14.7,
          8.54,
          14.59,
          12.62,
          10.25,
          8.14,
          11.44,
          14.56,
          12.69,
          9.21,
          8.23,
          12.46,
          13.55,
          10.66,
          11.06,
          13.63,
          13.93,
          13.63,
          14.59,
          12.05,
          13.65,
          8.7,
          10.1,
          11.57,
          10.67,
          11.06,
          13.69,
          8.19,
          14.96,
          14.98,
          11.06,
          12.93,
          8.19,
          14.2,
          10.12,
          8.24,
          15.06,
          13.32,
          8.73,
          14.37,
          13.93,
          8.14,
          10.69,
          15.43,
          12.91,
          12.42,
          8.21,
          10.25,
          8.04,
          12.46,
          12.93,
          14.58,
          13.37,
          13.93,
          13.93,
          9.92,
          12.67,
          15.47,
          11.57,
          13.5,
          14.13,
          11.58,
          10.65,
          10.65,
          null,
          10.96,
          11.25,
          11.22,
          9.37,
          12.17,
          12.11,
          12.17,
          12.72,
          11.85,
          11.85,
          12.44,
          11.51,
          12.44,
          11.16,
          9.97,
          7.69,
          11.85,
          11.01,
          12.17,
          12.73,
          12.06,
          11.15,
          11.15,
          12.72,
          11.11,
          11.66,
          11.13,
          10.71,
          9.03,
          12.46,
          13.51,
          11.25,
          11.41,
          10.65,
          11.55,
          10.99,
          11.25,
          11.41,
          12.44,
          9.35,
          13.84,
          10.77,
          12.15,
          11.28,
          12.84,
          14.06,
          null,
          11.27,
          11.11,
          12.52,
          8.93,
          10.87,
          11.28,
          12.15,
          10.77,
          13.18,
          11.45,
          11.25,
          7.69,
          11.34,
          12.17,
          11.66,
          12.66,
          7.43,
          10.65,
          12.72,
          10.97,
          null,
          11.27,
          9.39,
          12.72,
          11.58,
          12.53,
          11.7,
          11.05,
          11.25,
          13.51,
          11.58,
          11.75,
          12.38,
          9.63,
          12.88,
          13.43,
          12.17,
          10.7,
          12.38,
          11.02,
          12.15,
          11.25,
          11.15,
          8.93,
          11.01,
          11.68,
          11.15,
          12.11,
          10.72,
          13.51,
          12.72,
          12.11,
          11.25,
          9.63,
          11.27,
          13.51,
          11.22,
          12.17,
          10.44,
          11.58,
          12.72,
          12.93,
          11.7,
          11.33,
          11.28,
          12.62,
          12.66,
          11.16,
          9.76,
          11.51,
          12.6,
          12.38,
          11.13,
          10.72,
          8.39,
          10.89,
          11.71,
          8.78,
          7.37,
          11.18,
          11.64,
          9.68,
          6.97,
          8.78,
          8.63,
          9.03,
          11.98,
          11.18,
          11.18,
          10,
          11.08,
          11.18,
          11.98,
          11.09,
          9.94,
          10.29,
          6.78,
          10.44,
          9.47,
          8.96,
          11.32,
          10.52,
          9.68,
          9.03,
          8.55,
          9.94,
          11.56,
          10.44,
          10,
          10.52,
          9.21,
          11.18,
          9.47,
          8.63,
          8.78,
          9.03,
          9.16,
          9.47,
          8.78,
          11.82,
          null,
          6.62,
          7.49,
          11.9,
          11.39,
          11.65,
          10.7,
          11.92,
          12.2,
          12.37,
          12.7,
          9.23,
          10.29,
          11.24,
          12.22,
          10.81,
          10.61,
          8.73,
          12.7,
          8.88,
          12.06,
          12.15,
          11.4,
          9.05,
          11.91,
          10.81,
          null,
          10.81,
          11.6,
          10.57,
          12.06,
          9.06,
          10.73,
          11.88,
          11.24,
          11.55,
          9.13,
          7.91,
          9.71,
          9.89,
          12.42,
          8.12,
          9.48,
          10.34,
          11.57,
          10.78,
          12.22,
          9.06,
          12.06,
          9.15,
          11.19,
          11.91,
          11.57,
          11.91,
          12.16,
          8.28,
          8.38,
          8.28,
          8.13,
          8.52,
          9.36,
          8.4,
          8.46,
          8.46,
          8.89,
          8.53,
          8.47,
          8.68,
          6.34,
          7.21,
          8.52,
          8.38,
          8.37,
          8.35,
          9.34,
          9.19,
          7.02,
          8.35,
          null,
          8.52,
          8.44,
          8.38,
          8.73,
          8.4,
          8.67,
          8.14,
          8.52,
          9.22,
          9.22,
          8.48,
          6.73,
          9.22,
          8.48,
          9.36,
          8.28,
          7.6,
          8.46,
          9.33,
          8.9,
          8.53,
          7.6,
          8.06,
          8.5,
          8.37,
          9.37,
          7.71,
          8.48,
          8.23,
          8.28,
          8.06,
          8.96,
          8.72,
          8.52,
          8.47,
          8.47,
          8.52,
          8.45,
          9.22,
          9.37,
          9.34,
          8.7,
          7.18,
          8.46,
          8.75,
          8.4,
          6.41,
          8.52,
          8.9,
          9.54,
          8.38,
          8.37,
          8.38,
          9.39,
          8.52,
          8.47,
          8.46,
          7.18,
          6.73,
          7.18,
          8.48,
          7.21,
          8.47,
          8.37,
          8.64,
          7.18,
          8.52,
          6.27,
          8.4,
          8.37,
          9.36,
          8.37,
          8.69,
          11.77,
          11.58,
          11.58,
          10.97,
          12.47,
          8.78,
          12.01,
          12.28,
          8.88,
          9.7,
          12.52,
          10.83,
          10.83,
          9.09,
          7.69,
          12.36,
          11.46,
          10.83,
          10.97,
          10.97,
          10.97,
          9.04,
          8.88,
          11.58,
          9.93,
          11.22,
          9.1,
          8.78,
          13.14,
          6.84,
          8.25,
          14.27,
          7.38,
          8.25,
          9.23,
          12.5,
          13.03,
          13.39,
          13.03,
          13.16,
          13.19,
          12.86,
          13.32,
          13.03,
          12.56,
          7.36,
          13.39,
          12.4,
          12.51,
          13.16,
          9.23,
          13.17,
          14.93,
          13.03,
          8.74,
          13.12,
          13.98,
          10.74,
          13.14,
          13.95,
          12.56,
          12.51,
          13.03,
          12.51,
          13.51,
          7.36,
          13.03,
          8.74,
          13.14,
          13.98,
          13.17,
          14.27,
          14.37,
          15.87,
          9.98,
          13.56,
          13.03,
          13.03,
          8.74,
          9.5,
          14.93,
          13.32,
          13.14,
          13.76,
          9.23,
          12.5,
          11,
          13.65,
          12.93,
          13.48,
          13.31,
          12.12,
          13.65,
          12.11,
          12.8,
          10.55,
          10.99,
          12.95,
          12.62,
          10.5,
          13.63,
          9.51,
          13.87,
          12.95,
          9.14,
          10.28,
          13.65,
          10.41,
          14.42,
          12.69,
          12.59,
          12.8,
          11.76,
          12.59,
          null,
          11.76,
          12.34,
          13.63,
          13.37,
          13.56,
          11.76,
          11,
          12.62,
          11.57,
          11,
          13.37,
          12.69,
          13.33,
          13.48,
          13.37,
          10.72,
          12.69,
          13.65,
          9.17,
          13.63,
          12.62,
          9.17,
          13.65,
          13.65,
          12.8,
          14.49,
          13.3,
          12.12,
          9.24,
          9.5,
          8.26,
          9.19,
          8.56,
          10.05,
          7.96,
          7.23,
          8.17,
          8.17,
          7.23,
          7.96,
          8.17,
          9.35,
          10.58,
          10.7,
          10.04,
          10.04,
          9.98,
          9.93,
          10.58,
          10.54,
          10.58,
          11.01,
          10.58,
          9.44,
          9.93,
          9.98,
          8.44,
          8.83,
          8.92,
          10.04,
          7.78,
          8.95,
          8.44,
          11.51,
          8.33,
          10.47,
          10.71,
          10.08,
          9.55,
          9.43,
          10.08,
          8.35,
          8.44,
          9.45,
          9.05,
          10.7,
          11.33,
          10.61,
          10.04,
          8.92,
          11.09,
          11.17,
          8.78,
          9.54,
          8.78,
          9.93,
          12.14,
          13,
          11.85,
          10.96,
          10.63,
          8.87,
          9.02,
          12.24,
          12.14,
          12.16,
          9.66,
          7.71,
          12.98,
          8.68,
          10.95,
          8.47,
          12.33,
          11.08,
          7.4,
          12.16,
          8.47,
          10.88,
          11.85,
          11.12,
          12.16,
          12.07,
          10.63,
          8.53,
          12.33,
          9.66,
          10.63,
          11.97,
          12.33,
          12.14,
          12.03,
          10.31,
          11.22,
          12.06,
          11.08,
          8.03,
          8.94,
          9.03,
          10.33,
          10.24,
          10.76,
          10.13,
          11.03,
          11.01,
          10.41,
          10.68,
          11.03,
          null,
          8.85,
          8.28,
          10.26,
          10.43,
          11.36,
          7.84,
          10.45,
          9.68,
          8.35,
          11.11,
          10.41,
          10.55,
          8.68,
          8.96,
          10.43,
          10.92,
          11.86,
          11.11,
          null,
          9.5,
          10.26,
          10.43,
          null,
          10.02,
          8.68,
          10.14,
          10.92,
          16.05,
          16.44,
          13.85,
          16.68,
          15.22,
          15.95,
          14.27,
          15.95,
          16.12,
          16.44,
          16.83,
          15.27,
          16.18,
          16.68,
          16.44,
          15.45,
          16.18,
          11.34,
          16.83,
          16.15,
          15.22,
          15.17,
          15.95,
          16.18,
          16.88,
          15.67,
          15.22,
          15.17,
          15.89,
          16.35,
          16.68,
          15.81,
          15.17,
          15.95,
          15.89,
          8.34,
          10.72,
          11.81,
          12.04,
          7.38,
          7.66,
          7.38,
          11.81,
          9.27,
          9.57,
          10.49,
          10.37,
          10.15,
          10.37,
          10.3,
          8.21,
          9.63,
          10.37,
          7.51,
          9.78,
          10.23,
          null,
          10.07,
          10.11,
          7.51,
          9.46,
          10.15,
          9.78,
          10.3,
          7.51,
          9.91,
          10.92,
          10.23,
          10.88,
          13.41,
          13.06,
          14.76,
          8.36,
          13.62,
          11.97,
          12.59,
          12.65,
          13.18,
          14.76,
          10.39,
          9.44,
          7.17,
          7.17,
          8.92,
          12.37,
          10.39,
          8.93,
          7.2,
          10.47,
          10.47,
          9.36,
          11.93,
          11.93,
          11.75,
          9.45,
          6.16,
          13.95,
          13.03,
          14.21,
          13.63,
          13.89,
          13.94,
          13.98,
          12.9,
          13.93,
          13.32,
          13,
          13.26,
          14.53,
          12.96,
          12.99,
          13.32,
          13.52,
          13.94,
          13.94,
          12.61,
          null,
          13.93,
          13.52,
          14.21,
          13.63,
          12.61,
          14.53,
          13.6,
          13.63,
          13.32,
          13.12,
          14.21,
          13.93,
          null,
          13.16,
          14.02,
          13.12,
          13.36,
          12.4,
          12.9,
          13.03,
          10.77,
          8.57,
          10.02,
          10.77,
          11.23,
          10.77,
          8.57,
          10.27,
          9.82,
          11,
          9.42,
          14.55,
          18.44,
          18.44,
          19.25,
          13.54,
          14.41,
          19.25,
          18.78,
          18.3,
          18.18,
          17.27,
          17.73,
          20.9,
          17.73,
          13.32,
          18.38,
          19.35,
          16.63,
          18.35,
          18.26,
          18.35,
          21.69,
          20.03,
          17.55,
          16.63,
          18.3,
          16.87,
          17.25,
          17.58,
          19.41,
          20.9,
          14.94,
          17.25,
          19.25,
          20.03,
          18.78,
          16.76,
          18.17,
          19.25,
          17.55,
          19.22,
          18.05,
          18.3,
          16.66,
          18.05,
          17.73,
          14.94,
          19.41,
          14.23,
          13.32,
          19.25,
          15.58,
          19.25,
          18.74,
          20.03,
          18.41,
          19.41,
          18.84,
          17.22,
          19.25,
          17.72,
          17.22,
          18.44,
          18.31,
          19.14,
          17.58,
          18.78,
          14.02,
          17.56,
          18.17,
          21.69,
          11.8,
          7.99,
          8.23,
          9.29,
          9.29,
          9.26,
          8.28,
          9.29,
          9.28,
          9.29,
          9.08,
          8.86,
          8.15,
          8.34,
          9.28,
          9.26,
          8.49,
          8.9,
          7.64,
          10.95,
          11.27,
          8.86,
          7.99,
          11.27,
          11.27,
          9.28,
          8.86,
          8.29,
          8.29,
          10.36,
          8.86,
          7.99,
          9.7,
          10.21,
          7.22,
          8.14,
          9.28,
          8.29,
          8.9,
          9.22,
          11.09,
          11.49,
          9.66,
          9.69,
          10.96,
          12.11,
          11.07,
          8.09,
          11.46,
          9.8,
          10.96,
          8.95,
          8.95,
          8.93,
          9.91,
          8.93,
          9.34,
          9.66,
          8.95,
          10.96,
          12.58,
          8.99,
          9.69,
          12.11,
          11.2,
          8.99,
          8.93,
          9.8,
          10.96,
          10.96,
          8.99,
          11.26,
          8.99,
          11.58,
          8.99,
          8.99,
          9.8,
          8.99,
          8.93,
          9.66,
          8.93,
          8.99,
          11.46,
          11.33,
          8.65,
          15.1,
          13.55,
          14.04,
          14.98,
          16.11,
          15.28,
          13.73,
          16.65,
          13.16,
          16.32,
          12.14,
          13.43,
          17.13,
          14.4,
          17.15,
          15.31,
          14.27,
          14.85,
          16.83,
          18.38,
          14.87,
          18.01,
          14.85,
          15.7,
          15.11,
          14.38,
          13.56,
          17.21,
          13.73,
          14.78,
          14.02,
          14.47,
          14.15,
          12.14,
          13.36,
          14.47,
          14.4,
          13.36,
          11.43,
          14.5,
          15.18,
          12.2,
          17.21,
          16.11,
          17.21,
          17.21,
          12.48,
          15.28,
          16.53,
          15.25,
          13.85,
          16.19,
          11.29,
          14.04,
          15.11,
          12.19,
          15.18,
          16.53,
          14.66,
          12.92,
          17.04,
          16.83,
          12.4,
          15.92,
          17.69,
          13.45,
          14.78,
          16.65,
          18.01,
          14.38,
          15.28,
          14.38,
          17.3,
          14.9,
          12.39,
          13.43,
          15.13,
          13.43,
          17.13,
          15.11,
          17.21,
          13.74,
          12.55,
          14.27,
          13.73,
          10.89,
          14.21,
          11.97,
          14.11,
          12.45,
          14.4,
          14.96,
          16.83,
          14.96,
          14.78,
          17.15,
          15.18,
          12.58,
          11.43,
          12.4,
          15.18,
          14.66,
          13.7,
          14.22,
          12.45,
          16.46,
          10.47,
          13.85,
          18.01,
          14.15,
          13.36,
          17.3,
          12.5,
          12.8,
          15.92,
          14.73,
          11.29,
          13.85,
          15.02,
          14.4,
          17.15,
          14.77,
          15.19,
          14.27,
          13.96,
          14.22,
          12.91,
          16.65,
          13.96,
          15.22,
          13.31,
          15.49,
          17.66,
          14.98,
          13.5,
          18.01,
          16.46,
          13.16,
          11.12,
          17.04,
          16.46,
          14.81,
          14.67,
          15,
          14.85,
          14.81,
          11.29,
          14.38,
          14.11,
          15.93,
          17.21,
          14.02,
          14.81,
          14.15,
          14.4,
          14.27,
          14.96,
          18.01,
          14.27,
          14.11,
          15.49,
          15.92,
          11.97,
          12.53,
          15.02,
          17.69,
          14.22,
          11.97,
          14.78,
          11.97,
          12.53,
          12.53,
          12.59,
          13.7,
          11.29,
          12.53,
          13.7,
          16.46,
          13.74,
          12.39,
          16.11,
          10.89,
          13.31,
          14.77,
          16.46,
          12.53,
          17.3,
          17.35,
          14.67,
          16.83,
          14.14,
          15.66,
          12.48,
          14.73,
          15.1,
          14.22,
          15,
          13.36,
          14.56,
          12.12,
          14.67,
          16.82,
          12.19,
          16.19,
          14.4,
          14.18,
          14.72,
          12.45,
          14.22,
          10.12,
          8.68,
          7.89,
          8.68,
          8.99,
          9.63,
          9.8,
          10.06,
          9.06,
          9.95,
          9.06,
          10.38,
          9.58,
          9.46,
          9.61,
          9.49,
          8.68,
          6.69,
          9.49,
          9.14,
          8.48,
          10.08,
          9.73,
          9.63,
          9.62,
          10.15,
          9.64,
          11.28,
          11.4,
          10.36,
          11.21,
          8.59,
          11.66,
          7.67,
          null,
          10.48,
          9.92,
          9.57,
          11.03,
          11.04,
          10.84,
          9.32,
          10.83,
          10.83,
          8.41,
          11.84,
          10.24,
          11.1,
          10.85,
          10.24,
          9.64,
          8.35,
          10.42,
          7.05,
          9,
          8.39,
          9.33,
          9,
          10.61,
          9.7,
          7.92,
          11.42,
          11.84,
          10.3,
          9.38,
          7.9,
          6.63,
          8.98,
          9.54,
          9.12,
          10.68,
          10.75,
          8.92,
          12.08,
          11.2,
          8.31,
          12.63,
          11.2,
          10.88,
          11.2,
          11.04,
          17.76,
          17.51,
          19.26,
          16.76,
          17.11,
          16.19,
          16.41,
          16.28,
          16.87,
          7.31,
          7.73,
          7.05,
          8.4,
          11.31,
          11.99,
          8.64,
          10.74,
          8.33,
          9.72,
          7.78,
          10.97,
          10.82,
          10.97,
          8.4,
          11.99,
          10.77,
          18.58,
          18.18,
          17.77,
          20.93,
          17.38,
          18.07,
          19.85,
          17.01,
          17.2,
          18.05,
          19.65,
          19.01,
          18.05,
          19.33,
          10.94,
          16.41,
          17.32,
          20.74,
          9,
          8.7,
          5.65,
          9.53,
          9.85,
          7.54,
          9.85,
          8.07,
          7.87,
          9,
          null,
          9.1,
          10.26,
          9.85,
          10.48,
          9.85,
          10.48,
          9.85,
          9.62,
          8.75,
          10.26,
          9,
          8.7,
          9.67,
          14.48,
          15.48,
          15.09,
          14.48,
          14.8,
          12.08,
          14.93,
          14.8,
          14.38,
          14.38,
          11.96,
          19.84,
          15.39,
          14.84,
          11.98,
          15.2,
          14.93,
          13.77,
          16.74,
          15.11,
          15.27,
          16.85,
          15.11,
          15.52,
          15.11,
          16.19,
          13.69,
          16.27,
          15.55,
          15.84,
          12.92,
          14.31,
          14.37,
          15.49,
          16.42,
          14.76,
          16.85,
          16.03,
          15.9,
          16.12,
          16.29,
          16.43,
          16.03,
          16.9,
          16.9,
          16.9,
          14.92,
          16.9,
          16.43,
          16.65,
          15.9,
          11.6,
          11.56,
          12.41,
          12.06,
          12.04,
          12.28,
          11.38,
          11.65,
          11.64,
          9.11,
          11.04,
          10.38,
          12.16,
          11.7,
          11.35,
          11.33,
          11.89,
          9.23,
          12.01,
          11.33,
          8.93,
          10.76,
          null,
          12.05,
          12.29,
          13.04,
          7.29,
          12.29,
          11.15,
          12.72,
          6.84,
          29.28,
          34.58,
          23.25,
          24.09,
          23.25,
          null,
          7.43,
          6.69,
          7.82,
          6.31,
          8.45,
          9.8,
          9.8,
          null,
          8.41,
          null,
          9.25,
          9.25,
          null
         ]
        }
       ],
       "layout": {
        "template": {
         "data": {
          "bar": [
           {
            "error_x": {
             "color": "#2a3f5f"
            },
            "error_y": {
             "color": "#2a3f5f"
            },
            "marker": {
             "line": {
              "color": "#E5ECF6",
              "width": 0.5
             },
             "pattern": {
              "fillmode": "overlay",
              "size": 10,
              "solidity": 0.2
             }
            },
            "type": "bar"
           }
          ],
          "barpolar": [
           {
            "marker": {
             "line": {
              "color": "#E5ECF6",
              "width": 0.5
             },
             "pattern": {
              "fillmode": "overlay",
              "size": 10,
              "solidity": 0.2
             }
            },
            "type": "barpolar"
           }
          ],
          "carpet": [
           {
            "aaxis": {
             "endlinecolor": "#2a3f5f",
             "gridcolor": "white",
             "linecolor": "white",
             "minorgridcolor": "white",
             "startlinecolor": "#2a3f5f"
            },
            "baxis": {
             "endlinecolor": "#2a3f5f",
             "gridcolor": "white",
             "linecolor": "white",
             "minorgridcolor": "white",
             "startlinecolor": "#2a3f5f"
            },
            "type": "carpet"
           }
          ],
          "choropleth": [
           {
            "colorbar": {
             "outlinewidth": 0,
             "ticks": ""
            },
            "type": "choropleth"
           }
          ],
          "contour": [
           {
            "colorbar": {
             "outlinewidth": 0,
             "ticks": ""
            },
            "colorscale": [
             [
              0,
              "#0d0887"
             ],
             [
              0.1111111111111111,
              "#46039f"
             ],
             [
              0.2222222222222222,
              "#7201a8"
             ],
             [
              0.3333333333333333,
              "#9c179e"
             ],
             [
              0.4444444444444444,
              "#bd3786"
             ],
             [
              0.5555555555555556,
              "#d8576b"
             ],
             [
              0.6666666666666666,
              "#ed7953"
             ],
             [
              0.7777777777777778,
              "#fb9f3a"
             ],
             [
              0.8888888888888888,
              "#fdca26"
             ],
             [
              1,
              "#f0f921"
             ]
            ],
            "type": "contour"
           }
          ],
          "contourcarpet": [
           {
            "colorbar": {
             "outlinewidth": 0,
             "ticks": ""
            },
            "type": "contourcarpet"
           }
          ],
          "heatmap": [
           {
            "colorbar": {
             "outlinewidth": 0,
             "ticks": ""
            },
            "colorscale": [
             [
              0,
              "#0d0887"
             ],
             [
              0.1111111111111111,
              "#46039f"
             ],
             [
              0.2222222222222222,
              "#7201a8"
             ],
             [
              0.3333333333333333,
              "#9c179e"
             ],
             [
              0.4444444444444444,
              "#bd3786"
             ],
             [
              0.5555555555555556,
              "#d8576b"
             ],
             [
              0.6666666666666666,
              "#ed7953"
             ],
             [
              0.7777777777777778,
              "#fb9f3a"
             ],
             [
              0.8888888888888888,
              "#fdca26"
             ],
             [
              1,
              "#f0f921"
             ]
            ],
            "type": "heatmap"
           }
          ],
          "heatmapgl": [
           {
            "colorbar": {
             "outlinewidth": 0,
             "ticks": ""
            },
            "colorscale": [
             [
              0,
              "#0d0887"
             ],
             [
              0.1111111111111111,
              "#46039f"
             ],
             [
              0.2222222222222222,
              "#7201a8"
             ],
             [
              0.3333333333333333,
              "#9c179e"
             ],
             [
              0.4444444444444444,
              "#bd3786"
             ],
             [
              0.5555555555555556,
              "#d8576b"
             ],
             [
              0.6666666666666666,
              "#ed7953"
             ],
             [
              0.7777777777777778,
              "#fb9f3a"
             ],
             [
              0.8888888888888888,
              "#fdca26"
             ],
             [
              1,
              "#f0f921"
             ]
            ],
            "type": "heatmapgl"
           }
          ],
          "histogram": [
           {
            "marker": {
             "pattern": {
              "fillmode": "overlay",
              "size": 10,
              "solidity": 0.2
             }
            },
            "type": "histogram"
           }
          ],
          "histogram2d": [
           {
            "colorbar": {
             "outlinewidth": 0,
             "ticks": ""
            },
            "colorscale": [
             [
              0,
              "#0d0887"
             ],
             [
              0.1111111111111111,
              "#46039f"
             ],
             [
              0.2222222222222222,
              "#7201a8"
             ],
             [
              0.3333333333333333,
              "#9c179e"
             ],
             [
              0.4444444444444444,
              "#bd3786"
             ],
             [
              0.5555555555555556,
              "#d8576b"
             ],
             [
              0.6666666666666666,
              "#ed7953"
             ],
             [
              0.7777777777777778,
              "#fb9f3a"
             ],
             [
              0.8888888888888888,
              "#fdca26"
             ],
             [
              1,
              "#f0f921"
             ]
            ],
            "type": "histogram2d"
           }
          ],
          "histogram2dcontour": [
           {
            "colorbar": {
             "outlinewidth": 0,
             "ticks": ""
            },
            "colorscale": [
             [
              0,
              "#0d0887"
             ],
             [
              0.1111111111111111,
              "#46039f"
             ],
             [
              0.2222222222222222,
              "#7201a8"
             ],
             [
              0.3333333333333333,
              "#9c179e"
             ],
             [
              0.4444444444444444,
              "#bd3786"
             ],
             [
              0.5555555555555556,
              "#d8576b"
             ],
             [
              0.6666666666666666,
              "#ed7953"
             ],
             [
              0.7777777777777778,
              "#fb9f3a"
             ],
             [
              0.8888888888888888,
              "#fdca26"
             ],
             [
              1,
              "#f0f921"
             ]
            ],
            "type": "histogram2dcontour"
           }
          ],
          "mesh3d": [
           {
            "colorbar": {
             "outlinewidth": 0,
             "ticks": ""
            },
            "type": "mesh3d"
           }
          ],
          "parcoords": [
           {
            "line": {
             "colorbar": {
              "outlinewidth": 0,
              "ticks": ""
             }
            },
            "type": "parcoords"
           }
          ],
          "pie": [
           {
            "automargin": true,
            "type": "pie"
           }
          ],
          "scatter": [
           {
            "fillpattern": {
             "fillmode": "overlay",
             "size": 10,
             "solidity": 0.2
            },
            "type": "scatter"
           }
          ],
          "scatter3d": [
           {
            "line": {
             "colorbar": {
              "outlinewidth": 0,
              "ticks": ""
             }
            },
            "marker": {
             "colorbar": {
              "outlinewidth": 0,
              "ticks": ""
             }
            },
            "type": "scatter3d"
           }
          ],
          "scattercarpet": [
           {
            "marker": {
             "colorbar": {
              "outlinewidth": 0,
              "ticks": ""
             }
            },
            "type": "scattercarpet"
           }
          ],
          "scattergeo": [
           {
            "marker": {
             "colorbar": {
              "outlinewidth": 0,
              "ticks": ""
             }
            },
            "type": "scattergeo"
           }
          ],
          "scattergl": [
           {
            "marker": {
             "colorbar": {
              "outlinewidth": 0,
              "ticks": ""
             }
            },
            "type": "scattergl"
           }
          ],
          "scattermapbox": [
           {
            "marker": {
             "colorbar": {
              "outlinewidth": 0,
              "ticks": ""
             }
            },
            "type": "scattermapbox"
           }
          ],
          "scatterpolar": [
           {
            "marker": {
             "colorbar": {
              "outlinewidth": 0,
              "ticks": ""
             }
            },
            "type": "scatterpolar"
           }
          ],
          "scatterpolargl": [
           {
            "marker": {
             "colorbar": {
              "outlinewidth": 0,
              "ticks": ""
             }
            },
            "type": "scatterpolargl"
           }
          ],
          "scatterternary": [
           {
            "marker": {
             "colorbar": {
              "outlinewidth": 0,
              "ticks": ""
             }
            },
            "type": "scatterternary"
           }
          ],
          "surface": [
           {
            "colorbar": {
             "outlinewidth": 0,
             "ticks": ""
            },
            "colorscale": [
             [
              0,
              "#0d0887"
             ],
             [
              0.1111111111111111,
              "#46039f"
             ],
             [
              0.2222222222222222,
              "#7201a8"
             ],
             [
              0.3333333333333333,
              "#9c179e"
             ],
             [
              0.4444444444444444,
              "#bd3786"
             ],
             [
              0.5555555555555556,
              "#d8576b"
             ],
             [
              0.6666666666666666,
              "#ed7953"
             ],
             [
              0.7777777777777778,
              "#fb9f3a"
             ],
             [
              0.8888888888888888,
              "#fdca26"
             ],
             [
              1,
              "#f0f921"
             ]
            ],
            "type": "surface"
           }
          ],
          "table": [
           {
            "cells": {
             "fill": {
              "color": "#EBF0F8"
             },
             "line": {
              "color": "white"
             }
            },
            "header": {
             "fill": {
              "color": "#C8D4E3"
             },
             "line": {
              "color": "white"
             }
            },
            "type": "table"
           }
          ]
         },
         "layout": {
          "annotationdefaults": {
           "arrowcolor": "#2a3f5f",
           "arrowhead": 0,
           "arrowwidth": 1
          },
          "autotypenumbers": "strict",
          "coloraxis": {
           "colorbar": {
            "outlinewidth": 0,
            "ticks": ""
           }
          },
          "colorscale": {
           "diverging": [
            [
             0,
             "#8e0152"
            ],
            [
             0.1,
             "#c51b7d"
            ],
            [
             0.2,
             "#de77ae"
            ],
            [
             0.3,
             "#f1b6da"
            ],
            [
             0.4,
             "#fde0ef"
            ],
            [
             0.5,
             "#f7f7f7"
            ],
            [
             0.6,
             "#e6f5d0"
            ],
            [
             0.7,
             "#b8e186"
            ],
            [
             0.8,
             "#7fbc41"
            ],
            [
             0.9,
             "#4d9221"
            ],
            [
             1,
             "#276419"
            ]
           ],
           "sequential": [
            [
             0,
             "#0d0887"
            ],
            [
             0.1111111111111111,
             "#46039f"
            ],
            [
             0.2222222222222222,
             "#7201a8"
            ],
            [
             0.3333333333333333,
             "#9c179e"
            ],
            [
             0.4444444444444444,
             "#bd3786"
            ],
            [
             0.5555555555555556,
             "#d8576b"
            ],
            [
             0.6666666666666666,
             "#ed7953"
            ],
            [
             0.7777777777777778,
             "#fb9f3a"
            ],
            [
             0.8888888888888888,
             "#fdca26"
            ],
            [
             1,
             "#f0f921"
            ]
           ],
           "sequentialminus": [
            [
             0,
             "#0d0887"
            ],
            [
             0.1111111111111111,
             "#46039f"
            ],
            [
             0.2222222222222222,
             "#7201a8"
            ],
            [
             0.3333333333333333,
             "#9c179e"
            ],
            [
             0.4444444444444444,
             "#bd3786"
            ],
            [
             0.5555555555555556,
             "#d8576b"
            ],
            [
             0.6666666666666666,
             "#ed7953"
            ],
            [
             0.7777777777777778,
             "#fb9f3a"
            ],
            [
             0.8888888888888888,
             "#fdca26"
            ],
            [
             1,
             "#f0f921"
            ]
           ]
          },
          "colorway": [
           "#636efa",
           "#EF553B",
           "#00cc96",
           "#ab63fa",
           "#FFA15A",
           "#19d3f3",
           "#FF6692",
           "#B6E880",
           "#FF97FF",
           "#FECB52"
          ],
          "font": {
           "color": "#2a3f5f"
          },
          "geo": {
           "bgcolor": "white",
           "lakecolor": "white",
           "landcolor": "#E5ECF6",
           "showlakes": true,
           "showland": true,
           "subunitcolor": "white"
          },
          "hoverlabel": {
           "align": "left"
          },
          "hovermode": "closest",
          "mapbox": {
           "style": "light"
          },
          "paper_bgcolor": "white",
          "plot_bgcolor": "#E5ECF6",
          "polar": {
           "angularaxis": {
            "gridcolor": "white",
            "linecolor": "white",
            "ticks": ""
           },
           "bgcolor": "#E5ECF6",
           "radialaxis": {
            "gridcolor": "white",
            "linecolor": "white",
            "ticks": ""
           }
          },
          "scene": {
           "xaxis": {
            "backgroundcolor": "#E5ECF6",
            "gridcolor": "white",
            "gridwidth": 2,
            "linecolor": "white",
            "showbackground": true,
            "ticks": "",
            "zerolinecolor": "white"
           },
           "yaxis": {
            "backgroundcolor": "#E5ECF6",
            "gridcolor": "white",
            "gridwidth": 2,
            "linecolor": "white",
            "showbackground": true,
            "ticks": "",
            "zerolinecolor": "white"
           },
           "zaxis": {
            "backgroundcolor": "#E5ECF6",
            "gridcolor": "white",
            "gridwidth": 2,
            "linecolor": "white",
            "showbackground": true,
            "ticks": "",
            "zerolinecolor": "white"
           }
          },
          "shapedefaults": {
           "line": {
            "color": "#2a3f5f"
           }
          },
          "ternary": {
           "aaxis": {
            "gridcolor": "white",
            "linecolor": "white",
            "ticks": ""
           },
           "baxis": {
            "gridcolor": "white",
            "linecolor": "white",
            "ticks": ""
           },
           "bgcolor": "#E5ECF6",
           "caxis": {
            "gridcolor": "white",
            "linecolor": "white",
            "ticks": ""
           }
          },
          "title": {
           "x": 0.05
          },
          "xaxis": {
           "automargin": true,
           "gridcolor": "white",
           "linecolor": "white",
           "ticks": "",
           "title": {
            "standoff": 15
           },
           "zerolinecolor": "white",
           "zerolinewidth": 2
          },
          "yaxis": {
           "automargin": true,
           "gridcolor": "white",
           "linecolor": "white",
           "ticks": "",
           "title": {
            "standoff": 15
           },
           "zerolinecolor": "white",
           "zerolinewidth": 2
          }
         }
        },
        "title": {
         "text": "Distribution of RES.PRICE"
        },
        "xaxis": {
         "title": {
          "text": "Residential Price (cents/kWh)"
         }
        },
        "yaxis": {
         "title": {
          "text": "Frequency"
         }
        }
       }
      }
     },
     "metadata": {},
     "output_type": "display_data"
    }
   ],
   "source": [
    "# Plot distribution of OUTAGE.DURATION\n",
    "fig1 = go.Figure(data=[go.Histogram(x=outage_cleaned['OUTAGE.DURATION'], nbinsx=30)])\n",
    "fig1.update_layout(title_text='Distribution of OUTAGE.DURATION', xaxis_title='Duration (minutes)', yaxis_title='Frequency')\n",
    "fig1.show()\n",
    "\n",
    "# Plot distribution of DEMAND.LOSS.MW\n",
    "fig2 = go.Figure(data=[go.Histogram(x=outage_cleaned['DEMAND.LOSS.MW'], nbinsx=30)])\n",
    "fig2.update_layout(title_text='Distribution of DEMAND.LOSS.MW', xaxis_title='Demand Loss (Megawatt)', yaxis_title='Frequency')\n",
    "fig2.show()\n",
    "\n",
    "# Plot distribution of CUSTOMERS.AFFECTED\n",
    "fig3 = go.Figure(data=[go.Histogram(x=outage_cleaned['CUSTOMERS.AFFECTED'], nbinsx=30)])\n",
    "fig3.update_layout(title_text='Distribution of CUSTOMERS.AFFECTED', xaxis_title='Number of Customers Affected', yaxis_title='Frequency')\n",
    "fig3.show()\n",
    "\n",
    "# Plot distribution of RES.PRICE\n",
    "fig4 = go.Figure(data=[go.Histogram(x=outage_cleaned['RES.PRICE'], nbinsx=30)])\n",
    "fig4.update_layout(title_text='Distribution of RES.PRICE', xaxis_title='Residential Price (cents/kWh)', yaxis_title='Frequency')\n",
    "fig4.show()"
   ]
  },
  {
   "cell_type": "markdown",
   "metadata": {},
   "source": [
    "# Exploratory Data Analysis (EDA) Visualizations\n",
    "\n",
    "## Uncovering Patterns and Comparisons\n",
    "\n",
    "In this section, we delve into visualizations aimed at uncovering patterns and making insightful comparisons within the power outage dataset. Utilizing scatter plots and box plots, we explore relationships between outage duration and affected customers, as well as variations in customer impact across different NERC regions. These visualizations serve as a foundational step in understanding the nuances and potential factors influencing power outage events.\n",
    "\n",
    "### Scatter Plot of OUTAGE.DURATION vs. CUSTOMERS.AFFECTED\n",
    "**Description:**\n",
    "This scatter plot is created to visually assess the potential correlation or pattern between the duration of power outages ('OUTAGE.DURATION') and the number of customers affected ('CUSTOMERS.AFFECTED'). Each point on the plot represents a specific power outage event, with the x-axis indicating the duration of the outage in minutes and the y-axis representing the number of affected customers. By examining the distribution of points, one can infer whether longer durations tend to result in a higher number of affected customers or if there are other patterns worth exploring.\n",
    "\n",
    "### Scatter Plot of OUTAGE.RESTORATION vs. CUSTOMERS.AFFECTED\n",
    "**Description:**\n",
    "This scatter plot provides a visual representation of the relationship between the restoration time of power outages ('OUTAGE.RESTORATION') and the number of customers affected ('CUSTOMERS.AFFECTED'). Each point on the plot corresponds to a specific power outage event, with the x-axis depicting the restoration time and the y-axis representing the number of affected customers. The plot allows for an exploration of patterns and trends, enabling observations about whether quicker restoration times correlate with fewer affected customers or if there are notable outliers indicating unusual scenarios. The tooltips include information about the state and cause category for each data point, providing additional context for the analysis.\n",
    "\n",
    "### Box Plot of NERC.REGION vs. CUSTOMERS.AFFECTED\n",
    "**Description:**\n",
    "This box plot is designed to compare the distribution of the number of customers affected ('CUSTOMERS.AFFECTED') across different NERC (North American Electric Reliability Corporation) regions. Each box represents the interquartile range (IQR) of the data for a specific region, with the median indicated by the horizontal line inside the box. Outliers are also displayed as individual points. By examining these box plots, one can gain insights into the variations in the impact of power outages on customers across different NERC regions."
   ]
  },
  {
   "cell_type": "code",
   "execution_count": 4,
   "metadata": {},
   "outputs": [
    {
     "data": {
      "application/vnd.plotly.v1+json": {
       "config": {
        "plotlyServerURL": "https://plot.ly"
       },
       "data": [
        {
         "hovertemplate": "OUTAGE.DURATION=%{x}<br>CUSTOMERS.AFFECTED=%{y}<extra></extra>",
         "legendgroup": "",
         "marker": {
          "color": "#636efa",
          "symbol": "circle"
         },
         "mode": "markers",
         "name": "",
         "showlegend": false,
         "type": "scattergl",
         "x": [
          3060,
          1,
          3000,
          2550,
          1740,
          1860,
          2970,
          3960,
          155,
          3621,
          7740,
          8880,
          0,
          1322,
          60,
          19,
          0,
          21,
          196,
          840,
          935,
          1260,
          null,
          619,
          150,
          762,
          0,
          660,
          1,
          2700,
          1,
          4921,
          95,
          251,
          4125,
          2550,
          null,
          1200,
          310,
          2818,
          5054,
          136,
          528,
          150,
          46,
          1,
          1920,
          null,
          32,
          null,
          135,
          3000,
          32,
          108653,
          8468,
          960,
          44,
          1605,
          4410,
          388,
          480,
          1219,
          90,
          18660,
          538,
          104,
          60,
          1272,
          60,
          1,
          1000,
          17339,
          9576,
          3090,
          6510,
          5820,
          1078,
          1513,
          4830,
          3051,
          4200,
          2085,
          5730,
          4290,
          2670,
          3540,
          3637,
          1710,
          4320,
          3915,
          3120,
          4590,
          7530,
          5034,
          8160,
          3300,
          4320,
          1770,
          9857,
          4080,
          5670,
          5700,
          1995,
          300,
          5115,
          2670,
          7650,
          4338,
          761,
          5760,
          2820,
          4110,
          3360,
          3015,
          232,
          11525,
          6420,
          46080,
          5700,
          5610,
          78377,
          270,
          4050,
          5865,
          1,
          2325,
          4170,
          4485,
          2694,
          168,
          5580,
          705,
          11850,
          3494,
          4560,
          2760,
          5760,
          8922,
          6030,
          7800,
          4242,
          3120,
          5700,
          900,
          1046,
          7620,
          3630,
          1260,
          5840,
          5790,
          2820,
          600,
          4259,
          2939,
          7080,
          3600,
          1588,
          4260,
          2700,
          200,
          8430,
          85,
          9150,
          1019,
          420,
          1140,
          7440,
          4458,
          373,
          1203,
          868,
          1455,
          206,
          1195,
          1559,
          900,
          2690,
          5115,
          5,
          189,
          2142,
          360,
          null,
          225,
          2340,
          480,
          9486,
          480,
          3000,
          300,
          3020,
          766,
          null,
          1335,
          197,
          245,
          3255,
          12180,
          1077,
          600,
          186,
          690,
          27698,
          402,
          2420,
          327,
          1,
          1860,
          220,
          455,
          318,
          757,
          847,
          410,
          215,
          5,
          570,
          12124,
          2655,
          20160,
          1440,
          600,
          39,
          181,
          1185,
          1500,
          0,
          271,
          1860,
          1200,
          2159,
          6300,
          null,
          1620,
          224,
          70,
          1697,
          95,
          2220,
          null,
          7809,
          1200,
          121,
          63,
          5595,
          1,
          557,
          240,
          3360,
          685,
          2280,
          210,
          167,
          1920,
          3569,
          3300,
          10,
          1560,
          840,
          240,
          990,
          6000,
          17865,
          1282,
          1080,
          7540,
          1320,
          1110,
          27698,
          130,
          3040,
          394,
          10140,
          20160,
          21540,
          45,
          1,
          1200,
          550,
          900,
          885,
          940,
          null,
          3050,
          1830,
          6000,
          1500,
          150,
          1955,
          2220,
          330,
          74,
          420,
          1440,
          255,
          1060,
          12240,
          5250,
          4320,
          120,
          233,
          null,
          65,
          2120,
          96,
          3,
          4320,
          65,
          2146,
          96,
          4032,
          2580,
          6,
          569,
          0,
          15950,
          200,
          1980,
          4045,
          2730,
          3314,
          7319,
          1,
          47,
          1440,
          276,
          0,
          0,
          3646,
          1130,
          2880,
          513,
          35,
          23773,
          10,
          3872,
          23187,
          12240,
          390,
          null,
          3264,
          1230,
          803,
          77,
          30,
          300,
          1,
          5,
          1450,
          2680,
          null,
          7609,
          150,
          3000,
          420,
          479,
          1680,
          2700,
          149,
          1110,
          2790,
          659,
          1320,
          1830,
          3000,
          null,
          870,
          810,
          1336,
          1695,
          360,
          360,
          120,
          3000,
          1290,
          1530,
          2370,
          1200,
          1200,
          90,
          120,
          1200,
          2761,
          720,
          1120,
          2100,
          960,
          450,
          1440,
          1020,
          0,
          2010,
          120,
          9230,
          1240,
          465,
          0,
          2460,
          1183,
          8880,
          394,
          219,
          487,
          19,
          28,
          0,
          1,
          5340,
          8940,
          467,
          0,
          1920,
          0,
          25,
          420,
          2040,
          0,
          1,
          1423,
          60,
          1620,
          3300,
          385,
          663,
          123,
          1276,
          1919,
          null,
          440,
          6690,
          null,
          0,
          null,
          717,
          1204,
          292,
          313,
          1,
          5,
          6276,
          0,
          74,
          0,
          null,
          248,
          1,
          2700,
          25,
          126,
          1,
          255,
          1207,
          0,
          0,
          245,
          476,
          null,
          null,
          null,
          1,
          2639,
          502,
          548,
          369,
          6480,
          15,
          5,
          null,
          1,
          0,
          432,
          21,
          1697,
          0,
          2615,
          9630,
          3507,
          2820,
          314,
          5855,
          0,
          0,
          1,
          22769,
          70,
          4285,
          355,
          0,
          2520,
          0,
          180,
          554,
          50,
          70,
          180,
          3842,
          35,
          1,
          189,
          49320,
          4200,
          353,
          1,
          87,
          66,
          null,
          1,
          227,
          null,
          1440,
          1,
          2700,
          null,
          49320,
          2,
          215,
          451,
          418,
          100,
          2021,
          1671,
          3938,
          4470,
          2279,
          4440,
          2760,
          0,
          1,
          0,
          1,
          1840,
          428,
          331,
          1980,
          1,
          1,
          1950,
          3037,
          1,
          1,
          1196,
          5628,
          1440,
          7700,
          2,
          12890,
          4232,
          95,
          2610,
          4320,
          17,
          113,
          0,
          2507,
          0,
          1,
          4920,
          1,
          4080,
          0,
          960,
          185,
          1320,
          1673,
          2855,
          3060,
          565,
          1,
          1,
          7298,
          5790,
          3040,
          11700,
          7987,
          304,
          4517,
          0,
          3058,
          13381,
          2865,
          152,
          380,
          9450,
          7803,
          5579,
          8979,
          4800,
          3060,
          4792,
          3894,
          1757,
          2880,
          2985,
          164,
          3232,
          2319,
          4338,
          2880,
          1714,
          90,
          59,
          4139,
          10530,
          6938,
          930,
          278,
          299,
          5320,
          2880,
          1,
          4260,
          6713,
          5160,
          1440,
          78,
          7523,
          2668,
          1,
          376,
          1324,
          6940,
          2684,
          54,
          100,
          720,
          2880,
          3189,
          2790,
          13679,
          2843,
          13488,
          1642,
          7709,
          7080,
          1440,
          1,
          1680,
          1579,
          652,
          108,
          300,
          1020,
          3570,
          6492,
          23700,
          10499,
          15180,
          0,
          120,
          1,
          1,
          1,
          1,
          1,
          1,
          60,
          113,
          204,
          31,
          57,
          13,
          2,
          11,
          283,
          0,
          1,
          871,
          1631,
          56,
          15,
          15,
          20,
          60,
          1,
          95,
          300,
          1,
          3186,
          575,
          2275,
          15,
          1,
          44,
          21,
          1,
          114,
          1,
          60,
          4920,
          null,
          4920,
          420,
          0,
          7,
          21,
          340,
          4200,
          805,
          5040,
          7430,
          5490,
          165,
          3630,
          11640,
          1590,
          3137,
          1440,
          7920,
          360,
          0,
          1440,
          1372,
          6480,
          2190,
          285,
          75,
          1843,
          1,
          11531,
          1420,
          0,
          930,
          11420,
          0,
          352,
          0,
          960,
          1733,
          3690,
          10619,
          634,
          11280,
          1440,
          180,
          1574,
          45,
          563,
          388,
          373,
          4510,
          290,
          1950,
          270,
          1355,
          1318,
          2490,
          1265,
          195,
          3120,
          3388,
          1025,
          990,
          240,
          1485,
          129,
          0,
          1528,
          1890,
          2551,
          985,
          405,
          1698,
          167,
          1460,
          182,
          4113,
          null,
          885,
          15,
          42,
          1050,
          1,
          132,
          4140,
          2880,
          null,
          11430,
          3599,
          0,
          2941,
          null,
          6090,
          1365,
          375,
          2520,
          10080,
          76,
          0,
          3720,
          333,
          0,
          353,
          11337,
          0,
          0,
          7020,
          11058,
          null,
          9360,
          3300,
          3339,
          2880,
          11580,
          9600,
          13201,
          9719,
          488,
          2415,
          180,
          4177,
          7440,
          3480,
          6600,
          300,
          1526,
          60,
          210,
          2,
          1350,
          73,
          1,
          200,
          0,
          null,
          4380,
          0,
          120,
          2680,
          840,
          989,
          4313,
          214,
          4,
          164,
          91,
          1050,
          838,
          60,
          1,
          1,
          9886,
          2425,
          390,
          14500,
          6660,
          159,
          54,
          30,
          8077,
          855,
          65,
          810,
          4150,
          4740,
          25,
          0,
          null,
          2070,
          870,
          12652,
          2880,
          120,
          1199,
          null,
          1470,
          4140,
          15420,
          50,
          0,
          1,
          1,
          0,
          0,
          0,
          457,
          1,
          1,
          0,
          30,
          1,
          1,
          65,
          1,
          0,
          0,
          0,
          1,
          null,
          1,
          0,
          1,
          1,
          110,
          39,
          1,
          1,
          1,
          1,
          1,
          1,
          507,
          213,
          4254,
          1,
          1,
          53,
          0,
          0,
          251,
          347,
          1637,
          21360,
          2161,
          2880,
          1044,
          8670,
          56,
          93,
          13,
          2089,
          20280,
          14639,
          2880,
          681,
          494,
          1,
          5355,
          0,
          3943,
          3300,
          191,
          0,
          73,
          4680,
          17310,
          10080,
          10726,
          1,
          5,
          2515,
          25920,
          2730,
          9480,
          5400,
          30,
          3584,
          3600,
          5850,
          4710,
          1,
          1732,
          0,
          23040,
          1800,
          6074,
          null,
          49,
          2299,
          5760,
          420,
          7320,
          2880,
          448,
          2520,
          18717,
          5513,
          21,
          2100,
          3120,
          8221,
          3240,
          2880,
          255,
          2355,
          161,
          50,
          258,
          13140,
          8640,
          18240,
          15492,
          8268,
          0,
          300,
          14400,
          7962,
          2400,
          11296,
          48,
          60480,
          28170,
          300,
          8054,
          2775,
          2775,
          2160,
          2100,
          2775,
          3180,
          2775,
          1440,
          430,
          2129,
          1755,
          null,
          692,
          732,
          7,
          510,
          420,
          13215,
          557,
          300,
          17812,
          20416,
          6240,
          467,
          3067,
          3060,
          355,
          430,
          300,
          227,
          52,
          null,
          2880,
          18804,
          1867,
          1690,
          295,
          17,
          240,
          17520,
          8189,
          182,
          5820,
          83,
          230,
          2009,
          720,
          155,
          4320,
          4320,
          480,
          1005,
          221,
          372,
          13430,
          4320,
          91,
          1419,
          3600,
          10080,
          5071,
          152,
          6840,
          221,
          24780,
          38,
          61,
          7560,
          90,
          10380,
          396,
          2040,
          12060,
          1080,
          1680,
          13920,
          14101,
          1099,
          2460,
          540,
          52,
          816,
          420,
          155,
          437,
          247,
          540,
          1135,
          437,
          180,
          171,
          656,
          84,
          202,
          255,
          1054,
          1,
          1254,
          1456,
          177,
          106,
          32,
          2464,
          55,
          144,
          70,
          64,
          8873,
          945,
          null,
          523,
          56,
          3,
          8472,
          155,
          33,
          749,
          159,
          null,
          270,
          2790,
          224,
          1470,
          334,
          2050,
          370,
          26,
          797,
          12,
          195,
          1,
          230,
          125,
          15,
          316,
          365,
          1560,
          4740,
          294,
          455,
          2878,
          336,
          295,
          480,
          25,
          null,
          223,
          2645,
          2016,
          7371,
          360,
          3408,
          3698,
          4890,
          1,
          871,
          2759,
          250,
          3301,
          249,
          164,
          435,
          420,
          854,
          5160,
          133,
          15180,
          2055,
          451,
          140,
          199,
          721,
          179,
          1524,
          78,
          268,
          39,
          1,
          14190,
          47,
          161,
          900,
          6070,
          697,
          234,
          14,
          5910,
          null,
          34390,
          40,
          166,
          182,
          829,
          15,
          64,
          13,
          245,
          1080,
          null,
          390,
          47,
          269,
          null,
          400,
          660,
          213,
          null,
          761,
          8100,
          180,
          124,
          4320,
          2820,
          3100,
          49427,
          989,
          125,
          44,
          26,
          245,
          null,
          98,
          1,
          0,
          135,
          50,
          1008,
          53,
          554,
          1260,
          2895,
          89,
          98,
          865,
          128,
          230,
          252,
          130,
          5,
          157,
          6914,
          11,
          13,
          2880,
          270,
          962,
          47,
          null,
          20,
          108,
          9855,
          75,
          17,
          21,
          1950,
          11867,
          141,
          959,
          1035,
          617,
          1230,
          572,
          324,
          1835,
          6780,
          900,
          null,
          37,
          72,
          1,
          251,
          620,
          89,
          909,
          236,
          326,
          300,
          751,
          122,
          214,
          193,
          8,
          5227,
          null,
          1414,
          448,
          4605,
          4080,
          null,
          1914,
          759,
          1,
          10274,
          3,
          2700,
          105,
          240,
          210,
          1,
          1201,
          30,
          2806,
          1226,
          300,
          206,
          270,
          2880,
          513,
          8160,
          3314,
          414,
          126,
          60,
          285,
          110,
          62,
          2363,
          424,
          180,
          0,
          448,
          2,
          624,
          2435,
          131,
          null,
          208,
          103,
          1355,
          1523,
          90,
          1205,
          385,
          144,
          235,
          241,
          6787,
          1337,
          1673,
          3366,
          2640,
          1826,
          570,
          1565,
          2691,
          1072,
          115,
          816,
          168,
          30,
          160,
          485,
          1508,
          1301,
          159,
          60,
          4,
          9600,
          106,
          0,
          0,
          1,
          32,
          61,
          314,
          30,
          0,
          92,
          390,
          161,
          60,
          76,
          1,
          1,
          160,
          20,
          1,
          1,
          70,
          50,
          15,
          810,
          1380,
          1800,
          1560,
          2054,
          1452,
          1865,
          1999,
          120,
          1950,
          360,
          1087,
          1200,
          4122,
          360,
          645,
          108,
          0,
          1,
          1440,
          4560,
          1,
          1,
          110,
          210,
          120,
          0,
          4260,
          76,
          210,
          3305,
          5880,
          145,
          60,
          2640,
          1042,
          110,
          11880,
          2245,
          984,
          7200,
          1381,
          148,
          13972,
          null,
          796,
          300,
          null,
          2612,
          3000,
          431,
          5310,
          1732,
          0,
          6685,
          3300,
          280,
          117,
          2895,
          480,
          31,
          1,
          0,
          0,
          103,
          4745,
          307,
          1656,
          3525,
          374,
          1068,
          1569,
          114,
          115,
          15,
          2891,
          1,
          1676,
          0,
          0,
          3604,
          195,
          1,
          0,
          2108,
          198,
          3667,
          1037,
          673,
          null,
          2652,
          300,
          881,
          618,
          1187,
          950,
          2535,
          27,
          108,
          73,
          200,
          5,
          75,
          0,
          77,
          660,
          0,
          92,
          30,
          33,
          1895,
          274,
          1,
          1534,
          1,
          60,
          108,
          2,
          175,
          null,
          2040,
          2710,
          284,
          105,
          4019,
          1,
          391,
          439,
          5,
          201,
          2140,
          103,
          null,
          187,
          1406,
          348,
          13650,
          90,
          913,
          null,
          14040,
          1367,
          174,
          543,
          237,
          1906,
          224,
          0,
          95,
          360,
          1548,
          870,
          0,
          null,
          220,
          720,
          null,
          59,
          181,
          null
         ],
         "xaxis": "x",
         "y": [
          70000,
          null,
          70000,
          68200,
          250000,
          60000,
          63000,
          300000,
          5941,
          400000,
          193000,
          200000,
          0,
          0,
          55951,
          null,
          null,
          null,
          64000,
          57000,
          null,
          50001,
          0,
          null,
          null,
          null,
          106300,
          63000,
          56475,
          null,
          null,
          73000,
          215,
          50000,
          38500,
          105000,
          null,
          null,
          null,
          80000,
          63000,
          136000,
          65904,
          null,
          null,
          null,
          null,
          0,
          null,
          null,
          null,
          48000,
          7000,
          null,
          null,
          52000,
          null,
          0,
          110000,
          7600,
          63000,
          0,
          null,
          null,
          120000,
          null,
          null,
          51160,
          null,
          null,
          66383,
          208000,
          265000,
          113000,
          53000,
          245000,
          null,
          145314,
          60000,
          2100000,
          425000,
          78213,
          150000,
          164000,
          140000,
          70793,
          134288,
          60000,
          69000,
          75000,
          105000,
          118000,
          201580,
          325325,
          118000,
          131000,
          160000,
          0,
          50000,
          133777,
          125000,
          248209,
          162000,
          160895,
          210517,
          111000,
          247847,
          68000,
          null,
          50000,
          285000,
          86915,
          122000,
          65562,
          50114,
          null,
          252089,
          2,
          137000,
          80000,
          null,
          53000,
          130000,
          182000,
          0,
          50000,
          60175,
          146500,
          101000,
          null,
          239663,
          230000,
          150000,
          111393,
          250000,
          138802,
          75000,
          358000,
          127534,
          122600,
          140735,
          66000,
          160000,
          156627,
          0,
          114711,
          99188,
          85000,
          159870,
          75000,
          72520,
          100000,
          99000,
          272355,
          315000,
          190000,
          58156,
          82000,
          168000,
          0,
          197166,
          103000,
          129607,
          138000,
          138000,
          56000,
          105000,
          65000,
          30000,
          null,
          86013,
          52000,
          3314,
          null,
          null,
          119000,
          57000,
          454000,
          null,
          489478,
          126000,
          79741,
          null,
          null,
          118000,
          0,
          108000,
          238000,
          null,
          96000,
          280982,
          98700,
          null,
          79000,
          0,
          200000,
          85000,
          200000,
          null,
          null,
          68530,
          67000,
          2142678,
          null,
          130252,
          60000,
          0,
          262000,
          null,
          null,
          null,
          192000,
          71823,
          0,
          73000,
          0,
          64801,
          211266,
          62000,
          null,
          null,
          83000,
          100000,
          70000,
          214864,
          80000,
          null,
          null,
          219681,
          78000,
          2000000,
          500000,
          null,
          715000,
          null,
          100000,
          1069730,
          51404,
          175000,
          43000,
          881000,
          85000,
          68000,
          17311,
          488689,
          null,
          0,
          0,
          238392,
          340350,
          null,
          null,
          24506,
          158000,
          234393,
          89000,
          0,
          73000,
          120377,
          null,
          null,
          0,
          63000,
          null,
          171117,
          0,
          57531,
          123000,
          2504366,
          9000,
          61000,
          0,
          36073,
          null,
          113247,
          null,
          null,
          500000,
          null,
          82000,
          132000,
          81586,
          70000,
          415103,
          300000,
          800000,
          65000,
          62500,
          100000,
          157019,
          null,
          null,
          243000,
          114000,
          null,
          127000,
          null,
          135000,
          61705,
          0,
          9700,
          124000,
          9700,
          50000,
          9700,
          null,
          75065,
          7500,
          201000,
          null,
          61705,
          56000,
          9800,
          82621,
          0,
          114791,
          61413,
          94345,
          186000,
          86615,
          215387,
          70000,
          null,
          9600,
          52702,
          null,
          0,
          null,
          141000,
          63000,
          null,
          53000,
          9700,
          53700,
          null,
          58000,
          null,
          75000,
          65000,
          160000,
          60000,
          75000,
          111644,
          null,
          null,
          10000,
          null,
          0,
          0,
          300000,
          101830,
          629590,
          109000,
          192106,
          181000,
          190000,
          471932,
          400000,
          51500,
          121000,
          420000,
          245000,
          127000,
          169000,
          320000,
          11000,
          330000,
          109000,
          283451,
          300000,
          72000,
          157000,
          80000,
          653000,
          71500,
          200000,
          65400,
          237000,
          135000,
          115000,
          51000,
          239567,
          null,
          165000,
          325000,
          127000,
          130000,
          169000,
          170519,
          190000,
          500000,
          125000,
          null,
          68800,
          null,
          null,
          null,
          92090,
          null,
          250000,
          null,
          null,
          null,
          null,
          0,
          null,
          0,
          145000,
          63992,
          null,
          null,
          426000,
          null,
          null,
          76300,
          110433,
          null,
          0,
          null,
          0,
          null,
          105000,
          null,
          null,
          0,
          null,
          0,
          0,
          null,
          140000,
          56000,
          null,
          500000,
          0,
          93300,
          0,
          0,
          null,
          0,
          160000,
          0,
          null,
          null,
          89000,
          8000,
          null,
          123535,
          null,
          0,
          null,
          null,
          null,
          0,
          null,
          null,
          null,
          0,
          300000,
          null,
          null,
          175000,
          null,
          null,
          null,
          200000,
          null,
          null,
          null,
          null,
          null,
          null,
          0,
          null,
          0,
          null,
          172060,
          123827,
          75000,
          null,
          50000,
          0,
          null,
          null,
          700000,
          null,
          187000,
          null,
          null,
          64000,
          null,
          null,
          160000,
          null,
          null,
          null,
          null,
          47000,
          null,
          null,
          null,
          140000,
          null,
          null,
          null,
          40911,
          0,
          null,
          2713,
          null,
          null,
          null,
          null,
          null,
          null,
          null,
          69000,
          null,
          30000,
          90000,
          60000,
          70000,
          60000,
          108000,
          122000,
          180000,
          87600,
          null,
          0,
          0,
          0,
          null,
          0,
          null,
          108000,
          null,
          null,
          104195,
          93000,
          0,
          null,
          null,
          55118,
          0,
          297700,
          0,
          650000,
          234326,
          null,
          70000,
          86390,
          0,
          null,
          1,
          219000,
          1,
          181000,
          110000,
          0,
          133000,
          0,
          null,
          65000,
          249408,
          0,
          85091,
          138000,
          null,
          0,
          0,
          153000,
          155183,
          124000,
          760113,
          600000,
          null,
          64943,
          null,
          167564,
          50000,
          120000,
          null,
          null,
          57000,
          146721,
          198000,
          400000,
          146094,
          111555,
          52000,
          64500,
          143000,
          200717,
          142315,
          0,
          82861,
          105312,
          185000,
          109335,
          93837,
          200000,
          62000,
          213000,
          850000,
          124596,
          118000,
          null,
          105000,
          177528,
          264000,
          715000,
          null,
          160875,
          132000,
          65112,
          55000,
          492955,
          62159,
          null,
          43903,
          120001,
          144000,
          168449,
          null,
          0,
          106000,
          284000,
          65000,
          95630,
          312359,
          0,
          270000,
          35000,
          355000,
          223000,
          null,
          null,
          78000,
          181700,
          null,
          110,
          375000,
          76000,
          383000,
          190000,
          0,
          18000,
          3500,
          0,
          0,
          null,
          null,
          null,
          null,
          null,
          37,
          0,
          5763,
          85179,
          0,
          0,
          null,
          null,
          0,
          null,
          0,
          null,
          74031,
          60000,
          0,
          0,
          0,
          null,
          0,
          null,
          0,
          0,
          null,
          0,
          0,
          null,
          null,
          null,
          null,
          0,
          null,
          0,
          null,
          null,
          281000,
          null,
          127000,
          null,
          0,
          0,
          null,
          null,
          95000,
          45000,
          134500,
          175000,
          107833,
          67000,
          184000,
          246990,
          122314,
          1203000,
          0,
          211000,
          0,
          null,
          null,
          57054,
          150000,
          56000,
          0,
          0,
          50636,
          0,
          564728,
          59106,
          0,
          184000,
          245164,
          2000,
          23000,
          0,
          52747,
          48102,
          86000,
          346000,
          null,
          100000,
          60000,
          72000,
          220000,
          12000,
          null,
          70135,
          6100,
          200000,
          1200,
          103776,
          69106,
          203345,
          50718,
          130000,
          null,
          1200,
          null,
          340000,
          71000,
          61000,
          51600,
          53000,
          12000,
          29376,
          50000,
          112000,
          136000,
          61377,
          0,
          175000,
          0,
          47000,
          null,
          285465,
          50000,
          57000,
          320000,
          4196,
          370900,
          0,
          156338,
          100000,
          650000,
          null,
          197000,
          135000,
          0,
          95400,
          73000,
          248800,
          156729,
          0,
          140000,
          263000,
          50900,
          0,
          130000,
          75654,
          0,
          null,
          50000,
          0,
          0,
          150000,
          205000,
          null,
          217000,
          180000,
          67900,
          665000,
          221000,
          null,
          379000,
          360000,
          125000,
          50465,
          677858,
          120124,
          133000,
          150000,
          81000,
          677858,
          9000,
          2500,
          71000,
          null,
          null,
          0,
          null,
          3,
          null,
          null,
          249500,
          null,
          null,
          0,
          null,
          null,
          111000,
          0,
          null,
          0,
          null,
          84500,
          null,
          0,
          null,
          null,
          97651,
          220000,
          76729,
          530000,
          210000,
          52000,
          null,
          40000,
          425000,
          101003,
          null,
          83000,
          null,
          62500,
          null,
          null,
          0,
          63000,
          53000,
          20000,
          70000,
          55000,
          0,
          0,
          100000,
          56444,
          95000,
          18400,
          0,
          null,
          null,
          0,
          0,
          0,
          0,
          0,
          null,
          0,
          null,
          0,
          null,
          0,
          null,
          0,
          0,
          0,
          null,
          null,
          0,
          0,
          null,
          null,
          null,
          0,
          0,
          0,
          null,
          null,
          null,
          0,
          0,
          0,
          65000,
          null,
          null,
          null,
          0,
          0,
          null,
          140000,
          null,
          null,
          0,
          null,
          215000,
          21000,
          null,
          null,
          null,
          160000,
          632816,
          818000,
          152261,
          null,
          null,
          116000,
          145000,
          0,
          59000,
          300000,
          56645,
          null,
          0,
          18600,
          null,
          null,
          190000,
          null,
          null,
          61795,
          null,
          74300,
          173000,
          60000,
          0,
          54316,
          null,
          null,
          68000,
          null,
          3125350,
          0,
          null,
          null,
          50000,
          null,
          137000,
          100000,
          153000,
          null,
          55000,
          0,
          200000,
          150000,
          null,
          null,
          null,
          50280,
          18600,
          99700,
          65000,
          180000,
          null,
          null,
          0,
          61000,
          0,
          120000,
          50000,
          null,
          250000,
          371000,
          null,
          null,
          null,
          161151,
          18600,
          25000,
          null,
          null,
          null,
          null,
          59057,
          null,
          null,
          1100000,
          null,
          null,
          85000,
          null,
          287000,
          null,
          1,
          null,
          57184,
          143000,
          11000,
          11000,
          null,
          null,
          246092,
          null,
          null,
          150000,
          50000,
          190000,
          null,
          95000,
          50000,
          null,
          null,
          null,
          21800,
          28000,
          242910,
          null,
          125000,
          68018,
          null,
          null,
          0,
          440000,
          0,
          0,
          584384,
          430000,
          0,
          25000,
          50000,
          105000,
          150000,
          0,
          0,
          1200000,
          179000,
          42124,
          null,
          0,
          0,
          53965,
          31000,
          2775093,
          0,
          101950,
          37,
          110000,
          78000,
          84900,
          56000,
          47661,
          722000,
          104498,
          832898,
          32593,
          285300,
          268000,
          3241437,
          26000,
          502000,
          0,
          23000,
          26000,
          87000,
          20900,
          16500,
          null,
          null,
          null,
          null,
          null,
          0,
          null,
          null,
          128050,
          124000,
          900000,
          null,
          148000,
          37784,
          null,
          6810,
          79000,
          null,
          2500,
          null,
          150000,
          null,
          15000,
          null,
          26000,
          0,
          null,
          null,
          150000,
          290000,
          10000,
          850068,
          null,
          70000,
          null,
          null,
          null,
          10008,
          407440,
          477,
          50000,
          130000,
          null,
          null,
          727,
          484,
          0,
          1,
          48400,
          58850,
          94000,
          433,
          null,
          55655,
          null,
          442000,
          30000,
          89500,
          null,
          null,
          null,
          null,
          null,
          null,
          4300,
          160000,
          100000,
          1271893,
          0,
          80000,
          0,
          80000,
          null,
          null,
          505000,
          null,
          null,
          409000,
          65255,
          null,
          null,
          null,
          939000,
          6800,
          2606931,
          null,
          null,
          null,
          null,
          109750,
          null,
          null,
          0,
          7077,
          null,
          null,
          1700000,
          255000,
          59458,
          95000,
          147223,
          0,
          50000,
          2035,
          241000,
          426,
          108000,
          null,
          78164,
          null,
          null,
          9956,
          182000,
          null,
          null,
          null,
          430984,
          859554,
          null,
          null,
          65000,
          70,
          null,
          165000,
          null,
          140000,
          1667316,
          null,
          280000,
          0,
          385000,
          125000,
          0,
          55677,
          1,
          484,
          127,
          133900,
          32000,
          null,
          null,
          0,
          4,
          2650,
          null,
          5314,
          null,
          null,
          73514,
          null,
          0,
          null,
          420,
          null,
          200000,
          54332,
          6635,
          70,
          128000,
          2674,
          null,
          null,
          940,
          20345,
          null,
          0,
          null,
          70848,
          91690,
          null,
          300000,
          90323,
          263000,
          null,
          25000,
          104000,
          638,
          1400000,
          158977,
          null,
          null,
          null,
          1500000,
          null,
          1400000,
          68780,
          9956,
          0,
          7077,
          123000,
          null,
          1,
          80000,
          null,
          null,
          115500,
          null,
          0,
          1,
          null,
          60000,
          null,
          null,
          null,
          0,
          671189,
          null,
          120000,
          400000,
          null,
          111818,
          null,
          215700,
          null,
          null,
          64951,
          null,
          null,
          null,
          13000,
          null,
          7935,
          25159,
          0,
          13000,
          null,
          43000,
          null,
          8000,
          50797,
          null,
          57200,
          9200,
          null,
          null,
          115000,
          51580,
          0,
          88000,
          null,
          88110,
          52739,
          67000,
          37000,
          60000,
          119000,
          150084,
          156000,
          56000,
          175000,
          107000,
          55000,
          81000,
          600000,
          880000,
          null,
          119000,
          145157,
          217000,
          253800,
          114618,
          233000,
          130000,
          75000,
          80000,
          58500,
          67000,
          null,
          50000,
          126000,
          283000,
          190000,
          null,
          126000,
          120212,
          15000,
          35500,
          0,
          0,
          null,
          null,
          null,
          0,
          null,
          500000,
          null,
          null,
          0,
          null,
          null,
          null,
          0,
          0,
          null,
          null,
          null,
          0,
          0,
          0,
          47165,
          82000,
          30689,
          150000,
          218783,
          93828,
          52659,
          186035,
          109000,
          80539,
          83450,
          66445,
          102000,
          373835,
          85455,
          169000,
          null,
          0,
          null,
          158000,
          50752,
          null,
          0,
          56400,
          75000,
          null,
          0,
          67000,
          50100,
          null,
          50246,
          224912,
          0,
          null,
          52000,
          54476,
          0,
          1881134,
          112000,
          14500,
          68705,
          null,
          null,
          256663,
          50500,
          96966,
          null,
          35000,
          54000,
          41306,
          null,
          127000,
          92748,
          0,
          56874,
          55609,
          1500,
          null,
          54000,
          80000,
          29250,
          50000,
          0,
          0,
          130000,
          50000,
          null,
          50000,
          50000,
          380000,
          50500,
          null,
          null,
          300000,
          0,
          1,
          0,
          0,
          0,
          0,
          127545,
          null,
          0,
          0,
          131000,
          63000,
          169757,
          50462,
          60863,
          null,
          52500,
          0,
          0,
          110000,
          50000,
          117142,
          50000,
          0,
          0,
          0,
          null,
          0,
          0,
          0,
          null,
          102568,
          0,
          null,
          0,
          0,
          0,
          1100,
          0,
          null,
          null,
          110000,
          0,
          35230,
          0,
          0,
          204000,
          86058,
          null,
          null,
          0,
          null,
          31000,
          null,
          30379,
          0,
          65000,
          0,
          270000,
          null,
          0,
          70000,
          95000,
          0,
          null,
          110000,
          211000,
          294000,
          62000,
          59886,
          29300,
          291000,
          null,
          0,
          35000,
          0,
          0,
          null,
          0,
          0,
          null,
          34500,
          null,
          null,
          null,
          14273
         ],
         "yaxis": "y"
        }
       ],
       "layout": {
        "legend": {
         "tracegroupgap": 0
        },
        "template": {
         "data": {
          "bar": [
           {
            "error_x": {
             "color": "#2a3f5f"
            },
            "error_y": {
             "color": "#2a3f5f"
            },
            "marker": {
             "line": {
              "color": "#E5ECF6",
              "width": 0.5
             },
             "pattern": {
              "fillmode": "overlay",
              "size": 10,
              "solidity": 0.2
             }
            },
            "type": "bar"
           }
          ],
          "barpolar": [
           {
            "marker": {
             "line": {
              "color": "#E5ECF6",
              "width": 0.5
             },
             "pattern": {
              "fillmode": "overlay",
              "size": 10,
              "solidity": 0.2
             }
            },
            "type": "barpolar"
           }
          ],
          "carpet": [
           {
            "aaxis": {
             "endlinecolor": "#2a3f5f",
             "gridcolor": "white",
             "linecolor": "white",
             "minorgridcolor": "white",
             "startlinecolor": "#2a3f5f"
            },
            "baxis": {
             "endlinecolor": "#2a3f5f",
             "gridcolor": "white",
             "linecolor": "white",
             "minorgridcolor": "white",
             "startlinecolor": "#2a3f5f"
            },
            "type": "carpet"
           }
          ],
          "choropleth": [
           {
            "colorbar": {
             "outlinewidth": 0,
             "ticks": ""
            },
            "type": "choropleth"
           }
          ],
          "contour": [
           {
            "colorbar": {
             "outlinewidth": 0,
             "ticks": ""
            },
            "colorscale": [
             [
              0,
              "#0d0887"
             ],
             [
              0.1111111111111111,
              "#46039f"
             ],
             [
              0.2222222222222222,
              "#7201a8"
             ],
             [
              0.3333333333333333,
              "#9c179e"
             ],
             [
              0.4444444444444444,
              "#bd3786"
             ],
             [
              0.5555555555555556,
              "#d8576b"
             ],
             [
              0.6666666666666666,
              "#ed7953"
             ],
             [
              0.7777777777777778,
              "#fb9f3a"
             ],
             [
              0.8888888888888888,
              "#fdca26"
             ],
             [
              1,
              "#f0f921"
             ]
            ],
            "type": "contour"
           }
          ],
          "contourcarpet": [
           {
            "colorbar": {
             "outlinewidth": 0,
             "ticks": ""
            },
            "type": "contourcarpet"
           }
          ],
          "heatmap": [
           {
            "colorbar": {
             "outlinewidth": 0,
             "ticks": ""
            },
            "colorscale": [
             [
              0,
              "#0d0887"
             ],
             [
              0.1111111111111111,
              "#46039f"
             ],
             [
              0.2222222222222222,
              "#7201a8"
             ],
             [
              0.3333333333333333,
              "#9c179e"
             ],
             [
              0.4444444444444444,
              "#bd3786"
             ],
             [
              0.5555555555555556,
              "#d8576b"
             ],
             [
              0.6666666666666666,
              "#ed7953"
             ],
             [
              0.7777777777777778,
              "#fb9f3a"
             ],
             [
              0.8888888888888888,
              "#fdca26"
             ],
             [
              1,
              "#f0f921"
             ]
            ],
            "type": "heatmap"
           }
          ],
          "heatmapgl": [
           {
            "colorbar": {
             "outlinewidth": 0,
             "ticks": ""
            },
            "colorscale": [
             [
              0,
              "#0d0887"
             ],
             [
              0.1111111111111111,
              "#46039f"
             ],
             [
              0.2222222222222222,
              "#7201a8"
             ],
             [
              0.3333333333333333,
              "#9c179e"
             ],
             [
              0.4444444444444444,
              "#bd3786"
             ],
             [
              0.5555555555555556,
              "#d8576b"
             ],
             [
              0.6666666666666666,
              "#ed7953"
             ],
             [
              0.7777777777777778,
              "#fb9f3a"
             ],
             [
              0.8888888888888888,
              "#fdca26"
             ],
             [
              1,
              "#f0f921"
             ]
            ],
            "type": "heatmapgl"
           }
          ],
          "histogram": [
           {
            "marker": {
             "pattern": {
              "fillmode": "overlay",
              "size": 10,
              "solidity": 0.2
             }
            },
            "type": "histogram"
           }
          ],
          "histogram2d": [
           {
            "colorbar": {
             "outlinewidth": 0,
             "ticks": ""
            },
            "colorscale": [
             [
              0,
              "#0d0887"
             ],
             [
              0.1111111111111111,
              "#46039f"
             ],
             [
              0.2222222222222222,
              "#7201a8"
             ],
             [
              0.3333333333333333,
              "#9c179e"
             ],
             [
              0.4444444444444444,
              "#bd3786"
             ],
             [
              0.5555555555555556,
              "#d8576b"
             ],
             [
              0.6666666666666666,
              "#ed7953"
             ],
             [
              0.7777777777777778,
              "#fb9f3a"
             ],
             [
              0.8888888888888888,
              "#fdca26"
             ],
             [
              1,
              "#f0f921"
             ]
            ],
            "type": "histogram2d"
           }
          ],
          "histogram2dcontour": [
           {
            "colorbar": {
             "outlinewidth": 0,
             "ticks": ""
            },
            "colorscale": [
             [
              0,
              "#0d0887"
             ],
             [
              0.1111111111111111,
              "#46039f"
             ],
             [
              0.2222222222222222,
              "#7201a8"
             ],
             [
              0.3333333333333333,
              "#9c179e"
             ],
             [
              0.4444444444444444,
              "#bd3786"
             ],
             [
              0.5555555555555556,
              "#d8576b"
             ],
             [
              0.6666666666666666,
              "#ed7953"
             ],
             [
              0.7777777777777778,
              "#fb9f3a"
             ],
             [
              0.8888888888888888,
              "#fdca26"
             ],
             [
              1,
              "#f0f921"
             ]
            ],
            "type": "histogram2dcontour"
           }
          ],
          "mesh3d": [
           {
            "colorbar": {
             "outlinewidth": 0,
             "ticks": ""
            },
            "type": "mesh3d"
           }
          ],
          "parcoords": [
           {
            "line": {
             "colorbar": {
              "outlinewidth": 0,
              "ticks": ""
             }
            },
            "type": "parcoords"
           }
          ],
          "pie": [
           {
            "automargin": true,
            "type": "pie"
           }
          ],
          "scatter": [
           {
            "fillpattern": {
             "fillmode": "overlay",
             "size": 10,
             "solidity": 0.2
            },
            "type": "scatter"
           }
          ],
          "scatter3d": [
           {
            "line": {
             "colorbar": {
              "outlinewidth": 0,
              "ticks": ""
             }
            },
            "marker": {
             "colorbar": {
              "outlinewidth": 0,
              "ticks": ""
             }
            },
            "type": "scatter3d"
           }
          ],
          "scattercarpet": [
           {
            "marker": {
             "colorbar": {
              "outlinewidth": 0,
              "ticks": ""
             }
            },
            "type": "scattercarpet"
           }
          ],
          "scattergeo": [
           {
            "marker": {
             "colorbar": {
              "outlinewidth": 0,
              "ticks": ""
             }
            },
            "type": "scattergeo"
           }
          ],
          "scattergl": [
           {
            "marker": {
             "colorbar": {
              "outlinewidth": 0,
              "ticks": ""
             }
            },
            "type": "scattergl"
           }
          ],
          "scattermapbox": [
           {
            "marker": {
             "colorbar": {
              "outlinewidth": 0,
              "ticks": ""
             }
            },
            "type": "scattermapbox"
           }
          ],
          "scatterpolar": [
           {
            "marker": {
             "colorbar": {
              "outlinewidth": 0,
              "ticks": ""
             }
            },
            "type": "scatterpolar"
           }
          ],
          "scatterpolargl": [
           {
            "marker": {
             "colorbar": {
              "outlinewidth": 0,
              "ticks": ""
             }
            },
            "type": "scatterpolargl"
           }
          ],
          "scatterternary": [
           {
            "marker": {
             "colorbar": {
              "outlinewidth": 0,
              "ticks": ""
             }
            },
            "type": "scatterternary"
           }
          ],
          "surface": [
           {
            "colorbar": {
             "outlinewidth": 0,
             "ticks": ""
            },
            "colorscale": [
             [
              0,
              "#0d0887"
             ],
             [
              0.1111111111111111,
              "#46039f"
             ],
             [
              0.2222222222222222,
              "#7201a8"
             ],
             [
              0.3333333333333333,
              "#9c179e"
             ],
             [
              0.4444444444444444,
              "#bd3786"
             ],
             [
              0.5555555555555556,
              "#d8576b"
             ],
             [
              0.6666666666666666,
              "#ed7953"
             ],
             [
              0.7777777777777778,
              "#fb9f3a"
             ],
             [
              0.8888888888888888,
              "#fdca26"
             ],
             [
              1,
              "#f0f921"
             ]
            ],
            "type": "surface"
           }
          ],
          "table": [
           {
            "cells": {
             "fill": {
              "color": "#EBF0F8"
             },
             "line": {
              "color": "white"
             }
            },
            "header": {
             "fill": {
              "color": "#C8D4E3"
             },
             "line": {
              "color": "white"
             }
            },
            "type": "table"
           }
          ]
         },
         "layout": {
          "annotationdefaults": {
           "arrowcolor": "#2a3f5f",
           "arrowhead": 0,
           "arrowwidth": 1
          },
          "autotypenumbers": "strict",
          "coloraxis": {
           "colorbar": {
            "outlinewidth": 0,
            "ticks": ""
           }
          },
          "colorscale": {
           "diverging": [
            [
             0,
             "#8e0152"
            ],
            [
             0.1,
             "#c51b7d"
            ],
            [
             0.2,
             "#de77ae"
            ],
            [
             0.3,
             "#f1b6da"
            ],
            [
             0.4,
             "#fde0ef"
            ],
            [
             0.5,
             "#f7f7f7"
            ],
            [
             0.6,
             "#e6f5d0"
            ],
            [
             0.7,
             "#b8e186"
            ],
            [
             0.8,
             "#7fbc41"
            ],
            [
             0.9,
             "#4d9221"
            ],
            [
             1,
             "#276419"
            ]
           ],
           "sequential": [
            [
             0,
             "#0d0887"
            ],
            [
             0.1111111111111111,
             "#46039f"
            ],
            [
             0.2222222222222222,
             "#7201a8"
            ],
            [
             0.3333333333333333,
             "#9c179e"
            ],
            [
             0.4444444444444444,
             "#bd3786"
            ],
            [
             0.5555555555555556,
             "#d8576b"
            ],
            [
             0.6666666666666666,
             "#ed7953"
            ],
            [
             0.7777777777777778,
             "#fb9f3a"
            ],
            [
             0.8888888888888888,
             "#fdca26"
            ],
            [
             1,
             "#f0f921"
            ]
           ],
           "sequentialminus": [
            [
             0,
             "#0d0887"
            ],
            [
             0.1111111111111111,
             "#46039f"
            ],
            [
             0.2222222222222222,
             "#7201a8"
            ],
            [
             0.3333333333333333,
             "#9c179e"
            ],
            [
             0.4444444444444444,
             "#bd3786"
            ],
            [
             0.5555555555555556,
             "#d8576b"
            ],
            [
             0.6666666666666666,
             "#ed7953"
            ],
            [
             0.7777777777777778,
             "#fb9f3a"
            ],
            [
             0.8888888888888888,
             "#fdca26"
            ],
            [
             1,
             "#f0f921"
            ]
           ]
          },
          "colorway": [
           "#636efa",
           "#EF553B",
           "#00cc96",
           "#ab63fa",
           "#FFA15A",
           "#19d3f3",
           "#FF6692",
           "#B6E880",
           "#FF97FF",
           "#FECB52"
          ],
          "font": {
           "color": "#2a3f5f"
          },
          "geo": {
           "bgcolor": "white",
           "lakecolor": "white",
           "landcolor": "#E5ECF6",
           "showlakes": true,
           "showland": true,
           "subunitcolor": "white"
          },
          "hoverlabel": {
           "align": "left"
          },
          "hovermode": "closest",
          "mapbox": {
           "style": "light"
          },
          "paper_bgcolor": "white",
          "plot_bgcolor": "#E5ECF6",
          "polar": {
           "angularaxis": {
            "gridcolor": "white",
            "linecolor": "white",
            "ticks": ""
           },
           "bgcolor": "#E5ECF6",
           "radialaxis": {
            "gridcolor": "white",
            "linecolor": "white",
            "ticks": ""
           }
          },
          "scene": {
           "xaxis": {
            "backgroundcolor": "#E5ECF6",
            "gridcolor": "white",
            "gridwidth": 2,
            "linecolor": "white",
            "showbackground": true,
            "ticks": "",
            "zerolinecolor": "white"
           },
           "yaxis": {
            "backgroundcolor": "#E5ECF6",
            "gridcolor": "white",
            "gridwidth": 2,
            "linecolor": "white",
            "showbackground": true,
            "ticks": "",
            "zerolinecolor": "white"
           },
           "zaxis": {
            "backgroundcolor": "#E5ECF6",
            "gridcolor": "white",
            "gridwidth": 2,
            "linecolor": "white",
            "showbackground": true,
            "ticks": "",
            "zerolinecolor": "white"
           }
          },
          "shapedefaults": {
           "line": {
            "color": "#2a3f5f"
           }
          },
          "ternary": {
           "aaxis": {
            "gridcolor": "white",
            "linecolor": "white",
            "ticks": ""
           },
           "baxis": {
            "gridcolor": "white",
            "linecolor": "white",
            "ticks": ""
           },
           "bgcolor": "#E5ECF6",
           "caxis": {
            "gridcolor": "white",
            "linecolor": "white",
            "ticks": ""
           }
          },
          "title": {
           "x": 0.05
          },
          "xaxis": {
           "automargin": true,
           "gridcolor": "white",
           "linecolor": "white",
           "ticks": "",
           "title": {
            "standoff": 15
           },
           "zerolinecolor": "white",
           "zerolinewidth": 2
          },
          "yaxis": {
           "automargin": true,
           "gridcolor": "white",
           "linecolor": "white",
           "ticks": "",
           "title": {
            "standoff": 15
           },
           "zerolinecolor": "white",
           "zerolinewidth": 2
          }
         }
        },
        "title": {
         "text": "Scatter Plot of OUTAGE.DURATION vs. CUSTOMERS.AFFECTED"
        },
        "xaxis": {
         "anchor": "y",
         "domain": [
          0,
          1
         ],
         "title": {
          "text": "OUTAGE.DURATION (minutes)"
         }
        },
        "yaxis": {
         "anchor": "x",
         "domain": [
          0,
          1
         ],
         "title": {
          "text": "CUSTOMERS.AFFECTED"
         }
        }
       }
      }
     },
     "metadata": {},
     "output_type": "display_data"
    },
    {
     "data": {
      "application/vnd.plotly.v1+json": {
       "config": {
        "plotlyServerURL": "https://plot.ly"
       },
       "data": [
        {
         "customdata": [
          [
           "Minnesota",
           "severe weather"
          ],
          [
           "Minnesota",
           "intentional attack"
          ],
          [
           "Minnesota",
           "severe weather"
          ],
          [
           "Minnesota",
           "severe weather"
          ],
          [
           "Minnesota",
           "severe weather"
          ],
          [
           "Minnesota",
           "severe weather"
          ],
          [
           "Minnesota",
           "severe weather"
          ],
          [
           "Minnesota",
           "severe weather"
          ],
          [
           "Minnesota",
           "intentional attack"
          ],
          [
           "Minnesota",
           "severe weather"
          ],
          [
           "Minnesota",
           "severe weather"
          ],
          [
           "Minnesota",
           "severe weather"
          ],
          [
           "Minnesota",
           "intentional attack"
          ],
          [
           "Minnesota",
           "intentional attack"
          ],
          [
           "Minnesota",
           "severe weather"
          ],
          [
           "Tennessee",
           "system operability disruption"
          ],
          [
           "Tennessee",
           "intentional attack"
          ],
          [
           "Tennessee",
           "system operability disruption"
          ],
          [
           "Tennessee",
           "severe weather"
          ],
          [
           "Tennessee",
           "severe weather"
          ],
          [
           "Tennessee",
           "severe weather"
          ],
          [
           "Tennessee",
           "severe weather"
          ],
          [
           "Tennessee",
           "intentional attack"
          ],
          [
           "Tennessee",
           "intentional attack"
          ],
          [
           "Tennessee",
           "severe weather"
          ],
          [
           "Tennessee",
           "equipment failure"
          ],
          [
           "Tennessee",
           "severe weather"
          ],
          [
           "Tennessee",
           "severe weather"
          ],
          [
           "Tennessee",
           "severe weather"
          ],
          [
           "Tennessee",
           "public appeal"
          ],
          [
           "Tennessee",
           "intentional attack"
          ],
          [
           "Tennessee",
           "severe weather"
          ],
          [
           "Tennessee",
           "intentional attack"
          ],
          [
           "Tennessee",
           "severe weather"
          ],
          [
           "Tennessee",
           "severe weather"
          ],
          [
           "Tennessee",
           "severe weather"
          ],
          [
           "Tennessee",
           "system operability disruption"
          ],
          [
           "Tennessee",
           "severe weather"
          ],
          [
           "Tennessee",
           "intentional attack"
          ],
          [
           "Tennessee",
           "severe weather"
          ],
          [
           "Tennessee",
           "severe weather"
          ],
          [
           "Tennessee",
           "severe weather"
          ],
          [
           "Tennessee",
           "severe weather"
          ],
          [
           "Tennessee",
           "severe weather"
          ],
          [
           "Tennessee",
           "equipment failure"
          ],
          [
           "Tennessee",
           "intentional attack"
          ],
          [
           "Tennessee",
           "severe weather"
          ],
          [
           "Tennessee",
           "intentional attack"
          ],
          [
           "Tennessee",
           "severe weather"
          ],
          [
           "Wisconsin",
           "fuel supply emergency"
          ],
          [
           "Wisconsin",
           "intentional attack"
          ],
          [
           "Wisconsin",
           "severe weather"
          ],
          [
           "Wisconsin",
           "severe weather"
          ],
          [
           "Wisconsin",
           "fuel supply emergency"
          ],
          [
           "Wisconsin",
           "fuel supply emergency"
          ],
          [
           "Wisconsin",
           "severe weather"
          ],
          [
           "Wisconsin",
           "intentional attack"
          ],
          [
           "Wisconsin",
           "intentional attack"
          ],
          [
           "Wisconsin",
           "severe weather"
          ],
          [
           "Wisconsin",
           "public appeal"
          ],
          [
           "Wisconsin",
           "severe weather"
          ],
          [
           "Wisconsin",
           "intentional attack"
          ],
          [
           "Wisconsin",
           "intentional attack"
          ],
          [
           "Wisconsin",
           "fuel supply emergency"
          ],
          [
           "Wisconsin",
           "severe weather"
          ],
          [
           "Wisconsin",
           "fuel supply emergency"
          ],
          [
           "Wisconsin",
           "intentional attack"
          ],
          [
           "Wisconsin",
           "severe weather"
          ],
          [
           "Wisconsin",
           "intentional attack"
          ],
          [
           "West Virginia",
           "intentional attack"
          ],
          [
           "West Virginia",
           "severe weather"
          ],
          [
           "West Virginia",
           "severe weather"
          ],
          [
           "West Virginia",
           "severe weather"
          ],
          [
           "Michigan",
           "severe weather"
          ],
          [
           "Michigan",
           "severe weather"
          ],
          [
           "Michigan",
           "severe weather"
          ],
          [
           "Michigan",
           "public appeal"
          ],
          [
           "Michigan",
           "severe weather"
          ],
          [
           "Michigan",
           "severe weather"
          ],
          [
           "Michigan",
           "system operability disruption"
          ],
          [
           "Michigan",
           "severe weather"
          ],
          [
           "Michigan",
           "system operability disruption"
          ],
          [
           "Michigan",
           "severe weather"
          ],
          [
           "Michigan",
           "severe weather"
          ],
          [
           "Michigan",
           "severe weather"
          ],
          [
           "Michigan",
           "severe weather"
          ],
          [
           "Michigan",
           "severe weather"
          ],
          [
           "Michigan",
           "severe weather"
          ],
          [
           "Michigan",
           "severe weather"
          ],
          [
           "Michigan",
           "severe weather"
          ],
          [
           "Michigan",
           "severe weather"
          ],
          [
           "Michigan",
           "severe weather"
          ],
          [
           "Michigan",
           "severe weather"
          ],
          [
           "Michigan",
           "severe weather"
          ],
          [
           "Michigan",
           "severe weather"
          ],
          [
           "Michigan",
           "severe weather"
          ],
          [
           "Michigan",
           "severe weather"
          ],
          [
           "Michigan",
           "intentional attack"
          ],
          [
           "Michigan",
           "severe weather"
          ],
          [
           "Michigan",
           "severe weather"
          ],
          [
           "Michigan",
           "severe weather"
          ],
          [
           "Michigan",
           "severe weather"
          ],
          [
           "Michigan",
           "severe weather"
          ],
          [
           "Michigan",
           "severe weather"
          ],
          [
           "Michigan",
           "severe weather"
          ],
          [
           "Michigan",
           "severe weather"
          ],
          [
           "Michigan",
           "severe weather"
          ],
          [
           "Michigan",
           "severe weather"
          ],
          [
           "Michigan",
           "equipment failure"
          ],
          [
           "Michigan",
           "severe weather"
          ],
          [
           "Michigan",
           "severe weather"
          ],
          [
           "Michigan",
           "severe weather"
          ],
          [
           "Michigan",
           "severe weather"
          ],
          [
           "Michigan",
           "severe weather"
          ],
          [
           "Michigan",
           "severe weather"
          ],
          [
           "Michigan",
           "intentional attack"
          ],
          [
           "Michigan",
           "severe weather"
          ],
          [
           "Michigan",
           "severe weather"
          ],
          [
           "Michigan",
           "severe weather"
          ],
          [
           "Michigan",
           "severe weather"
          ],
          [
           "Michigan",
           "equipment failure"
          ],
          [
           "Michigan",
           "severe weather"
          ],
          [
           "Michigan",
           "severe weather"
          ],
          [
           "Michigan",
           "severe weather"
          ],
          [
           "Michigan",
           "islanding"
          ],
          [
           "Michigan",
           "severe weather"
          ],
          [
           "Michigan",
           "severe weather"
          ],
          [
           "Michigan",
           "severe weather"
          ],
          [
           "Michigan",
           "system operability disruption"
          ],
          [
           "Michigan",
           "equipment failure"
          ],
          [
           "Michigan",
           "severe weather"
          ],
          [
           "Michigan",
           "severe weather"
          ],
          [
           "Michigan",
           "severe weather"
          ],
          [
           "Michigan",
           "severe weather"
          ],
          [
           "Michigan",
           "severe weather"
          ],
          [
           "Michigan",
           "severe weather"
          ],
          [
           "Michigan",
           "severe weather"
          ],
          [
           "Michigan",
           "severe weather"
          ],
          [
           "Michigan",
           "severe weather"
          ],
          [
           "Michigan",
           "severe weather"
          ],
          [
           "Michigan",
           "severe weather"
          ],
          [
           "Michigan",
           "severe weather"
          ],
          [
           "Michigan",
           "severe weather"
          ],
          [
           "Michigan",
           "severe weather"
          ],
          [
           "Michigan",
           "intentional attack"
          ],
          [
           "Michigan",
           "severe weather"
          ],
          [
           "Michigan",
           "severe weather"
          ],
          [
           "Michigan",
           "severe weather"
          ],
          [
           "Michigan",
           "severe weather"
          ],
          [
           "Michigan",
           "severe weather"
          ],
          [
           "Michigan",
           "severe weather"
          ],
          [
           "Michigan",
           "severe weather"
          ],
          [
           "Michigan",
           "severe weather"
          ],
          [
           "Michigan",
           "severe weather"
          ],
          [
           "Michigan",
           "severe weather"
          ],
          [
           "Michigan",
           "severe weather"
          ],
          [
           "Michigan",
           "severe weather"
          ],
          [
           "Michigan",
           "severe weather"
          ],
          [
           "Michigan",
           "severe weather"
          ],
          [
           "Michigan",
           "intentional attack"
          ],
          [
           "Michigan",
           "severe weather"
          ],
          [
           "Michigan",
           "severe weather"
          ],
          [
           "Michigan",
           "severe weather"
          ],
          [
           "Michigan",
           "severe weather"
          ],
          [
           "Michigan",
           "severe weather"
          ],
          [
           "Michigan",
           "severe weather"
          ],
          [
           "Michigan",
           "severe weather"
          ],
          [
           "Michigan",
           "severe weather"
          ],
          [
           "Texas",
           "system operability disruption"
          ],
          [
           "Texas",
           "severe weather"
          ],
          [
           "Texas",
           "system operability disruption"
          ],
          [
           "Texas",
           "severe weather"
          ],
          [
           "Texas",
           "intentional attack"
          ],
          [
           "Texas",
           "public appeal"
          ],
          [
           "Texas",
           "severe weather"
          ],
          [
           "Texas",
           "severe weather"
          ],
          [
           "Texas",
           "severe weather"
          ],
          [
           "Texas",
           "severe weather"
          ],
          [
           "Texas",
           "intentional attack"
          ],
          [
           "Texas",
           "system operability disruption"
          ],
          [
           "Texas",
           "severe weather"
          ],
          [
           "Texas",
           "severe weather"
          ],
          [
           "Texas",
           "fuel supply emergency"
          ],
          [
           "Texas",
           "public appeal"
          ],
          [
           "Texas",
           "severe weather"
          ],
          [
           "Texas",
           "public appeal"
          ],
          [
           "Texas",
           "severe weather"
          ],
          [
           "Texas",
           "severe weather"
          ],
          [
           "Texas",
           "system operability disruption"
          ],
          [
           "Texas",
           "severe weather"
          ],
          [
           "Texas",
           "severe weather"
          ],
          [
           "Texas",
           "system operability disruption"
          ],
          [
           "Texas",
           "fuel supply emergency"
          ],
          [
           "Texas",
           "severe weather"
          ],
          [
           "Texas",
           "public appeal"
          ],
          [
           "Texas",
           "system operability disruption"
          ],
          [
           "Texas",
           "system operability disruption"
          ],
          [
           "Texas",
           "severe weather"
          ],
          [
           "Texas",
           "intentional attack"
          ],
          [
           "Texas",
           "equipment failure"
          ],
          [
           "Texas",
           "equipment failure"
          ],
          [
           "Texas",
           "severe weather"
          ],
          [
           "Texas",
           "severe weather"
          ],
          [
           "Texas",
           "public appeal"
          ],
          [
           "Texas",
           "severe weather"
          ],
          [
           "Texas",
           "severe weather"
          ],
          [
           "Texas",
           "intentional attack"
          ],
          [
           "Texas",
           "severe weather"
          ],
          [
           "Texas",
           "public appeal"
          ],
          [
           "Texas",
           "public appeal"
          ],
          [
           "Texas",
           "equipment failure"
          ],
          [
           "Texas",
           "system operability disruption"
          ],
          [
           "Texas",
           "severe weather"
          ],
          [
           "Texas",
           "intentional attack"
          ],
          [
           "Texas",
           "severe weather"
          ],
          [
           "Texas",
           "intentional attack"
          ],
          [
           "Texas",
           "severe weather"
          ],
          [
           "Texas",
           "severe weather"
          ],
          [
           "Texas",
           "severe weather"
          ],
          [
           "Texas",
           "fuel supply emergency"
          ],
          [
           "Texas",
           "fuel supply emergency"
          ],
          [
           "Texas",
           "severe weather"
          ],
          [
           "Texas",
           "equipment failure"
          ],
          [
           "Texas",
           "severe weather"
          ],
          [
           "Texas",
           "severe weather"
          ],
          [
           "Texas",
           "severe weather"
          ],
          [
           "Texas",
           "system operability disruption"
          ],
          [
           "Texas",
           "system operability disruption"
          ],
          [
           "Texas",
           "severe weather"
          ],
          [
           "Texas",
           "severe weather"
          ],
          [
           "Texas",
           "system operability disruption"
          ],
          [
           "Texas",
           "severe weather"
          ],
          [
           "Texas",
           "fuel supply emergency"
          ],
          [
           "Texas",
           "severe weather"
          ],
          [
           "Texas",
           "public appeal"
          ],
          [
           "Texas",
           "system operability disruption"
          ],
          [
           "Texas",
           "system operability disruption"
          ],
          [
           "Texas",
           "system operability disruption"
          ],
          [
           "Texas",
           "severe weather"
          ],
          [
           "Texas",
           "equipment failure"
          ],
          [
           "Texas",
           "severe weather"
          ],
          [
           "Texas",
           "severe weather"
          ],
          [
           "Texas",
           "system operability disruption"
          ],
          [
           "Texas",
           "system operability disruption"
          ],
          [
           "Texas",
           "severe weather"
          ],
          [
           "Texas",
           "intentional attack"
          ],
          [
           "Texas",
           "intentional attack"
          ],
          [
           "Texas",
           "public appeal"
          ],
          [
           "Texas",
           "severe weather"
          ],
          [
           "Texas",
           "severe weather"
          ],
          [
           "Texas",
           "severe weather"
          ],
          [
           "Texas",
           "public appeal"
          ],
          [
           "Texas",
           "system operability disruption"
          ],
          [
           "Texas",
           "severe weather"
          ],
          [
           "Texas",
           "severe weather"
          ],
          [
           "Texas",
           "severe weather"
          ],
          [
           "Texas",
           "intentional attack"
          ],
          [
           "Texas",
           "severe weather"
          ],
          [
           "Texas",
           "severe weather"
          ],
          [
           "Texas",
           "public appeal"
          ],
          [
           "Texas",
           "public appeal"
          ],
          [
           "Texas",
           "public appeal"
          ],
          [
           "Texas",
           "severe weather"
          ],
          [
           "Texas",
           "intentional attack"
          ],
          [
           "Texas",
           "severe weather"
          ],
          [
           "Texas",
           "public appeal"
          ],
          [
           "Texas",
           "severe weather"
          ],
          [
           "Texas",
           "severe weather"
          ],
          [
           "Texas",
           "severe weather"
          ],
          [
           "Texas",
           "system operability disruption"
          ],
          [
           "Texas",
           "severe weather"
          ],
          [
           "Texas",
           "public appeal"
          ],
          [
           "Texas",
           "severe weather"
          ],
          [
           "Texas",
           "fuel supply emergency"
          ],
          [
           "Texas",
           "severe weather"
          ],
          [
           "Texas",
           "public appeal"
          ],
          [
           "Texas",
           "intentional attack"
          ],
          [
           "Texas",
           "severe weather"
          ],
          [
           "Texas",
           "system operability disruption"
          ],
          [
           "Texas",
           "severe weather"
          ],
          [
           "Texas",
           "equipment failure"
          ],
          [
           "Texas",
           "severe weather"
          ],
          [
           "Texas",
           "severe weather"
          ],
          [
           "Texas",
           "severe weather"
          ],
          [
           "Texas",
           "severe weather"
          ],
          [
           "Texas",
           "severe weather"
          ],
          [
           "Texas",
           "severe weather"
          ],
          [
           "Texas",
           "severe weather"
          ],
          [
           "Texas",
           "severe weather"
          ],
          [
           "Texas",
           "severe weather"
          ],
          [
           "Texas",
           "public appeal"
          ],
          [
           "Texas",
           "intentional attack"
          ],
          [
           "Texas",
           "severe weather"
          ],
          [
           "Texas",
           "system operability disruption"
          ],
          [
           "Texas",
           "intentional attack"
          ],
          [
           "Indiana",
           "severe weather"
          ],
          [
           "Indiana",
           "fuel supply emergency"
          ],
          [
           "Indiana",
           "severe weather"
          ],
          [
           "Indiana",
           "severe weather"
          ],
          [
           "Indiana",
           "intentional attack"
          ],
          [
           "Indiana",
           "islanding"
          ],
          [
           "Indiana",
           "equipment failure"
          ],
          [
           "Indiana",
           "system operability disruption"
          ],
          [
           "Indiana",
           "severe weather"
          ],
          [
           "Indiana",
           "islanding"
          ],
          [
           "Indiana",
           "intentional attack"
          ],
          [
           "Indiana",
           "severe weather"
          ],
          [
           "Indiana",
           "system operability disruption"
          ],
          [
           "Indiana",
           "severe weather"
          ],
          [
           "Indiana",
           "intentional attack"
          ],
          [
           "Indiana",
           "severe weather"
          ],
          [
           "Indiana",
           "severe weather"
          ],
          [
           "Indiana",
           "system operability disruption"
          ],
          [
           "Indiana",
           "severe weather"
          ],
          [
           "Indiana",
           "intentional attack"
          ],
          [
           "Indiana",
           "severe weather"
          ],
          [
           "Indiana",
           "severe weather"
          ],
          [
           "Indiana",
           "severe weather"
          ],
          [
           "Indiana",
           "severe weather"
          ],
          [
           "Indiana",
           "severe weather"
          ],
          [
           "Indiana",
           "severe weather"
          ],
          [
           "Indiana",
           "severe weather"
          ],
          [
           "Indiana",
           "equipment failure"
          ],
          [
           "Indiana",
           "islanding"
          ],
          [
           "Indiana",
           "severe weather"
          ],
          [
           "Indiana",
           "intentional attack"
          ],
          [
           "Indiana",
           "intentional attack"
          ],
          [
           "Indiana",
           "intentional attack"
          ],
          [
           "Indiana",
           "severe weather"
          ],
          [
           "Indiana",
           "severe weather"
          ],
          [
           "Indiana",
           "intentional attack"
          ],
          [
           "Indiana",
           "severe weather"
          ],
          [
           "Indiana",
           "system operability disruption"
          ],
          [
           "Indiana",
           "severe weather"
          ],
          [
           "Indiana",
           "severe weather"
          ],
          [
           "Indiana",
           "severe weather"
          ],
          [
           "Indiana",
           "system operability disruption"
          ],
          [
           "Indiana",
           "severe weather"
          ],
          [
           "Alabama",
           "severe weather"
          ],
          [
           "Alabama",
           "severe weather"
          ],
          [
           "Alabama",
           "severe weather"
          ],
          [
           "Alabama",
           "severe weather"
          ],
          [
           "Alabama",
           "severe weather"
          ],
          [
           "Alabama",
           "intentional attack"
          ],
          [
           "Mississippi",
           "intentional attack"
          ],
          [
           "Mississippi",
           "system operability disruption"
          ],
          [
           "Mississippi",
           "intentional attack"
          ],
          [
           "Mississippi",
           "intentional attack"
          ],
          [
           "Illinois",
           "intentional attack"
          ],
          [
           "Illinois",
           "severe weather"
          ],
          [
           "Illinois",
           "severe weather"
          ],
          [
           "Illinois",
           "severe weather"
          ],
          [
           "Illinois",
           "severe weather"
          ],
          [
           "Illinois",
           "severe weather"
          ],
          [
           "Illinois",
           "severe weather"
          ],
          [
           "Illinois",
           "severe weather"
          ],
          [
           "Illinois",
           "severe weather"
          ],
          [
           "Illinois",
           "severe weather"
          ],
          [
           "Illinois",
           "equipment failure"
          ],
          [
           "Illinois",
           "severe weather"
          ],
          [
           "Illinois",
           "severe weather"
          ],
          [
           "Illinois",
           "severe weather"
          ],
          [
           "Illinois",
           "severe weather"
          ],
          [
           "Illinois",
           "severe weather"
          ],
          [
           "Illinois",
           "severe weather"
          ],
          [
           "Illinois",
           "severe weather"
          ],
          [
           "Illinois",
           "severe weather"
          ],
          [
           "Illinois",
           "severe weather"
          ],
          [
           "Illinois",
           "severe weather"
          ],
          [
           "Illinois",
           "severe weather"
          ],
          [
           "Illinois",
           "severe weather"
          ],
          [
           "Illinois",
           "severe weather"
          ],
          [
           "Illinois",
           "severe weather"
          ],
          [
           "Illinois",
           "severe weather"
          ],
          [
           "Illinois",
           "severe weather"
          ],
          [
           "Illinois",
           "severe weather"
          ],
          [
           "Illinois",
           "severe weather"
          ],
          [
           "Illinois",
           "severe weather"
          ],
          [
           "Illinois",
           "severe weather"
          ],
          [
           "Illinois",
           "severe weather"
          ],
          [
           "Illinois",
           "severe weather"
          ],
          [
           "Illinois",
           "severe weather"
          ],
          [
           "Illinois",
           "fuel supply emergency"
          ],
          [
           "Illinois",
           "severe weather"
          ],
          [
           "Illinois",
           "severe weather"
          ],
          [
           "Illinois",
           "severe weather"
          ],
          [
           "Illinois",
           "severe weather"
          ],
          [
           "Illinois",
           "severe weather"
          ],
          [
           "Illinois",
           "severe weather"
          ],
          [
           "Illinois",
           "severe weather"
          ],
          [
           "Illinois",
           "severe weather"
          ],
          [
           "Illinois",
           "severe weather"
          ],
          [
           "Illinois",
           "public appeal"
          ],
          [
           "Illinois",
           "severe weather"
          ],
          [
           "Washington",
           "intentional attack"
          ],
          [
           "Washington",
           "intentional attack"
          ],
          [
           "Washington",
           "intentional attack"
          ],
          [
           "Washington",
           "severe weather"
          ],
          [
           "Washington",
           "intentional attack"
          ],
          [
           "Washington",
           "severe weather"
          ],
          [
           "Washington",
           "intentional attack"
          ],
          [
           "Washington",
           "intentional attack"
          ],
          [
           "Washington",
           "intentional attack"
          ],
          [
           "Washington",
           "islanding"
          ],
          [
           "Washington",
           "intentional attack"
          ],
          [
           "Washington",
           "intentional attack"
          ],
          [
           "Washington",
           "intentional attack"
          ],
          [
           "Washington",
           "severe weather"
          ],
          [
           "Washington",
           "severe weather"
          ],
          [
           "Washington",
           "intentional attack"
          ],
          [
           "Washington",
           "intentional attack"
          ],
          [
           "Washington",
           "severe weather"
          ],
          [
           "Washington",
           "intentional attack"
          ],
          [
           "Washington",
           "system operability disruption"
          ],
          [
           "Washington",
           "severe weather"
          ],
          [
           "Washington",
           "severe weather"
          ],
          [
           "Washington",
           "intentional attack"
          ],
          [
           "Washington",
           "intentional attack"
          ],
          [
           "Washington",
           "intentional attack"
          ],
          [
           "Washington",
           "intentional attack"
          ],
          [
           "Washington",
           "intentional attack"
          ],
          [
           "Washington",
           "severe weather"
          ],
          [
           "Washington",
           "intentional attack"
          ],
          [
           "Washington",
           "intentional attack"
          ],
          [
           "Washington",
           "intentional attack"
          ],
          [
           "Washington",
           "intentional attack"
          ],
          [
           "Washington",
           "intentional attack"
          ],
          [
           "Washington",
           "intentional attack"
          ],
          [
           "Washington",
           "intentional attack"
          ],
          [
           "Washington",
           "severe weather"
          ],
          [
           "Washington",
           "severe weather"
          ],
          [
           "Washington",
           "intentional attack"
          ],
          [
           "Washington",
           "severe weather"
          ],
          [
           "Washington",
           "intentional attack"
          ],
          [
           "Washington",
           "equipment failure"
          ],
          [
           "Washington",
           "intentional attack"
          ],
          [
           "Washington",
           "intentional attack"
          ],
          [
           "Washington",
           "intentional attack"
          ],
          [
           "Washington",
           "intentional attack"
          ],
          [
           "Washington",
           "severe weather"
          ],
          [
           "Washington",
           "intentional attack"
          ],
          [
           "Washington",
           "intentional attack"
          ],
          [
           "Washington",
           "intentional attack"
          ],
          [
           "Washington",
           "severe weather"
          ],
          [
           "Washington",
           "public appeal"
          ],
          [
           "Washington",
           "intentional attack"
          ],
          [
           "Washington",
           "severe weather"
          ],
          [
           "Washington",
           "intentional attack"
          ],
          [
           "Washington",
           "intentional attack"
          ],
          [
           "Washington",
           "intentional attack"
          ],
          [
           "Washington",
           "intentional attack"
          ],
          [
           "Washington",
           "intentional attack"
          ],
          [
           "Washington",
           "intentional attack"
          ],
          [
           "Washington",
           "intentional attack"
          ],
          [
           "Washington",
           "intentional attack"
          ],
          [
           "Washington",
           "intentional attack"
          ],
          [
           "Washington",
           "intentional attack"
          ],
          [
           "Washington",
           "severe weather"
          ],
          [
           "Washington",
           "islanding"
          ],
          [
           "Washington",
           "intentional attack"
          ],
          [
           "Washington",
           "severe weather"
          ],
          [
           "Washington",
           "intentional attack"
          ],
          [
           "Washington",
           "intentional attack"
          ],
          [
           "Washington",
           "intentional attack"
          ],
          [
           "Washington",
           "severe weather"
          ],
          [
           "Washington",
           "intentional attack"
          ],
          [
           "Washington",
           "intentional attack"
          ],
          [
           "Washington",
           "islanding"
          ],
          [
           "Washington",
           "intentional attack"
          ],
          [
           "Washington",
           "intentional attack"
          ],
          [
           "Washington",
           "intentional attack"
          ],
          [
           "Washington",
           "islanding"
          ],
          [
           "Washington",
           "intentional attack"
          ],
          [
           "Washington",
           "intentional attack"
          ],
          [
           "Washington",
           "intentional attack"
          ],
          [
           "Washington",
           "severe weather"
          ],
          [
           "Washington",
           "severe weather"
          ],
          [
           "Washington",
           "severe weather"
          ],
          [
           "Washington",
           "intentional attack"
          ],
          [
           "Washington",
           "severe weather"
          ],
          [
           "Washington",
           "intentional attack"
          ],
          [
           "Washington",
           "intentional attack"
          ],
          [
           "Washington",
           "fuel supply emergency"
          ],
          [
           "Washington",
           "severe weather"
          ],
          [
           "Washington",
           "intentional attack"
          ],
          [
           "Washington",
           "severe weather"
          ],
          [
           "Washington",
           "intentional attack"
          ],
          [
           "Washington",
           "intentional attack"
          ],
          [
           "Washington",
           "severe weather"
          ],
          [
           "Washington",
           "intentional attack"
          ],
          [
           "Washington",
           "islanding"
          ],
          [
           "Arizona",
           "system operability disruption"
          ],
          [
           "Arizona",
           "intentional attack"
          ],
          [
           "Arizona",
           "intentional attack"
          ],
          [
           "Arizona",
           "intentional attack"
          ],
          [
           "Arizona",
           "intentional attack"
          ],
          [
           "Arizona",
           "equipment failure"
          ],
          [
           "Arizona",
           "intentional attack"
          ],
          [
           "Arizona",
           "intentional attack"
          ],
          [
           "Arizona",
           "severe weather"
          ],
          [
           "Arizona",
           "severe weather"
          ],
          [
           "Arizona",
           "intentional attack"
          ],
          [
           "Arizona",
           "intentional attack"
          ],
          [
           "Arizona",
           "intentional attack"
          ],
          [
           "Arizona",
           "severe weather"
          ],
          [
           "Arizona",
           "intentional attack"
          ],
          [
           "Arizona",
           "intentional attack"
          ],
          [
           "Arizona",
           "intentional attack"
          ],
          [
           "Arizona",
           "intentional attack"
          ],
          [
           "Arizona",
           "intentional attack"
          ],
          [
           "Arizona",
           "equipment failure"
          ],
          [
           "Arizona",
           "intentional attack"
          ],
          [
           "Arizona",
           "intentional attack"
          ],
          [
           "Arizona",
           "severe weather"
          ],
          [
           "Arizona",
           "intentional attack"
          ],
          [
           "Arizona",
           "system operability disruption"
          ],
          [
           "Arizona",
           "intentional attack"
          ],
          [
           "Arizona",
           "equipment failure"
          ],
          [
           "Arizona",
           "equipment failure"
          ],
          [
           "Maryland",
           "severe weather"
          ],
          [
           "Maryland",
           "severe weather"
          ],
          [
           "Maryland",
           "severe weather"
          ],
          [
           "Maryland",
           "severe weather"
          ],
          [
           "Maryland",
           "severe weather"
          ],
          [
           "Maryland",
           "severe weather"
          ],
          [
           "Maryland",
           "severe weather"
          ],
          [
           "Maryland",
           "intentional attack"
          ],
          [
           "Maryland",
           "intentional attack"
          ],
          [
           "Maryland",
           "intentional attack"
          ],
          [
           "Maryland",
           "intentional attack"
          ],
          [
           "Maryland",
           "severe weather"
          ],
          [
           "Maryland",
           "intentional attack"
          ],
          [
           "Maryland",
           "intentional attack"
          ],
          [
           "Maryland",
           "severe weather"
          ],
          [
           "Maryland",
           "intentional attack"
          ],
          [
           "Maryland",
           "intentional attack"
          ],
          [
           "Maryland",
           "severe weather"
          ],
          [
           "Maryland",
           "severe weather"
          ],
          [
           "Maryland",
           "intentional attack"
          ],
          [
           "Maryland",
           "intentional attack"
          ],
          [
           "Maryland",
           "severe weather"
          ],
          [
           "Maryland",
           "severe weather"
          ],
          [
           "Maryland",
           "intentional attack"
          ],
          [
           "Maryland",
           "severe weather"
          ],
          [
           "Maryland",
           "intentional attack"
          ],
          [
           "Maryland",
           "severe weather"
          ],
          [
           "Maryland",
           "severe weather"
          ],
          [
           "Maryland",
           "intentional attack"
          ],
          [
           "Maryland",
           "severe weather"
          ],
          [
           "Maryland",
           "severe weather"
          ],
          [
           "Maryland",
           "intentional attack"
          ],
          [
           "Maryland",
           "intentional attack"
          ],
          [
           "Maryland",
           "intentional attack"
          ],
          [
           "Maryland",
           "severe weather"
          ],
          [
           "Maryland",
           "intentional attack"
          ],
          [
           "Maryland",
           "severe weather"
          ],
          [
           "Maryland",
           "severe weather"
          ],
          [
           "Maryland",
           "intentional attack"
          ],
          [
           "Maryland",
           "severe weather"
          ],
          [
           "Maryland",
           "intentional attack"
          ],
          [
           "Maryland",
           "intentional attack"
          ],
          [
           "Maryland",
           "severe weather"
          ],
          [
           "Maryland",
           "severe weather"
          ],
          [
           "Maryland",
           "intentional attack"
          ],
          [
           "Maryland",
           "severe weather"
          ],
          [
           "Maryland",
           "severe weather"
          ],
          [
           "Maryland",
           "intentional attack"
          ],
          [
           "Maryland",
           "intentional attack"
          ],
          [
           "Maryland",
           "intentional attack"
          ],
          [
           "Maryland",
           "severe weather"
          ],
          [
           "Maryland",
           "severe weather"
          ],
          [
           "Maryland",
           "severe weather"
          ],
          [
           "Maryland",
           "severe weather"
          ],
          [
           "Maryland",
           "severe weather"
          ],
          [
           "Maryland",
           "system operability disruption"
          ],
          [
           "Maryland",
           "severe weather"
          ],
          [
           "Maryland",
           "intentional attack"
          ],
          [
           "Pennsylvania",
           "severe weather"
          ],
          [
           "Pennsylvania",
           "severe weather"
          ],
          [
           "Pennsylvania",
           "severe weather"
          ],
          [
           "Pennsylvania",
           "intentional attack"
          ],
          [
           "Pennsylvania",
           "system operability disruption"
          ],
          [
           "Pennsylvania",
           "severe weather"
          ],
          [
           "Pennsylvania",
           "severe weather"
          ],
          [
           "Pennsylvania",
           "severe weather"
          ],
          [
           "Pennsylvania",
           "severe weather"
          ],
          [
           "Pennsylvania",
           "severe weather"
          ],
          [
           "Pennsylvania",
           "severe weather"
          ],
          [
           "Pennsylvania",
           "severe weather"
          ],
          [
           "Pennsylvania",
           "severe weather"
          ],
          [
           "Pennsylvania",
           "severe weather"
          ],
          [
           "Pennsylvania",
           "severe weather"
          ],
          [
           "Pennsylvania",
           "severe weather"
          ],
          [
           "Pennsylvania",
           "intentional attack"
          ],
          [
           "Pennsylvania",
           "severe weather"
          ],
          [
           "Pennsylvania",
           "severe weather"
          ],
          [
           "Pennsylvania",
           "severe weather"
          ],
          [
           "Pennsylvania",
           "severe weather"
          ],
          [
           "Pennsylvania",
           "severe weather"
          ],
          [
           "Pennsylvania",
           "severe weather"
          ],
          [
           "Pennsylvania",
           "severe weather"
          ],
          [
           "Pennsylvania",
           "severe weather"
          ],
          [
           "Pennsylvania",
           "severe weather"
          ],
          [
           "Pennsylvania",
           "severe weather"
          ],
          [
           "Pennsylvania",
           "severe weather"
          ],
          [
           "Pennsylvania",
           "system operability disruption"
          ],
          [
           "Pennsylvania",
           "severe weather"
          ],
          [
           "Pennsylvania",
           "severe weather"
          ],
          [
           "Pennsylvania",
           "severe weather"
          ],
          [
           "Pennsylvania",
           "severe weather"
          ],
          [
           "Pennsylvania",
           "intentional attack"
          ],
          [
           "Pennsylvania",
           "severe weather"
          ],
          [
           "Pennsylvania",
           "severe weather"
          ],
          [
           "Pennsylvania",
           "severe weather"
          ],
          [
           "Pennsylvania",
           "severe weather"
          ],
          [
           "Pennsylvania",
           "severe weather"
          ],
          [
           "Pennsylvania",
           "severe weather"
          ],
          [
           "Pennsylvania",
           "severe weather"
          ],
          [
           "Pennsylvania",
           "equipment failure"
          ],
          [
           "Pennsylvania",
           "severe weather"
          ],
          [
           "Pennsylvania",
           "severe weather"
          ],
          [
           "Pennsylvania",
           "severe weather"
          ],
          [
           "Pennsylvania",
           "severe weather"
          ],
          [
           "Pennsylvania",
           "intentional attack"
          ],
          [
           "Pennsylvania",
           "severe weather"
          ],
          [
           "Pennsylvania",
           "severe weather"
          ],
          [
           "Pennsylvania",
           "severe weather"
          ],
          [
           "Pennsylvania",
           "severe weather"
          ],
          [
           "Pennsylvania",
           "severe weather"
          ],
          [
           "Pennsylvania",
           "intentional attack"
          ],
          [
           "Pennsylvania",
           "severe weather"
          ],
          [
           "Pennsylvania",
           "intentional attack"
          ],
          [
           "Pennsylvania",
           "severe weather"
          ],
          [
           "Pennsylvania",
           "severe weather"
          ],
          [
           "Kentucky",
           "fuel supply emergency"
          ],
          [
           "Kentucky",
           "severe weather"
          ],
          [
           "Kentucky",
           "severe weather"
          ],
          [
           "Kentucky",
           "severe weather"
          ],
          [
           "Kentucky",
           "equipment failure"
          ],
          [
           "Kentucky",
           "intentional attack"
          ],
          [
           "Kentucky",
           "severe weather"
          ],
          [
           "Kentucky",
           "severe weather"
          ],
          [
           "Kentucky",
           "severe weather"
          ],
          [
           "Kentucky",
           "severe weather"
          ],
          [
           "Kentucky",
           "fuel supply emergency"
          ],
          [
           "Kentucky",
           "severe weather"
          ],
          [
           "Kentucky",
           "severe weather"
          ],
          [
           "Utah",
           "intentional attack"
          ],
          [
           "Utah",
           "intentional attack"
          ],
          [
           "Utah",
           "intentional attack"
          ],
          [
           "Utah",
           "intentional attack"
          ],
          [
           "Utah",
           "intentional attack"
          ],
          [
           "Utah",
           "intentional attack"
          ],
          [
           "Utah",
           "intentional attack"
          ],
          [
           "Utah",
           "intentional attack"
          ],
          [
           "Utah",
           "intentional attack"
          ],
          [
           "Utah",
           "intentional attack"
          ],
          [
           "Utah",
           "system operability disruption"
          ],
          [
           "Utah",
           "intentional attack"
          ],
          [
           "Utah",
           "intentional attack"
          ],
          [
           "Utah",
           "intentional attack"
          ],
          [
           "Utah",
           "intentional attack"
          ],
          [
           "Utah",
           "intentional attack"
          ],
          [
           "Utah",
           "severe weather"
          ],
          [
           "Utah",
           "intentional attack"
          ],
          [
           "Utah",
           "intentional attack"
          ],
          [
           "Utah",
           "system operability disruption"
          ],
          [
           "Utah",
           "severe weather"
          ],
          [
           "Utah",
           "intentional attack"
          ],
          [
           "Utah",
           "intentional attack"
          ],
          [
           "Utah",
           "intentional attack"
          ],
          [
           "Utah",
           "intentional attack"
          ],
          [
           "Utah",
           "intentional attack"
          ],
          [
           "Utah",
           "intentional attack"
          ],
          [
           "Utah",
           "intentional attack"
          ],
          [
           "Utah",
           "intentional attack"
          ],
          [
           "Utah",
           "intentional attack"
          ],
          [
           "Utah",
           "intentional attack"
          ],
          [
           "Utah",
           "intentional attack"
          ],
          [
           "Utah",
           "public appeal"
          ],
          [
           "Utah",
           "equipment failure"
          ],
          [
           "Utah",
           "intentional attack"
          ],
          [
           "Utah",
           "intentional attack"
          ],
          [
           "Utah",
           "intentional attack"
          ],
          [
           "Utah",
           "intentional attack"
          ],
          [
           "Utah",
           "intentional attack"
          ],
          [
           "Utah",
           "intentional attack"
          ],
          [
           "Utah",
           "intentional attack"
          ],
          [
           "Ohio",
           "severe weather"
          ],
          [
           "Ohio",
           "equipment failure"
          ],
          [
           "Ohio",
           "severe weather"
          ],
          [
           "Ohio",
           "severe weather"
          ],
          [
           "Ohio",
           "intentional attack"
          ],
          [
           "Ohio",
           "intentional attack"
          ],
          [
           "Ohio",
           "severe weather"
          ],
          [
           "Ohio",
           "intentional attack"
          ],
          [
           "Ohio",
           "severe weather"
          ],
          [
           "Ohio",
           "severe weather"
          ],
          [
           "Ohio",
           "severe weather"
          ],
          [
           "Ohio",
           "severe weather"
          ],
          [
           "Ohio",
           "severe weather"
          ],
          [
           "Ohio",
           "severe weather"
          ],
          [
           "Ohio",
           "severe weather"
          ],
          [
           "Ohio",
           "severe weather"
          ],
          [
           "Ohio",
           "severe weather"
          ],
          [
           "Ohio",
           "system operability disruption"
          ],
          [
           "Ohio",
           "intentional attack"
          ],
          [
           "Ohio",
           "severe weather"
          ],
          [
           "Ohio",
           "intentional attack"
          ],
          [
           "Ohio",
           "intentional attack"
          ],
          [
           "Ohio",
           "intentional attack"
          ],
          [
           "Ohio",
           "severe weather"
          ],
          [
           "Ohio",
           "severe weather"
          ],
          [
           "Ohio",
           "severe weather"
          ],
          [
           "Ohio",
           "intentional attack"
          ],
          [
           "Ohio",
           "intentional attack"
          ],
          [
           "Ohio",
           "severe weather"
          ],
          [
           "Ohio",
           "intentional attack"
          ],
          [
           "Ohio",
           "severe weather"
          ],
          [
           "Ohio",
           "severe weather"
          ],
          [
           "Ohio",
           "intentional attack"
          ],
          [
           "Ohio",
           "severe weather"
          ],
          [
           "Ohio",
           "severe weather"
          ],
          [
           "Ohio",
           "intentional attack"
          ],
          [
           "Ohio",
           "system operability disruption"
          ],
          [
           "Ohio",
           "intentional attack"
          ],
          [
           "Ohio",
           "severe weather"
          ],
          [
           "Ohio",
           "severe weather"
          ],
          [
           "Ohio",
           "severe weather"
          ],
          [
           "Ohio",
           "severe weather"
          ],
          [
           "Ohio",
           "intentional attack"
          ],
          [
           "North Carolina",
           "severe weather"
          ],
          [
           "North Carolina",
           "severe weather"
          ],
          [
           "North Carolina",
           "severe weather"
          ],
          [
           "North Carolina",
           "severe weather"
          ],
          [
           "North Carolina",
           "system operability disruption"
          ],
          [
           "North Carolina",
           "intentional attack"
          ],
          [
           "North Carolina",
           "severe weather"
          ],
          [
           "North Carolina",
           "severe weather"
          ],
          [
           "North Carolina",
           "severe weather"
          ],
          [
           "North Carolina",
           "severe weather"
          ],
          [
           "North Carolina",
           "severe weather"
          ],
          [
           "North Carolina",
           "severe weather"
          ],
          [
           "North Carolina",
           "severe weather"
          ],
          [
           "North Carolina",
           "severe weather"
          ],
          [
           "North Carolina",
           "severe weather"
          ],
          [
           "North Carolina",
           "severe weather"
          ],
          [
           "North Carolina",
           "system operability disruption"
          ],
          [
           "North Carolina",
           "intentional attack"
          ],
          [
           "North Carolina",
           "severe weather"
          ],
          [
           "North Carolina",
           "severe weather"
          ],
          [
           "North Carolina",
           "severe weather"
          ],
          [
           "North Carolina",
           "severe weather"
          ],
          [
           "North Carolina",
           "severe weather"
          ],
          [
           "North Carolina",
           "system operability disruption"
          ],
          [
           "North Carolina",
           "system operability disruption"
          ],
          [
           "North Carolina",
           "severe weather"
          ],
          [
           "North Carolina",
           "severe weather"
          ],
          [
           "North Carolina",
           "severe weather"
          ],
          [
           "North Carolina",
           "severe weather"
          ],
          [
           "North Carolina",
           "intentional attack"
          ],
          [
           "North Carolina",
           "severe weather"
          ],
          [
           "North Carolina",
           "intentional attack"
          ],
          [
           "North Carolina",
           "severe weather"
          ],
          [
           "North Carolina",
           "severe weather"
          ],
          [
           "North Carolina",
           "severe weather"
          ],
          [
           "North Carolina",
           "severe weather"
          ],
          [
           "North Carolina",
           "severe weather"
          ],
          [
           "North Carolina",
           "severe weather"
          ],
          [
           "North Carolina",
           "system operability disruption"
          ],
          [
           "North Carolina",
           "severe weather"
          ],
          [
           "New Jersey",
           "intentional attack"
          ],
          [
           "New Jersey",
           "system operability disruption"
          ],
          [
           "New Jersey",
           "severe weather"
          ],
          [
           "New Jersey",
           "severe weather"
          ],
          [
           "New Jersey",
           "intentional attack"
          ],
          [
           "New Jersey",
           "severe weather"
          ],
          [
           "New Jersey",
           "severe weather"
          ],
          [
           "New Jersey",
           "intentional attack"
          ],
          [
           "New Jersey",
           "severe weather"
          ],
          [
           "New Jersey",
           "severe weather"
          ],
          [
           "New Jersey",
           "severe weather"
          ],
          [
           "New Jersey",
           "system operability disruption"
          ],
          [
           "New Jersey",
           "intentional attack"
          ],
          [
           "New Jersey",
           "severe weather"
          ],
          [
           "New Jersey",
           "severe weather"
          ],
          [
           "New Jersey",
           "severe weather"
          ],
          [
           "New Jersey",
           "intentional attack"
          ],
          [
           "New Jersey",
           "severe weather"
          ],
          [
           "New Jersey",
           "severe weather"
          ],
          [
           "New Jersey",
           "intentional attack"
          ],
          [
           "New Jersey",
           "intentional attack"
          ],
          [
           "New Jersey",
           "severe weather"
          ],
          [
           "New Jersey",
           "intentional attack"
          ],
          [
           "New Jersey",
           "intentional attack"
          ],
          [
           "New Jersey",
           "severe weather"
          ],
          [
           "New Jersey",
           "severe weather"
          ],
          [
           "New Jersey",
           "intentional attack"
          ],
          [
           "New Jersey",
           "severe weather"
          ],
          [
           "New Jersey",
           "severe weather"
          ],
          [
           "New Jersey",
           "severe weather"
          ],
          [
           "New Jersey",
           "severe weather"
          ],
          [
           "New Jersey",
           "severe weather"
          ],
          [
           "New Jersey",
           "severe weather"
          ],
          [
           "New Jersey",
           "severe weather"
          ],
          [
           "New Jersey",
           "severe weather"
          ],
          [
           "South Carolina",
           "severe weather"
          ],
          [
           "South Carolina",
           "severe weather"
          ],
          [
           "South Carolina",
           "severe weather"
          ],
          [
           "South Carolina",
           "severe weather"
          ],
          [
           "South Carolina",
           "severe weather"
          ],
          [
           "South Carolina",
           "severe weather"
          ],
          [
           "South Carolina",
           "severe weather"
          ],
          [
           "South Carolina",
           "severe weather"
          ],
          [
           "Oregon",
           "severe weather"
          ],
          [
           "Oregon",
           "intentional attack"
          ],
          [
           "Oregon",
           "severe weather"
          ],
          [
           "Oregon",
           "intentional attack"
          ],
          [
           "Oregon",
           "intentional attack"
          ],
          [
           "Oregon",
           "intentional attack"
          ],
          [
           "Oregon",
           "intentional attack"
          ],
          [
           "Oregon",
           "equipment failure"
          ],
          [
           "Oregon",
           "intentional attack"
          ],
          [
           "Oregon",
           "intentional attack"
          ],
          [
           "Oregon",
           "severe weather"
          ],
          [
           "Oregon",
           "intentional attack"
          ],
          [
           "Oregon",
           "intentional attack"
          ],
          [
           "Oregon",
           "intentional attack"
          ],
          [
           "Oregon",
           "intentional attack"
          ],
          [
           "Oregon",
           "intentional attack"
          ],
          [
           "Oregon",
           "severe weather"
          ],
          [
           "Oregon",
           "intentional attack"
          ],
          [
           "Oregon",
           "intentional attack"
          ],
          [
           "Oregon",
           "intentional attack"
          ],
          [
           "Oregon",
           "intentional attack"
          ],
          [
           "Oregon",
           "severe weather"
          ],
          [
           "Oregon",
           "intentional attack"
          ],
          [
           "Oregon",
           "intentional attack"
          ],
          [
           "Oregon",
           "intentional attack"
          ],
          [
           "Oregon",
           "intentional attack"
          ],
          [
           "District of Columbia",
           "severe weather"
          ],
          [
           "District of Columbia",
           "severe weather"
          ],
          [
           "District of Columbia",
           "severe weather"
          ],
          [
           "District of Columbia",
           "severe weather"
          ],
          [
           "District of Columbia",
           "severe weather"
          ],
          [
           "District of Columbia",
           "equipment failure"
          ],
          [
           "District of Columbia",
           "severe weather"
          ],
          [
           "District of Columbia",
           "severe weather"
          ],
          [
           "District of Columbia",
           "severe weather"
          ],
          [
           "District of Columbia",
           "severe weather"
          ],
          [
           "Missouri",
           "system operability disruption"
          ],
          [
           "Missouri",
           "severe weather"
          ],
          [
           "Missouri",
           "severe weather"
          ],
          [
           "Missouri",
           "severe weather"
          ],
          [
           "Missouri",
           "intentional attack"
          ],
          [
           "Missouri",
           "intentional attack"
          ],
          [
           "Missouri",
           "intentional attack"
          ],
          [
           "Missouri",
           "severe weather"
          ],
          [
           "Missouri",
           "severe weather"
          ],
          [
           "Missouri",
           "severe weather"
          ],
          [
           "Missouri",
           "severe weather"
          ],
          [
           "Missouri",
           "severe weather"
          ],
          [
           "Missouri",
           "intentional attack"
          ],
          [
           "Missouri",
           "intentional attack"
          ],
          [
           "Missouri",
           "severe weather"
          ],
          [
           "Missouri",
           "severe weather"
          ],
          [
           "Missouri",
           "severe weather"
          ],
          [
           "Delaware",
           "equipment failure"
          ],
          [
           "Delaware",
           "intentional attack"
          ],
          [
           "Delaware",
           "intentional attack"
          ],
          [
           "Delaware",
           "intentional attack"
          ],
          [
           "Delaware",
           "intentional attack"
          ],
          [
           "Delaware",
           "intentional attack"
          ],
          [
           "Delaware",
           "intentional attack"
          ],
          [
           "Delaware",
           "intentional attack"
          ],
          [
           "Delaware",
           "intentional attack"
          ],
          [
           "Delaware",
           "intentional attack"
          ],
          [
           "Delaware",
           "intentional attack"
          ],
          [
           "Delaware",
           "intentional attack"
          ],
          [
           "Delaware",
           "intentional attack"
          ],
          [
           "Delaware",
           "intentional attack"
          ],
          [
           "Delaware",
           "intentional attack"
          ],
          [
           "Delaware",
           "intentional attack"
          ],
          [
           "Delaware",
           "intentional attack"
          ],
          [
           "Delaware",
           "intentional attack"
          ],
          [
           "Delaware",
           "intentional attack"
          ],
          [
           "Delaware",
           "intentional attack"
          ],
          [
           "Delaware",
           "system operability disruption"
          ],
          [
           "Delaware",
           "intentional attack"
          ],
          [
           "Delaware",
           "intentional attack"
          ],
          [
           "Delaware",
           "intentional attack"
          ],
          [
           "Delaware",
           "intentional attack"
          ],
          [
           "Delaware",
           "intentional attack"
          ],
          [
           "Delaware",
           "intentional attack"
          ],
          [
           "Delaware",
           "intentional attack"
          ],
          [
           "Delaware",
           "intentional attack"
          ],
          [
           "Delaware",
           "intentional attack"
          ],
          [
           "Delaware",
           "intentional attack"
          ],
          [
           "Delaware",
           "intentional attack"
          ],
          [
           "Delaware",
           "intentional attack"
          ],
          [
           "Delaware",
           "intentional attack"
          ],
          [
           "Delaware",
           "intentional attack"
          ],
          [
           "Delaware",
           "severe weather"
          ],
          [
           "Delaware",
           "intentional attack"
          ],
          [
           "Delaware",
           "intentional attack"
          ],
          [
           "Delaware",
           "severe weather"
          ],
          [
           "Delaware",
           "intentional attack"
          ],
          [
           "Delaware",
           "intentional attack"
          ],
          [
           "Iowa",
           "intentional attack"
          ],
          [
           "Iowa",
           "severe weather"
          ],
          [
           "Iowa",
           "intentional attack"
          ],
          [
           "Iowa",
           "intentional attack"
          ],
          [
           "Iowa",
           "intentional attack"
          ],
          [
           "Iowa",
           "intentional attack"
          ],
          [
           "Iowa",
           "severe weather"
          ],
          [
           "Iowa",
           "severe weather"
          ],
          [
           "Montana",
           "islanding"
          ],
          [
           "Montana",
           "intentional attack"
          ],
          [
           "Montana",
           "islanding"
          ],
          [
           "New York",
           "severe weather"
          ],
          [
           "New York",
           "severe weather"
          ],
          [
           "New York",
           "severe weather"
          ],
          [
           "New York",
           "severe weather"
          ],
          [
           "New York",
           "system operability disruption"
          ],
          [
           "New York",
           "equipment failure"
          ],
          [
           "New York",
           "severe weather"
          ],
          [
           "New York",
           "severe weather"
          ],
          [
           "New York",
           "intentional attack"
          ],
          [
           "New York",
           "severe weather"
          ],
          [
           "New York",
           "severe weather"
          ],
          [
           "New York",
           "system operability disruption"
          ],
          [
           "New York",
           "intentional attack"
          ],
          [
           "New York",
           "intentional attack"
          ],
          [
           "New York",
           "public appeal"
          ],
          [
           "New York",
           "fuel supply emergency"
          ],
          [
           "New York",
           "fuel supply emergency"
          ],
          [
           "New York",
           "severe weather"
          ],
          [
           "New York",
           "intentional attack"
          ],
          [
           "New York",
           "intentional attack"
          ],
          [
           "New York",
           "severe weather"
          ],
          [
           "New York",
           "fuel supply emergency"
          ],
          [
           "New York",
           "severe weather"
          ],
          [
           "New York",
           "severe weather"
          ],
          [
           "New York",
           "severe weather"
          ],
          [
           "New York",
           "intentional attack"
          ],
          [
           "New York",
           "severe weather"
          ],
          [
           "New York",
           "fuel supply emergency"
          ],
          [
           "New York",
           "fuel supply emergency"
          ],
          [
           "New York",
           "severe weather"
          ],
          [
           "New York",
           "intentional attack"
          ],
          [
           "New York",
           "system operability disruption"
          ],
          [
           "New York",
           "equipment failure"
          ],
          [
           "New York",
           "fuel supply emergency"
          ],
          [
           "New York",
           "severe weather"
          ],
          [
           "New York",
           "severe weather"
          ],
          [
           "New York",
           "intentional attack"
          ],
          [
           "New York",
           "severe weather"
          ],
          [
           "New York",
           "severe weather"
          ],
          [
           "New York",
           "severe weather"
          ],
          [
           "New York",
           "public appeal"
          ],
          [
           "New York",
           "severe weather"
          ],
          [
           "New York",
           "intentional attack"
          ],
          [
           "New York",
           "severe weather"
          ],
          [
           "New York",
           "severe weather"
          ],
          [
           "New York",
           "fuel supply emergency"
          ],
          [
           "New York",
           "system operability disruption"
          ],
          [
           "New York",
           "system operability disruption"
          ],
          [
           "New York",
           "severe weather"
          ],
          [
           "New York",
           "public appeal"
          ],
          [
           "New York",
           "severe weather"
          ],
          [
           "New York",
           "severe weather"
          ],
          [
           "New York",
           "severe weather"
          ],
          [
           "New York",
           "fuel supply emergency"
          ],
          [
           "New York",
           "fuel supply emergency"
          ],
          [
           "New York",
           "intentional attack"
          ],
          [
           "New York",
           "system operability disruption"
          ],
          [
           "New York",
           "intentional attack"
          ],
          [
           "New York",
           "severe weather"
          ],
          [
           "New York",
           "severe weather"
          ],
          [
           "New York",
           "fuel supply emergency"
          ],
          [
           "New York",
           "severe weather"
          ],
          [
           "New York",
           "severe weather"
          ],
          [
           "New York",
           "intentional attack"
          ],
          [
           "New York",
           "intentional attack"
          ],
          [
           "New York",
           "fuel supply emergency"
          ],
          [
           "New York",
           "severe weather"
          ],
          [
           "New York",
           "public appeal"
          ],
          [
           "New York",
           "severe weather"
          ],
          [
           "New York",
           "system operability disruption"
          ],
          [
           "New York",
           "fuel supply emergency"
          ],
          [
           "Louisiana",
           "fuel supply emergency"
          ],
          [
           "Louisiana",
           "public appeal"
          ],
          [
           "Louisiana",
           "severe weather"
          ],
          [
           "Louisiana",
           "public appeal"
          ],
          [
           "Louisiana",
           "public appeal"
          ],
          [
           "Louisiana",
           "severe weather"
          ],
          [
           "Louisiana",
           "severe weather"
          ],
          [
           "Louisiana",
           "public appeal"
          ],
          [
           "Louisiana",
           "system operability disruption"
          ],
          [
           "Louisiana",
           "public appeal"
          ],
          [
           "Louisiana",
           "severe weather"
          ],
          [
           "Louisiana",
           "public appeal"
          ],
          [
           "Louisiana",
           "system operability disruption"
          ],
          [
           "Louisiana",
           "public appeal"
          ],
          [
           "Louisiana",
           "severe weather"
          ],
          [
           "Louisiana",
           "severe weather"
          ],
          [
           "Louisiana",
           "system operability disruption"
          ],
          [
           "Louisiana",
           "equipment failure"
          ],
          [
           "Louisiana",
           "public appeal"
          ],
          [
           "Louisiana",
           "system operability disruption"
          ],
          [
           "Louisiana",
           "severe weather"
          ],
          [
           "Louisiana",
           "public appeal"
          ],
          [
           "Louisiana",
           "public appeal"
          ],
          [
           "Louisiana",
           "severe weather"
          ],
          [
           "Louisiana",
           "severe weather"
          ],
          [
           "Louisiana",
           "severe weather"
          ],
          [
           "Louisiana",
           "public appeal"
          ],
          [
           "Louisiana",
           "severe weather"
          ],
          [
           "Louisiana",
           "severe weather"
          ],
          [
           "Louisiana",
           "system operability disruption"
          ],
          [
           "Louisiana",
           "public appeal"
          ],
          [
           "Louisiana",
           "public appeal"
          ],
          [
           "Louisiana",
           "equipment failure"
          ],
          [
           "Louisiana",
           "system operability disruption"
          ],
          [
           "Louisiana",
           "severe weather"
          ],
          [
           "Louisiana",
           "public appeal"
          ],
          [
           "Louisiana",
           "severe weather"
          ],
          [
           "Louisiana",
           "severe weather"
          ],
          [
           "Louisiana",
           "severe weather"
          ],
          [
           "Louisiana",
           "equipment failure"
          ],
          [
           "Florida",
           "intentional attack"
          ],
          [
           "Florida",
           "severe weather"
          ],
          [
           "Florida",
           "severe weather"
          ],
          [
           "Florida",
           "severe weather"
          ],
          [
           "Florida",
           "equipment failure"
          ],
          [
           "Florida",
           "severe weather"
          ],
          [
           "Florida",
           "intentional attack"
          ],
          [
           "Florida",
           "system operability disruption"
          ],
          [
           "Florida",
           "severe weather"
          ],
          [
           "Florida",
           "severe weather"
          ],
          [
           "Florida",
           "system operability disruption"
          ],
          [
           "Florida",
           "public appeal"
          ],
          [
           "Florida",
           "public appeal"
          ],
          [
           "Florida",
           "severe weather"
          ],
          [
           "Florida",
           "severe weather"
          ],
          [
           "Florida",
           "equipment failure"
          ],
          [
           "Florida",
           "system operability disruption"
          ],
          [
           "Florida",
           "severe weather"
          ],
          [
           "Florida",
           "public appeal"
          ],
          [
           "Florida",
           "system operability disruption"
          ],
          [
           "Florida",
           "equipment failure"
          ],
          [
           "Florida",
           "severe weather"
          ],
          [
           "Florida",
           "severe weather"
          ],
          [
           "Florida",
           "severe weather"
          ],
          [
           "Florida",
           "system operability disruption"
          ],
          [
           "Florida",
           "severe weather"
          ],
          [
           "Florida",
           "severe weather"
          ],
          [
           "Florida",
           "severe weather"
          ],
          [
           "Florida",
           "system operability disruption"
          ],
          [
           "Florida",
           "system operability disruption"
          ],
          [
           "Florida",
           "severe weather"
          ],
          [
           "Florida",
           "system operability disruption"
          ],
          [
           "Florida",
           "severe weather"
          ],
          [
           "Florida",
           "equipment failure"
          ],
          [
           "Florida",
           "severe weather"
          ],
          [
           "Florida",
           "severe weather"
          ],
          [
           "Florida",
           "severe weather"
          ],
          [
           "Florida",
           "severe weather"
          ],
          [
           "Florida",
           "severe weather"
          ],
          [
           "Florida",
           "severe weather"
          ],
          [
           "Florida",
           "severe weather"
          ],
          [
           "Florida",
           "severe weather"
          ],
          [
           "Florida",
           "severe weather"
          ],
          [
           "Florida",
           "system operability disruption"
          ],
          [
           "Florida",
           "system operability disruption"
          ],
          [
           "California",
           "severe weather"
          ],
          [
           "California",
           "system operability disruption"
          ],
          [
           "California",
           "severe weather"
          ],
          [
           "California",
           "public appeal"
          ],
          [
           "California",
           "fuel supply emergency"
          ],
          [
           "California",
           "intentional attack"
          ],
          [
           "California",
           "equipment failure"
          ],
          [
           "California",
           "severe weather"
          ],
          [
           "California",
           "system operability disruption"
          ],
          [
           "California",
           "severe weather"
          ],
          [
           "California",
           "equipment failure"
          ],
          [
           "California",
           "equipment failure"
          ],
          [
           "California",
           "severe weather"
          ],
          [
           "California",
           "severe weather"
          ],
          [
           "California",
           "intentional attack"
          ],
          [
           "California",
           "islanding"
          ],
          [
           "California",
           "severe weather"
          ],
          [
           "California",
           "system operability disruption"
          ],
          [
           "California",
           "intentional attack"
          ],
          [
           "California",
           "system operability disruption"
          ],
          [
           "California",
           "severe weather"
          ],
          [
           "California",
           "system operability disruption"
          ],
          [
           "California",
           "islanding"
          ],
          [
           "California",
           "intentional attack"
          ],
          [
           "California",
           "system operability disruption"
          ],
          [
           "California",
           "intentional attack"
          ],
          [
           "California",
           "equipment failure"
          ],
          [
           "California",
           "fuel supply emergency"
          ],
          [
           "California",
           "severe weather"
          ],
          [
           "California",
           "system operability disruption"
          ],
          [
           "California",
           "islanding"
          ],
          [
           "California",
           "severe weather"
          ],
          [
           "California",
           "equipment failure"
          ],
          [
           "California",
           "system operability disruption"
          ],
          [
           "California",
           "equipment failure"
          ],
          [
           "California",
           "equipment failure"
          ],
          [
           "California",
           "fuel supply emergency"
          ],
          [
           "California",
           "islanding"
          ],
          [
           "California",
           "severe weather"
          ],
          [
           "California",
           "severe weather"
          ],
          [
           "California",
           "severe weather"
          ],
          [
           "California",
           "system operability disruption"
          ],
          [
           "California",
           "severe weather"
          ],
          [
           "California",
           "fuel supply emergency"
          ],
          [
           "California",
           "islanding"
          ],
          [
           "California",
           "islanding"
          ],
          [
           "California",
           "islanding"
          ],
          [
           "California",
           "islanding"
          ],
          [
           "California",
           "islanding"
          ],
          [
           "California",
           "system operability disruption"
          ],
          [
           "California",
           "severe weather"
          ],
          [
           "California",
           "islanding"
          ],
          [
           "California",
           "system operability disruption"
          ],
          [
           "California",
           "severe weather"
          ],
          [
           "California",
           "public appeal"
          ],
          [
           "California",
           "severe weather"
          ],
          [
           "California",
           "severe weather"
          ],
          [
           "California",
           "severe weather"
          ],
          [
           "California",
           "intentional attack"
          ],
          [
           "California",
           "system operability disruption"
          ],
          [
           "California",
           "intentional attack"
          ],
          [
           "California",
           "intentional attack"
          ],
          [
           "California",
           "system operability disruption"
          ],
          [
           "California",
           "fuel supply emergency"
          ],
          [
           "California",
           "islanding"
          ],
          [
           "California",
           "severe weather"
          ],
          [
           "California",
           "severe weather"
          ],
          [
           "California",
           "severe weather"
          ],
          [
           "California",
           "intentional attack"
          ],
          [
           "California",
           "severe weather"
          ],
          [
           "California",
           "intentional attack"
          ],
          [
           "California",
           "severe weather"
          ],
          [
           "California",
           "intentional attack"
          ],
          [
           "California",
           "equipment failure"
          ],
          [
           "California",
           "severe weather"
          ],
          [
           "California",
           "system operability disruption"
          ],
          [
           "California",
           "public appeal"
          ],
          [
           "California",
           "system operability disruption"
          ],
          [
           "California",
           "equipment failure"
          ],
          [
           "California",
           "severe weather"
          ],
          [
           "California",
           "public appeal"
          ],
          [
           "California",
           "equipment failure"
          ],
          [
           "California",
           "severe weather"
          ],
          [
           "California",
           "system operability disruption"
          ],
          [
           "California",
           "severe weather"
          ],
          [
           "California",
           "system operability disruption"
          ],
          [
           "California",
           "system operability disruption"
          ],
          [
           "California",
           "public appeal"
          ],
          [
           "California",
           "system operability disruption"
          ],
          [
           "California",
           "severe weather"
          ],
          [
           "California",
           "equipment failure"
          ],
          [
           "California",
           "system operability disruption"
          ],
          [
           "California",
           "intentional attack"
          ],
          [
           "California",
           "islanding"
          ],
          [
           "California",
           "system operability disruption"
          ],
          [
           "California",
           "intentional attack"
          ],
          [
           "California",
           "severe weather"
          ],
          [
           "California",
           "system operability disruption"
          ],
          [
           "California",
           "system operability disruption"
          ],
          [
           "California",
           "severe weather"
          ],
          [
           "California",
           "severe weather"
          ],
          [
           "California",
           "intentional attack"
          ],
          [
           "California",
           "system operability disruption"
          ],
          [
           "California",
           "islanding"
          ],
          [
           "California",
           "severe weather"
          ],
          [
           "California",
           "severe weather"
          ],
          [
           "California",
           "severe weather"
          ],
          [
           "California",
           "system operability disruption"
          ],
          [
           "California",
           "severe weather"
          ],
          [
           "California",
           "equipment failure"
          ],
          [
           "California",
           "equipment failure"
          ],
          [
           "California",
           "severe weather"
          ],
          [
           "California",
           "equipment failure"
          ],
          [
           "California",
           "severe weather"
          ],
          [
           "California",
           "intentional attack"
          ],
          [
           "California",
           "equipment failure"
          ],
          [
           "California",
           "system operability disruption"
          ],
          [
           "California",
           "severe weather"
          ],
          [
           "California",
           "severe weather"
          ],
          [
           "California",
           "equipment failure"
          ],
          [
           "California",
           "severe weather"
          ],
          [
           "California",
           "islanding"
          ],
          [
           "California",
           "fuel supply emergency"
          ],
          [
           "California",
           "system operability disruption"
          ],
          [
           "California",
           "fuel supply emergency"
          ],
          [
           "California",
           "system operability disruption"
          ],
          [
           "California",
           "severe weather"
          ],
          [
           "California",
           "severe weather"
          ],
          [
           "California",
           "system operability disruption"
          ],
          [
           "California",
           "fuel supply emergency"
          ],
          [
           "California",
           "severe weather"
          ],
          [
           "California",
           "intentional attack"
          ],
          [
           "California",
           "fuel supply emergency"
          ],
          [
           "California",
           "severe weather"
          ],
          [
           "California",
           "equipment failure"
          ],
          [
           "California",
           "islanding"
          ],
          [
           "California",
           "islanding"
          ],
          [
           "California",
           "system operability disruption"
          ],
          [
           "California",
           "system operability disruption"
          ],
          [
           "California",
           "islanding"
          ],
          [
           "California",
           "intentional attack"
          ],
          [
           "California",
           "intentional attack"
          ],
          [
           "California",
           "islanding"
          ],
          [
           "California",
           "islanding"
          ],
          [
           "California",
           "system operability disruption"
          ],
          [
           "California",
           "islanding"
          ],
          [
           "California",
           "public appeal"
          ],
          [
           "California",
           "fuel supply emergency"
          ],
          [
           "California",
           "severe weather"
          ],
          [
           "California",
           "public appeal"
          ],
          [
           "California",
           "intentional attack"
          ],
          [
           "California",
           "fuel supply emergency"
          ],
          [
           "California",
           "intentional attack"
          ],
          [
           "California",
           "equipment failure"
          ],
          [
           "California",
           "severe weather"
          ],
          [
           "California",
           "severe weather"
          ],
          [
           "California",
           "islanding"
          ],
          [
           "California",
           "islanding"
          ],
          [
           "California",
           "severe weather"
          ],
          [
           "California",
           "islanding"
          ],
          [
           "California",
           "system operability disruption"
          ],
          [
           "California",
           "fuel supply emergency"
          ],
          [
           "California",
           "severe weather"
          ],
          [
           "California",
           "severe weather"
          ],
          [
           "California",
           "severe weather"
          ],
          [
           "California",
           "fuel supply emergency"
          ],
          [
           "California",
           "intentional attack"
          ],
          [
           "California",
           "system operability disruption"
          ],
          [
           "California",
           "severe weather"
          ],
          [
           "California",
           "public appeal"
          ],
          [
           "California",
           "severe weather"
          ],
          [
           "California",
           "severe weather"
          ],
          [
           "California",
           "severe weather"
          ],
          [
           "California",
           "public appeal"
          ],
          [
           "California",
           "system operability disruption"
          ],
          [
           "California",
           "system operability disruption"
          ],
          [
           "California",
           "islanding"
          ],
          [
           "California",
           "severe weather"
          ],
          [
           "California",
           "severe weather"
          ],
          [
           "California",
           "severe weather"
          ],
          [
           "California",
           "fuel supply emergency"
          ],
          [
           "California",
           "system operability disruption"
          ],
          [
           "California",
           "severe weather"
          ],
          [
           "California",
           "fuel supply emergency"
          ],
          [
           "California",
           "severe weather"
          ],
          [
           "California",
           "severe weather"
          ],
          [
           "California",
           "severe weather"
          ],
          [
           "California",
           "intentional attack"
          ],
          [
           "California",
           "islanding"
          ],
          [
           "California",
           "equipment failure"
          ],
          [
           "California",
           "system operability disruption"
          ],
          [
           "California",
           "equipment failure"
          ],
          [
           "California",
           "system operability disruption"
          ],
          [
           "California",
           "system operability disruption"
          ],
          [
           "California",
           "severe weather"
          ],
          [
           "California",
           "severe weather"
          ],
          [
           "California",
           "islanding"
          ],
          [
           "California",
           "islanding"
          ],
          [
           "California",
           "islanding"
          ],
          [
           "California",
           "severe weather"
          ],
          [
           "California",
           "severe weather"
          ],
          [
           "California",
           "fuel supply emergency"
          ],
          [
           "California",
           "severe weather"
          ],
          [
           "California",
           "intentional attack"
          ],
          [
           "California",
           "severe weather"
          ],
          [
           "California",
           "severe weather"
          ],
          [
           "California",
           "fuel supply emergency"
          ],
          [
           "California",
           "equipment failure"
          ],
          [
           "California",
           "system operability disruption"
          ],
          [
           "California",
           "intentional attack"
          ],
          [
           "Arkansas",
           "severe weather"
          ],
          [
           "Arkansas",
           "islanding"
          ],
          [
           "Arkansas",
           "severe weather"
          ],
          [
           "Arkansas",
           "equipment failure"
          ],
          [
           "Arkansas",
           "intentional attack"
          ],
          [
           "Arkansas",
           "severe weather"
          ],
          [
           "Arkansas",
           "intentional attack"
          ],
          [
           "Arkansas",
           "severe weather"
          ],
          [
           "Arkansas",
           "severe weather"
          ],
          [
           "Arkansas",
           "severe weather"
          ],
          [
           "Arkansas",
           "severe weather"
          ],
          [
           "Arkansas",
           "public appeal"
          ],
          [
           "Arkansas",
           "public appeal"
          ],
          [
           "Arkansas",
           "public appeal"
          ],
          [
           "Arkansas",
           "public appeal"
          ],
          [
           "Arkansas",
           "intentional attack"
          ],
          [
           "Arkansas",
           "severe weather"
          ],
          [
           "Arkansas",
           "public appeal"
          ],
          [
           "Arkansas",
           "public appeal"
          ],
          [
           "Arkansas",
           "severe weather"
          ],
          [
           "Arkansas",
           "intentional attack"
          ],
          [
           "Arkansas",
           "severe weather"
          ],
          [
           "Arkansas",
           "intentional attack"
          ],
          [
           "Arkansas",
           "public appeal"
          ],
          [
           "Arkansas",
           "intentional attack"
          ],
          [
           "Virginia",
           "severe weather"
          ],
          [
           "Virginia",
           "severe weather"
          ],
          [
           "Virginia",
           "severe weather"
          ],
          [
           "Virginia",
           "severe weather"
          ],
          [
           "Virginia",
           "intentional attack"
          ],
          [
           "Virginia",
           "severe weather"
          ],
          [
           "Virginia",
           "severe weather"
          ],
          [
           "Virginia",
           "severe weather"
          ],
          [
           "Virginia",
           "equipment failure"
          ],
          [
           "Virginia",
           "severe weather"
          ],
          [
           "Virginia",
           "severe weather"
          ],
          [
           "Virginia",
           "severe weather"
          ],
          [
           "Virginia",
           "severe weather"
          ],
          [
           "Virginia",
           "severe weather"
          ],
          [
           "Virginia",
           "severe weather"
          ],
          [
           "Virginia",
           "severe weather"
          ],
          [
           "Virginia",
           "severe weather"
          ],
          [
           "Virginia",
           "severe weather"
          ],
          [
           "Virginia",
           "system operability disruption"
          ],
          [
           "Virginia",
           "severe weather"
          ],
          [
           "Virginia",
           "public appeal"
          ],
          [
           "Virginia",
           "severe weather"
          ],
          [
           "Virginia",
           "severe weather"
          ],
          [
           "Virginia",
           "severe weather"
          ],
          [
           "Virginia",
           "severe weather"
          ],
          [
           "Virginia",
           "severe weather"
          ],
          [
           "Virginia",
           "severe weather"
          ],
          [
           "Virginia",
           "severe weather"
          ],
          [
           "Virginia",
           "severe weather"
          ],
          [
           "Virginia",
           "severe weather"
          ],
          [
           "Virginia",
           "severe weather"
          ],
          [
           "Virginia",
           "severe weather"
          ],
          [
           "Virginia",
           "public appeal"
          ],
          [
           "Virginia",
           "severe weather"
          ],
          [
           "Virginia",
           "severe weather"
          ],
          [
           "Virginia",
           "severe weather"
          ],
          [
           "Virginia",
           "severe weather"
          ],
          [
           "Nebraska",
           "public appeal"
          ],
          [
           "Nebraska",
           "severe weather"
          ],
          [
           "Nebraska",
           "severe weather"
          ],
          [
           "Nebraska",
           "severe weather"
          ],
          [
           "Wyoming",
           "severe weather"
          ],
          [
           "Wyoming",
           "intentional attack"
          ],
          [
           "Wyoming",
           "intentional attack"
          ],
          [
           "Wyoming",
           "intentional attack"
          ],
          [
           "Wyoming",
           "islanding"
          ],
          [
           "Wyoming",
           "equipment failure"
          ],
          [
           "New Mexico",
           "intentional attack"
          ],
          [
           "New Mexico",
           "intentional attack"
          ],
          [
           "New Mexico",
           "system operability disruption"
          ],
          [
           "New Mexico",
           "intentional attack"
          ],
          [
           "New Mexico",
           "intentional attack"
          ],
          [
           "New Mexico",
           "intentional attack"
          ],
          [
           "New Mexico",
           "intentional attack"
          ],
          [
           "New Mexico",
           "fuel supply emergency"
          ],
          [
           "Vermont",
           "intentional attack"
          ],
          [
           "Vermont",
           "intentional attack"
          ],
          [
           "Vermont",
           "intentional attack"
          ],
          [
           "Vermont",
           "intentional attack"
          ],
          [
           "Vermont",
           "intentional attack"
          ],
          [
           "Vermont",
           "intentional attack"
          ],
          [
           "Vermont",
           "intentional attack"
          ],
          [
           "Vermont",
           "intentional attack"
          ],
          [
           "Vermont",
           "intentional attack"
          ],
          [
           "Georgia",
           "severe weather"
          ],
          [
           "Georgia",
           "severe weather"
          ],
          [
           "Georgia",
           "severe weather"
          ],
          [
           "Georgia",
           "severe weather"
          ],
          [
           "Georgia",
           "severe weather"
          ],
          [
           "Georgia",
           "severe weather"
          ],
          [
           "Georgia",
           "severe weather"
          ],
          [
           "Georgia",
           "severe weather"
          ],
          [
           "Georgia",
           "severe weather"
          ],
          [
           "Georgia",
           "severe weather"
          ],
          [
           "Georgia",
           "severe weather"
          ],
          [
           "Georgia",
           "severe weather"
          ],
          [
           "Georgia",
           "severe weather"
          ],
          [
           "Georgia",
           "severe weather"
          ],
          [
           "Georgia",
           "severe weather"
          ],
          [
           "Georgia",
           "severe weather"
          ],
          [
           "Georgia",
           "intentional attack"
          ],
          [
           "Connecticut",
           "intentional attack"
          ],
          [
           "Connecticut",
           "intentional attack"
          ],
          [
           "Connecticut",
           "severe weather"
          ],
          [
           "Connecticut",
           "severe weather"
          ],
          [
           "Connecticut",
           "intentional attack"
          ],
          [
           "Connecticut",
           "intentional attack"
          ],
          [
           "Connecticut",
           "severe weather"
          ],
          [
           "Connecticut",
           "severe weather"
          ],
          [
           "Connecticut",
           "intentional attack"
          ],
          [
           "Connecticut",
           "intentional attack"
          ],
          [
           "Connecticut",
           "severe weather"
          ],
          [
           "Connecticut",
           "severe weather"
          ],
          [
           "Connecticut",
           "intentional attack"
          ],
          [
           "Connecticut",
           "severe weather"
          ],
          [
           "Connecticut",
           "severe weather"
          ],
          [
           "Connecticut",
           "severe weather"
          ],
          [
           "Connecticut",
           "intentional attack"
          ],
          [
           "Connecticut",
           "severe weather"
          ],
          [
           "Oklahoma",
           "severe weather"
          ],
          [
           "Oklahoma",
           "intentional attack"
          ],
          [
           "Oklahoma",
           "severe weather"
          ],
          [
           "Oklahoma",
           "severe weather"
          ],
          [
           "Oklahoma",
           "islanding"
          ],
          [
           "Oklahoma",
           "severe weather"
          ],
          [
           "Oklahoma",
           "public appeal"
          ],
          [
           "Oklahoma",
           "severe weather"
          ],
          [
           "Oklahoma",
           "severe weather"
          ],
          [
           "Oklahoma",
           "severe weather"
          ],
          [
           "Oklahoma",
           "severe weather"
          ],
          [
           "Oklahoma",
           "public appeal"
          ],
          [
           "Oklahoma",
           "severe weather"
          ],
          [
           "Oklahoma",
           "severe weather"
          ],
          [
           "Oklahoma",
           "severe weather"
          ],
          [
           "Oklahoma",
           "public appeal"
          ],
          [
           "Oklahoma",
           "severe weather"
          ],
          [
           "Oklahoma",
           "severe weather"
          ],
          [
           "Oklahoma",
           "intentional attack"
          ],
          [
           "Oklahoma",
           "severe weather"
          ],
          [
           "Oklahoma",
           "severe weather"
          ],
          [
           "Oklahoma",
           "severe weather"
          ],
          [
           "Oklahoma",
           "intentional attack"
          ],
          [
           "Oklahoma",
           "severe weather"
          ],
          [
           "Massachusetts",
           "severe weather"
          ],
          [
           "Massachusetts",
           "system operability disruption"
          ],
          [
           "Massachusetts",
           "severe weather"
          ],
          [
           "Massachusetts",
           "intentional attack"
          ],
          [
           "Massachusetts",
           "intentional attack"
          ],
          [
           "Massachusetts",
           "system operability disruption"
          ],
          [
           "Massachusetts",
           "severe weather"
          ],
          [
           "Massachusetts",
           "intentional attack"
          ],
          [
           "Massachusetts",
           "severe weather"
          ],
          [
           "Massachusetts",
           "severe weather"
          ],
          [
           "Massachusetts",
           "severe weather"
          ],
          [
           "Massachusetts",
           "intentional attack"
          ],
          [
           "Massachusetts",
           "intentional attack"
          ],
          [
           "Massachusetts",
           "intentional attack"
          ],
          [
           "Massachusetts",
           "severe weather"
          ],
          [
           "Massachusetts",
           "intentional attack"
          ],
          [
           "Massachusetts",
           "fuel supply emergency"
          ],
          [
           "Massachusetts",
           "intentional attack"
          ],
          [
           "Maine",
           "fuel supply emergency"
          ],
          [
           "Maine",
           "intentional attack"
          ],
          [
           "Maine",
           "intentional attack"
          ],
          [
           "Maine",
           "severe weather"
          ],
          [
           "Maine",
           "intentional attack"
          ],
          [
           "Maine",
           "intentional attack"
          ],
          [
           "Maine",
           "intentional attack"
          ],
          [
           "Maine",
           "severe weather"
          ],
          [
           "Maine",
           "severe weather"
          ],
          [
           "Maine",
           "severe weather"
          ],
          [
           "Maine",
           "severe weather"
          ],
          [
           "Maine",
           "severe weather"
          ],
          [
           "Maine",
           "intentional attack"
          ],
          [
           "Maine",
           "severe weather"
          ],
          [
           "Maine",
           "intentional attack"
          ],
          [
           "Maine",
           "islanding"
          ],
          [
           "Maine",
           "severe weather"
          ],
          [
           "Maine",
           "severe weather"
          ],
          [
           "Maine",
           "severe weather"
          ],
          [
           "New Hampshire",
           "severe weather"
          ],
          [
           "New Hampshire",
           "intentional attack"
          ],
          [
           "New Hampshire",
           "intentional attack"
          ],
          [
           "New Hampshire",
           "intentional attack"
          ],
          [
           "New Hampshire",
           "intentional attack"
          ],
          [
           "New Hampshire",
           "intentional attack"
          ],
          [
           "New Hampshire",
           "intentional attack"
          ],
          [
           "New Hampshire",
           "intentional attack"
          ],
          [
           "New Hampshire",
           "intentional attack"
          ],
          [
           "New Hampshire",
           "severe weather"
          ],
          [
           "New Hampshire",
           "intentional attack"
          ],
          [
           "New Hampshire",
           "intentional attack"
          ],
          [
           "New Hampshire",
           "intentional attack"
          ],
          [
           "New Hampshire",
           "intentional attack"
          ],
          [
           "Nevada",
           "intentional attack"
          ],
          [
           "Nevada",
           "intentional attack"
          ],
          [
           "Nevada",
           "intentional attack"
          ],
          [
           "Nevada",
           "intentional attack"
          ],
          [
           "Nevada",
           "intentional attack"
          ],
          [
           "Nevada",
           "intentional attack"
          ],
          [
           "Nevada",
           "intentional attack"
          ],
          [
           "Colorado",
           "islanding"
          ],
          [
           "Colorado",
           "intentional attack"
          ],
          [
           "Colorado",
           "fuel supply emergency"
          ],
          [
           "Colorado",
           "severe weather"
          ],
          [
           "Colorado",
           "severe weather"
          ],
          [
           "Colorado",
           "system operability disruption"
          ],
          [
           "Colorado",
           "intentional attack"
          ],
          [
           "Colorado",
           "severe weather"
          ],
          [
           "Colorado",
           "intentional attack"
          ],
          [
           "Colorado",
           "system operability disruption"
          ],
          [
           "Colorado",
           "system operability disruption"
          ],
          [
           "Colorado",
           "system operability disruption"
          ],
          [
           "Colorado",
           "intentional attack"
          ],
          [
           "Colorado",
           "severe weather"
          ],
          [
           "Colorado",
           "intentional attack"
          ],
          [
           "Kansas",
           "severe weather"
          ],
          [
           "Kansas",
           "intentional attack"
          ],
          [
           "Kansas",
           "intentional attack"
          ],
          [
           "Kansas",
           "severe weather"
          ],
          [
           "Kansas",
           "severe weather"
          ],
          [
           "Kansas",
           "intentional attack"
          ],
          [
           "Kansas",
           "public appeal"
          ],
          [
           "Kansas",
           "severe weather"
          ],
          [
           "Kansas",
           "severe weather"
          ],
          [
           "Hawaii",
           "severe weather"
          ],
          [
           "Hawaii",
           "severe weather"
          ],
          [
           "Hawaii",
           "severe weather"
          ],
          [
           "Hawaii",
           "system operability disruption"
          ],
          [
           "Hawaii",
           "severe weather"
          ],
          [
           "Idaho",
           "system operability disruption"
          ],
          [
           "Idaho",
           "intentional attack"
          ],
          [
           "Idaho",
           "system operability disruption"
          ],
          [
           "Idaho",
           "intentional attack"
          ],
          [
           "Idaho",
           "public appeal"
          ],
          [
           "Idaho",
           "intentional attack"
          ],
          [
           "Idaho",
           "intentional attack"
          ],
          [
           "Idaho",
           "intentional attack"
          ],
          [
           "Idaho",
           "system operability disruption"
          ],
          [
           "North Dakota",
           "public appeal"
          ],
          [
           "North Dakota",
           "fuel supply emergency"
          ],
          [
           "South Dakota",
           "islanding"
          ],
          [
           "South Dakota",
           "islanding"
          ],
          [
           "Alaska",
           "equipment failure"
          ]
         ],
         "hovertemplate": "Outage Restoration=%{x}<br>Customers Affected=%{y}<br>U.S._STATE=%{customdata[0]}<br>CAUSE.CATEGORY=%{customdata[1]}<extra></extra>",
         "legendgroup": "",
         "marker": {
          "color": "#636efa",
          "symbol": "circle"
         },
         "mode": "markers",
         "name": "",
         "showlegend": false,
         "type": "scattergl",
         "x": [
          "2011-07-03T20:00:00",
          "2014-05-11T18:39:00",
          "2010-10-28T22:00:00",
          "2012-06-20T23:00:00",
          "2015-07-19T07:00:00",
          "2010-11-14T22:00:00",
          "2010-07-19T22:00:00",
          "2005-06-10T22:00:00",
          "2015-03-16T10:06:00",
          "2013-06-24T06:00:00",
          "2013-06-26T12:00:00",
          "2005-09-27T23:00:00",
          "2011-07-08T10:00:00",
          "2011-05-12T13:57:00",
          "2014-06-15T01:00:00",
          "2015-06-07T14:13:00",
          "2012-08-13T13:15:00",
          "2015-06-07T14:13:00",
          "2011-04-20T02:00:00",
          "2008-02-06T23:00:00",
          "2015-01-08T08:35:00",
          "2012-07-06T16:00:00",
          null,
          "2013-04-21T12:30:00",
          "2014-01-07T08:30:00",
          "2009-07-27T17:47:00",
          "2011-06-22T09:46:00",
          "2011-04-05T00:00:00",
          "2014-06-05T13:07:00",
          "2012-07-02T12:00:00",
          "2014-06-19T08:48:00",
          "2011-04-08T00:01:00",
          "2015-05-03T00:26:00",
          "2015-02-21T12:45:00",
          "2014-06-07T23:45:00",
          "2011-04-21T17:32:00",
          null,
          "2014-01-24T12:00:00",
          "2015-03-04T14:15:00",
          "2013-01-19T18:00:00",
          "2011-04-08T00:01:00",
          "2009-06-12T18:53:00",
          "2014-03-03T15:28:00",
          "2014-01-07T08:30:00",
          "2011-04-25T17:19:00",
          "2014-06-24T14:55:00",
          "2014-01-24T12:00:00",
          null,
          "2009-01-27T22:17:00",
          null,
          "2014-01-22T02:45:00",
          "2005-11-14T18:00:00",
          "2013-08-29T15:29:00",
          "2014-04-09T11:53:00",
          "2014-04-09T11:53:00",
          "2003-07-04T22:00:00",
          "2014-01-29T16:44:00",
          "2016-01-05T08:00:00",
          "2005-09-16T20:00:00",
          "2010-08-12T22:10:00",
          "2010-10-27T12:00:00",
          "2003-04-29T12:00:00",
          "2014-01-24T17:00:00",
          "2014-03-17T09:06:00",
          "2014-07-01T02:53:00",
          "2013-08-07T09:14:00",
          "2014-01-22T14:55:00",
          "2013-08-07T21:27:00",
          "2014-01-25T11:00:00",
          "2015-03-22T16:26:00",
          "2014-06-11T14:30:00",
          "2012-11-09T23:59:00",
          "2012-07-06T10:00:00",
          "2011-05-31T22:00:00",
          "2005-09-26T23:30:00",
          "2003-11-16T18:00:00",
          "2011-07-22T06:30:00",
          "2016-02-20T23:13:00",
          "2007-07-22T23:30:00",
          "2003-08-16T19:00:00",
          "2003-04-06T17:00:00",
          "2011-05-11T14:10:00",
          "2010-06-22T19:30:00",
          "2014-04-15T19:30:00",
          "2012-03-04T17:30:00",
          "2009-04-08T12:00:00",
          "2007-12-25T18:07:00",
          "2015-11-23T01:00:00",
          "2007-07-08T19:00:00",
          "2009-10-09T23:00:00",
          "2005-06-07T18:00:00",
          "2009-06-28T20:00:00",
          "2005-06-10T19:30:00",
          "2013-11-20T18:54:00",
          "2005-11-11T23:30:00",
          "2003-07-06T16:00:00",
          "2011-02-23T16:00:00",
          "2011-01-27T15:03:00",
          "2013-12-28T23:45:00",
          "2012-11-01T22:00:00",
          "2009-04-29T13:00:00",
          "2004-05-25T12:00:00",
          "2015-08-04T03:00:00",
          "2016-07-09T00:00:00",
          "2008-12-31T18:00:00",
          "2012-07-06T20:30:00",
          "2009-01-01T23:30:00",
          "2015-06-30T17:18:00",
          "2003-09-07T18:00:00",
          "2013-11-21T16:45:00",
          "2010-10-29T07:00:00",
          "2008-02-01T18:30:00",
          "2004-11-01T18:00:00",
          "2009-12-12T20:00:00",
          "2015-09-03T06:25:00",
          "2011-04-29T19:05:00",
          "2006-02-20T23:00:00",
          "2003-06-16T14:00:00",
          "2009-08-11T22:00:00",
          "2010-08-23T15:30:00",
          "2009-04-26T18:05:00",
          "2008-06-26T21:30:00",
          "2012-03-05T16:30:00",
          "2011-07-06T22:00:00",
          "2012-03-29T12:02:00",
          "2014-04-14T09:00:00",
          "2010-12-15T14:00:00",
          "2013-01-23T06:15:00",
          "2003-08-16T13:03:00",
          "2007-09-24T16:26:00",
          "2008-07-06T12:00:00",
          "2008-12-28T23:30:00",
          "2008-06-16T23:30:00",
          "2012-04-19T02:00:00",
          "2004-05-24T20:00:00",
          "2014-06-20T15:00:00",
          "2013-09-15T16:00:00",
          "2008-06-12T20:00:00",
          "2010-07-19T23:30:00",
          "2004-05-26T21:00:00",
          "2013-12-25T05:12:00",
          "2007-05-17T19:00:00",
          "2003-11-16T17:00:00",
          "2013-07-20T09:00:00",
          "2011-12-07T11:04:00",
          "2005-07-04T23:30:00",
          "2013-04-21T03:30:00",
          "2011-07-12T08:15:00",
          "2004-11-03T13:50:00",
          "2007-08-28T18:30:00",
          "2015-08-05T00:00:00",
          "2010-06-19T05:00:00",
          "2009-06-21T23:00:00",
          "2005-11-14T23:59:00",
          "2006-07-21T12:00:00",
          "2002-03-11T12:00:00",
          "2009-08-10T21:59:00",
          "2010-07-26T18:30:00",
          "2015-12-26T00:00:00",
          "2011-05-04T15:40:00",
          "2011-07-24T13:30:00",
          "2011-07-11T10:25:00",
          "2007-01-19T16:00:00",
          "2010-09-22T14:30:00",
          "2013-06-28T00:00:00",
          "2008-07-03T15:00:00",
          "2011-09-08T18:00:00",
          "2011-08-23T20:00:00",
          "2015-07-03T23:30:00",
          "2011-02-10T12:33:00",
          "2011-02-04T12:32:00",
          "2016-07-06T03:00:00",
          "2012-08-19T12:08:00",
          "2014-02-07T11:30:00",
          "2014-01-07T09:00:00",
          "2004-11-24T13:00:00",
          "2015-04-26T16:00:00",
          "2015-05-29T07:15:00",
          "2014-06-03T01:43:00",
          "2006-04-17T19:20:00",
          "2010-06-04T08:00:00",
          "2010-06-08T17:00:00",
          null,
          "2015-08-13T19:00:00",
          "2007-09-14T19:00:00",
          "2011-07-14T19:00:00",
          "2003-07-21T22:30:00",
          "2000-05-02T12:00:00",
          "2015-06-05T17:00:00",
          "2012-03-20T13:00:00",
          "2015-04-19T23:50:00",
          "2007-06-29T22:09:00",
          null,
          "2011-08-25T06:00:00",
          "2011-08-23T19:00:00",
          "2006-04-17T19:30:00",
          "2016-05-13T03:00:00",
          "2005-10-02T17:00:00",
          "2011-03-11T06:00:00",
          "2004-08-02T20:00:00",
          "2003-04-15T14:06:00",
          "2007-03-31T19:00:00",
          "2008-10-01T23:59:00",
          "2014-02-06T20:40:00",
          "2015-11-01T16:05:00",
          "2011-02-09T09:12:00",
          "2015-01-27T10:31:00",
          "2012-12-26T16:28:00",
          "2014-02-07T20:30:00",
          "2015-10-13T18:00:00",
          "2007-09-05T13:11:00",
          "2003-05-15T15:29:00",
          "2008-08-16T19:30:00",
          "2012-01-17T17:21:00",
          "2009-08-12T22:00:00",
          "2016-04-27T18:05:00",
          "2009-02-11T12:00:00",
          "2008-07-31T16:00:00",
          "2016-07-11T14:00:00",
          "2013-12-27T11:00:00",
          "2012-11-18T10:00:00",
          "2006-11-15T20:00:00",
          "2004-03-17T14:06:00",
          "2012-07-21T05:20:00",
          "2016-04-28T01:35:00",
          "2009-08-22T20:00:00",
          "2012-01-10T21:30:00",
          "2006-10-03T21:59:00",
          "2013-08-17T23:58:00",
          "2011-06-06T01:30:00",
          "2000-05-25T22:14:00",
          "2010-02-15T21:00:00",
          null,
          "2005-09-24T20:00:00",
          "2009-06-25T19:00:00",
          "2000-03-18T17:10:00",
          "2011-02-03T10:00:00",
          "2006-04-17T18:10:00",
          "2012-06-14T04:57:00",
          null,
          "2013-12-11T12:00:00",
          "2004-04-11T16:00:00",
          "2006-04-17T18:11:00",
          "2015-07-16T17:48:00",
          "2008-04-13T13:15:00",
          "2015-02-02T09:41:00",
          "2012-02-23T15:02:00",
          "2011-06-27T19:00:00",
          "2008-09-15T20:00:00",
          "2010-09-08T01:27:00",
          "2014-03-04T09:00:00",
          "2009-07-07T19:00:00",
          "2001-06-06T19:09:00",
          "2009-04-28T23:30:00",
          "2008-06-19T20:30:00",
          "2015-04-21T04:00:00",
          "2011-01-24T13:30:00",
          "2009-07-19T21:00:00",
          "2012-04-21T04:27:00",
          "2009-08-05T19:00:00",
          "2014-02-08T09:00:00",
          "2011-08-05T19:00:00",
          "2004-03-16T14:45:00",
          "2012-03-05T11:00:00",
          "2013-10-27T22:27:00",
          "2011-08-29T19:00:00",
          "2015-05-26T18:30:00",
          "2005-05-30T14:30:00",
          "2008-10-01T23:59:00",
          "2006-04-17T18:30:00",
          "2015-05-28T01:25:00",
          "2011-06-29T18:04:00",
          "2001-06-15T20:00:00",
          "2013-12-27T11:00:00",
          "2008-09-27T19:00:00",
          "2014-01-18T09:45:00",
          "2014-06-12T09:11:00",
          "2004-06-02T13:00:00",
          "2015-07-30T19:00:00",
          "2006-04-21T22:00:00",
          "2009-03-01T15:00:00",
          "2010-08-24T09:30:00",
          null,
          "2016-04-20T07:55:00",
          "2007-05-03T20:00:00",
          "2009-06-14T22:00:00",
          "2011-09-30T06:00:00",
          "2004-05-11T18:00:00",
          "2015-08-13T04:05:00",
          "2009-01-06T18:00:00",
          "2009-07-08T19:00:00",
          "2011-03-15T19:14:00",
          "2005-05-08T22:00:00",
          "2001-03-15T15:00:00",
          "2011-12-02T20:30:00",
          "2014-07-01T17:00:00",
          "2009-01-25T20:00:00",
          "2004-07-17T08:00:00",
          "2013-11-20T16:47:00",
          "2015-11-10T14:00:00",
          "2008-05-11T20:43:00",
          null,
          "2009-01-22T17:05:00",
          "2008-12-20T20:20:00",
          "2008-06-15T20:42:00",
          "2014-05-15T12:13:00",
          "2013-11-20T13:06:00",
          "2013-11-17T13:40:00",
          "2011-07-29T12:00:00",
          "2011-10-27T02:36:00",
          "2013-11-20T11:59:00",
          "2014-05-11T13:00:00",
          "2012-10-23T09:16:00",
          "2012-07-24T16:30:00",
          "2011-11-22T23:16:00",
          "2005-01-16T23:00:00",
          "2012-08-04T07:20:00",
          "2010-06-20T00:30:00",
          "2006-04-05T16:25:00",
          "2013-06-26T17:00:00",
          "2011-05-25T23:59:00",
          "2008-06-04T23:59:00",
          "2008-06-23T13:45:00",
          "2007-09-17T19:48:00",
          "2012-07-28T17:19:00",
          "2012-04-23T12:47:00",
          "2012-08-16T13:13:00",
          "2011-07-28T13:32:00",
          "2011-05-28T11:00:00",
          "2008-08-05T21:50:00",
          "2013-11-07T10:10:00",
          "2010-06-24T02:21:00",
          "2008-12-30T16:37:00",
          "2009-02-13T20:03:00",
          "2008-06-22T17:05:00",
          "2008-07-24T19:32:00",
          "2010-06-18T00:30:00",
          "2009-02-05T18:00:00",
          "2014-06-08T05:30:00",
          null,
          "2000-12-18T18:00:00",
          "2000-08-11T18:00:00",
          "2015-07-15T09:23:00",
          "2013-04-17T16:53:00",
          "2014-06-11T16:30:00",
          "2011-05-26T06:00:00",
          "2014-05-08T01:01:00",
          "2015-05-12T00:45:00",
          "2011-05-25T09:10:00",
          "2010-06-25T13:40:00",
          null,
          "2007-08-28T22:49:00",
          "2012-06-30T02:00:00",
          "2010-10-28T11:00:00",
          "2012-07-19T06:00:00",
          "2013-11-17T22:30:00",
          "2006-10-03T18:00:00",
          "2010-06-20T13:00:00",
          "2005-06-24T23:06:00",
          "2011-07-01T17:00:00",
          "2014-07-02T18:30:00",
          "2009-06-19T23:59:00",
          "2004-08-04T19:00:00",
          "2011-07-24T09:00:00",
          "2012-07-03T15:00:00",
          null,
          "2012-07-24T22:00:00",
          "2008-05-30T23:00:00",
          "2013-06-25T17:46:00",
          "2011-06-23T02:00:00",
          "2003-07-07T15:00:00",
          "2013-08-31T01:30:00",
          "2011-04-19T22:00:00",
          "2008-08-06T20:00:00",
          "2011-08-03T19:00:00",
          "2004-07-22T19:00:00",
          "2006-03-14T12:00:00",
          "2007-12-23T21:00:00",
          "2007-07-19T14:00:00",
          "2015-08-03T02:00:00",
          "2003-11-12T19:00:00",
          "2000-08-07T12:00:00",
          "2014-01-09T09:00:00",
          "2008-06-15T20:00:00",
          "2012-08-05T12:10:00",
          "2010-10-29T04:00:00",
          "2003-07-05T19:00:00",
          "2011-06-09T12:00:00",
          "2006-07-18T21:00:00",
          "2011-02-02T14:00:00",
          "2011-07-11T09:00:00",
          "2008-06-09T19:00:00",
          "2011-07-21T15:00:00",
          "2009-05-14T23:20:00",
          "2012-02-15T16:00:00",
          "2011-12-08T16:30:00",
          "2012-02-11T08:55:00",
          "2010-12-19T22:00:00",
          "2014-01-24T17:00:00",
          "2015-09-04T15:00:00",
          "2011-08-09T17:00:00",
          "2012-04-23T15:35:00",
          "2012-04-19T16:00:00",
          "2015-05-18T15:47:00",
          "2012-12-03T12:30:00",
          "2011-06-08T12:58:00",
          "2012-10-29T09:01:00",
          "2004-01-10T17:00:00",
          "2006-12-02T18:00:00",
          "2011-09-01T16:00:00",
          "2011-12-31T21:26:00",
          "2012-01-20T15:00:00",
          "2012-03-26T13:24:00",
          "2015-07-21T13:12:00",
          "2015-12-09T11:00:00",
          "2007-01-17T12:00:00",
          "2012-03-28T10:17:00",
          "2016-07-13T13:01:00",
          "2011-09-25T16:00:00",
          "2011-11-30T11:00:00",
          "2011-12-06T17:00:00",
          "2013-11-04T06:00:00",
          "2011-08-08T16:00:00",
          "2015-03-10T10:53:00",
          "2011-04-19T16:04:00",
          "2011-09-30T16:00:00",
          "2016-03-11T11:59:00",
          null,
          "2011-07-20T16:30:00",
          "2006-02-08T20:00:00",
          null,
          "2011-07-28T19:25:00",
          null,
          "2012-02-15T17:30:00",
          "2009-04-24T12:29:00",
          "2012-04-03T20:25:00",
          "2016-04-12T16:43:00",
          "2013-07-12T10:01:00",
          "2012-12-17T07:00:00",
          "2007-10-22T23:36:00",
          "2011-02-10T13:00:00",
          "2013-01-28T18:00:00",
          "2012-01-27T09:40:00",
          null,
          "2008-08-15T17:00:00",
          "2011-07-27T12:08:00",
          "2010-11-24T20:00:00",
          "2012-02-24T11:49:00",
          "2011-02-09T17:00:00",
          "2013-08-26T20:16:00",
          "2012-08-11T17:00:00",
          "2011-09-09T16:00:00",
          "2011-06-30T22:31:00",
          "2011-06-27T18:55:00",
          "2011-09-20T17:00:00",
          "2011-10-07T16:00:00",
          null,
          null,
          null,
          "2012-07-06T15:06:00",
          "2006-12-15T20:00:00",
          "2012-04-12T16:30:00",
          "2014-06-18T19:00:00",
          "2011-08-18T16:00:00",
          "2003-12-08T19:00:00",
          "2012-05-11T11:20:00",
          "2013-07-25T13:15:00",
          null,
          "2011-12-20T09:31:00",
          "2012-01-24T11:22:00",
          "2011-12-19T16:00:00",
          "2015-06-29T19:42:00",
          "2011-09-14T16:00:00",
          "2011-06-22T20:12:00",
          "2012-04-23T16:30:00",
          "2006-12-20T22:00:00",
          "2006-02-06T12:01:00",
          "2006-12-16T16:00:00",
          "2011-07-29T17:00:00",
          "2006-11-19T14:35:00",
          "2011-06-20T10:36:00",
          "2012-01-29T12:45:00",
          "2014-03-03T01:49:00",
          "2006-12-28T23:59:00",
          "2012-05-29T19:40:00",
          "2004-04-30T12:00:00",
          "2011-08-22T16:00:00",
          "2012-01-15T09:35:00",
          "2015-08-31T07:00:00",
          "2012-01-04T12:14:00",
          "2013-05-09T16:21:00",
          "2011-06-30T23:25:00",
          "2015-02-19T15:20:00",
          "2015-02-17T07:30:00",
          "2013-12-27T12:43:00",
          "2013-07-14T15:22:00",
          "2003-07-01T15:50:00",
          "2013-10-26T07:14:00",
          "2013-08-22T11:49:00",
          "2004-08-09T12:00:00",
          "2009-12-10T23:00:00",
          "2014-05-27T16:53:00",
          "2014-01-13T16:45:00",
          "2014-01-16T13:57:00",
          "2000-06-14T17:00:00",
          null,
          "2014-06-11T09:31:00",
          "2016-02-26T20:22:00",
          null,
          "2013-12-11T01:01:00",
          "2011-04-28T16:10:00",
          "2014-01-01T08:00:00",
          null,
          "2004-08-09T12:00:00",
          "2015-02-05T08:17:00",
          "2011-02-02T09:57:00",
          "2014-03-18T00:56:00",
          "2004-06-14T14:39:00",
          "2003-07-28T20:35:00",
          "2012-07-02T08:11:00",
          "2004-01-29T17:00:00",
          "2006-02-14T17:44:00",
          "2008-06-07T17:30:00",
          "2004-12-02T23:59:00",
          "2006-02-14T23:00:00",
          "2005-07-29T16:00:00",
          "2013-01-07T10:43:00",
          "2012-10-11T00:01:00",
          "2011-02-03T14:30:00",
          "2012-10-24T00:01:00",
          "2014-01-28T21:00:00",
          "2011-10-17T10:42:00",
          "2012-03-04T06:58:00",
          "2011-08-29T08:00:00",
          "2012-10-25T00:01:00",
          "2013-03-29T10:17:00",
          "2003-11-14T19:30:00",
          "2011-02-27T18:00:00",
          "2012-11-08T09:35:00",
          "2013-02-15T00:01:00",
          "2014-01-24T09:00:00",
          "2005-07-26T22:50:00",
          "2012-09-25T00:00:00",
          "2010-07-30T23:30:00",
          "2012-10-30T00:02:00",
          "2003-09-26T22:50:00",
          "2011-01-29T17:00:00",
          "2013-06-27T02:45:00",
          "2006-06-03T14:00:00",
          "2012-07-03T01:00:00",
          "2011-05-04T13:25:00",
          "2013-03-03T18:20:00",
          "2013-02-16T07:54:00",
          "2012-10-31T11:00:00",
          "2013-02-13T09:30:00",
          "2014-02-05T08:06:00",
          "2003-11-16T16:00:00",
          "2012-10-22T00:01:00",
          "2003-08-29T12:00:00",
          "2012-06-06T12:37:00",
          "2013-06-21T10:00:00",
          "2012-09-08T18:45:00",
          "2008-06-05T13:00:00",
          "2016-04-15T20:42:00",
          "2009-06-11T17:00:00",
          "2007-04-18T17:00:00",
          "2011-03-14T16:55:00",
          "2012-10-24T00:01:00",
          "2012-10-09T00:01:00",
          "2003-08-31T18:00:00",
          "2007-02-17T17:30:00",
          "2010-07-27T18:00:00",
          "2011-09-04T23:30:00",
          "2012-07-05T11:50:00",
          "2015-04-07T17:34:00",
          "2005-07-30T21:07:00",
          "2013-01-16T14:25:00",
          "2006-07-29T21:36:00",
          "2011-11-07T15:00:00",
          "2010-04-18T17:00:00",
          "2011-05-09T06:40:00",
          "2013-09-11T00:02:00",
          "2010-02-12T12:00:00",
          "2011-11-03T23:00:00",
          "2008-06-14T15:59:00",
          "2012-11-04T22:50:00",
          "2006-09-04T23:00:00",
          "2006-06-03T21:00:00",
          "2010-09-26T00:00:00",
          "2012-07-09T23:00:00",
          "2005-06-07T22:00:00",
          "2011-08-28T00:30:00",
          "2006-01-16T17:30:00",
          "2016-01-11T23:00:00",
          "2010-09-24T23:30:00",
          "2004-12-02T22:09:00",
          "2003-07-24T17:33:00",
          "2011-10-31T14:00:00",
          "2005-07-28T21:24:00",
          "2015-06-23T19:00:00",
          "2014-01-06T20:49:00",
          "2011-02-04T23:59:00",
          "2012-11-06T00:00:00",
          "2008-09-19T12:38:00",
          "2011-02-20T04:00:00",
          "2016-07-23T19:53:00",
          "2008-09-14T23:59:00",
          "2010-03-16T18:40:00",
          "2011-08-29T22:00:00",
          "2014-02-05T05:01:00",
          "2011-07-11T09:00:00",
          "2008-09-19T16:30:00",
          "2009-02-15T22:00:00",
          "2012-07-27T18:14:00",
          "2007-08-09T16:11:00",
          "2006-07-23T23:59:00",
          "2014-02-07T04:03:00",
          "2014-01-07T06:19:00",
          "2010-07-07T22:29:00",
          "2011-05-27T18:00:00",
          "2014-02-09T20:40:00",
          "2008-03-10T13:44:00",
          "2014-01-06T20:44:00",
          "2011-10-18T05:25:00",
          "2002-12-26T05:00:00",
          "2011-08-30T02:58:00",
          "2012-07-28T23:30:00",
          "2002-12-27T08:30:00",
          "2011-11-07T19:58:00",
          "2011-10-26T23:00:00",
          "2012-11-07T23:48:00",
          "2015-10-29T17:00:00",
          "2010-06-29T23:59:00",
          "2010-02-14T16:00:00",
          "2011-07-29T07:26:00",
          "2014-01-06T22:01:00",
          "2009-02-12T23:00:00",
          "2011-08-14T19:00:00",
          "2009-05-29T19:57:00",
          "2015-06-01T02:15:00",
          "2008-09-14T16:30:00",
          "2008-02-06T15:00:00",
          "2009-01-29T16:30:00",
          "2009-01-31T17:15:00",
          "2008-03-12T20:00:00",
          "2008-09-21T17:00:00",
          "2009-02-07T17:00:00",
          "2011-10-06T11:07:00",
          "2015-10-13T08:30:00",
          "2014-05-12T13:15:00",
          "2013-11-24T07:39:00",
          "2013-11-16T15:16:00",
          "2013-12-30T11:01:00",
          "2014-01-06T14:38:00",
          "2015-04-01T18:26:00",
          "2016-01-17T13:00:00",
          "2015-04-02T08:57:00",
          "2016-05-20T01:00:00",
          "2015-10-16T12:56:00",
          "2011-07-05T11:37:00",
          "2014-01-15T14:45:00",
          "2013-12-06T08:49:00",
          "2011-04-11T17:51:00",
          "2007-07-16T21:00:00",
          "2011-05-13T06:00:00",
          "2013-11-20T03:09:00",
          "2008-02-14T22:46:00",
          "2011-12-02T13:11:00",
          "2011-04-26T14:00:00",
          "2016-06-07T12:15:00",
          "2011-02-25T10:45:00",
          "2015-02-01T11:44:00",
          "2016-04-15T11:00:00",
          "2014-03-24T11:08:00",
          "2011-08-15T03:40:00",
          "2011-09-14T14:00:00",
          "2014-03-05T17:07:00",
          "2011-03-08T08:00:00",
          "2011-04-21T16:50:00",
          "2010-07-24T23:55:00",
          "2009-07-28T20:33:00",
          "2014-05-20T07:02:00",
          "2013-07-18T03:59:00",
          "2016-02-07T13:42:00",
          "2013-11-02T08:26:00",
          "2011-05-02T10:46:00",
          "2015-05-04T15:26:00",
          "2013-08-04T04:00:00",
          "2004-05-24T12:00:00",
          null,
          "2004-05-24T12:00:00",
          "2006-08-01T19:00:00",
          "2011-08-08T09:30:00",
          "2015-11-01T12:00:00",
          "2012-05-07T18:06:00",
          "2011-03-18T15:34:00",
          "2008-09-17T12:00:00",
          "2008-01-30T12:48:00",
          "2003-07-11T16:00:00",
          "2012-07-04T18:00:00",
          "2011-08-28T20:00:00",
          "2012-07-18T19:05:00",
          "2009-02-15T15:00:00",
          "2005-01-13T18:00:00",
          "2013-07-11T20:00:00",
          "2003-08-16T20:27:00",
          "2011-12-14T03:19:00",
          "2005-04-06T12:00:00",
          "2011-07-01T22:38:00",
          "2014-01-17T12:20:00",
          "2003-01-26T14:00:00",
          "2012-07-27T17:22:00",
          "2005-04-27T18:00:00",
          "2008-07-23T15:30:00",
          "2012-06-01T04:30:00",
          "2013-02-07T09:47:00",
          "2010-06-22T20:31:00",
          "2011-09-22T14:51:00",
          "2008-09-22T17:11:00",
          "2006-12-02T18:00:00",
          "2011-07-11T13:13:00",
          "2009-02-12T18:00:00",
          "2008-09-22T15:20:00",
          "2011-10-17T15:44:00",
          "2011-07-22T17:26:00",
          "2011-08-31T12:52:00",
          "2011-06-08T06:00:00",
          "2009-12-10T18:30:00",
          "2011-04-30T18:30:00",
          "2012-11-05T23:59:00",
          "2014-01-22T20:19:00",
          "2000-06-02T06:00:00",
          "2005-09-15T15:00:00",
          "2006-06-11T21:00:00",
          "2011-04-17T16:30:00",
          "2013-01-17T21:20:00",
          "2012-02-13T16:25:00",
          "2011-06-16T01:45:00",
          "2012-07-01T23:00:00",
          "2014-02-15T15:20:00",
          "2012-12-26T19:40:00",
          "2015-02-27T12:00:00",
          "2012-07-01T22:15:00",
          "2016-07-09T19:25:00",
          "2008-02-11T16:00:00",
          "2000-08-20T12:00:00",
          "2014-01-08T13:20:00",
          "2011-08-27T05:15:00",
          "2014-05-25T19:00:00",
          "2003-03-01T20:00:00",
          "2011-05-11T17:20:00",
          "2006-09-01T22:00:00",
          "2005-03-08T15:00:00",
          "2013-06-14T18:30:00",
          "2012-12-31T16:30:00",
          "2010-04-27T14:55:00",
          "2003-09-19T17:00:00",
          "2004-09-18T12:00:00",
          "2011-08-29T13:31:00",
          "2014-03-13T12:00:00",
          "2013-10-16T18:00:00",
          "2013-06-14T17:35:00",
          "2016-07-07T08:40:00",
          "2009-12-19T23:15:00",
          "2014-01-07T11:00:00",
          "2011-08-29T23:30:00",
          null,
          "2008-09-06T22:30:00",
          "2003-09-18T12:00:00",
          "2010-06-09T15:00:00",
          "2014-03-07T21:00:00",
          "2016-06-14T08:00:00",
          "2015-06-23T20:30:00",
          "2006-09-04T17:00:00",
          "2011-08-30T00:30:00",
          null,
          "2011-11-06T12:00:00",
          "2008-05-14T12:00:00",
          "2011-10-14T14:20:00",
          "2012-07-09T19:01:00",
          null,
          "2008-06-14T23:30:00",
          "2008-12-10T16:12:00",
          "2011-09-12T15:30:00",
          "2011-08-29T16:00:00",
          "2015-06-30T18:00:00",
          "2016-01-23T09:05:00",
          "2011-09-28T14:59:00",
          "2006-02-14T16:00:00",
          "2008-06-09T20:25:00",
          "2011-11-14T14:24:00",
          "2014-01-23T03:08:00",
          "2012-11-06T12:00:00",
          "2011-10-20T07:15:00",
          "2011-09-26T10:15:00",
          "2010-06-29T12:00:00",
          "2012-07-07T17:33:00",
          null,
          "2012-11-04T23:00:00",
          "2010-03-16T00:00:00",
          "2011-08-01T04:24:00",
          "2011-08-30T00:23:00",
          "2010-02-13T16:00:00",
          "2012-11-04T23:00:00",
          "2011-11-07T13:00:00",
          "2010-03-20T12:59:00",
          "2004-08-29T18:00:00",
          "2011-06-04T16:00:00",
          "2014-01-08T09:00:00",
          "2014-02-15T08:40:00",
          "2000-01-28T12:00:00",
          "2004-01-28T20:00:00",
          "2000-02-03T12:00:00",
          "2014-01-07T23:00:00",
          "2011-03-14T15:46:00",
          "2011-12-20T08:45:00",
          "2015-03-15T19:00:00",
          "2014-04-27T12:09:00",
          "2013-08-08T13:00:00",
          "2016-02-21T17:07:00",
          "2015-01-26T14:40:00",
          "2008-12-10T20:29:00",
          "2012-02-28T07:00:00",
          null,
          "2006-12-17T20:00:00",
          "2011-08-01T14:18:00",
          "2014-02-14T15:00:00",
          "2016-07-04T00:40:00",
          "2014-01-27T11:00:00",
          "2013-06-22T21:28:00",
          "2006-12-17T12:00:00",
          "2011-05-06T10:30:00",
          "2013-08-12T11:59:00",
          "2011-08-28T23:39:00",
          "2015-01-22T05:55:00",
          "2006-12-17T13:00:00",
          "2013-05-14T13:59:00",
          "2015-10-30T16:00:00",
          "2014-02-18T18:44:00",
          "2015-09-29T15:41:00",
          "2010-02-12T15:46:00",
          "2011-08-29T15:30:00",
          "2010-08-05T22:00:00",
          "2003-09-28T18:00:00",
          "2011-01-31T08:00:00",
          "2013-02-08T14:17:00",
          "2014-01-06T20:44:00",
          "2013-06-13T16:00:00",
          "2012-07-05T12:52:00",
          "2010-08-12T21:00:00",
          "2015-12-10T22:30:00",
          "2009-05-08T21:00:00",
          "2009-01-30T21:20:00",
          "2009-01-30T18:00:00",
          "2014-01-21T12:39:00",
          "2013-08-29T09:50:00",
          null,
          "2007-08-14T12:00:00",
          "2008-12-02T19:00:00",
          "2011-05-31T12:01:00",
          "2011-05-25T12:30:00",
          "2011-04-22T23:00:00",
          "2016-05-15T17:24:00",
          null,
          "2013-06-01T20:00:00",
          "2013-03-01T10:00:00",
          "2002-02-10T09:00:00",
          "2010-07-06T04:37:00",
          "2012-01-13T09:20:00",
          "2013-05-29T09:53:00",
          "2012-11-26T15:08:00",
          "2011-04-06T10:50:00",
          "2011-09-30T08:22:00",
          "2012-06-29T10:45:00",
          "2011-01-25T11:00:00",
          "2012-04-07T12:26:00",
          "2013-04-09T11:31:00",
          "2011-02-19T16:34:00",
          "2014-04-25T07:30:00",
          "2012-10-24T15:16:00",
          "2013-03-28T13:02:00",
          "2016-02-24T10:15:00",
          "2012-07-19T12:33:00",
          "2012-03-23T19:34:00",
          "2011-09-21T10:30:00",
          "2011-09-28T16:41:00",
          "2013-08-23T07:31:00",
          null,
          "2012-04-07T09:32:00",
          "2012-03-16T16:00:00",
          "2013-05-17T08:36:00",
          "2012-11-21T14:51:00",
          "2013-08-22T14:45:00",
          "2012-10-25T19:30:00",
          "2016-06-17T04:31:00",
          "2012-11-26T12:38:00",
          "2013-04-23T11:01:00",
          "2013-06-28T17:15:00",
          "2013-05-15T14:12:00",
          "2012-04-07T14:36:00",
          "2016-07-21T14:45:00",
          "2016-01-14T12:00:00",
          "2015-06-26T16:00:00",
          "2013-06-21T23:15:00",
          "2013-11-01T13:27:00",
          "2014-01-06T20:45:00",
          "2011-01-27T09:30:00",
          "2012-01-12T08:26:00",
          "2014-03-14T16:45:00",
          "2007-02-24T23:47:00",
          "2013-01-17T10:58:00",
          "2014-04-10T12:00:00",
          "2012-04-03T08:28:00",
          "2014-03-13T00:00:00",
          "2007-02-25T12:47:00",
          "2008-06-18T16:00:00",
          "2014-03-26T14:33:00",
          "2013-06-22T17:45:00",
          "2010-06-17T11:02:00",
          "2003-04-05T14:00:00",
          "2012-11-12T14:00:00",
          "2012-11-08T19:00:00",
          "2011-08-30T05:00:00",
          "2000-05-09T23:00:00",
          "2001-06-25T21:39:00",
          "2011-08-28T12:31:00",
          "2011-11-02T08:15:00",
          "2011-05-08T19:35:00",
          "2013-12-24T23:59:00",
          "2007-07-12T18:00:00",
          "2016-05-27T00:40:00",
          "2014-03-03T17:25:00",
          "2016-05-07T09:02:00",
          "2004-01-17T12:00:00",
          "2012-07-31T11:00:00",
          "2010-08-16T12:00:00",
          "2008-12-19T13:24:00",
          "2013-05-30T10:16:00",
          "2015-11-13T11:35:00",
          "2013-05-31T14:53:00",
          "2014-02-23T07:00:00",
          "2013-07-21T20:00:00",
          "2010-03-20T09:00:00",
          "2008-12-15T12:00:00",
          "2011-05-11T11:30:00",
          "2008-02-01T14:50:00",
          "2011-01-30T05:00:00",
          "2011-03-05T09:30:00",
          "2008-06-13T17:30:00",
          "2014-03-20T00:01:00",
          "2003-08-15T21:03:00",
          "2011-01-11T23:08:00",
          "2011-08-19T10:00:00",
          "2013-07-19T17:30:00",
          "2011-11-02T21:30:00",
          null,
          "2007-06-27T16:30:00",
          "2011-08-30T00:01:00",
          "2010-03-17T16:00:00",
          "2011-07-22T18:00:00",
          "2010-03-02T19:00:00",
          "2011-05-05T12:00:00",
          "2006-02-17T12:00:00",
          "2010-02-25T16:00:00",
          "2016-06-13T07:27:00",
          "2003-08-18T12:03:00",
          "2010-06-16T11:32:00",
          "2003-11-14T18:30:00",
          "2004-01-10T19:00:00",
          "2011-09-03T00:01:00",
          "2005-06-08T18:00:00",
          "2011-08-30T00:01:00",
          "2015-07-29T21:00:00",
          "2013-07-19T06:45:00",
          "2015-09-13T20:37:00",
          "2008-06-11T14:05:00",
          "2011-09-13T18:21:00",
          "2006-10-21T23:00:00",
          "2011-09-03T05:01:00",
          "2011-01-12T06:00:00",
          "2006-10-23T12:00:00",
          "2012-11-04T11:36:00",
          "2012-06-06T08:00:00",
          "2013-08-01T16:00:00",
          "2011-03-18T09:00:00",
          "2011-11-04T00:00:00",
          "2004-02-16T12:00:00",
          "2006-07-25T15:06:00",
          "2007-06-27T16:30:00",
          "2014-03-21T08:00:00",
          "2008-09-19T21:00:00",
          "2009-07-14T18:00:00",
          "2004-06-07T16:00:00",
          "2010-08-04T11:00:00",
          "2010-08-04T11:00:00",
          "2005-08-30T18:00:00",
          "2004-10-26T22:00:00",
          "2010-08-04T11:00:00",
          "2016-05-22T05:00:00",
          "2010-08-04T11:00:00",
          "2005-07-06T21:00:00",
          "2010-06-17T16:40:00",
          "2012-01-11T01:05:00",
          "2004-07-25T21:00:00",
          null,
          "2005-08-29T12:42:00",
          "2009-04-24T23:21:00",
          "2011-04-20T08:14:00",
          "2009-06-24T22:00:00",
          "2008-10-02T21:50:00",
          "2008-09-10T16:00:00",
          "2010-06-17T17:47:00",
          "2009-07-15T18:00:00",
          "2008-09-13T19:22:00",
          "2008-09-27T14:40:00",
          "2005-09-28T18:00:00",
          "2010-06-17T17:17:00",
          "2012-08-31T12:55:00",
          "2012-08-31T12:00:00",
          "2008-05-30T20:00:00",
          "2010-06-17T16:40:00",
          "2009-07-16T18:00:00",
          "2013-05-20T21:09:00",
          "2014-04-23T20:37:00",
          null,
          "2010-01-08T18:00:00",
          "2005-10-06T14:30:00",
          "2012-08-30T14:00:00",
          "2011-04-27T09:59:00",
          "2010-04-21T20:00:00",
          "2013-03-18T18:07:00",
          "2012-08-27T02:04:00",
          "2005-09-12T20:00:00",
          "2005-09-28T23:29:00",
          "2008-02-26T16:11:00",
          "2008-08-25T20:00:00",
          "2016-04-01T18:00:00",
          "2002-08-09T12:13:00",
          "2011-04-01T23:59:00",
          "2005-10-24T16:00:00",
          "2008-02-26T15:45:00",
          "2004-05-31T12:00:00",
          "2004-05-31T12:00:00",
          "2004-08-13T23:00:00",
          "2004-04-12T22:15:00",
          "2004-07-13T17:15:00",
          "2010-01-11T09:57:00",
          "2005-09-07T15:00:00",
          "2004-05-31T12:00:00",
          "2008-02-26T14:40:00",
          "2009-01-09T23:25:00",
          "2004-09-06T20:00:00",
          "2005-09-29T12:00:00",
          "2008-08-22T22:00:00",
          "2013-06-17T18:49:00",
          "2004-09-30T21:00:00",
          "2004-08-13T20:24:00",
          "2005-11-10T12:00:00",
          "2008-02-26T13:47:00",
          "2008-02-26T14:10:00",
          "2004-10-01T12:00:00",
          "2013-08-02T00:49:00",
          "2004-09-12T12:00:00",
          "2008-06-23T23:28:00",
          "2004-09-27T12:00:00",
          "2004-09-12T19:00:00",
          "2005-10-24T14:00:00",
          "2004-09-26T21:00:00",
          "2004-08-23T00:00:00",
          "2005-09-08T12:01:00",
          "2004-08-14T16:23:00",
          "2004-09-05T14:00:00",
          "2011-03-31T20:30:00",
          "2011-01-13T08:13:00",
          "2003-12-05T18:25:00",
          "2007-09-04T15:30:00",
          "2008-05-08T12:56:00",
          "2006-05-19T22:30:00",
          "2015-10-13T20:39:00",
          "2014-02-06T22:00:00",
          "2013-04-26T10:55:00",
          "2008-01-29T12:17:00",
          "2006-07-24T17:33:00",
          "2005-07-21T17:30:00",
          "2013-08-20T06:02:00",
          "2005-09-12T13:56:00",
          "2005-08-08T16:00:00",
          "2013-06-24T01:35:00",
          "2008-07-03T13:10:00",
          "2015-02-05T11:21:00",
          "2013-02-20T12:55:00",
          "2011-03-21T10:00:00",
          "2010-09-27T18:12:00",
          "2013-07-05T01:51:00",
          "2015-09-20T13:44:00",
          "2011-12-02T10:00:00",
          "2015-07-15T02:55:00",
          "2010-09-01T12:44:00",
          "2011-07-12T21:30:00",
          "2007-08-29T14:57:00",
          "2011-02-23T16:53:00",
          "2009-11-18T22:00:00",
          null,
          "2008-01-04T16:30:00",
          "2010-04-01T00:55:00",
          "2008-09-30T14:05:00",
          "2006-12-31T21:13:00",
          "2007-05-14T13:50:00",
          "2004-03-08T18:55:00",
          "2008-02-02T16:27:00",
          "2006-12-10T22:14:00",
          null,
          "2008-02-15T19:36:00",
          "2004-10-20T21:00:00",
          "2008-06-21T18:53:00",
          "2010-01-20T15:00:00",
          "2006-10-02T20:39:00",
          "2015-07-01T21:00:00",
          "2014-02-06T19:15:00",
          "2015-06-02T19:24:00",
          "2015-06-02T08:36:00",
          "2015-04-07T15:46:00",
          "2013-04-23T04:04:00",
          "2013-11-12T14:05:00",
          "2013-03-03T10:29:00",
          "2009-10-13T17:50:00",
          "2013-10-21T05:33:00",
          "2001-03-20T14:33:00",
          "2006-05-03T21:35:00",
          "2007-08-30T18:00:00",
          "2005-01-10T20:00:00",
          "2010-01-19T12:24:00",
          "2013-11-22T03:20:00",
          "2012-04-06T15:30:00",
          "2002-08-25T09:17:00",
          "2015-03-29T09:21:00",
          "2013-07-22T15:00:00",
          "2016-04-02T11:33:00",
          null,
          "2016-02-13T16:27:00",
          "2006-03-01T14:30:00",
          "2011-12-02T13:05:00",
          "2006-07-27T16:00:00",
          "2015-07-03T14:30:00",
          "2011-02-19T10:13:00",
          "2013-04-18T15:25:00",
          "2011-02-28T17:30:00",
          "2015-12-10T17:56:00",
          "2010-05-18T22:46:00",
          "2004-02-26T22:00:00",
          "2005-08-25T20:00:00",
          "2007-07-05T18:00:00",
          "2005-08-25T20:00:00",
          "2013-06-28T20:46:00",
          "2007-08-31T20:00:00",
          "2015-06-30T21:00:00",
          "2007-04-12T23:23:00",
          "2002-11-10T12:00:00",
          "2011-03-11T09:15:00",
          "2008-01-14T17:00:00",
          "2001-01-18T12:00:00",
          "2010-02-20T04:01:00",
          "2001-05-08T17:30:00",
          "2010-11-01T01:45:00",
          "2003-12-22T23:16:00",
          "2008-07-10T17:21:00",
          "2010-12-15T09:00:00",
          "2013-07-03T10:52:00",
          "2010-12-04T02:00:00",
          "2010-04-01T00:38:00",
          "2015-02-04T11:56:00",
          "2010-01-28T08:00:00",
          "2002-02-27T11:35:00",
          "2004-10-28T18:08:00",
          "2004-12-27T22:50:00",
          "2010-01-24T18:10:00",
          "2012-04-17T17:48:00",
          "2008-12-26T15:34:00",
          "2012-10-14T10:50:00",
          "2004-01-01T23:30:00",
          null,
          "2003-11-18T22:54:00",
          "2009-10-09T19:10:00",
          "2015-07-18T22:45:00",
          "2007-05-21T16:50:00",
          "2008-02-01T19:49:00",
          "2015-12-10T04:08:00",
          "2004-08-04T13:50:00",
          "2005-11-03T19:00:00",
          "2012-06-02T11:35:00",
          "2009-12-08T16:00:00",
          null,
          "2009-10-13T22:30:00",
          "2010-07-29T19:26:00",
          "2008-07-01T12:00:00",
          null,
          "2009-06-05T20:18:00",
          "2010-08-02T23:00:00",
          "2011-03-27T17:00:00",
          null,
          "2008-11-07T23:54:00",
          "2006-01-05T21:00:00",
          "2006-07-24T17:33:00",
          "2009-04-23T19:58:00",
          "2012-07-10T04:00:00",
          "2002-12-21T05:00:00",
          "2012-12-04T09:00:00",
          "2016-04-06T19:47:00",
          "2015-10-18T23:29:00",
          "2003-07-02T15:59:00",
          "2015-07-27T04:36:00",
          "2012-08-04T04:21:00",
          "2005-07-22T18:00:00",
          null,
          "2015-03-26T16:59:00",
          "2014-05-08T08:40:00",
          "2011-06-09T14:15:00",
          "2010-11-06T18:08:00",
          "2010-06-06T05:35:00",
          "2010-09-22T23:00:00",
          "2011-06-05T20:55:00",
          "2001-03-19T21:00:00",
          "2011-02-04T12:00:00",
          "2010-10-07T06:00:00",
          "2009-08-31T12:00:00",
          "2015-06-20T15:30:00",
          "2008-09-09T12:28:00",
          "2011-06-04T03:25:00",
          "2007-05-10T13:47:00",
          "2008-07-02T23:28:00",
          "2011-03-21T14:45:00",
          "2010-12-14T07:25:00",
          "2015-07-18T21:03:00",
          "2011-03-24T19:10:00",
          "2010-10-27T17:27:00",
          "2012-12-06T21:31:00",
          "2012-06-21T05:30:00",
          "2004-05-03T19:00:00",
          "2007-10-26T22:46:00",
          "2010-07-29T19:26:00",
          null,
          "2012-10-05T17:50:00",
          "2001-05-08T17:00:00",
          "2011-12-07T21:00:00",
          "2001-05-07T18:00:00",
          "2007-10-22T14:22:00",
          "2007-10-22T14:22:00",
          "2004-01-02T16:00:00",
          "2008-12-21T21:17:00",
          "2001-03-20T14:11:00",
          "2007-10-26T22:43:00",
          "2008-12-19T18:17:00",
          "2014-05-16T21:00:00",
          "2007-04-12T21:02:00",
          "2004-02-17T23:57:00",
          "2014-02-06T19:39:00",
          "2001-01-21T14:50:00",
          "2002-12-19T04:00:00",
          "2009-06-17T14:00:00",
          null,
          "2007-10-22T14:43:00",
          "2015-12-10T07:13:00",
          "2015-05-11T08:33:00",
          "2010-11-23T18:12:00",
          "2013-07-19T10:05:00",
          "2009-03-08T23:45:00",
          "2009-07-21T20:43:00",
          "2015-04-06T12:08:00",
          "2009-12-08T12:00:00",
          "2007-09-03T17:30:00",
          "2008-11-15T22:10:00",
          "2010-06-26T01:38:00",
          "2008-02-09T15:33:00",
          "2012-02-28T06:12:00",
          "2005-04-22T15:59:00",
          "2010-11-24T16:46:00",
          null,
          "2004-07-21T14:00:00",
          "2013-10-19T22:00:00",
          "2008-07-10T17:00:00",
          "2007-03-02T20:45:00",
          null,
          "2003-12-21T23:45:00",
          "2008-11-07T23:54:00",
          "2014-04-08T13:01:00",
          "2009-02-03T17:00:00",
          "2011-02-24T16:54:00",
          "2009-01-29T18:00:00",
          "2012-03-02T15:30:00",
          "2013-10-11T18:30:00",
          "2012-09-08T01:00:00",
          "2013-08-21T14:01:00",
          "2011-04-20T19:14:00",
          "2013-05-31T01:30:00",
          "2011-04-28T17:00:00",
          "2015-07-15T11:55:00",
          "2012-06-29T21:00:00",
          "2010-06-22T19:00:00",
          "2011-08-03T21:00:00",
          "2011-06-08T15:00:00",
          "2012-02-17T11:33:00",
          "2002-12-09T10:30:00",
          "2011-06-20T23:59:00",
          "2006-07-19T17:54:00",
          "2005-08-20T16:21:00",
          "2013-09-29T01:00:00",
          "2014-04-04T08:15:00",
          "2013-10-06T09:15:00",
          "2012-07-16T12:29:00",
          "2015-11-04T09:00:00",
          "2008-06-16T23:19:00",
          "2011-07-04T21:00:00",
          "2011-08-23T13:51:00",
          "2013-12-09T14:22:00",
          "2013-05-29T00:02:00",
          "2004-07-07T23:54:00",
          "2015-07-15T12:15:00",
          "2003-11-13T15:51:00",
          null,
          "2011-12-07T22:57:00",
          "2013-01-31T04:48:00",
          "2011-01-27T18:18:00",
          "2012-10-30T19:35:00",
          "2011-06-12T20:30:00",
          "2011-05-25T12:40:00",
          "2007-07-19T22:15:00",
          "2010-07-29T20:07:00",
          "2010-07-25T20:06:00",
          "2001-08-09T19:12:00",
          "2012-07-04T15:36:00",
          "2009-03-04T20:17:00",
          "2012-09-09T19:46:00",
          "2010-08-08T00:00:00",
          "2009-03-03T18:00:00",
          "2008-06-05T21:30:00",
          "2008-02-10T23:36:00",
          "2013-03-07T10:27:00",
          "2002-12-13T10:00:00",
          "2006-07-03T12:31:00",
          "2003-07-09T19:09:00",
          "2007-08-20T13:10:00",
          "2006-07-04T20:18:00",
          "2010-09-20T17:30:00",
          "2011-02-25T18:00:00",
          "2006-02-12T14:00:00",
          "2013-06-14T17:16:00",
          "2012-06-26T13:45:00",
          "2010-08-12T11:00:00",
          "2008-06-27T17:30:00",
          "2004-06-12T17:41:00",
          "2007-01-06T14:25:00",
          "2009-10-13T14:34:00",
          "2011-11-04T10:46:00",
          "2011-05-11T13:35:00",
          "2013-08-28T09:31:00",
          "2013-06-18T16:23:00",
          "2010-11-04T10:47:00",
          "2012-06-13T22:09:00",
          "2013-02-21T11:30:00",
          "2000-03-18T19:08:00",
          "2013-08-06T17:32:00",
          "2013-02-09T15:00:00",
          "2013-01-16T19:26:00",
          "2013-02-02T22:15:00",
          "2013-11-12T10:30:00",
          "2013-06-28T13:01:00",
          "2012-10-15T14:16:00",
          "2012-11-02T12:10:00",
          "2012-03-30T11:30:00",
          "2014-02-12T14:16:00",
          "2011-07-06T09:52:00",
          "2012-05-07T14:00:00",
          "2011-06-23T09:00:00",
          "2012-04-03T11:25:00",
          "2004-02-26T13:30:00",
          "2005-01-30T15:00:00",
          "2004-01-27T20:00:00",
          "2004-09-08T12:00:00",
          "2011-05-28T04:44:00",
          "2011-06-19T15:42:00",
          "2005-12-16T12:10:00",
          "2015-02-18T07:00:00",
          "2006-11-15T17:00:00",
          "2008-05-12T14:30:00",
          "2004-11-24T16:00:00",
          "2014-02-21T21:00:00",
          "2009-06-13T18:00:00",
          "2014-02-15T04:30:00",
          "2004-09-27T14:00:00",
          "2011-06-16T06:00:00",
          "2012-04-15T21:26:00",
          "2011-05-02T14:00:00",
          "2013-11-04T09:05:00",
          "2011-08-29T07:40:00",
          "2009-06-29T21:00:00",
          "2013-04-01T08:41:00",
          "2011-07-01T08:01:00",
          "2008-05-27T15:52:00",
          "2013-01-31T10:00:00",
          "2013-03-23T09:00:00",
          "2011-09-23T09:04:00",
          "2007-05-19T17:00:00",
          "2010-07-21T20:00:00",
          "2011-09-28T13:00:00",
          "2010-03-15T20:05:00",
          "2002-11-21T08:00:00",
          "2006-07-18T22:32:00",
          "2012-01-09T15:30:00",
          "2008-10-27T19:00:00",
          "2015-12-28T17:00:00",
          "2012-01-05T12:25:00",
          "2002-02-07T12:00:00",
          "2012-05-31T10:00:00",
          "2011-08-09T12:00:00",
          "2010-02-02T12:00:00",
          "2011-08-03T09:16:00",
          "2010-02-01T17:00:00",
          "2007-12-19T20:00:00",
          null,
          "2016-07-15T04:00:00",
          "2006-08-07T18:00:00",
          null,
          "2011-08-10T16:30:00",
          "2013-05-22T17:00:00",
          "2011-08-03T23:40:00",
          "2013-06-04T10:30:00",
          "2013-07-25T04:30:00",
          "2011-07-26T12:01:00",
          "2004-06-06T18:00:00",
          "2015-11-30T13:00:00",
          "2015-12-31T21:40:00",
          "2012-01-05T12:25:00",
          "2011-05-26T17:00:00",
          "2011-01-12T14:00:00",
          "2012-06-23T19:28:00",
          "2011-08-28T12:11:00",
          "2011-01-18T14:00:00",
          "2012-04-11T09:00:00",
          "2001-03-06T11:00:00",
          "2013-02-12T04:00:00",
          "2012-04-21T20:09:00",
          "2012-10-30T18:16:00",
          "2012-11-01T01:30:00",
          "2004-08-20T21:45:00",
          "2016-03-31T15:00:00",
          "2012-05-25T17:29:00",
          "2013-03-27T12:19:00",
          "2003-12-01T20:11:00",
          "2013-07-10T14:45:00",
          "2013-02-15T17:50:00",
          "2012-11-15T05:39:00",
          "2007-12-02T22:00:00",
          "2011-07-11T13:30:00",
          "2011-08-25T00:01:00",
          "2007-04-18T22:18:00",
          "2011-07-19T15:00:00",
          "2015-12-29T08:31:00",
          "2011-07-12T12:00:00",
          "2009-02-24T13:46:00",
          "2006-01-18T18:34:00",
          "2008-12-14T21:52:00",
          "2008-02-14T12:00:00",
          "2010-11-08T18:00:00",
          null,
          "2013-12-25T11:32:00",
          "2013-05-28T18:00:00",
          "2009-07-03T13:25:00",
          "2008-07-24T17:41:00",
          "2012-10-30T15:02:00",
          "2007-04-06T13:10:00",
          "2012-10-31T11:00:00",
          "2012-11-07T14:48:00",
          "2012-02-24T01:00:00",
          "2011-07-24T15:47:00",
          "2011-03-17T11:00:00",
          "2012-10-30T13:25:00",
          "2011-05-10T15:00:00",
          "2011-05-05T09:15:00",
          "2013-05-14T11:42:00",
          "2007-04-16T19:00:00",
          "2011-05-09T13:11:00",
          "2011-03-21T02:29:00",
          "2011-11-13T12:00:00",
          "2012-11-27T13:40:00",
          "2011-01-27T17:00:00",
          "2013-06-21T12:14:00",
          "2015-12-08T14:01:00",
          "2011-05-22T18:34:00",
          "2012-10-29T15:01:00",
          "2016-03-27T13:00:00",
          "2012-01-11T09:07:00",
          "2013-05-01T09:24:00",
          "2013-04-03T14:00:00",
          null,
          "2011-10-27T15:00:00",
          "2009-07-22T19:00:00",
          "2011-07-13T22:03:00",
          "2015-02-09T13:15:00",
          "2016-03-25T23:59:00",
          "2012-10-30T15:01:00",
          "2010-06-08T01:00:00",
          "2006-02-18T16:09:00",
          "2012-06-08T17:25:00",
          "2012-10-25T18:00:00",
          "2006-10-27T17:10:00",
          "2012-02-11T10:30:00",
          null,
          "2015-03-19T21:37:00",
          "2015-12-03T12:29:00",
          "2015-04-03T07:48:00",
          "2007-12-20T15:30:00",
          "2015-12-05T22:30:00",
          "2011-06-27T07:59:00",
          null,
          "2005-01-14T12:00:00",
          "2008-12-27T17:00:00",
          "2011-05-02T20:00:00",
          "2006-10-15T16:12:00",
          "2006-06-01T18:09:00",
          "2006-10-16T14:55:00",
          "2016-07-19T19:29:00",
          "2011-12-21T10:30:00",
          "2004-06-23T19:10:00",
          "2011-01-23T13:00:00",
          "2003-06-16T17:00:00",
          "2011-06-16T06:30:00",
          "2016-03-08T00:00:00",
          null,
          "2016-07-19T19:25:00",
          "2011-12-06T20:00:00",
          null,
          "2009-08-29T23:53:00",
          "2009-08-29T14:01:00",
          null
         ],
         "xaxis": "x",
         "y": [
          70000,
          null,
          70000,
          68200,
          250000,
          60000,
          63000,
          300000,
          5941,
          400000,
          193000,
          200000,
          0,
          0,
          55951,
          null,
          null,
          null,
          64000,
          57000,
          null,
          50001,
          0,
          null,
          null,
          null,
          106300,
          63000,
          56475,
          null,
          null,
          73000,
          215,
          50000,
          38500,
          105000,
          null,
          null,
          null,
          80000,
          63000,
          136000,
          65904,
          null,
          null,
          null,
          null,
          0,
          null,
          null,
          null,
          48000,
          7000,
          null,
          null,
          52000,
          null,
          0,
          110000,
          7600,
          63000,
          0,
          null,
          null,
          120000,
          null,
          null,
          51160,
          null,
          null,
          66383,
          208000,
          265000,
          113000,
          53000,
          245000,
          null,
          145314,
          60000,
          2100000,
          425000,
          78213,
          150000,
          164000,
          140000,
          70793,
          134288,
          60000,
          69000,
          75000,
          105000,
          118000,
          201580,
          325325,
          118000,
          131000,
          160000,
          0,
          50000,
          133777,
          125000,
          248209,
          162000,
          160895,
          210517,
          111000,
          247847,
          68000,
          null,
          50000,
          285000,
          86915,
          122000,
          65562,
          50114,
          null,
          252089,
          2,
          137000,
          80000,
          null,
          53000,
          130000,
          182000,
          0,
          50000,
          60175,
          146500,
          101000,
          null,
          239663,
          230000,
          150000,
          111393,
          250000,
          138802,
          75000,
          358000,
          127534,
          122600,
          140735,
          66000,
          160000,
          156627,
          0,
          114711,
          99188,
          85000,
          159870,
          75000,
          72520,
          100000,
          99000,
          272355,
          315000,
          190000,
          58156,
          82000,
          168000,
          0,
          197166,
          103000,
          129607,
          138000,
          138000,
          56000,
          105000,
          65000,
          30000,
          null,
          86013,
          52000,
          3314,
          null,
          null,
          119000,
          57000,
          454000,
          null,
          489478,
          126000,
          79741,
          null,
          null,
          118000,
          0,
          108000,
          238000,
          null,
          96000,
          280982,
          98700,
          null,
          79000,
          0,
          200000,
          85000,
          200000,
          null,
          null,
          68530,
          67000,
          2142678,
          null,
          130252,
          60000,
          0,
          262000,
          null,
          null,
          null,
          192000,
          71823,
          0,
          73000,
          0,
          64801,
          211266,
          62000,
          null,
          null,
          83000,
          100000,
          70000,
          214864,
          80000,
          null,
          null,
          219681,
          78000,
          2000000,
          500000,
          null,
          715000,
          null,
          100000,
          1069730,
          51404,
          175000,
          43000,
          881000,
          85000,
          68000,
          17311,
          488689,
          null,
          0,
          0,
          238392,
          340350,
          null,
          null,
          24506,
          158000,
          234393,
          89000,
          0,
          73000,
          120377,
          null,
          null,
          0,
          63000,
          null,
          171117,
          0,
          57531,
          123000,
          2504366,
          9000,
          61000,
          0,
          36073,
          null,
          113247,
          null,
          null,
          500000,
          null,
          82000,
          132000,
          81586,
          70000,
          415103,
          300000,
          800000,
          65000,
          62500,
          100000,
          157019,
          null,
          null,
          243000,
          114000,
          null,
          127000,
          null,
          135000,
          61705,
          0,
          9700,
          124000,
          9700,
          50000,
          9700,
          null,
          75065,
          7500,
          201000,
          null,
          61705,
          56000,
          9800,
          82621,
          0,
          114791,
          61413,
          94345,
          186000,
          86615,
          215387,
          70000,
          null,
          9600,
          52702,
          null,
          0,
          null,
          141000,
          63000,
          null,
          53000,
          9700,
          53700,
          null,
          58000,
          null,
          75000,
          65000,
          160000,
          60000,
          75000,
          111644,
          null,
          null,
          10000,
          null,
          0,
          0,
          300000,
          101830,
          629590,
          109000,
          192106,
          181000,
          190000,
          471932,
          400000,
          51500,
          121000,
          420000,
          245000,
          127000,
          169000,
          320000,
          11000,
          330000,
          109000,
          283451,
          300000,
          72000,
          157000,
          80000,
          653000,
          71500,
          200000,
          65400,
          237000,
          135000,
          115000,
          51000,
          239567,
          null,
          165000,
          325000,
          127000,
          130000,
          169000,
          170519,
          190000,
          500000,
          125000,
          null,
          68800,
          null,
          null,
          null,
          92090,
          null,
          250000,
          null,
          null,
          null,
          null,
          0,
          null,
          0,
          145000,
          63992,
          null,
          null,
          426000,
          null,
          null,
          76300,
          110433,
          null,
          0,
          null,
          0,
          null,
          105000,
          null,
          null,
          0,
          null,
          0,
          0,
          null,
          140000,
          56000,
          null,
          500000,
          0,
          93300,
          0,
          0,
          null,
          0,
          160000,
          0,
          null,
          null,
          89000,
          8000,
          null,
          123535,
          null,
          0,
          null,
          null,
          null,
          0,
          null,
          null,
          null,
          0,
          300000,
          null,
          null,
          175000,
          null,
          null,
          null,
          200000,
          null,
          null,
          null,
          null,
          null,
          null,
          0,
          null,
          0,
          null,
          172060,
          123827,
          75000,
          null,
          50000,
          0,
          null,
          null,
          700000,
          null,
          187000,
          null,
          null,
          64000,
          null,
          null,
          160000,
          null,
          null,
          null,
          null,
          47000,
          null,
          null,
          null,
          140000,
          null,
          null,
          null,
          40911,
          0,
          null,
          2713,
          null,
          null,
          null,
          null,
          null,
          null,
          null,
          69000,
          null,
          30000,
          90000,
          60000,
          70000,
          60000,
          108000,
          122000,
          180000,
          87600,
          null,
          0,
          0,
          0,
          null,
          0,
          null,
          108000,
          null,
          null,
          104195,
          93000,
          0,
          null,
          null,
          55118,
          0,
          297700,
          0,
          650000,
          234326,
          null,
          70000,
          86390,
          0,
          null,
          1,
          219000,
          1,
          181000,
          110000,
          0,
          133000,
          0,
          null,
          65000,
          249408,
          0,
          85091,
          138000,
          null,
          0,
          0,
          153000,
          155183,
          124000,
          760113,
          600000,
          null,
          64943,
          null,
          167564,
          50000,
          120000,
          null,
          null,
          57000,
          146721,
          198000,
          400000,
          146094,
          111555,
          52000,
          64500,
          143000,
          200717,
          142315,
          0,
          82861,
          105312,
          185000,
          109335,
          93837,
          200000,
          62000,
          213000,
          850000,
          124596,
          118000,
          null,
          105000,
          177528,
          264000,
          715000,
          null,
          160875,
          132000,
          65112,
          55000,
          492955,
          62159,
          null,
          43903,
          120001,
          144000,
          168449,
          null,
          0,
          106000,
          284000,
          65000,
          95630,
          312359,
          0,
          270000,
          35000,
          355000,
          223000,
          null,
          null,
          78000,
          181700,
          null,
          110,
          375000,
          76000,
          383000,
          190000,
          0,
          18000,
          3500,
          0,
          0,
          null,
          null,
          null,
          null,
          null,
          37,
          0,
          5763,
          85179,
          0,
          0,
          null,
          null,
          0,
          null,
          0,
          null,
          74031,
          60000,
          0,
          0,
          0,
          null,
          0,
          null,
          0,
          0,
          null,
          0,
          0,
          null,
          null,
          null,
          null,
          0,
          null,
          0,
          null,
          null,
          281000,
          null,
          127000,
          null,
          0,
          0,
          null,
          null,
          95000,
          45000,
          134500,
          175000,
          107833,
          67000,
          184000,
          246990,
          122314,
          1203000,
          0,
          211000,
          0,
          null,
          null,
          57054,
          150000,
          56000,
          0,
          0,
          50636,
          0,
          564728,
          59106,
          0,
          184000,
          245164,
          2000,
          23000,
          0,
          52747,
          48102,
          86000,
          346000,
          null,
          100000,
          60000,
          72000,
          220000,
          12000,
          null,
          70135,
          6100,
          200000,
          1200,
          103776,
          69106,
          203345,
          50718,
          130000,
          null,
          1200,
          null,
          340000,
          71000,
          61000,
          51600,
          53000,
          12000,
          29376,
          50000,
          112000,
          136000,
          61377,
          0,
          175000,
          0,
          47000,
          null,
          285465,
          50000,
          57000,
          320000,
          4196,
          370900,
          0,
          156338,
          100000,
          650000,
          null,
          197000,
          135000,
          0,
          95400,
          73000,
          248800,
          156729,
          0,
          140000,
          263000,
          50900,
          0,
          130000,
          75654,
          0,
          null,
          50000,
          0,
          0,
          150000,
          205000,
          null,
          217000,
          180000,
          67900,
          665000,
          221000,
          null,
          379000,
          360000,
          125000,
          50465,
          677858,
          120124,
          133000,
          150000,
          81000,
          677858,
          9000,
          2500,
          71000,
          null,
          null,
          0,
          null,
          3,
          null,
          null,
          249500,
          null,
          null,
          0,
          null,
          null,
          111000,
          0,
          null,
          0,
          null,
          84500,
          null,
          0,
          null,
          null,
          97651,
          220000,
          76729,
          530000,
          210000,
          52000,
          null,
          40000,
          425000,
          101003,
          null,
          83000,
          null,
          62500,
          null,
          null,
          0,
          63000,
          53000,
          20000,
          70000,
          55000,
          0,
          0,
          100000,
          56444,
          95000,
          18400,
          0,
          null,
          null,
          0,
          0,
          0,
          0,
          0,
          null,
          0,
          null,
          0,
          null,
          0,
          null,
          0,
          0,
          0,
          null,
          null,
          0,
          0,
          null,
          null,
          null,
          0,
          0,
          0,
          null,
          null,
          null,
          0,
          0,
          0,
          65000,
          null,
          null,
          null,
          0,
          0,
          null,
          140000,
          null,
          null,
          0,
          null,
          215000,
          21000,
          null,
          null,
          null,
          160000,
          632816,
          818000,
          152261,
          null,
          null,
          116000,
          145000,
          0,
          59000,
          300000,
          56645,
          null,
          0,
          18600,
          null,
          null,
          190000,
          null,
          null,
          61795,
          null,
          74300,
          173000,
          60000,
          0,
          54316,
          null,
          null,
          68000,
          null,
          3125350,
          0,
          null,
          null,
          50000,
          null,
          137000,
          100000,
          153000,
          null,
          55000,
          0,
          200000,
          150000,
          null,
          null,
          null,
          50280,
          18600,
          99700,
          65000,
          180000,
          null,
          null,
          0,
          61000,
          0,
          120000,
          50000,
          null,
          250000,
          371000,
          null,
          null,
          null,
          161151,
          18600,
          25000,
          null,
          null,
          null,
          null,
          59057,
          null,
          null,
          1100000,
          null,
          null,
          85000,
          null,
          287000,
          null,
          1,
          null,
          57184,
          143000,
          11000,
          11000,
          null,
          null,
          246092,
          null,
          null,
          150000,
          50000,
          190000,
          null,
          95000,
          50000,
          null,
          null,
          null,
          21800,
          28000,
          242910,
          null,
          125000,
          68018,
          null,
          null,
          0,
          440000,
          0,
          0,
          584384,
          430000,
          0,
          25000,
          50000,
          105000,
          150000,
          0,
          0,
          1200000,
          179000,
          42124,
          null,
          0,
          0,
          53965,
          31000,
          2775093,
          0,
          101950,
          37,
          110000,
          78000,
          84900,
          56000,
          47661,
          722000,
          104498,
          832898,
          32593,
          285300,
          268000,
          3241437,
          26000,
          502000,
          0,
          23000,
          26000,
          87000,
          20900,
          16500,
          null,
          null,
          null,
          null,
          null,
          0,
          null,
          null,
          128050,
          124000,
          900000,
          null,
          148000,
          37784,
          null,
          6810,
          79000,
          null,
          2500,
          null,
          150000,
          null,
          15000,
          null,
          26000,
          0,
          null,
          null,
          150000,
          290000,
          10000,
          850068,
          null,
          70000,
          null,
          null,
          null,
          10008,
          407440,
          477,
          50000,
          130000,
          null,
          null,
          727,
          484,
          0,
          1,
          48400,
          58850,
          94000,
          433,
          null,
          55655,
          null,
          442000,
          30000,
          89500,
          null,
          null,
          null,
          null,
          null,
          null,
          4300,
          160000,
          100000,
          1271893,
          0,
          80000,
          0,
          80000,
          null,
          null,
          505000,
          null,
          null,
          409000,
          65255,
          null,
          null,
          null,
          939000,
          6800,
          2606931,
          null,
          null,
          null,
          null,
          109750,
          null,
          null,
          0,
          7077,
          null,
          null,
          1700000,
          255000,
          59458,
          95000,
          147223,
          0,
          50000,
          2035,
          241000,
          426,
          108000,
          null,
          78164,
          null,
          null,
          9956,
          182000,
          null,
          null,
          null,
          430984,
          859554,
          null,
          null,
          65000,
          70,
          null,
          165000,
          null,
          140000,
          1667316,
          null,
          280000,
          0,
          385000,
          125000,
          0,
          55677,
          1,
          484,
          127,
          133900,
          32000,
          null,
          null,
          0,
          4,
          2650,
          null,
          5314,
          null,
          null,
          73514,
          null,
          0,
          null,
          420,
          null,
          200000,
          54332,
          6635,
          70,
          128000,
          2674,
          null,
          null,
          940,
          20345,
          null,
          0,
          null,
          70848,
          91690,
          null,
          300000,
          90323,
          263000,
          null,
          25000,
          104000,
          638,
          1400000,
          158977,
          null,
          null,
          null,
          1500000,
          null,
          1400000,
          68780,
          9956,
          0,
          7077,
          123000,
          null,
          1,
          80000,
          null,
          null,
          115500,
          null,
          0,
          1,
          null,
          60000,
          null,
          null,
          null,
          0,
          671189,
          null,
          120000,
          400000,
          null,
          111818,
          null,
          215700,
          null,
          null,
          64951,
          null,
          null,
          null,
          13000,
          null,
          7935,
          25159,
          0,
          13000,
          null,
          43000,
          null,
          8000,
          50797,
          null,
          57200,
          9200,
          null,
          null,
          115000,
          51580,
          0,
          88000,
          null,
          88110,
          52739,
          67000,
          37000,
          60000,
          119000,
          150084,
          156000,
          56000,
          175000,
          107000,
          55000,
          81000,
          600000,
          880000,
          null,
          119000,
          145157,
          217000,
          253800,
          114618,
          233000,
          130000,
          75000,
          80000,
          58500,
          67000,
          null,
          50000,
          126000,
          283000,
          190000,
          null,
          126000,
          120212,
          15000,
          35500,
          0,
          0,
          null,
          null,
          null,
          0,
          null,
          500000,
          null,
          null,
          0,
          null,
          null,
          null,
          0,
          0,
          null,
          null,
          null,
          0,
          0,
          0,
          47165,
          82000,
          30689,
          150000,
          218783,
          93828,
          52659,
          186035,
          109000,
          80539,
          83450,
          66445,
          102000,
          373835,
          85455,
          169000,
          null,
          0,
          null,
          158000,
          50752,
          null,
          0,
          56400,
          75000,
          null,
          0,
          67000,
          50100,
          null,
          50246,
          224912,
          0,
          null,
          52000,
          54476,
          0,
          1881134,
          112000,
          14500,
          68705,
          null,
          null,
          256663,
          50500,
          96966,
          null,
          35000,
          54000,
          41306,
          null,
          127000,
          92748,
          0,
          56874,
          55609,
          1500,
          null,
          54000,
          80000,
          29250,
          50000,
          0,
          0,
          130000,
          50000,
          null,
          50000,
          50000,
          380000,
          50500,
          null,
          null,
          300000,
          0,
          1,
          0,
          0,
          0,
          0,
          127545,
          null,
          0,
          0,
          131000,
          63000,
          169757,
          50462,
          60863,
          null,
          52500,
          0,
          0,
          110000,
          50000,
          117142,
          50000,
          0,
          0,
          0,
          null,
          0,
          0,
          0,
          null,
          102568,
          0,
          null,
          0,
          0,
          0,
          1100,
          0,
          null,
          null,
          110000,
          0,
          35230,
          0,
          0,
          204000,
          86058,
          null,
          null,
          0,
          null,
          31000,
          null,
          30379,
          0,
          65000,
          0,
          270000,
          null,
          0,
          70000,
          95000,
          0,
          null,
          110000,
          211000,
          294000,
          62000,
          59886,
          29300,
          291000,
          null,
          0,
          35000,
          0,
          0,
          null,
          0,
          0,
          null,
          34500,
          null,
          null,
          null,
          14273
         ],
         "yaxis": "y"
        }
       ],
       "layout": {
        "legend": {
         "tracegroupgap": 0
        },
        "template": {
         "data": {
          "bar": [
           {
            "error_x": {
             "color": "#2a3f5f"
            },
            "error_y": {
             "color": "#2a3f5f"
            },
            "marker": {
             "line": {
              "color": "#E5ECF6",
              "width": 0.5
             },
             "pattern": {
              "fillmode": "overlay",
              "size": 10,
              "solidity": 0.2
             }
            },
            "type": "bar"
           }
          ],
          "barpolar": [
           {
            "marker": {
             "line": {
              "color": "#E5ECF6",
              "width": 0.5
             },
             "pattern": {
              "fillmode": "overlay",
              "size": 10,
              "solidity": 0.2
             }
            },
            "type": "barpolar"
           }
          ],
          "carpet": [
           {
            "aaxis": {
             "endlinecolor": "#2a3f5f",
             "gridcolor": "white",
             "linecolor": "white",
             "minorgridcolor": "white",
             "startlinecolor": "#2a3f5f"
            },
            "baxis": {
             "endlinecolor": "#2a3f5f",
             "gridcolor": "white",
             "linecolor": "white",
             "minorgridcolor": "white",
             "startlinecolor": "#2a3f5f"
            },
            "type": "carpet"
           }
          ],
          "choropleth": [
           {
            "colorbar": {
             "outlinewidth": 0,
             "ticks": ""
            },
            "type": "choropleth"
           }
          ],
          "contour": [
           {
            "colorbar": {
             "outlinewidth": 0,
             "ticks": ""
            },
            "colorscale": [
             [
              0,
              "#0d0887"
             ],
             [
              0.1111111111111111,
              "#46039f"
             ],
             [
              0.2222222222222222,
              "#7201a8"
             ],
             [
              0.3333333333333333,
              "#9c179e"
             ],
             [
              0.4444444444444444,
              "#bd3786"
             ],
             [
              0.5555555555555556,
              "#d8576b"
             ],
             [
              0.6666666666666666,
              "#ed7953"
             ],
             [
              0.7777777777777778,
              "#fb9f3a"
             ],
             [
              0.8888888888888888,
              "#fdca26"
             ],
             [
              1,
              "#f0f921"
             ]
            ],
            "type": "contour"
           }
          ],
          "contourcarpet": [
           {
            "colorbar": {
             "outlinewidth": 0,
             "ticks": ""
            },
            "type": "contourcarpet"
           }
          ],
          "heatmap": [
           {
            "colorbar": {
             "outlinewidth": 0,
             "ticks": ""
            },
            "colorscale": [
             [
              0,
              "#0d0887"
             ],
             [
              0.1111111111111111,
              "#46039f"
             ],
             [
              0.2222222222222222,
              "#7201a8"
             ],
             [
              0.3333333333333333,
              "#9c179e"
             ],
             [
              0.4444444444444444,
              "#bd3786"
             ],
             [
              0.5555555555555556,
              "#d8576b"
             ],
             [
              0.6666666666666666,
              "#ed7953"
             ],
             [
              0.7777777777777778,
              "#fb9f3a"
             ],
             [
              0.8888888888888888,
              "#fdca26"
             ],
             [
              1,
              "#f0f921"
             ]
            ],
            "type": "heatmap"
           }
          ],
          "heatmapgl": [
           {
            "colorbar": {
             "outlinewidth": 0,
             "ticks": ""
            },
            "colorscale": [
             [
              0,
              "#0d0887"
             ],
             [
              0.1111111111111111,
              "#46039f"
             ],
             [
              0.2222222222222222,
              "#7201a8"
             ],
             [
              0.3333333333333333,
              "#9c179e"
             ],
             [
              0.4444444444444444,
              "#bd3786"
             ],
             [
              0.5555555555555556,
              "#d8576b"
             ],
             [
              0.6666666666666666,
              "#ed7953"
             ],
             [
              0.7777777777777778,
              "#fb9f3a"
             ],
             [
              0.8888888888888888,
              "#fdca26"
             ],
             [
              1,
              "#f0f921"
             ]
            ],
            "type": "heatmapgl"
           }
          ],
          "histogram": [
           {
            "marker": {
             "pattern": {
              "fillmode": "overlay",
              "size": 10,
              "solidity": 0.2
             }
            },
            "type": "histogram"
           }
          ],
          "histogram2d": [
           {
            "colorbar": {
             "outlinewidth": 0,
             "ticks": ""
            },
            "colorscale": [
             [
              0,
              "#0d0887"
             ],
             [
              0.1111111111111111,
              "#46039f"
             ],
             [
              0.2222222222222222,
              "#7201a8"
             ],
             [
              0.3333333333333333,
              "#9c179e"
             ],
             [
              0.4444444444444444,
              "#bd3786"
             ],
             [
              0.5555555555555556,
              "#d8576b"
             ],
             [
              0.6666666666666666,
              "#ed7953"
             ],
             [
              0.7777777777777778,
              "#fb9f3a"
             ],
             [
              0.8888888888888888,
              "#fdca26"
             ],
             [
              1,
              "#f0f921"
             ]
            ],
            "type": "histogram2d"
           }
          ],
          "histogram2dcontour": [
           {
            "colorbar": {
             "outlinewidth": 0,
             "ticks": ""
            },
            "colorscale": [
             [
              0,
              "#0d0887"
             ],
             [
              0.1111111111111111,
              "#46039f"
             ],
             [
              0.2222222222222222,
              "#7201a8"
             ],
             [
              0.3333333333333333,
              "#9c179e"
             ],
             [
              0.4444444444444444,
              "#bd3786"
             ],
             [
              0.5555555555555556,
              "#d8576b"
             ],
             [
              0.6666666666666666,
              "#ed7953"
             ],
             [
              0.7777777777777778,
              "#fb9f3a"
             ],
             [
              0.8888888888888888,
              "#fdca26"
             ],
             [
              1,
              "#f0f921"
             ]
            ],
            "type": "histogram2dcontour"
           }
          ],
          "mesh3d": [
           {
            "colorbar": {
             "outlinewidth": 0,
             "ticks": ""
            },
            "type": "mesh3d"
           }
          ],
          "parcoords": [
           {
            "line": {
             "colorbar": {
              "outlinewidth": 0,
              "ticks": ""
             }
            },
            "type": "parcoords"
           }
          ],
          "pie": [
           {
            "automargin": true,
            "type": "pie"
           }
          ],
          "scatter": [
           {
            "fillpattern": {
             "fillmode": "overlay",
             "size": 10,
             "solidity": 0.2
            },
            "type": "scatter"
           }
          ],
          "scatter3d": [
           {
            "line": {
             "colorbar": {
              "outlinewidth": 0,
              "ticks": ""
             }
            },
            "marker": {
             "colorbar": {
              "outlinewidth": 0,
              "ticks": ""
             }
            },
            "type": "scatter3d"
           }
          ],
          "scattercarpet": [
           {
            "marker": {
             "colorbar": {
              "outlinewidth": 0,
              "ticks": ""
             }
            },
            "type": "scattercarpet"
           }
          ],
          "scattergeo": [
           {
            "marker": {
             "colorbar": {
              "outlinewidth": 0,
              "ticks": ""
             }
            },
            "type": "scattergeo"
           }
          ],
          "scattergl": [
           {
            "marker": {
             "colorbar": {
              "outlinewidth": 0,
              "ticks": ""
             }
            },
            "type": "scattergl"
           }
          ],
          "scattermapbox": [
           {
            "marker": {
             "colorbar": {
              "outlinewidth": 0,
              "ticks": ""
             }
            },
            "type": "scattermapbox"
           }
          ],
          "scatterpolar": [
           {
            "marker": {
             "colorbar": {
              "outlinewidth": 0,
              "ticks": ""
             }
            },
            "type": "scatterpolar"
           }
          ],
          "scatterpolargl": [
           {
            "marker": {
             "colorbar": {
              "outlinewidth": 0,
              "ticks": ""
             }
            },
            "type": "scatterpolargl"
           }
          ],
          "scatterternary": [
           {
            "marker": {
             "colorbar": {
              "outlinewidth": 0,
              "ticks": ""
             }
            },
            "type": "scatterternary"
           }
          ],
          "surface": [
           {
            "colorbar": {
             "outlinewidth": 0,
             "ticks": ""
            },
            "colorscale": [
             [
              0,
              "#0d0887"
             ],
             [
              0.1111111111111111,
              "#46039f"
             ],
             [
              0.2222222222222222,
              "#7201a8"
             ],
             [
              0.3333333333333333,
              "#9c179e"
             ],
             [
              0.4444444444444444,
              "#bd3786"
             ],
             [
              0.5555555555555556,
              "#d8576b"
             ],
             [
              0.6666666666666666,
              "#ed7953"
             ],
             [
              0.7777777777777778,
              "#fb9f3a"
             ],
             [
              0.8888888888888888,
              "#fdca26"
             ],
             [
              1,
              "#f0f921"
             ]
            ],
            "type": "surface"
           }
          ],
          "table": [
           {
            "cells": {
             "fill": {
              "color": "#EBF0F8"
             },
             "line": {
              "color": "white"
             }
            },
            "header": {
             "fill": {
              "color": "#C8D4E3"
             },
             "line": {
              "color": "white"
             }
            },
            "type": "table"
           }
          ]
         },
         "layout": {
          "annotationdefaults": {
           "arrowcolor": "#2a3f5f",
           "arrowhead": 0,
           "arrowwidth": 1
          },
          "autotypenumbers": "strict",
          "coloraxis": {
           "colorbar": {
            "outlinewidth": 0,
            "ticks": ""
           }
          },
          "colorscale": {
           "diverging": [
            [
             0,
             "#8e0152"
            ],
            [
             0.1,
             "#c51b7d"
            ],
            [
             0.2,
             "#de77ae"
            ],
            [
             0.3,
             "#f1b6da"
            ],
            [
             0.4,
             "#fde0ef"
            ],
            [
             0.5,
             "#f7f7f7"
            ],
            [
             0.6,
             "#e6f5d0"
            ],
            [
             0.7,
             "#b8e186"
            ],
            [
             0.8,
             "#7fbc41"
            ],
            [
             0.9,
             "#4d9221"
            ],
            [
             1,
             "#276419"
            ]
           ],
           "sequential": [
            [
             0,
             "#0d0887"
            ],
            [
             0.1111111111111111,
             "#46039f"
            ],
            [
             0.2222222222222222,
             "#7201a8"
            ],
            [
             0.3333333333333333,
             "#9c179e"
            ],
            [
             0.4444444444444444,
             "#bd3786"
            ],
            [
             0.5555555555555556,
             "#d8576b"
            ],
            [
             0.6666666666666666,
             "#ed7953"
            ],
            [
             0.7777777777777778,
             "#fb9f3a"
            ],
            [
             0.8888888888888888,
             "#fdca26"
            ],
            [
             1,
             "#f0f921"
            ]
           ],
           "sequentialminus": [
            [
             0,
             "#0d0887"
            ],
            [
             0.1111111111111111,
             "#46039f"
            ],
            [
             0.2222222222222222,
             "#7201a8"
            ],
            [
             0.3333333333333333,
             "#9c179e"
            ],
            [
             0.4444444444444444,
             "#bd3786"
            ],
            [
             0.5555555555555556,
             "#d8576b"
            ],
            [
             0.6666666666666666,
             "#ed7953"
            ],
            [
             0.7777777777777778,
             "#fb9f3a"
            ],
            [
             0.8888888888888888,
             "#fdca26"
            ],
            [
             1,
             "#f0f921"
            ]
           ]
          },
          "colorway": [
           "#636efa",
           "#EF553B",
           "#00cc96",
           "#ab63fa",
           "#FFA15A",
           "#19d3f3",
           "#FF6692",
           "#B6E880",
           "#FF97FF",
           "#FECB52"
          ],
          "font": {
           "color": "#2a3f5f"
          },
          "geo": {
           "bgcolor": "white",
           "lakecolor": "white",
           "landcolor": "#E5ECF6",
           "showlakes": true,
           "showland": true,
           "subunitcolor": "white"
          },
          "hoverlabel": {
           "align": "left"
          },
          "hovermode": "closest",
          "mapbox": {
           "style": "light"
          },
          "paper_bgcolor": "white",
          "plot_bgcolor": "#E5ECF6",
          "polar": {
           "angularaxis": {
            "gridcolor": "white",
            "linecolor": "white",
            "ticks": ""
           },
           "bgcolor": "#E5ECF6",
           "radialaxis": {
            "gridcolor": "white",
            "linecolor": "white",
            "ticks": ""
           }
          },
          "scene": {
           "xaxis": {
            "backgroundcolor": "#E5ECF6",
            "gridcolor": "white",
            "gridwidth": 2,
            "linecolor": "white",
            "showbackground": true,
            "ticks": "",
            "zerolinecolor": "white"
           },
           "yaxis": {
            "backgroundcolor": "#E5ECF6",
            "gridcolor": "white",
            "gridwidth": 2,
            "linecolor": "white",
            "showbackground": true,
            "ticks": "",
            "zerolinecolor": "white"
           },
           "zaxis": {
            "backgroundcolor": "#E5ECF6",
            "gridcolor": "white",
            "gridwidth": 2,
            "linecolor": "white",
            "showbackground": true,
            "ticks": "",
            "zerolinecolor": "white"
           }
          },
          "shapedefaults": {
           "line": {
            "color": "#2a3f5f"
           }
          },
          "ternary": {
           "aaxis": {
            "gridcolor": "white",
            "linecolor": "white",
            "ticks": ""
           },
           "baxis": {
            "gridcolor": "white",
            "linecolor": "white",
            "ticks": ""
           },
           "bgcolor": "#E5ECF6",
           "caxis": {
            "gridcolor": "white",
            "linecolor": "white",
            "ticks": ""
           }
          },
          "title": {
           "x": 0.05
          },
          "xaxis": {
           "automargin": true,
           "gridcolor": "white",
           "linecolor": "white",
           "ticks": "",
           "title": {
            "standoff": 15
           },
           "zerolinecolor": "white",
           "zerolinewidth": 2
          },
          "yaxis": {
           "automargin": true,
           "gridcolor": "white",
           "linecolor": "white",
           "ticks": "",
           "title": {
            "standoff": 15
           },
           "zerolinecolor": "white",
           "zerolinewidth": 2
          }
         }
        },
        "title": {
         "text": "Bivariate Analysis: OUTAGE.RESTORATION vs CUSTOMERS.AFFECTED"
        },
        "xaxis": {
         "anchor": "y",
         "domain": [
          0,
          1
         ],
         "title": {
          "text": "Outage Restoration"
         }
        },
        "yaxis": {
         "anchor": "x",
         "domain": [
          0,
          1
         ],
         "title": {
          "text": "Customers Affected"
         }
        }
       }
      }
     },
     "metadata": {},
     "output_type": "display_data"
    },
    {
     "data": {
      "application/vnd.plotly.v1+json": {
       "config": {
        "plotlyServerURL": "https://plot.ly"
       },
       "data": [
        {
         "alignmentgroup": "True",
         "hovertemplate": "NERC.REGION=%{x}<br>CUSTOMERS.AFFECTED=%{y}<extra></extra>",
         "legendgroup": "",
         "marker": {
          "color": "#636efa"
         },
         "name": "",
         "notched": false,
         "offsetgroup": "",
         "orientation": "v",
         "showlegend": false,
         "type": "box",
         "x": [
          "MRO",
          "MRO",
          "MRO",
          "MRO",
          "MRO",
          "MRO",
          "MRO",
          "MRO",
          "MRO",
          "MRO",
          "MRO",
          "MRO",
          "MRO",
          "MRO",
          "MRO",
          "SERC",
          "SERC",
          "SERC",
          "SERC",
          "SERC",
          "SERC",
          "SERC",
          "SERC",
          "SERC",
          "SERC",
          "SERC",
          "SERC",
          "SERC",
          "SERC",
          "SERC",
          "SERC",
          "SERC",
          "SERC",
          "SERC",
          "SERC",
          "SERC",
          "SERC",
          "SERC",
          "SERC",
          "SERC",
          "SERC",
          "SERC",
          "SERC",
          "SERC",
          "SERC",
          "SERC",
          "SERC",
          "SERC",
          "SERC",
          "MRO",
          "MRO",
          "RFC",
          "MRO",
          "RFC",
          "MRO",
          "RFC",
          "MRO",
          "MRO",
          "RFC",
          "MRO",
          "MRO",
          "MRO",
          "MRO",
          "MRO",
          "MRO",
          "MRO",
          "MRO",
          "MRO",
          "MRO",
          "RFC",
          "RFC",
          "RFC",
          "RFC",
          "RFC",
          "ECAR",
          "ECAR",
          "RFC",
          "RFC",
          "RFC",
          "ECAR",
          "ECAR",
          "RFC",
          "RFC",
          "RFC",
          "RFC",
          "RFC",
          "RFC",
          "RFC",
          "RFC",
          "RFC",
          "ECAR",
          "RFC",
          "ECAR",
          "RFC",
          "ECAR",
          "ECAR",
          "RFC",
          "RFC",
          "RFC",
          "RFC",
          "RFC",
          "ECAR",
          "RFC",
          "RFC",
          "RFC",
          "RFC",
          "RFC",
          "RFC",
          "RFC",
          "RFC",
          "RFC",
          "RFC",
          "ECAR",
          "RFC",
          "RFC",
          "RFC",
          "RFC",
          "RFC",
          "RFC",
          "RFC",
          "RFC",
          "RFC",
          "RFC",
          "RFC",
          "RFC",
          "RFC",
          "RFC",
          "RFC",
          "ECAR",
          "RFC",
          "RFC",
          "RFC",
          "RFC",
          "RFC",
          "ECAR",
          "RFC",
          "RFC",
          "RFC",
          "RFC",
          "ECAR",
          "RFC",
          "RFC",
          "ECAR",
          "RFC",
          "RFC",
          "ECAR",
          "RFC",
          "RFC",
          "ECAR",
          "RFC",
          "RFC",
          "RFC",
          "RFC",
          "ECAR",
          "RFC",
          "ECAR",
          "RFC",
          "RFC",
          "RFC",
          "RFC",
          "RFC",
          "RFC",
          "RFC",
          "RFC",
          "RFC",
          "RFC",
          "RFC",
          "RFC",
          "TRE",
          "TRE",
          "TRE",
          "TRE",
          "WECC",
          "TRE",
          "TRE",
          "TRE",
          "TRE",
          "TRE",
          "TRE",
          "TRE",
          "TRE",
          "TRE",
          "WECC",
          "TRE",
          "SPP",
          "TRE",
          "TRE",
          "TRE",
          "TRE",
          "TRE",
          "TRE",
          "WECC",
          "TRE",
          "TRE",
          "TRE",
          "TRE",
          "TRE",
          "TRE",
          "TRE",
          "SPP",
          "TRE",
          "TRE",
          "TRE",
          "TRE",
          "TRE",
          "TRE",
          "SERC",
          "TRE",
          "TRE",
          "TRE",
          "TRE",
          "TRE",
          "TRE",
          "TRE",
          "TRE",
          "TRE",
          "TRE",
          "TRE",
          "TRE",
          "TRE",
          "TRE",
          "TRE",
          "WECC",
          "SPP",
          "TRE",
          "TRE",
          "TRE",
          "TRE",
          "TRE",
          "TRE",
          "SPP",
          "TRE",
          "TRE",
          "TRE",
          "TRE",
          "TRE",
          "TRE",
          "TRE",
          "TRE",
          "FRCC",
          "TRE",
          "TRE",
          "TRE",
          "SPP",
          "TRE",
          "TRE",
          "TRE",
          "TRE",
          "TRE",
          "TRE",
          "TRE",
          "TRE",
          "TRE",
          "TRE",
          "TRE",
          "TRE",
          "WECC",
          "TRE",
          "TRE",
          "TRE",
          "TRE",
          "TRE",
          "TRE",
          "SERC",
          "TRE",
          "TRE",
          "SPP",
          "TRE",
          "TRE",
          "TRE",
          "TRE",
          "SPP",
          "TRE",
          "TRE",
          "TRE",
          "TRE",
          "TRE",
          "TRE",
          "TRE",
          "TRE",
          "WECC",
          "TRE",
          "TRE",
          "TRE",
          "TRE",
          "TRE",
          "TRE",
          "TRE",
          "TRE",
          "TRE",
          "TRE",
          "TRE",
          "TRE",
          "TRE",
          "TRE",
          "RFC",
          "RFC",
          "ECAR",
          "RFC",
          "RFC",
          "RFC",
          "ECAR",
          "RFC",
          "RFC",
          "RFC",
          "RFC",
          "RFC",
          "RFC",
          "RFC",
          "RFC",
          "RFC",
          "RFC",
          "RFC",
          "RFC",
          "RFC",
          "ECAR",
          "RFC",
          "RFC",
          "RFC",
          "RFC",
          "RFC",
          "RFC",
          "RFC",
          "RFC",
          "RFC",
          "RFC",
          "RFC",
          "RFC",
          "RFC",
          "RFC",
          "RFC",
          "RFC",
          "RFC",
          "RFC",
          "RFC",
          "RFC",
          "RFC",
          "RFC",
          "SERC",
          "SERC",
          "SERC",
          "SERC",
          "SERC",
          "SERC",
          "SERC",
          "SERC",
          "SERC",
          "SERC",
          "RFC",
          "RFC",
          "SERC",
          "RFC",
          "RFC",
          "RFC",
          "RFC",
          "RFC",
          "RFC",
          "RFC",
          "RFC",
          "RFC",
          "RFC",
          "SERC",
          "RFC",
          "RFC",
          "RFC",
          "SERC",
          "RFC",
          "RFC",
          "RFC",
          "RFC",
          "SERC",
          "RFC",
          "SERC",
          "RFC",
          "RFC",
          "RFC",
          "RFC",
          "RFC",
          "RFC",
          "RFC",
          "RFC",
          "SERC",
          "RFC",
          "RFC",
          "RFC",
          "RFC",
          "SERC",
          "RFC",
          "RFC",
          "RFC",
          "RFC",
          "RFC",
          "SERC",
          "SERC",
          "WECC",
          "WECC",
          "WECC",
          "WECC",
          "WECC",
          "WECC",
          "WECC",
          "WECC",
          "WECC",
          "WECC",
          "WECC",
          "WECC",
          "WECC",
          "WECC",
          "WECC",
          "WECC",
          "WECC",
          "WECC",
          "WECC",
          "WECC",
          "WECC",
          "WECC",
          "WECC",
          "WECC",
          "WECC",
          "WECC",
          "WECC",
          "WECC",
          "WECC",
          "WECC",
          "WECC",
          "WECC",
          "WECC",
          "WECC",
          "WECC",
          "WECC",
          "WECC",
          "WECC",
          "WECC",
          "WECC",
          "WECC",
          "WECC",
          "WECC",
          "WECC",
          "WECC",
          "WECC",
          "WECC",
          "WECC",
          "WECC",
          "WECC",
          "WECC",
          "WECC",
          "WECC",
          "WECC",
          "WECC",
          "WECC",
          "WECC",
          "WECC",
          "WECC",
          "WECC",
          "WECC",
          "WECC",
          "WECC",
          "WECC",
          "WECC",
          "WECC",
          "WECC",
          "WECC",
          "WECC",
          "WECC",
          "WECC",
          "WECC",
          "WECC",
          "WECC",
          "WECC",
          "WECC",
          "WECC",
          "WECC",
          "WECC",
          "WECC",
          "WECC",
          "WECC",
          "WECC",
          "WECC",
          "WECC",
          "WECC",
          "WECC",
          "WECC",
          "WECC",
          "WECC",
          "WECC",
          "WECC",
          "WECC",
          "WECC",
          "WECC",
          "WECC",
          "WECC",
          "WECC",
          "WECC",
          "WECC",
          "WECC",
          "WECC",
          "WECC",
          "WECC",
          "WECC",
          "WECC",
          "WECC",
          "WECC",
          "WECC",
          "WECC",
          "WECC",
          "WECC",
          "WECC",
          "WECC",
          "WECC",
          "WECC",
          "WECC",
          "WECC",
          "WECC",
          "WECC",
          "WECC",
          "WECC",
          "WECC",
          "WECC",
          "WECC",
          "RFC",
          "RFC",
          "RFC",
          "RFC",
          "RFC",
          "RFC",
          "RFC",
          "RFC",
          "RFC",
          "RFC",
          "RFC",
          "RFC",
          "RFC",
          "RFC",
          "RFC",
          "RFC",
          "RFC",
          "RFC",
          "RFC",
          "RFC",
          "RFC",
          "RFC",
          "RFC",
          "RFC",
          "RFC",
          "RFC",
          "RFC",
          "RFC",
          "RFC",
          "RFC",
          "RFC",
          "RFC",
          "RFC",
          "RFC",
          "RFC",
          "RFC",
          "RFC",
          "RFC",
          "RFC",
          "RFC",
          "RFC",
          "RFC",
          "RFC",
          "RFC",
          "RFC",
          "RFC",
          "RFC",
          "RFC",
          "RFC",
          "RFC",
          "RFC",
          "RFC",
          "RFC",
          "RFC",
          "RFC",
          "RFC",
          "RFC",
          "RFC",
          "RFC",
          "RFC",
          "RFC",
          "RFC",
          "RFC",
          "RFC",
          "RFC",
          "RFC",
          "RFC",
          "RFC",
          "RFC",
          "RFC",
          "RFC",
          "RFC",
          "RFC",
          "RFC",
          "RFC",
          "RFC",
          "RFC",
          "RFC",
          "RFC",
          "RFC",
          "RFC",
          "RFC",
          "RFC",
          "RFC",
          "RFC",
          "RFC",
          "RFC",
          "RFC",
          "RFC",
          "RFC",
          "RFC",
          "RFC",
          "RFC",
          "RFC",
          "RFC",
          "RFC",
          "RFC",
          "RFC",
          "RFC",
          "RFC",
          "RFC",
          "RFC",
          "RFC",
          "RFC",
          "RFC",
          "RFC",
          "RFC",
          "RFC",
          "RFC",
          "RFC",
          "RFC",
          "RFC",
          "RFC",
          "RFC",
          "RFC",
          "SERC",
          "RFC",
          "RFC",
          "SERC",
          "SERC",
          "SERC",
          "RFC",
          "SERC",
          "RFC",
          "SERC",
          "RFC",
          "RFC",
          "RFC",
          "WECC",
          "WECC",
          "WECC",
          "WECC",
          "WECC",
          "WECC",
          "RFC",
          "WECC",
          "WECC",
          "WECC",
          "WECC",
          "WECC",
          "WECC",
          "WECC",
          "WECC",
          "WECC",
          "WECC",
          "WECC",
          "WECC",
          "WECC",
          "WECC",
          "WECC",
          "WECC",
          "WECC",
          "WECC",
          "WECC",
          "WECC",
          "WECC",
          "WECC",
          "WECC",
          "WECC",
          "WECC",
          "WECC",
          "WECC",
          "WECC",
          "WECC",
          "WECC",
          "WECC",
          "WECC",
          "WECC",
          "WECC",
          "ECAR",
          "ECAR",
          "ECAR",
          "RFC",
          "RFC",
          "RFC",
          "RFC",
          "RFC",
          "RFC",
          "RFC",
          "ECAR",
          "RFC",
          "RFC",
          "RFC",
          "RFC",
          "ECAR",
          "RFC",
          "ECAR",
          "RFC",
          "ECAR",
          "RFC",
          "RFC",
          "ECAR",
          "RFC",
          "ECAR",
          "RFC",
          "RFC",
          "RFC",
          "RFC",
          "RFC",
          "RFC",
          "RFC",
          "RFC",
          "RFC",
          "RFC",
          "RFC",
          "RFC",
          "RFC",
          "RFC",
          "RFC",
          "RFC",
          "RFC",
          "RFC",
          "SERC",
          "SERC",
          "SERC",
          "SERC",
          "SERC",
          "SERC",
          "SERC",
          "SERC",
          "SERC",
          "SERC",
          "SERC",
          "SERC",
          "SERC",
          "SERC",
          "SERC",
          "SERC",
          "SERC",
          "SERC",
          "SERC",
          "SERC",
          "SERC",
          "SERC",
          "SERC",
          "SERC",
          "SERC",
          "SERC",
          "SERC",
          "SERC",
          "SERC",
          "SERC",
          "SERC",
          "SERC",
          "SERC",
          "SERC",
          "SERC",
          "SERC",
          "SERC",
          "SERC",
          "SERC",
          "SERC",
          "RFC",
          "RFC",
          "RFC",
          "RFC",
          "RFC",
          "RFC",
          "RFC",
          "RFC",
          "RFC",
          "NPCC",
          "RFC",
          "RFC",
          "RFC",
          "RFC",
          "RFC",
          "RFC",
          "RFC",
          "RFC",
          "RFC",
          "RFC",
          "RFC",
          "NPCC",
          "RFC",
          "RFC",
          "RFC",
          "RFC",
          "RFC",
          "RFC",
          "RFC",
          "RFC",
          "RFC",
          "RFC",
          "RFC",
          "RFC",
          "RFC",
          "SERC",
          "SERC",
          "SERC",
          "SERC",
          "SERC",
          "SERC",
          "SERC",
          "SERC",
          "WECC",
          "WECC",
          "WECC",
          "WECC",
          "WECC",
          "WECC",
          "WECC",
          "WECC",
          "WECC",
          "WECC",
          "WECC",
          "WECC",
          "WECC",
          "WECC",
          "WECC",
          "WECC",
          "WECC",
          "WECC",
          "WECC",
          "WECC",
          "WECC",
          "WECC",
          "WECC",
          "WECC",
          "WECC",
          "WECC",
          "RFC",
          "RFC",
          "RFC",
          "RFC",
          "RFC",
          "RFC",
          "RFC",
          "RFC",
          "RFC",
          "RFC",
          "SERC",
          "SERC",
          "RFC",
          "SERC",
          "SERC",
          "SPP",
          "SERC",
          "SERC",
          "RFC",
          "SPP",
          "SERC",
          "SERC",
          "SERC",
          "SERC",
          "SERC",
          "SERC",
          "SPP",
          "RFC",
          "RFC",
          "RFC",
          "RFC",
          "RFC",
          "RFC",
          "RFC",
          "RFC",
          "RFC",
          "RFC",
          "RFC",
          "RFC",
          "RFC",
          "RFC",
          "RFC",
          "RFC",
          "RFC",
          "RFC",
          "RFC",
          "RFC",
          "RFC",
          "RFC",
          "RFC",
          "RFC",
          "RFC",
          "RFC",
          "RFC",
          "RFC",
          "RFC",
          "RFC",
          "RFC",
          "RFC",
          "RFC",
          "RFC",
          "RFC",
          "RFC",
          "RFC",
          "RFC",
          "RFC",
          "RFC",
          "RFC",
          "MRO",
          "MRO",
          "MRO",
          "MRO",
          "MRO",
          "MRO",
          "RFC",
          "RFC",
          "WECC",
          "WECC",
          "MRO",
          "NPCC",
          "NPCC",
          "NPCC",
          "NPCC",
          "NPCC",
          "NPCC",
          "NPCC",
          "NPCC",
          "NPCC",
          "NPCC",
          "NPCC",
          "NPCC",
          "NPCC",
          "NPCC",
          "NPCC",
          "NPCC",
          "NPCC",
          "NPCC",
          "NPCC",
          "NPCC",
          "NPCC",
          "NPCC",
          "NPCC",
          "NPCC",
          "NPCC",
          "NPCC",
          "NPCC",
          "NPCC",
          "NPCC",
          "NPCC",
          "NPCC",
          "NPCC",
          "NPCC",
          "NPCC",
          "NPCC",
          "NPCC",
          "NPCC",
          "NPCC",
          "NPCC",
          "NPCC",
          "NPCC",
          "NPCC",
          "NPCC",
          "NPCC",
          "NPCC",
          "NPCC",
          "NPCC",
          "NPCC",
          "NPCC",
          "NPCC",
          "NPCC",
          "NPCC",
          "NPCC",
          "NPCC",
          "NPCC",
          "NPCC",
          "NPCC",
          "NPCC",
          "NPCC",
          "NPCC",
          "RFC",
          "NPCC",
          "NPCC",
          "NPCC",
          "NPCC",
          "NPCC",
          "NPCC",
          "NPCC",
          "NPCC",
          "NPCC",
          "NPCC",
          "SERC",
          "SPP",
          "ECAR",
          "SERC",
          "SPP",
          "SPP",
          "SPP",
          "SERC",
          "SERC",
          "SERC",
          "SPP",
          "SERC",
          "SERC",
          "SPP",
          "SERC",
          "SPP",
          "SERC",
          "SERC",
          "SERC",
          "SERC",
          "SERC",
          "SPP",
          "SPP",
          "SERC",
          "SERC",
          "ECAR",
          "SERC",
          "SPP",
          "SERC",
          "SERC",
          "SPP",
          "SPP",
          "SERC",
          "SERC",
          "SPP",
          "SERC",
          "SPP",
          "SERC",
          "SPP",
          "SERC",
          "FRCC",
          "FRCC",
          "FRCC",
          "FRCC",
          "FRCC",
          "FRCC",
          "FRCC",
          "SERC",
          "FRCC",
          "FRCC",
          "FRCC",
          "FRCC",
          "FRCC",
          "FRCC",
          "FRCC",
          "FRCC",
          "FRCC, SERC",
          "FRCC",
          "FRCC",
          "FRCC",
          "FRCC",
          "FRCC",
          "FRCC",
          "FRCC",
          "FRCC",
          "FRCC",
          "FRCC",
          "FRCC",
          "FRCC",
          "FRCC",
          "FRCC",
          "FRCC",
          "FRCC",
          "FRCC",
          "FRCC",
          "FRCC",
          "FRCC",
          "FRCC",
          "FRCC",
          "FRCC",
          "FRCC",
          "FRCC",
          "FRCC",
          "FRCC",
          "FRCC",
          "WECC",
          "WECC",
          "WECC",
          "WECC",
          "WECC",
          "WECC",
          "WECC",
          "WECC",
          "WECC",
          "WECC",
          "WECC",
          "WECC",
          "WECC",
          "WECC",
          "WECC",
          "WECC",
          "WECC",
          "WECC",
          "WECC",
          "WECC",
          "WECC",
          "WECC",
          "WECC",
          "WECC",
          "WECC",
          "WECC",
          "WECC",
          "WECC",
          "WECC",
          "WECC",
          "WECC",
          "WECC",
          "WECC",
          "WECC",
          "WECC",
          "WECC",
          "WECC",
          "WECC",
          "WECC",
          "WECC",
          "WECC",
          "WECC",
          "WECC",
          "WECC",
          "WECC",
          "WECC",
          "WECC",
          "WECC",
          "WECC",
          "WECC",
          "WECC",
          "WECC",
          "WECC",
          "WECC",
          "WECC",
          "WECC",
          "WECC",
          "WECC",
          "WECC",
          "WECC",
          "WECC",
          "WECC",
          "WECC",
          "WECC",
          "SERC",
          "WECC",
          "WECC",
          "WECC",
          "WECC",
          "WECC",
          "WECC",
          "WECC",
          "WECC",
          "WECC",
          "WECC",
          "WECC",
          "WECC",
          "WECC",
          "WECC",
          "WECC",
          "WECC",
          "WECC",
          "WECC",
          "WECC",
          "WECC",
          "WECC",
          "WECC",
          "WECC",
          "WECC",
          "WECC",
          "WECC",
          "WECC",
          "WECC",
          "WECC",
          "WECC",
          "WECC",
          "WECC",
          "WECC",
          "WECC",
          "WECC",
          "WECC",
          "WECC",
          "WECC",
          "WECC",
          "WECC",
          "WECC",
          "WECC",
          "WECC",
          "WECC",
          "WECC",
          "WECC",
          "WECC",
          "WECC",
          "WECC",
          "WECC",
          "WECC",
          "WECC",
          "WECC",
          "WECC",
          "WECC",
          "WECC",
          "WECC",
          "WECC",
          "WECC",
          "WECC",
          "WECC",
          "WECC",
          "WECC",
          "WECC",
          "WECC",
          "WECC",
          "WECC",
          "WECC",
          "WECC",
          "WECC",
          "WECC",
          "WECC",
          "WECC",
          "WECC",
          "WECC",
          "WECC",
          "WECC",
          "WECC",
          "WECC",
          "WECC",
          "WECC",
          "WECC",
          "WECC",
          "WECC",
          "WECC",
          "WECC",
          "WECC",
          "WECC",
          "WECC",
          "WECC",
          "WECC",
          "WECC",
          "WECC",
          "WECC",
          "WECC",
          "WECC",
          "WECC",
          "WECC",
          "WECC",
          "WECC",
          "WECC",
          "WECC",
          "WECC",
          "WECC",
          "WECC",
          "WECC",
          "WECC",
          "WECC",
          "WECC",
          "WECC",
          "WECC",
          "WECC",
          "WECC",
          "WECC",
          "WECC",
          "WECC",
          "WECC",
          "WECC",
          "WECC",
          "WECC",
          "WECC",
          "WECC",
          "WECC",
          "WECC",
          "WECC",
          "WECC",
          "WECC",
          "WECC",
          "WECC",
          "WECC",
          "WECC",
          "WECC",
          "WECC",
          "WECC",
          "WECC",
          "WECC",
          "WECC",
          "WECC",
          "WECC",
          "WECC",
          "WECC",
          "WECC",
          "WECC",
          "WECC",
          "WECC",
          "SERC",
          "SPP",
          "SERC",
          "SERC",
          "SERC",
          "SERC",
          "SERC",
          "SERC",
          "SPP",
          "SPP",
          "SPP",
          "SERC",
          "SERC",
          "SPP",
          "SPP",
          "SERC",
          "SPP",
          "SPP",
          "SERC",
          "ECAR",
          "SERC",
          "SERC",
          "SPP",
          "SPP",
          "SERC",
          "SERC",
          "SERC",
          "RFC",
          "SERC",
          "SERC",
          "SERC",
          "RFC",
          "SERC",
          "SERC",
          "SERC",
          "SERC",
          "SERC",
          "RFC",
          "RFC",
          "SERC",
          "SERC",
          "SERC",
          "SERC",
          "SERC",
          "SERC",
          "RFC",
          "SERC",
          "RFC",
          "SERC",
          "SERC",
          "SERC",
          "SERC",
          "SERC",
          "RFC",
          "SERC",
          "SERC",
          "RFC",
          "SERC",
          "SERC",
          "RFC",
          "SERC",
          "SERC",
          "SPP",
          "MRO",
          "MRO",
          "MRO",
          "WECC",
          "WECC",
          "WECC",
          "WECC",
          "WECC",
          "WECC",
          "WECC",
          "WECC",
          "WECC",
          "WECC",
          "WECC",
          "WECC",
          "WECC",
          "SPP",
          "NPCC",
          "NPCC",
          "NPCC",
          "NPCC",
          "NPCC",
          "NPCC",
          "NPCC",
          "NPCC",
          "NPCC",
          "SERC",
          "SERC",
          "SERC",
          "SERC",
          "SERC",
          "SERC",
          "SERC",
          "SERC",
          "SERC",
          "SERC",
          "SERC",
          "SERC",
          "SERC",
          "SERC",
          "SERC",
          "SERC",
          "SERC",
          "NPCC",
          "NPCC",
          "NPCC",
          "NPCC",
          "NPCC",
          "NPCC",
          "NPCC",
          "NPCC",
          "NPCC",
          "NPCC",
          "NPCC",
          "NPCC",
          "NPCC",
          "NPCC",
          "NPCC",
          "NPCC",
          "NPCC",
          "NPCC",
          "SPP",
          "SPP",
          "SPP",
          "SPP",
          "SPP",
          "SPP",
          "SPP",
          "SPP",
          "SPP",
          "SPP",
          "SPP",
          "RFC",
          "SPP",
          "SPP",
          "SPP",
          "SPP",
          "SPP",
          "SPP",
          "SPP",
          "ECAR",
          "SPP",
          "SPP",
          "SPP",
          "SPP",
          "NPCC",
          "NPCC",
          "NPCC",
          "NPCC",
          "NPCC",
          "NPCC",
          "NPCC",
          "NPCC",
          "NPCC",
          "NPCC",
          "NPCC",
          "NPCC",
          "NPCC",
          "NPCC",
          "NPCC",
          "NPCC",
          "NPCC",
          "NPCC",
          "NPCC",
          "NPCC",
          "NPCC",
          "NPCC",
          "NPCC",
          "NPCC",
          "NPCC",
          "NPCC",
          "NPCC",
          "NPCC",
          "NPCC",
          "NPCC",
          "NPCC",
          "NPCC",
          "NPCC",
          "NPCC",
          "NPCC",
          "NPCC",
          "NPCC",
          "NPCC",
          "NPCC",
          "NPCC",
          "NPCC",
          "NPCC",
          "NPCC",
          "NPCC",
          "NPCC",
          "NPCC",
          "NPCC",
          "NPCC",
          "NPCC",
          "NPCC",
          "NPCC",
          "WECC",
          "WECC",
          "WECC",
          "WECC",
          "WECC",
          "WECC",
          "WECC",
          "WECC",
          "WECC",
          "WECC",
          "WECC",
          "WECC",
          "WECC",
          "WECC",
          "WECC",
          "WECC",
          "WECC",
          "WECC",
          "WECC",
          "WECC",
          "MRO",
          "WECC",
          "SPP",
          "SPP",
          "SPP",
          "SPP",
          "MRO",
          "SPP",
          "SPP",
          "SPP",
          "SPP",
          "HI",
          "PR",
          "HECO",
          "HECO",
          "HECO",
          "WECC",
          "WECC",
          "WECC",
          "WECC",
          "WECC",
          "WECC",
          "WECC",
          "WECC",
          "WECC",
          "MRO",
          "MRO",
          "RFC",
          "MRO",
          "ASCC"
         ],
         "x0": " ",
         "xaxis": "x",
         "y": [
          70000,
          null,
          70000,
          68200,
          250000,
          60000,
          63000,
          300000,
          5941,
          400000,
          193000,
          200000,
          0,
          0,
          55951,
          null,
          null,
          null,
          64000,
          57000,
          null,
          50001,
          0,
          null,
          null,
          null,
          106300,
          63000,
          56475,
          null,
          null,
          73000,
          215,
          50000,
          38500,
          105000,
          null,
          null,
          null,
          80000,
          63000,
          136000,
          65904,
          null,
          null,
          null,
          null,
          0,
          null,
          null,
          null,
          48000,
          7000,
          null,
          null,
          52000,
          null,
          0,
          110000,
          7600,
          63000,
          0,
          null,
          null,
          120000,
          null,
          null,
          51160,
          null,
          null,
          66383,
          208000,
          265000,
          113000,
          53000,
          245000,
          null,
          145314,
          60000,
          2100000,
          425000,
          78213,
          150000,
          164000,
          140000,
          70793,
          134288,
          60000,
          69000,
          75000,
          105000,
          118000,
          201580,
          325325,
          118000,
          131000,
          160000,
          0,
          50000,
          133777,
          125000,
          248209,
          162000,
          160895,
          210517,
          111000,
          247847,
          68000,
          null,
          50000,
          285000,
          86915,
          122000,
          65562,
          50114,
          null,
          252089,
          2,
          137000,
          80000,
          null,
          53000,
          130000,
          182000,
          0,
          50000,
          60175,
          146500,
          101000,
          null,
          239663,
          230000,
          150000,
          111393,
          250000,
          138802,
          75000,
          358000,
          127534,
          122600,
          140735,
          66000,
          160000,
          156627,
          0,
          114711,
          99188,
          85000,
          159870,
          75000,
          72520,
          100000,
          99000,
          272355,
          315000,
          190000,
          58156,
          82000,
          168000,
          0,
          197166,
          103000,
          129607,
          138000,
          138000,
          56000,
          105000,
          65000,
          30000,
          null,
          86013,
          52000,
          3314,
          null,
          null,
          119000,
          57000,
          454000,
          null,
          489478,
          126000,
          79741,
          null,
          null,
          118000,
          0,
          108000,
          238000,
          null,
          96000,
          280982,
          98700,
          null,
          79000,
          0,
          200000,
          85000,
          200000,
          null,
          null,
          68530,
          67000,
          2142678,
          null,
          130252,
          60000,
          0,
          262000,
          null,
          null,
          null,
          192000,
          71823,
          0,
          73000,
          0,
          64801,
          211266,
          62000,
          null,
          null,
          83000,
          100000,
          70000,
          214864,
          80000,
          null,
          null,
          219681,
          78000,
          2000000,
          500000,
          null,
          715000,
          null,
          100000,
          1069730,
          51404,
          175000,
          43000,
          881000,
          85000,
          68000,
          17311,
          488689,
          null,
          0,
          0,
          238392,
          340350,
          null,
          null,
          24506,
          158000,
          234393,
          89000,
          0,
          73000,
          120377,
          null,
          null,
          0,
          63000,
          null,
          171117,
          0,
          57531,
          123000,
          2504366,
          9000,
          61000,
          0,
          36073,
          null,
          113247,
          null,
          null,
          500000,
          null,
          82000,
          132000,
          81586,
          70000,
          415103,
          300000,
          800000,
          65000,
          62500,
          100000,
          157019,
          null,
          null,
          243000,
          114000,
          null,
          127000,
          null,
          135000,
          61705,
          0,
          9700,
          124000,
          9700,
          50000,
          9700,
          null,
          75065,
          7500,
          201000,
          null,
          61705,
          56000,
          9800,
          82621,
          0,
          114791,
          61413,
          94345,
          186000,
          86615,
          215387,
          70000,
          null,
          9600,
          52702,
          null,
          0,
          null,
          141000,
          63000,
          null,
          53000,
          9700,
          53700,
          null,
          58000,
          null,
          75000,
          65000,
          160000,
          60000,
          75000,
          111644,
          null,
          null,
          10000,
          null,
          0,
          0,
          300000,
          101830,
          629590,
          109000,
          192106,
          181000,
          190000,
          471932,
          400000,
          51500,
          121000,
          420000,
          245000,
          127000,
          169000,
          320000,
          11000,
          330000,
          109000,
          283451,
          300000,
          72000,
          157000,
          80000,
          653000,
          71500,
          200000,
          65400,
          237000,
          135000,
          115000,
          51000,
          239567,
          null,
          165000,
          325000,
          127000,
          130000,
          169000,
          170519,
          190000,
          500000,
          125000,
          null,
          68800,
          null,
          null,
          null,
          92090,
          null,
          250000,
          null,
          null,
          null,
          null,
          0,
          null,
          0,
          145000,
          63992,
          null,
          null,
          426000,
          null,
          null,
          76300,
          110433,
          null,
          0,
          null,
          0,
          null,
          105000,
          null,
          null,
          0,
          null,
          0,
          0,
          null,
          140000,
          56000,
          null,
          500000,
          0,
          93300,
          0,
          0,
          null,
          0,
          160000,
          0,
          null,
          null,
          89000,
          8000,
          null,
          123535,
          null,
          0,
          null,
          null,
          null,
          0,
          null,
          null,
          null,
          0,
          300000,
          null,
          null,
          175000,
          null,
          null,
          null,
          200000,
          null,
          null,
          null,
          null,
          null,
          null,
          0,
          null,
          0,
          null,
          172060,
          123827,
          75000,
          null,
          50000,
          0,
          null,
          null,
          700000,
          null,
          187000,
          null,
          null,
          64000,
          null,
          null,
          160000,
          null,
          null,
          null,
          null,
          47000,
          null,
          null,
          null,
          140000,
          null,
          null,
          null,
          40911,
          0,
          null,
          2713,
          null,
          null,
          null,
          null,
          null,
          null,
          null,
          69000,
          null,
          30000,
          90000,
          60000,
          70000,
          60000,
          108000,
          122000,
          180000,
          87600,
          null,
          0,
          0,
          0,
          null,
          0,
          null,
          108000,
          null,
          null,
          104195,
          93000,
          0,
          null,
          null,
          55118,
          0,
          297700,
          0,
          650000,
          234326,
          null,
          70000,
          86390,
          0,
          null,
          1,
          219000,
          1,
          181000,
          110000,
          0,
          133000,
          0,
          null,
          65000,
          249408,
          0,
          85091,
          138000,
          null,
          0,
          0,
          153000,
          155183,
          124000,
          760113,
          600000,
          null,
          64943,
          null,
          167564,
          50000,
          120000,
          null,
          null,
          57000,
          146721,
          198000,
          400000,
          146094,
          111555,
          52000,
          64500,
          143000,
          200717,
          142315,
          0,
          82861,
          105312,
          185000,
          109335,
          93837,
          200000,
          62000,
          213000,
          850000,
          124596,
          118000,
          null,
          105000,
          177528,
          264000,
          715000,
          null,
          160875,
          132000,
          65112,
          55000,
          492955,
          62159,
          null,
          43903,
          120001,
          144000,
          168449,
          null,
          0,
          106000,
          284000,
          65000,
          95630,
          312359,
          0,
          270000,
          35000,
          355000,
          223000,
          null,
          null,
          78000,
          181700,
          null,
          110,
          375000,
          76000,
          383000,
          190000,
          0,
          18000,
          3500,
          0,
          0,
          null,
          null,
          null,
          null,
          null,
          37,
          0,
          5763,
          85179,
          0,
          0,
          null,
          null,
          0,
          null,
          0,
          null,
          74031,
          60000,
          0,
          0,
          0,
          null,
          0,
          null,
          0,
          0,
          null,
          0,
          0,
          null,
          null,
          null,
          null,
          0,
          null,
          0,
          null,
          null,
          281000,
          null,
          127000,
          null,
          0,
          0,
          null,
          null,
          95000,
          45000,
          134500,
          175000,
          107833,
          67000,
          184000,
          246990,
          122314,
          1203000,
          0,
          211000,
          0,
          null,
          null,
          57054,
          150000,
          56000,
          0,
          0,
          50636,
          0,
          564728,
          59106,
          0,
          184000,
          245164,
          2000,
          23000,
          0,
          52747,
          48102,
          86000,
          346000,
          null,
          100000,
          60000,
          72000,
          220000,
          12000,
          null,
          70135,
          6100,
          200000,
          1200,
          103776,
          69106,
          203345,
          50718,
          130000,
          null,
          1200,
          null,
          340000,
          71000,
          61000,
          51600,
          53000,
          12000,
          29376,
          50000,
          112000,
          136000,
          61377,
          0,
          175000,
          0,
          47000,
          null,
          285465,
          50000,
          57000,
          320000,
          4196,
          370900,
          0,
          156338,
          100000,
          650000,
          null,
          197000,
          135000,
          0,
          95400,
          73000,
          248800,
          156729,
          0,
          140000,
          263000,
          50900,
          0,
          130000,
          75654,
          0,
          null,
          50000,
          0,
          0,
          150000,
          205000,
          null,
          217000,
          180000,
          67900,
          665000,
          221000,
          null,
          379000,
          360000,
          125000,
          50465,
          677858,
          120124,
          133000,
          150000,
          81000,
          677858,
          9000,
          2500,
          71000,
          null,
          null,
          0,
          null,
          3,
          null,
          null,
          249500,
          null,
          null,
          0,
          null,
          null,
          111000,
          0,
          null,
          0,
          null,
          84500,
          null,
          0,
          null,
          null,
          97651,
          220000,
          76729,
          530000,
          210000,
          52000,
          null,
          40000,
          425000,
          101003,
          null,
          83000,
          null,
          62500,
          null,
          null,
          0,
          63000,
          53000,
          20000,
          70000,
          55000,
          0,
          0,
          100000,
          56444,
          95000,
          18400,
          0,
          null,
          null,
          0,
          0,
          0,
          0,
          0,
          null,
          0,
          null,
          0,
          null,
          0,
          null,
          0,
          0,
          0,
          null,
          null,
          0,
          0,
          null,
          null,
          null,
          0,
          0,
          0,
          null,
          null,
          null,
          0,
          0,
          0,
          65000,
          null,
          null,
          null,
          0,
          0,
          null,
          140000,
          null,
          null,
          0,
          null,
          215000,
          21000,
          null,
          null,
          null,
          160000,
          632816,
          818000,
          152261,
          null,
          null,
          116000,
          145000,
          0,
          59000,
          300000,
          56645,
          null,
          0,
          18600,
          null,
          null,
          190000,
          null,
          null,
          61795,
          null,
          74300,
          173000,
          60000,
          0,
          54316,
          null,
          null,
          68000,
          null,
          3125350,
          0,
          null,
          null,
          50000,
          null,
          137000,
          100000,
          153000,
          null,
          55000,
          0,
          200000,
          150000,
          null,
          null,
          null,
          50280,
          18600,
          99700,
          65000,
          180000,
          null,
          null,
          0,
          61000,
          0,
          120000,
          50000,
          null,
          250000,
          371000,
          null,
          null,
          null,
          161151,
          18600,
          25000,
          null,
          null,
          null,
          null,
          59057,
          null,
          null,
          1100000,
          null,
          null,
          85000,
          null,
          287000,
          null,
          1,
          null,
          57184,
          143000,
          11000,
          11000,
          null,
          null,
          246092,
          null,
          null,
          150000,
          50000,
          190000,
          null,
          95000,
          50000,
          null,
          null,
          null,
          21800,
          28000,
          242910,
          null,
          125000,
          68018,
          null,
          null,
          0,
          440000,
          0,
          0,
          584384,
          430000,
          0,
          25000,
          50000,
          105000,
          150000,
          0,
          0,
          1200000,
          179000,
          42124,
          null,
          0,
          0,
          53965,
          31000,
          2775093,
          0,
          101950,
          37,
          110000,
          78000,
          84900,
          56000,
          47661,
          722000,
          104498,
          832898,
          32593,
          285300,
          268000,
          3241437,
          26000,
          502000,
          0,
          23000,
          26000,
          87000,
          20900,
          16500,
          null,
          null,
          null,
          null,
          null,
          0,
          null,
          null,
          128050,
          124000,
          900000,
          null,
          148000,
          37784,
          null,
          6810,
          79000,
          null,
          2500,
          null,
          150000,
          null,
          15000,
          null,
          26000,
          0,
          null,
          null,
          150000,
          290000,
          10000,
          850068,
          null,
          70000,
          null,
          null,
          null,
          10008,
          407440,
          477,
          50000,
          130000,
          null,
          null,
          727,
          484,
          0,
          1,
          48400,
          58850,
          94000,
          433,
          null,
          55655,
          null,
          442000,
          30000,
          89500,
          null,
          null,
          null,
          null,
          null,
          null,
          4300,
          160000,
          100000,
          1271893,
          0,
          80000,
          0,
          80000,
          null,
          null,
          505000,
          null,
          null,
          409000,
          65255,
          null,
          null,
          null,
          939000,
          6800,
          2606931,
          null,
          null,
          null,
          null,
          109750,
          null,
          null,
          0,
          7077,
          null,
          null,
          1700000,
          255000,
          59458,
          95000,
          147223,
          0,
          50000,
          2035,
          241000,
          426,
          108000,
          null,
          78164,
          null,
          null,
          9956,
          182000,
          null,
          null,
          null,
          430984,
          859554,
          null,
          null,
          65000,
          70,
          null,
          165000,
          null,
          140000,
          1667316,
          null,
          280000,
          0,
          385000,
          125000,
          0,
          55677,
          1,
          484,
          127,
          133900,
          32000,
          null,
          null,
          0,
          4,
          2650,
          null,
          5314,
          null,
          null,
          73514,
          null,
          0,
          null,
          420,
          null,
          200000,
          54332,
          6635,
          70,
          128000,
          2674,
          null,
          null,
          940,
          20345,
          null,
          0,
          null,
          70848,
          91690,
          null,
          300000,
          90323,
          263000,
          null,
          25000,
          104000,
          638,
          1400000,
          158977,
          null,
          null,
          null,
          1500000,
          null,
          1400000,
          68780,
          9956,
          0,
          7077,
          123000,
          null,
          1,
          80000,
          null,
          null,
          115500,
          null,
          0,
          1,
          null,
          60000,
          null,
          null,
          null,
          0,
          671189,
          null,
          120000,
          400000,
          null,
          111818,
          null,
          215700,
          null,
          null,
          64951,
          null,
          null,
          null,
          13000,
          null,
          7935,
          25159,
          0,
          13000,
          null,
          43000,
          null,
          8000,
          50797,
          null,
          57200,
          9200,
          null,
          null,
          115000,
          51580,
          0,
          88000,
          null,
          88110,
          52739,
          67000,
          37000,
          60000,
          119000,
          150084,
          156000,
          56000,
          175000,
          107000,
          55000,
          81000,
          600000,
          880000,
          null,
          119000,
          145157,
          217000,
          253800,
          114618,
          233000,
          130000,
          75000,
          80000,
          58500,
          67000,
          null,
          50000,
          126000,
          283000,
          190000,
          null,
          126000,
          120212,
          15000,
          35500,
          0,
          0,
          null,
          null,
          null,
          0,
          null,
          500000,
          null,
          null,
          0,
          null,
          null,
          null,
          0,
          0,
          null,
          null,
          null,
          0,
          0,
          0,
          47165,
          82000,
          30689,
          150000,
          218783,
          93828,
          52659,
          186035,
          109000,
          80539,
          83450,
          66445,
          102000,
          373835,
          85455,
          169000,
          null,
          0,
          null,
          158000,
          50752,
          null,
          0,
          56400,
          75000,
          null,
          0,
          67000,
          50100,
          null,
          50246,
          224912,
          0,
          null,
          52000,
          54476,
          0,
          1881134,
          112000,
          14500,
          68705,
          null,
          null,
          256663,
          50500,
          96966,
          null,
          35000,
          54000,
          41306,
          null,
          127000,
          92748,
          0,
          56874,
          55609,
          1500,
          null,
          54000,
          80000,
          29250,
          50000,
          0,
          0,
          130000,
          50000,
          null,
          50000,
          50000,
          380000,
          50500,
          null,
          null,
          300000,
          0,
          1,
          0,
          0,
          0,
          0,
          127545,
          null,
          0,
          0,
          131000,
          63000,
          169757,
          50462,
          60863,
          null,
          52500,
          0,
          0,
          110000,
          50000,
          117142,
          50000,
          0,
          0,
          0,
          null,
          0,
          0,
          0,
          null,
          102568,
          0,
          null,
          0,
          0,
          0,
          1100,
          0,
          null,
          null,
          110000,
          0,
          35230,
          0,
          0,
          204000,
          86058,
          null,
          null,
          0,
          null,
          31000,
          null,
          30379,
          0,
          65000,
          0,
          270000,
          null,
          0,
          70000,
          95000,
          0,
          null,
          110000,
          211000,
          294000,
          62000,
          59886,
          29300,
          291000,
          null,
          0,
          35000,
          0,
          0,
          null,
          0,
          0,
          null,
          34500,
          null,
          null,
          null,
          14273
         ],
         "y0": " ",
         "yaxis": "y"
        }
       ],
       "layout": {
        "boxmode": "group",
        "legend": {
         "tracegroupgap": 0
        },
        "template": {
         "data": {
          "bar": [
           {
            "error_x": {
             "color": "#2a3f5f"
            },
            "error_y": {
             "color": "#2a3f5f"
            },
            "marker": {
             "line": {
              "color": "#E5ECF6",
              "width": 0.5
             },
             "pattern": {
              "fillmode": "overlay",
              "size": 10,
              "solidity": 0.2
             }
            },
            "type": "bar"
           }
          ],
          "barpolar": [
           {
            "marker": {
             "line": {
              "color": "#E5ECF6",
              "width": 0.5
             },
             "pattern": {
              "fillmode": "overlay",
              "size": 10,
              "solidity": 0.2
             }
            },
            "type": "barpolar"
           }
          ],
          "carpet": [
           {
            "aaxis": {
             "endlinecolor": "#2a3f5f",
             "gridcolor": "white",
             "linecolor": "white",
             "minorgridcolor": "white",
             "startlinecolor": "#2a3f5f"
            },
            "baxis": {
             "endlinecolor": "#2a3f5f",
             "gridcolor": "white",
             "linecolor": "white",
             "minorgridcolor": "white",
             "startlinecolor": "#2a3f5f"
            },
            "type": "carpet"
           }
          ],
          "choropleth": [
           {
            "colorbar": {
             "outlinewidth": 0,
             "ticks": ""
            },
            "type": "choropleth"
           }
          ],
          "contour": [
           {
            "colorbar": {
             "outlinewidth": 0,
             "ticks": ""
            },
            "colorscale": [
             [
              0,
              "#0d0887"
             ],
             [
              0.1111111111111111,
              "#46039f"
             ],
             [
              0.2222222222222222,
              "#7201a8"
             ],
             [
              0.3333333333333333,
              "#9c179e"
             ],
             [
              0.4444444444444444,
              "#bd3786"
             ],
             [
              0.5555555555555556,
              "#d8576b"
             ],
             [
              0.6666666666666666,
              "#ed7953"
             ],
             [
              0.7777777777777778,
              "#fb9f3a"
             ],
             [
              0.8888888888888888,
              "#fdca26"
             ],
             [
              1,
              "#f0f921"
             ]
            ],
            "type": "contour"
           }
          ],
          "contourcarpet": [
           {
            "colorbar": {
             "outlinewidth": 0,
             "ticks": ""
            },
            "type": "contourcarpet"
           }
          ],
          "heatmap": [
           {
            "colorbar": {
             "outlinewidth": 0,
             "ticks": ""
            },
            "colorscale": [
             [
              0,
              "#0d0887"
             ],
             [
              0.1111111111111111,
              "#46039f"
             ],
             [
              0.2222222222222222,
              "#7201a8"
             ],
             [
              0.3333333333333333,
              "#9c179e"
             ],
             [
              0.4444444444444444,
              "#bd3786"
             ],
             [
              0.5555555555555556,
              "#d8576b"
             ],
             [
              0.6666666666666666,
              "#ed7953"
             ],
             [
              0.7777777777777778,
              "#fb9f3a"
             ],
             [
              0.8888888888888888,
              "#fdca26"
             ],
             [
              1,
              "#f0f921"
             ]
            ],
            "type": "heatmap"
           }
          ],
          "heatmapgl": [
           {
            "colorbar": {
             "outlinewidth": 0,
             "ticks": ""
            },
            "colorscale": [
             [
              0,
              "#0d0887"
             ],
             [
              0.1111111111111111,
              "#46039f"
             ],
             [
              0.2222222222222222,
              "#7201a8"
             ],
             [
              0.3333333333333333,
              "#9c179e"
             ],
             [
              0.4444444444444444,
              "#bd3786"
             ],
             [
              0.5555555555555556,
              "#d8576b"
             ],
             [
              0.6666666666666666,
              "#ed7953"
             ],
             [
              0.7777777777777778,
              "#fb9f3a"
             ],
             [
              0.8888888888888888,
              "#fdca26"
             ],
             [
              1,
              "#f0f921"
             ]
            ],
            "type": "heatmapgl"
           }
          ],
          "histogram": [
           {
            "marker": {
             "pattern": {
              "fillmode": "overlay",
              "size": 10,
              "solidity": 0.2
             }
            },
            "type": "histogram"
           }
          ],
          "histogram2d": [
           {
            "colorbar": {
             "outlinewidth": 0,
             "ticks": ""
            },
            "colorscale": [
             [
              0,
              "#0d0887"
             ],
             [
              0.1111111111111111,
              "#46039f"
             ],
             [
              0.2222222222222222,
              "#7201a8"
             ],
             [
              0.3333333333333333,
              "#9c179e"
             ],
             [
              0.4444444444444444,
              "#bd3786"
             ],
             [
              0.5555555555555556,
              "#d8576b"
             ],
             [
              0.6666666666666666,
              "#ed7953"
             ],
             [
              0.7777777777777778,
              "#fb9f3a"
             ],
             [
              0.8888888888888888,
              "#fdca26"
             ],
             [
              1,
              "#f0f921"
             ]
            ],
            "type": "histogram2d"
           }
          ],
          "histogram2dcontour": [
           {
            "colorbar": {
             "outlinewidth": 0,
             "ticks": ""
            },
            "colorscale": [
             [
              0,
              "#0d0887"
             ],
             [
              0.1111111111111111,
              "#46039f"
             ],
             [
              0.2222222222222222,
              "#7201a8"
             ],
             [
              0.3333333333333333,
              "#9c179e"
             ],
             [
              0.4444444444444444,
              "#bd3786"
             ],
             [
              0.5555555555555556,
              "#d8576b"
             ],
             [
              0.6666666666666666,
              "#ed7953"
             ],
             [
              0.7777777777777778,
              "#fb9f3a"
             ],
             [
              0.8888888888888888,
              "#fdca26"
             ],
             [
              1,
              "#f0f921"
             ]
            ],
            "type": "histogram2dcontour"
           }
          ],
          "mesh3d": [
           {
            "colorbar": {
             "outlinewidth": 0,
             "ticks": ""
            },
            "type": "mesh3d"
           }
          ],
          "parcoords": [
           {
            "line": {
             "colorbar": {
              "outlinewidth": 0,
              "ticks": ""
             }
            },
            "type": "parcoords"
           }
          ],
          "pie": [
           {
            "automargin": true,
            "type": "pie"
           }
          ],
          "scatter": [
           {
            "fillpattern": {
             "fillmode": "overlay",
             "size": 10,
             "solidity": 0.2
            },
            "type": "scatter"
           }
          ],
          "scatter3d": [
           {
            "line": {
             "colorbar": {
              "outlinewidth": 0,
              "ticks": ""
             }
            },
            "marker": {
             "colorbar": {
              "outlinewidth": 0,
              "ticks": ""
             }
            },
            "type": "scatter3d"
           }
          ],
          "scattercarpet": [
           {
            "marker": {
             "colorbar": {
              "outlinewidth": 0,
              "ticks": ""
             }
            },
            "type": "scattercarpet"
           }
          ],
          "scattergeo": [
           {
            "marker": {
             "colorbar": {
              "outlinewidth": 0,
              "ticks": ""
             }
            },
            "type": "scattergeo"
           }
          ],
          "scattergl": [
           {
            "marker": {
             "colorbar": {
              "outlinewidth": 0,
              "ticks": ""
             }
            },
            "type": "scattergl"
           }
          ],
          "scattermapbox": [
           {
            "marker": {
             "colorbar": {
              "outlinewidth": 0,
              "ticks": ""
             }
            },
            "type": "scattermapbox"
           }
          ],
          "scatterpolar": [
           {
            "marker": {
             "colorbar": {
              "outlinewidth": 0,
              "ticks": ""
             }
            },
            "type": "scatterpolar"
           }
          ],
          "scatterpolargl": [
           {
            "marker": {
             "colorbar": {
              "outlinewidth": 0,
              "ticks": ""
             }
            },
            "type": "scatterpolargl"
           }
          ],
          "scatterternary": [
           {
            "marker": {
             "colorbar": {
              "outlinewidth": 0,
              "ticks": ""
             }
            },
            "type": "scatterternary"
           }
          ],
          "surface": [
           {
            "colorbar": {
             "outlinewidth": 0,
             "ticks": ""
            },
            "colorscale": [
             [
              0,
              "#0d0887"
             ],
             [
              0.1111111111111111,
              "#46039f"
             ],
             [
              0.2222222222222222,
              "#7201a8"
             ],
             [
              0.3333333333333333,
              "#9c179e"
             ],
             [
              0.4444444444444444,
              "#bd3786"
             ],
             [
              0.5555555555555556,
              "#d8576b"
             ],
             [
              0.6666666666666666,
              "#ed7953"
             ],
             [
              0.7777777777777778,
              "#fb9f3a"
             ],
             [
              0.8888888888888888,
              "#fdca26"
             ],
             [
              1,
              "#f0f921"
             ]
            ],
            "type": "surface"
           }
          ],
          "table": [
           {
            "cells": {
             "fill": {
              "color": "#EBF0F8"
             },
             "line": {
              "color": "white"
             }
            },
            "header": {
             "fill": {
              "color": "#C8D4E3"
             },
             "line": {
              "color": "white"
             }
            },
            "type": "table"
           }
          ]
         },
         "layout": {
          "annotationdefaults": {
           "arrowcolor": "#2a3f5f",
           "arrowhead": 0,
           "arrowwidth": 1
          },
          "autotypenumbers": "strict",
          "coloraxis": {
           "colorbar": {
            "outlinewidth": 0,
            "ticks": ""
           }
          },
          "colorscale": {
           "diverging": [
            [
             0,
             "#8e0152"
            ],
            [
             0.1,
             "#c51b7d"
            ],
            [
             0.2,
             "#de77ae"
            ],
            [
             0.3,
             "#f1b6da"
            ],
            [
             0.4,
             "#fde0ef"
            ],
            [
             0.5,
             "#f7f7f7"
            ],
            [
             0.6,
             "#e6f5d0"
            ],
            [
             0.7,
             "#b8e186"
            ],
            [
             0.8,
             "#7fbc41"
            ],
            [
             0.9,
             "#4d9221"
            ],
            [
             1,
             "#276419"
            ]
           ],
           "sequential": [
            [
             0,
             "#0d0887"
            ],
            [
             0.1111111111111111,
             "#46039f"
            ],
            [
             0.2222222222222222,
             "#7201a8"
            ],
            [
             0.3333333333333333,
             "#9c179e"
            ],
            [
             0.4444444444444444,
             "#bd3786"
            ],
            [
             0.5555555555555556,
             "#d8576b"
            ],
            [
             0.6666666666666666,
             "#ed7953"
            ],
            [
             0.7777777777777778,
             "#fb9f3a"
            ],
            [
             0.8888888888888888,
             "#fdca26"
            ],
            [
             1,
             "#f0f921"
            ]
           ],
           "sequentialminus": [
            [
             0,
             "#0d0887"
            ],
            [
             0.1111111111111111,
             "#46039f"
            ],
            [
             0.2222222222222222,
             "#7201a8"
            ],
            [
             0.3333333333333333,
             "#9c179e"
            ],
            [
             0.4444444444444444,
             "#bd3786"
            ],
            [
             0.5555555555555556,
             "#d8576b"
            ],
            [
             0.6666666666666666,
             "#ed7953"
            ],
            [
             0.7777777777777778,
             "#fb9f3a"
            ],
            [
             0.8888888888888888,
             "#fdca26"
            ],
            [
             1,
             "#f0f921"
            ]
           ]
          },
          "colorway": [
           "#636efa",
           "#EF553B",
           "#00cc96",
           "#ab63fa",
           "#FFA15A",
           "#19d3f3",
           "#FF6692",
           "#B6E880",
           "#FF97FF",
           "#FECB52"
          ],
          "font": {
           "color": "#2a3f5f"
          },
          "geo": {
           "bgcolor": "white",
           "lakecolor": "white",
           "landcolor": "#E5ECF6",
           "showlakes": true,
           "showland": true,
           "subunitcolor": "white"
          },
          "hoverlabel": {
           "align": "left"
          },
          "hovermode": "closest",
          "mapbox": {
           "style": "light"
          },
          "paper_bgcolor": "white",
          "plot_bgcolor": "#E5ECF6",
          "polar": {
           "angularaxis": {
            "gridcolor": "white",
            "linecolor": "white",
            "ticks": ""
           },
           "bgcolor": "#E5ECF6",
           "radialaxis": {
            "gridcolor": "white",
            "linecolor": "white",
            "ticks": ""
           }
          },
          "scene": {
           "xaxis": {
            "backgroundcolor": "#E5ECF6",
            "gridcolor": "white",
            "gridwidth": 2,
            "linecolor": "white",
            "showbackground": true,
            "ticks": "",
            "zerolinecolor": "white"
           },
           "yaxis": {
            "backgroundcolor": "#E5ECF6",
            "gridcolor": "white",
            "gridwidth": 2,
            "linecolor": "white",
            "showbackground": true,
            "ticks": "",
            "zerolinecolor": "white"
           },
           "zaxis": {
            "backgroundcolor": "#E5ECF6",
            "gridcolor": "white",
            "gridwidth": 2,
            "linecolor": "white",
            "showbackground": true,
            "ticks": "",
            "zerolinecolor": "white"
           }
          },
          "shapedefaults": {
           "line": {
            "color": "#2a3f5f"
           }
          },
          "ternary": {
           "aaxis": {
            "gridcolor": "white",
            "linecolor": "white",
            "ticks": ""
           },
           "baxis": {
            "gridcolor": "white",
            "linecolor": "white",
            "ticks": ""
           },
           "bgcolor": "#E5ECF6",
           "caxis": {
            "gridcolor": "white",
            "linecolor": "white",
            "ticks": ""
           }
          },
          "title": {
           "x": 0.05
          },
          "xaxis": {
           "automargin": true,
           "gridcolor": "white",
           "linecolor": "white",
           "ticks": "",
           "title": {
            "standoff": 15
           },
           "zerolinecolor": "white",
           "zerolinewidth": 2
          },
          "yaxis": {
           "automargin": true,
           "gridcolor": "white",
           "linecolor": "white",
           "ticks": "",
           "title": {
            "standoff": 15
           },
           "zerolinecolor": "white",
           "zerolinewidth": 2
          }
         }
        },
        "title": {
         "text": "Box Plot of NERC.REGION vs. CUSTOMERS.AFFECTED"
        },
        "xaxis": {
         "anchor": "y",
         "domain": [
          0,
          1
         ],
         "title": {
          "text": "NERC.REGION"
         }
        },
        "yaxis": {
         "anchor": "x",
         "domain": [
          0,
          1
         ],
         "title": {
          "text": "CUSTOMERS.AFFECTED"
         }
        }
       }
      }
     },
     "metadata": {},
     "output_type": "display_data"
    }
   ],
   "source": [
    "# Create a scatter plot\n",
    "fig1 = px.scatter(outage_cleaned, x='OUTAGE.DURATION', y='CUSTOMERS.AFFECTED', title='Scatter Plot of OUTAGE.DURATION vs. CUSTOMERS.AFFECTED')\n",
    "fig1.update_xaxes(title_text='OUTAGE.DURATION (minutes)')\n",
    "fig1.update_yaxes(title_text='CUSTOMERS.AFFECTED')\n",
    "fig1.show()\n",
    "fig1.write_html(os.path.join('Assets', 'scatter.html'), include_plotlyjs='cdn')\n",
    "\n",
    "# Create a scatter plot using Plotly Express\n",
    "outage_cleaned['OUTAGE.RESTORATION'] = pd.to_datetime(outage_cleaned['OUTAGE.RESTORATION'])\n",
    "fig2 = px.scatter(outage_cleaned, x='OUTAGE.RESTORATION', y='CUSTOMERS.AFFECTED', title='Bivariate Analysis: OUTAGE.RESTORATION vs CUSTOMERS.AFFECTED',\n",
    "                 labels={'OUTAGE.RESTORATION': 'Outage Restoration', 'CUSTOMERS.AFFECTED': 'Customers Affected'},\n",
    "                 hover_data=['U.S._STATE', 'CAUSE.CATEGORY'])\n",
    "\n",
    "# Show the plot\n",
    "fig2.show()\n",
    "\n",
    "# Create a box plot\n",
    "fig3 = px.box(outage_cleaned, x='NERC.REGION', y='CUSTOMERS.AFFECTED', title='Box Plot of NERC.REGION vs. CUSTOMERS.AFFECTED')\n",
    "fig3.update_xaxes(title_text='NERC.REGION')\n",
    "fig3.update_yaxes(title_text='CUSTOMERS.AFFECTED')\n",
    "fig3.show()\n",
    "fig2.write_html(os.path.join('Assets', 'box_plot.html'), include_plotlyjs='cdn')\n"
   ]
  },
  {
   "cell_type": "markdown",
   "metadata": {},
   "source": [
    "# Customer Impact Analysis\n",
    "\n",
    "## Aggregating Customer Impact Data (Groupby)\n",
    "Description:\n",
    "In this section, the code groupes the data by 'State' and calculates the average number of customers affected ('CUSTOMERS.AFFECTED') for each state. This provides insights into the regional variations in the impact of power outages. The result is displayed in a DataFrame, showcasing the average customer impact for each state.\n",
    "\n",
    "## Aggregating Customer Impact Data (Pivot Table)\n",
    "Description:\n",
    "In this section, the code groupes the data by 'State' and calculates the average number of customers affected ('CUSTOMERS.AFFECTED') for each state. This provides insights into the regional variations in the impact of power outages. The result is displayed in a DataFrame, showcasing the average customer impact for each state.\n"
   ]
  },
  {
   "cell_type": "code",
   "execution_count": 5,
   "metadata": {},
   "outputs": [
    {
     "name": "stdout",
     "output_type": "stream",
     "text": [
      "Average Customers Affected by State:\n"
     ]
    },
    {
     "data": {
      "text/html": [
       "<div>\n",
       "<style scoped>\n",
       "    .dataframe tbody tr th:only-of-type {\n",
       "        vertical-align: middle;\n",
       "    }\n",
       "\n",
       "    .dataframe tbody tr th {\n",
       "        vertical-align: top;\n",
       "    }\n",
       "\n",
       "    .dataframe thead th {\n",
       "        text-align: right;\n",
       "    }\n",
       "</style>\n",
       "<table border=\"1\" class=\"dataframe\">\n",
       "  <thead>\n",
       "    <tr style=\"text-align: right;\">\n",
       "      <th></th>\n",
       "      <th>U.S._STATE</th>\n",
       "      <th>CUSTOMERS.AFFECTED</th>\n",
       "    </tr>\n",
       "  </thead>\n",
       "  <tbody>\n",
       "    <tr>\n",
       "      <th>0</th>\n",
       "      <td>Alabama</td>\n",
       "      <td>94328.800000</td>\n",
       "    </tr>\n",
       "    <tr>\n",
       "      <th>1</th>\n",
       "      <td>Alaska</td>\n",
       "      <td>14273.000000</td>\n",
       "    </tr>\n",
       "    <tr>\n",
       "      <th>2</th>\n",
       "      <td>Arizona</td>\n",
       "      <td>64402.666667</td>\n",
       "    </tr>\n",
       "    <tr>\n",
       "      <th>3</th>\n",
       "      <td>Arkansas</td>\n",
       "      <td>47673.846154</td>\n",
       "    </tr>\n",
       "    <tr>\n",
       "      <th>4</th>\n",
       "      <td>California</td>\n",
       "      <td>201365.716535</td>\n",
       "    </tr>\n",
       "    <tr>\n",
       "      <th>5</th>\n",
       "      <td>Colorado</td>\n",
       "      <td>41060.636364</td>\n",
       "    </tr>\n",
       "    <tr>\n",
       "      <th>6</th>\n",
       "      <td>Connecticut</td>\n",
       "      <td>60339.230769</td>\n",
       "    </tr>\n",
       "    <tr>\n",
       "      <th>7</th>\n",
       "      <td>Delaware</td>\n",
       "      <td>3475.000000</td>\n",
       "    </tr>\n",
       "    <tr>\n",
       "      <th>8</th>\n",
       "      <td>District of Columbia</td>\n",
       "      <td>194709.222222</td>\n",
       "    </tr>\n",
       "    <tr>\n",
       "      <th>9</th>\n",
       "      <td>Florida</td>\n",
       "      <td>289369.090909</td>\n",
       "    </tr>\n",
       "    <tr>\n",
       "      <th>10</th>\n",
       "      <td>Georgia</td>\n",
       "      <td>120680.187500</td>\n",
       "    </tr>\n",
       "    <tr>\n",
       "      <th>11</th>\n",
       "      <td>Hawaii</td>\n",
       "      <td>147237.200000</td>\n",
       "    </tr>\n",
       "    <tr>\n",
       "      <th>12</th>\n",
       "      <td>Idaho</td>\n",
       "      <td>5833.333333</td>\n",
       "    </tr>\n",
       "    <tr>\n",
       "      <th>13</th>\n",
       "      <td>Illinois</td>\n",
       "      <td>207027.159091</td>\n",
       "    </tr>\n",
       "    <tr>\n",
       "      <th>14</th>\n",
       "      <td>Indiana</td>\n",
       "      <td>69551.441176</td>\n",
       "    </tr>\n",
       "    <tr>\n",
       "      <th>15</th>\n",
       "      <td>Iowa</td>\n",
       "      <td>94000.000000</td>\n",
       "    </tr>\n",
       "    <tr>\n",
       "      <th>16</th>\n",
       "      <td>Kansas</td>\n",
       "      <td>108000.000000</td>\n",
       "    </tr>\n",
       "    <tr>\n",
       "      <th>17</th>\n",
       "      <td>Kentucky</td>\n",
       "      <td>130531.000000</td>\n",
       "    </tr>\n",
       "    <tr>\n",
       "      <th>18</th>\n",
       "      <td>Louisiana</td>\n",
       "      <td>151003.100000</td>\n",
       "    </tr>\n",
       "    <tr>\n",
       "      <th>19</th>\n",
       "      <td>Maine</td>\n",
       "      <td>54839.352941</td>\n",
       "    </tr>\n",
       "    <tr>\n",
       "      <th>20</th>\n",
       "      <td>Maryland</td>\n",
       "      <td>120534.866667</td>\n",
       "    </tr>\n",
       "    <tr>\n",
       "      <th>21</th>\n",
       "      <td>Massachusetts</td>\n",
       "      <td>77983.400000</td>\n",
       "    </tr>\n",
       "    <tr>\n",
       "      <th>22</th>\n",
       "      <td>Michigan</td>\n",
       "      <td>152878.244444</td>\n",
       "    </tr>\n",
       "    <tr>\n",
       "      <th>23</th>\n",
       "      <td>Minnesota</td>\n",
       "      <td>124006.571429</td>\n",
       "    </tr>\n",
       "    <tr>\n",
       "      <th>24</th>\n",
       "      <td>Mississippi</td>\n",
       "      <td>5000.000000</td>\n",
       "    </tr>\n",
       "    <tr>\n",
       "      <th>25</th>\n",
       "      <td>Missouri</td>\n",
       "      <td>50611.076923</td>\n",
       "    </tr>\n",
       "    <tr>\n",
       "      <th>26</th>\n",
       "      <td>Montana</td>\n",
       "      <td>NaN</td>\n",
       "    </tr>\n",
       "    <tr>\n",
       "      <th>27</th>\n",
       "      <td>Nebraska</td>\n",
       "      <td>87070.666667</td>\n",
       "    </tr>\n",
       "    <tr>\n",
       "      <th>28</th>\n",
       "      <td>Nevada</td>\n",
       "      <td>22220.000000</td>\n",
       "    </tr>\n",
       "    <tr>\n",
       "      <th>29</th>\n",
       "      <td>New Hampshire</td>\n",
       "      <td>13869.818182</td>\n",
       "    </tr>\n",
       "    <tr>\n",
       "      <th>30</th>\n",
       "      <td>New Jersey</td>\n",
       "      <td>160216.806452</td>\n",
       "    </tr>\n",
       "    <tr>\n",
       "      <th>31</th>\n",
       "      <td>New Mexico</td>\n",
       "      <td>166666.666667</td>\n",
       "    </tr>\n",
       "    <tr>\n",
       "      <th>32</th>\n",
       "      <td>New York</td>\n",
       "      <td>190675.866667</td>\n",
       "    </tr>\n",
       "    <tr>\n",
       "      <th>33</th>\n",
       "      <td>North Carolina</td>\n",
       "      <td>99624.833333</td>\n",
       "    </tr>\n",
       "    <tr>\n",
       "      <th>34</th>\n",
       "      <td>North Dakota</td>\n",
       "      <td>34500.000000</td>\n",
       "    </tr>\n",
       "    <tr>\n",
       "      <th>35</th>\n",
       "      <td>Ohio</td>\n",
       "      <td>136782.611111</td>\n",
       "    </tr>\n",
       "    <tr>\n",
       "      <th>36</th>\n",
       "      <td>Oklahoma</td>\n",
       "      <td>160683.210526</td>\n",
       "    </tr>\n",
       "    <tr>\n",
       "      <th>37</th>\n",
       "      <td>Oregon</td>\n",
       "      <td>43958.583333</td>\n",
       "    </tr>\n",
       "    <tr>\n",
       "      <th>38</th>\n",
       "      <td>Pennsylvania</td>\n",
       "      <td>168536.823529</td>\n",
       "    </tr>\n",
       "    <tr>\n",
       "      <th>39</th>\n",
       "      <td>South Carolina</td>\n",
       "      <td>251913.125000</td>\n",
       "    </tr>\n",
       "    <tr>\n",
       "      <th>40</th>\n",
       "      <td>South Dakota</td>\n",
       "      <td>NaN</td>\n",
       "    </tr>\n",
       "    <tr>\n",
       "      <th>41</th>\n",
       "      <td>Tennessee</td>\n",
       "      <td>59317.352941</td>\n",
       "    </tr>\n",
       "    <tr>\n",
       "      <th>42</th>\n",
       "      <td>Texas</td>\n",
       "      <td>223232.095745</td>\n",
       "    </tr>\n",
       "    <tr>\n",
       "      <th>43</th>\n",
       "      <td>Utah</td>\n",
       "      <td>10227.727273</td>\n",
       "    </tr>\n",
       "    <tr>\n",
       "      <th>44</th>\n",
       "      <td>Vermont</td>\n",
       "      <td>0.000000</td>\n",
       "    </tr>\n",
       "    <tr>\n",
       "      <th>45</th>\n",
       "      <td>Virginia</td>\n",
       "      <td>149429.058824</td>\n",
       "    </tr>\n",
       "    <tr>\n",
       "      <th>46</th>\n",
       "      <td>Washington</td>\n",
       "      <td>101944.022727</td>\n",
       "    </tr>\n",
       "    <tr>\n",
       "      <th>47</th>\n",
       "      <td>West Virginia</td>\n",
       "      <td>179794.333333</td>\n",
       "    </tr>\n",
       "    <tr>\n",
       "      <th>48</th>\n",
       "      <td>Wisconsin</td>\n",
       "      <td>45876.000000</td>\n",
       "    </tr>\n",
       "    <tr>\n",
       "      <th>49</th>\n",
       "      <td>Wyoming</td>\n",
       "      <td>11833.333333</td>\n",
       "    </tr>\n",
       "  </tbody>\n",
       "</table>\n",
       "</div>"
      ],
      "text/plain": [
       "              U.S._STATE  CUSTOMERS.AFFECTED\n",
       "0                Alabama        94328.800000\n",
       "1                 Alaska        14273.000000\n",
       "2                Arizona        64402.666667\n",
       "3               Arkansas        47673.846154\n",
       "4             California       201365.716535\n",
       "5               Colorado        41060.636364\n",
       "6            Connecticut        60339.230769\n",
       "7               Delaware         3475.000000\n",
       "8   District of Columbia       194709.222222\n",
       "9                Florida       289369.090909\n",
       "10               Georgia       120680.187500\n",
       "11                Hawaii       147237.200000\n",
       "12                 Idaho         5833.333333\n",
       "13              Illinois       207027.159091\n",
       "14               Indiana        69551.441176\n",
       "15                  Iowa        94000.000000\n",
       "16                Kansas       108000.000000\n",
       "17              Kentucky       130531.000000\n",
       "18             Louisiana       151003.100000\n",
       "19                 Maine        54839.352941\n",
       "20              Maryland       120534.866667\n",
       "21         Massachusetts        77983.400000\n",
       "22              Michigan       152878.244444\n",
       "23             Minnesota       124006.571429\n",
       "24           Mississippi         5000.000000\n",
       "25              Missouri        50611.076923\n",
       "26               Montana                 NaN\n",
       "27              Nebraska        87070.666667\n",
       "28                Nevada        22220.000000\n",
       "29         New Hampshire        13869.818182\n",
       "30            New Jersey       160216.806452\n",
       "31            New Mexico       166666.666667\n",
       "32              New York       190675.866667\n",
       "33        North Carolina        99624.833333\n",
       "34          North Dakota        34500.000000\n",
       "35                  Ohio       136782.611111\n",
       "36              Oklahoma       160683.210526\n",
       "37                Oregon        43958.583333\n",
       "38          Pennsylvania       168536.823529\n",
       "39        South Carolina       251913.125000\n",
       "40          South Dakota                 NaN\n",
       "41             Tennessee        59317.352941\n",
       "42                 Texas       223232.095745\n",
       "43                  Utah        10227.727273\n",
       "44               Vermont            0.000000\n",
       "45              Virginia       149429.058824\n",
       "46            Washington       101944.022727\n",
       "47         West Virginia       179794.333333\n",
       "48             Wisconsin        45876.000000\n",
       "49               Wyoming        11833.333333"
      ]
     },
     "execution_count": 5,
     "metadata": {},
     "output_type": "execute_result"
    }
   ],
   "source": [
    "# Group by 'State' and calculate the average 'CUSTOMERS.AFFECTED' for each year\n",
    "average_customers_by_state= outage_cleaned.groupby(\"U.S._STATE\")[\"CUSTOMERS.AFFECTED\"].mean()\n",
    "average_customers_by_state = average_customers_by_state.to_frame().reset_index()\n",
    "\n",
    "# Display the result\n",
    "print(\"Average Customers Affected by State:\")\n",
    "average_customers_by_state"
   ]
  },
  {
   "cell_type": "code",
   "execution_count": 6,
   "metadata": {},
   "outputs": [
    {
     "name": "stdout",
     "output_type": "stream",
     "text": [
      "\n",
      "Average Customers Affected by Climate Region and Cause Category:\n"
     ]
    },
    {
     "data": {
      "text/html": [
       "<div>\n",
       "<style scoped>\n",
       "    .dataframe tbody tr th:only-of-type {\n",
       "        vertical-align: middle;\n",
       "    }\n",
       "\n",
       "    .dataframe tbody tr th {\n",
       "        vertical-align: top;\n",
       "    }\n",
       "\n",
       "    .dataframe thead th {\n",
       "        text-align: right;\n",
       "    }\n",
       "</style>\n",
       "<table border=\"1\" class=\"dataframe\">\n",
       "  <thead>\n",
       "    <tr style=\"text-align: right;\">\n",
       "      <th>CAUSE.CATEGORY</th>\n",
       "      <th>equipment failure</th>\n",
       "      <th>fuel supply emergency</th>\n",
       "      <th>intentional attack</th>\n",
       "      <th>islanding</th>\n",
       "      <th>public appeal</th>\n",
       "      <th>severe weather</th>\n",
       "      <th>system operability disruption</th>\n",
       "    </tr>\n",
       "    <tr>\n",
       "      <th>CLIMATE.REGION</th>\n",
       "      <th></th>\n",
       "      <th></th>\n",
       "      <th></th>\n",
       "      <th></th>\n",
       "      <th></th>\n",
       "      <th></th>\n",
       "      <th></th>\n",
       "    </tr>\n",
       "  </thead>\n",
       "  <tbody>\n",
       "    <tr>\n",
       "      <th>Central</th>\n",
       "      <td>87750.000000</td>\n",
       "      <td>0.0</td>\n",
       "      <td>110.714286</td>\n",
       "      <td>9666.666667</td>\n",
       "      <td>NaN</td>\n",
       "      <td>148706.653226</td>\n",
       "      <td>210450.000000</td>\n",
       "    </tr>\n",
       "    <tr>\n",
       "      <th>East North Central</th>\n",
       "      <td>NaN</td>\n",
       "      <td>NaN</td>\n",
       "      <td>660.111111</td>\n",
       "      <td>0.000000</td>\n",
       "      <td>7600.000000</td>\n",
       "      <td>134972.500000</td>\n",
       "      <td>759737.666667</td>\n",
       "    </tr>\n",
       "    <tr>\n",
       "      <th>Northeast</th>\n",
       "      <td>28575.750000</td>\n",
       "      <td>0.5</td>\n",
       "      <td>1055.580247</td>\n",
       "      <td>0.000000</td>\n",
       "      <td>18600.000000</td>\n",
       "      <td>169466.934524</td>\n",
       "      <td>530758.857143</td>\n",
       "    </tr>\n",
       "    <tr>\n",
       "      <th>Northwest</th>\n",
       "      <td>46651.500000</td>\n",
       "      <td>NaN</td>\n",
       "      <td>92.592593</td>\n",
       "      <td>0.000000</td>\n",
       "      <td>4000.000000</td>\n",
       "      <td>169284.034483</td>\n",
       "      <td>35000.000000</td>\n",
       "    </tr>\n",
       "    <tr>\n",
       "      <th>South</th>\n",
       "      <td>62721.666667</td>\n",
       "      <td>NaN</td>\n",
       "      <td>1042.833333</td>\n",
       "      <td>14500.000000</td>\n",
       "      <td>4917.636364</td>\n",
       "      <td>223231.144231</td>\n",
       "      <td>227102.047619</td>\n",
       "    </tr>\n",
       "    <tr>\n",
       "      <th>Southeast</th>\n",
       "      <td>145420.200000</td>\n",
       "      <td>NaN</td>\n",
       "      <td>0.000000</td>\n",
       "      <td>NaN</td>\n",
       "      <td>0.000000</td>\n",
       "      <td>206523.448276</td>\n",
       "      <td>75555.533333</td>\n",
       "    </tr>\n",
       "    <tr>\n",
       "      <th>Southwest</th>\n",
       "      <td>55666.666667</td>\n",
       "      <td>0.0</td>\n",
       "      <td>327.423077</td>\n",
       "      <td>35230.000000</td>\n",
       "      <td>NaN</td>\n",
       "      <td>85138.428571</td>\n",
       "      <td>135655.571429</td>\n",
       "    </tr>\n",
       "    <tr>\n",
       "      <th>West</th>\n",
       "      <td>198608.142857</td>\n",
       "      <td>0.0</td>\n",
       "      <td>14060.000000</td>\n",
       "      <td>5039.192308</td>\n",
       "      <td>NaN</td>\n",
       "      <td>361041.403509</td>\n",
       "      <td>152040.454545</td>\n",
       "    </tr>\n",
       "    <tr>\n",
       "      <th>West North Central</th>\n",
       "      <td>NaN</td>\n",
       "      <td>NaN</td>\n",
       "      <td>0.000000</td>\n",
       "      <td>NaN</td>\n",
       "      <td>34500.000000</td>\n",
       "      <td>74178.000000</td>\n",
       "      <td>NaN</td>\n",
       "    </tr>\n",
       "  </tbody>\n",
       "</table>\n",
       "</div>"
      ],
      "text/plain": [
       "CAUSE.CATEGORY      equipment failure  fuel supply emergency  \\\n",
       "CLIMATE.REGION                                                 \n",
       "Central                  87750.000000                    0.0   \n",
       "East North Central                NaN                    NaN   \n",
       "Northeast                28575.750000                    0.5   \n",
       "Northwest                46651.500000                    NaN   \n",
       "South                    62721.666667                    NaN   \n",
       "Southeast               145420.200000                    NaN   \n",
       "Southwest                55666.666667                    0.0   \n",
       "West                    198608.142857                    0.0   \n",
       "West North Central                NaN                    NaN   \n",
       "\n",
       "CAUSE.CATEGORY      intentional attack     islanding  public appeal  \\\n",
       "CLIMATE.REGION                                                        \n",
       "Central                     110.714286   9666.666667            NaN   \n",
       "East North Central          660.111111      0.000000    7600.000000   \n",
       "Northeast                  1055.580247      0.000000   18600.000000   \n",
       "Northwest                    92.592593      0.000000    4000.000000   \n",
       "South                      1042.833333  14500.000000    4917.636364   \n",
       "Southeast                     0.000000           NaN       0.000000   \n",
       "Southwest                   327.423077  35230.000000            NaN   \n",
       "West                      14060.000000   5039.192308            NaN   \n",
       "West North Central            0.000000           NaN   34500.000000   \n",
       "\n",
       "CAUSE.CATEGORY      severe weather  system operability disruption  \n",
       "CLIMATE.REGION                                                     \n",
       "Central              148706.653226                  210450.000000  \n",
       "East North Central   134972.500000                  759737.666667  \n",
       "Northeast            169466.934524                  530758.857143  \n",
       "Northwest            169284.034483                   35000.000000  \n",
       "South                223231.144231                  227102.047619  \n",
       "Southeast            206523.448276                   75555.533333  \n",
       "Southwest             85138.428571                  135655.571429  \n",
       "West                 361041.403509                  152040.454545  \n",
       "West North Central    74178.000000                            NaN  "
      ]
     },
     "execution_count": 6,
     "metadata": {},
     "output_type": "execute_result"
    }
   ],
   "source": [
    "# Pivot the data to examine average 'CUSTOMERS.AFFECTED' by 'CLIMATE.REGION' and 'CAUSE.CATEGORY'\n",
    "pivot_table = outage_cleaned.pivot_table(values='CUSTOMERS.AFFECTED', index='CLIMATE.REGION', columns='CAUSE.CATEGORY', aggfunc='mean')\n",
    "\n",
    "# Display the pivot table\n",
    "print(\"\\nAverage Customers Affected by Climate Region and Cause Category:\")\n",
    "pivot_table"
   ]
  },
  {
   "cell_type": "markdown",
   "metadata": {},
   "source": [
    "# Enhancing Exploration with Folium: Geospatial Analysis\n",
    "In this section, we aim to enhance the exploration of power outage effects by incorporating interactive geospatial analysis using Folium. The provided code includes a function to retrieve latitude and longitude information for each U.S. state. By applying this function to the 'U.S._STATE' column, the dataset is enriched with geographical coordinates. Rows with missing latitude and longitude information are then removed to ensure accuracy in the geospatial analysis.\n",
    "\n",
    "Now that the latitude and longitude information is available, we can proceed to create interactive Folium maps to visualize and analyze the effects of power outages by state."
   ]
  },
  {
   "cell_type": "code",
   "execution_count": 7,
   "metadata": {},
   "outputs": [
    {
     "data": {
      "text/html": [
       "<div>\n",
       "<style scoped>\n",
       "    .dataframe tbody tr th:only-of-type {\n",
       "        vertical-align: middle;\n",
       "    }\n",
       "\n",
       "    .dataframe tbody tr th {\n",
       "        vertical-align: top;\n",
       "    }\n",
       "\n",
       "    .dataframe thead th {\n",
       "        text-align: right;\n",
       "    }\n",
       "</style>\n",
       "<table border=\"1\" class=\"dataframe\">\n",
       "  <thead>\n",
       "    <tr style=\"text-align: right;\">\n",
       "      <th></th>\n",
       "      <th>U.S._STATE</th>\n",
       "      <th>CUSTOMERS.AFFECTED</th>\n",
       "      <th>Latitude</th>\n",
       "      <th>Longitude</th>\n",
       "    </tr>\n",
       "  </thead>\n",
       "  <tbody>\n",
       "    <tr>\n",
       "      <th>0</th>\n",
       "      <td>Alabama</td>\n",
       "      <td>94328.800000</td>\n",
       "      <td>33.258882</td>\n",
       "      <td>-86.829534</td>\n",
       "    </tr>\n",
       "    <tr>\n",
       "      <th>1</th>\n",
       "      <td>Alaska</td>\n",
       "      <td>14273.000000</td>\n",
       "      <td>64.445961</td>\n",
       "      <td>-149.680909</td>\n",
       "    </tr>\n",
       "    <tr>\n",
       "      <th>2</th>\n",
       "      <td>Arizona</td>\n",
       "      <td>64402.666667</td>\n",
       "      <td>34.395342</td>\n",
       "      <td>-111.763275</td>\n",
       "    </tr>\n",
       "    <tr>\n",
       "      <th>3</th>\n",
       "      <td>Arkansas</td>\n",
       "      <td>47673.846154</td>\n",
       "      <td>35.204888</td>\n",
       "      <td>-92.447911</td>\n",
       "    </tr>\n",
       "    <tr>\n",
       "      <th>4</th>\n",
       "      <td>California</td>\n",
       "      <td>201365.716535</td>\n",
       "      <td>36.701463</td>\n",
       "      <td>-118.755997</td>\n",
       "    </tr>\n",
       "    <tr>\n",
       "      <th>5</th>\n",
       "      <td>Colorado</td>\n",
       "      <td>41060.636364</td>\n",
       "      <td>38.725178</td>\n",
       "      <td>-105.607716</td>\n",
       "    </tr>\n",
       "    <tr>\n",
       "      <th>6</th>\n",
       "      <td>Connecticut</td>\n",
       "      <td>60339.230769</td>\n",
       "      <td>41.650020</td>\n",
       "      <td>-72.734216</td>\n",
       "    </tr>\n",
       "    <tr>\n",
       "      <th>7</th>\n",
       "      <td>Delaware</td>\n",
       "      <td>3475.000000</td>\n",
       "      <td>38.692045</td>\n",
       "      <td>-75.401331</td>\n",
       "    </tr>\n",
       "    <tr>\n",
       "      <th>8</th>\n",
       "      <td>District of Columbia</td>\n",
       "      <td>194709.222222</td>\n",
       "      <td>38.893847</td>\n",
       "      <td>-76.988043</td>\n",
       "    </tr>\n",
       "    <tr>\n",
       "      <th>9</th>\n",
       "      <td>Florida</td>\n",
       "      <td>289369.090909</td>\n",
       "      <td>27.756767</td>\n",
       "      <td>-81.463983</td>\n",
       "    </tr>\n",
       "    <tr>\n",
       "      <th>10</th>\n",
       "      <td>Georgia</td>\n",
       "      <td>120680.187500</td>\n",
       "      <td>32.329381</td>\n",
       "      <td>-83.113737</td>\n",
       "    </tr>\n",
       "    <tr>\n",
       "      <th>11</th>\n",
       "      <td>Hawaii</td>\n",
       "      <td>147237.200000</td>\n",
       "      <td>19.593801</td>\n",
       "      <td>-155.428370</td>\n",
       "    </tr>\n",
       "    <tr>\n",
       "      <th>12</th>\n",
       "      <td>Idaho</td>\n",
       "      <td>5833.333333</td>\n",
       "      <td>43.644764</td>\n",
       "      <td>-114.015407</td>\n",
       "    </tr>\n",
       "    <tr>\n",
       "      <th>13</th>\n",
       "      <td>Illinois</td>\n",
       "      <td>207027.159091</td>\n",
       "      <td>40.079661</td>\n",
       "      <td>-89.433729</td>\n",
       "    </tr>\n",
       "    <tr>\n",
       "      <th>14</th>\n",
       "      <td>Indiana</td>\n",
       "      <td>69551.441176</td>\n",
       "      <td>40.327013</td>\n",
       "      <td>-86.174693</td>\n",
       "    </tr>\n",
       "    <tr>\n",
       "      <th>15</th>\n",
       "      <td>Iowa</td>\n",
       "      <td>94000.000000</td>\n",
       "      <td>41.921673</td>\n",
       "      <td>-93.312270</td>\n",
       "    </tr>\n",
       "    <tr>\n",
       "      <th>16</th>\n",
       "      <td>Kansas</td>\n",
       "      <td>108000.000000</td>\n",
       "      <td>38.273120</td>\n",
       "      <td>-98.582187</td>\n",
       "    </tr>\n",
       "    <tr>\n",
       "      <th>17</th>\n",
       "      <td>Kentucky</td>\n",
       "      <td>130531.000000</td>\n",
       "      <td>37.572603</td>\n",
       "      <td>-85.155141</td>\n",
       "    </tr>\n",
       "    <tr>\n",
       "      <th>18</th>\n",
       "      <td>Louisiana</td>\n",
       "      <td>151003.100000</td>\n",
       "      <td>30.870388</td>\n",
       "      <td>-92.007126</td>\n",
       "    </tr>\n",
       "    <tr>\n",
       "      <th>19</th>\n",
       "      <td>Maine</td>\n",
       "      <td>54839.352941</td>\n",
       "      <td>45.709097</td>\n",
       "      <td>-68.859020</td>\n",
       "    </tr>\n",
       "    <tr>\n",
       "      <th>20</th>\n",
       "      <td>Maryland</td>\n",
       "      <td>120534.866667</td>\n",
       "      <td>39.516240</td>\n",
       "      <td>-76.938207</td>\n",
       "    </tr>\n",
       "    <tr>\n",
       "      <th>21</th>\n",
       "      <td>Massachusetts</td>\n",
       "      <td>77983.400000</td>\n",
       "      <td>42.378877</td>\n",
       "      <td>-72.032366</td>\n",
       "    </tr>\n",
       "    <tr>\n",
       "      <th>22</th>\n",
       "      <td>Michigan</td>\n",
       "      <td>152878.244444</td>\n",
       "      <td>43.621195</td>\n",
       "      <td>-84.682435</td>\n",
       "    </tr>\n",
       "    <tr>\n",
       "      <th>23</th>\n",
       "      <td>Minnesota</td>\n",
       "      <td>124006.571429</td>\n",
       "      <td>45.989659</td>\n",
       "      <td>-94.611329</td>\n",
       "    </tr>\n",
       "    <tr>\n",
       "      <th>24</th>\n",
       "      <td>Mississippi</td>\n",
       "      <td>5000.000000</td>\n",
       "      <td>32.971528</td>\n",
       "      <td>-89.734850</td>\n",
       "    </tr>\n",
       "    <tr>\n",
       "      <th>25</th>\n",
       "      <td>Missouri</td>\n",
       "      <td>50611.076923</td>\n",
       "      <td>38.760481</td>\n",
       "      <td>-92.561787</td>\n",
       "    </tr>\n",
       "    <tr>\n",
       "      <th>26</th>\n",
       "      <td>Montana</td>\n",
       "      <td>NaN</td>\n",
       "      <td>47.375267</td>\n",
       "      <td>-109.638757</td>\n",
       "    </tr>\n",
       "    <tr>\n",
       "      <th>27</th>\n",
       "      <td>Nebraska</td>\n",
       "      <td>87070.666667</td>\n",
       "      <td>41.737023</td>\n",
       "      <td>-99.587382</td>\n",
       "    </tr>\n",
       "    <tr>\n",
       "      <th>28</th>\n",
       "      <td>Nevada</td>\n",
       "      <td>22220.000000</td>\n",
       "      <td>39.515882</td>\n",
       "      <td>-116.853722</td>\n",
       "    </tr>\n",
       "    <tr>\n",
       "      <th>29</th>\n",
       "      <td>New Hampshire</td>\n",
       "      <td>13869.818182</td>\n",
       "      <td>43.484913</td>\n",
       "      <td>-71.655399</td>\n",
       "    </tr>\n",
       "    <tr>\n",
       "      <th>30</th>\n",
       "      <td>New Jersey</td>\n",
       "      <td>160216.806452</td>\n",
       "      <td>40.075738</td>\n",
       "      <td>-74.404162</td>\n",
       "    </tr>\n",
       "    <tr>\n",
       "      <th>31</th>\n",
       "      <td>New Mexico</td>\n",
       "      <td>166666.666667</td>\n",
       "      <td>34.580207</td>\n",
       "      <td>-105.996048</td>\n",
       "    </tr>\n",
       "    <tr>\n",
       "      <th>32</th>\n",
       "      <td>New York</td>\n",
       "      <td>190675.866667</td>\n",
       "      <td>40.712728</td>\n",
       "      <td>-74.006015</td>\n",
       "    </tr>\n",
       "    <tr>\n",
       "      <th>33</th>\n",
       "      <td>North Carolina</td>\n",
       "      <td>99624.833333</td>\n",
       "      <td>35.672964</td>\n",
       "      <td>-79.039292</td>\n",
       "    </tr>\n",
       "    <tr>\n",
       "      <th>34</th>\n",
       "      <td>North Dakota</td>\n",
       "      <td>34500.000000</td>\n",
       "      <td>47.620146</td>\n",
       "      <td>-100.540737</td>\n",
       "    </tr>\n",
       "    <tr>\n",
       "      <th>35</th>\n",
       "      <td>Ohio</td>\n",
       "      <td>136782.611111</td>\n",
       "      <td>40.225357</td>\n",
       "      <td>-82.688140</td>\n",
       "    </tr>\n",
       "    <tr>\n",
       "      <th>36</th>\n",
       "      <td>Oklahoma</td>\n",
       "      <td>160683.210526</td>\n",
       "      <td>34.955082</td>\n",
       "      <td>-97.268406</td>\n",
       "    </tr>\n",
       "    <tr>\n",
       "      <th>37</th>\n",
       "      <td>Oregon</td>\n",
       "      <td>43958.583333</td>\n",
       "      <td>43.979280</td>\n",
       "      <td>-120.737257</td>\n",
       "    </tr>\n",
       "    <tr>\n",
       "      <th>38</th>\n",
       "      <td>Pennsylvania</td>\n",
       "      <td>168536.823529</td>\n",
       "      <td>40.969989</td>\n",
       "      <td>-77.727883</td>\n",
       "    </tr>\n",
       "    <tr>\n",
       "      <th>39</th>\n",
       "      <td>South Carolina</td>\n",
       "      <td>251913.125000</td>\n",
       "      <td>33.687439</td>\n",
       "      <td>-80.436374</td>\n",
       "    </tr>\n",
       "    <tr>\n",
       "      <th>40</th>\n",
       "      <td>South Dakota</td>\n",
       "      <td>NaN</td>\n",
       "      <td>44.647176</td>\n",
       "      <td>-100.348761</td>\n",
       "    </tr>\n",
       "    <tr>\n",
       "      <th>41</th>\n",
       "      <td>Tennessee</td>\n",
       "      <td>59317.352941</td>\n",
       "      <td>35.773008</td>\n",
       "      <td>-86.282008</td>\n",
       "    </tr>\n",
       "    <tr>\n",
       "      <th>42</th>\n",
       "      <td>Texas</td>\n",
       "      <td>223232.095745</td>\n",
       "      <td>31.263890</td>\n",
       "      <td>-98.545612</td>\n",
       "    </tr>\n",
       "    <tr>\n",
       "      <th>43</th>\n",
       "      <td>Utah</td>\n",
       "      <td>10227.727273</td>\n",
       "      <td>39.422519</td>\n",
       "      <td>-111.714358</td>\n",
       "    </tr>\n",
       "    <tr>\n",
       "      <th>44</th>\n",
       "      <td>Vermont</td>\n",
       "      <td>0.000000</td>\n",
       "      <td>44.599072</td>\n",
       "      <td>-72.500261</td>\n",
       "    </tr>\n",
       "    <tr>\n",
       "      <th>45</th>\n",
       "      <td>Virginia</td>\n",
       "      <td>149429.058824</td>\n",
       "      <td>37.123224</td>\n",
       "      <td>-78.492772</td>\n",
       "    </tr>\n",
       "    <tr>\n",
       "      <th>46</th>\n",
       "      <td>Washington</td>\n",
       "      <td>101944.022727</td>\n",
       "      <td>38.895037</td>\n",
       "      <td>-77.036543</td>\n",
       "    </tr>\n",
       "    <tr>\n",
       "      <th>47</th>\n",
       "      <td>West Virginia</td>\n",
       "      <td>179794.333333</td>\n",
       "      <td>38.475841</td>\n",
       "      <td>-80.840841</td>\n",
       "    </tr>\n",
       "    <tr>\n",
       "      <th>48</th>\n",
       "      <td>Wisconsin</td>\n",
       "      <td>45876.000000</td>\n",
       "      <td>44.430898</td>\n",
       "      <td>-89.688464</td>\n",
       "    </tr>\n",
       "    <tr>\n",
       "      <th>49</th>\n",
       "      <td>Wyoming</td>\n",
       "      <td>11833.333333</td>\n",
       "      <td>43.170026</td>\n",
       "      <td>-107.568534</td>\n",
       "    </tr>\n",
       "  </tbody>\n",
       "</table>\n",
       "</div>"
      ],
      "text/plain": [
       "              U.S._STATE  CUSTOMERS.AFFECTED   Latitude   Longitude\n",
       "0                Alabama        94328.800000  33.258882  -86.829534\n",
       "1                 Alaska        14273.000000  64.445961 -149.680909\n",
       "2                Arizona        64402.666667  34.395342 -111.763275\n",
       "3               Arkansas        47673.846154  35.204888  -92.447911\n",
       "4             California       201365.716535  36.701463 -118.755997\n",
       "5               Colorado        41060.636364  38.725178 -105.607716\n",
       "6            Connecticut        60339.230769  41.650020  -72.734216\n",
       "7               Delaware         3475.000000  38.692045  -75.401331\n",
       "8   District of Columbia       194709.222222  38.893847  -76.988043\n",
       "9                Florida       289369.090909  27.756767  -81.463983\n",
       "10               Georgia       120680.187500  32.329381  -83.113737\n",
       "11                Hawaii       147237.200000  19.593801 -155.428370\n",
       "12                 Idaho         5833.333333  43.644764 -114.015407\n",
       "13              Illinois       207027.159091  40.079661  -89.433729\n",
       "14               Indiana        69551.441176  40.327013  -86.174693\n",
       "15                  Iowa        94000.000000  41.921673  -93.312270\n",
       "16                Kansas       108000.000000  38.273120  -98.582187\n",
       "17              Kentucky       130531.000000  37.572603  -85.155141\n",
       "18             Louisiana       151003.100000  30.870388  -92.007126\n",
       "19                 Maine        54839.352941  45.709097  -68.859020\n",
       "20              Maryland       120534.866667  39.516240  -76.938207\n",
       "21         Massachusetts        77983.400000  42.378877  -72.032366\n",
       "22              Michigan       152878.244444  43.621195  -84.682435\n",
       "23             Minnesota       124006.571429  45.989659  -94.611329\n",
       "24           Mississippi         5000.000000  32.971528  -89.734850\n",
       "25              Missouri        50611.076923  38.760481  -92.561787\n",
       "26               Montana                 NaN  47.375267 -109.638757\n",
       "27              Nebraska        87070.666667  41.737023  -99.587382\n",
       "28                Nevada        22220.000000  39.515882 -116.853722\n",
       "29         New Hampshire        13869.818182  43.484913  -71.655399\n",
       "30            New Jersey       160216.806452  40.075738  -74.404162\n",
       "31            New Mexico       166666.666667  34.580207 -105.996048\n",
       "32              New York       190675.866667  40.712728  -74.006015\n",
       "33        North Carolina        99624.833333  35.672964  -79.039292\n",
       "34          North Dakota        34500.000000  47.620146 -100.540737\n",
       "35                  Ohio       136782.611111  40.225357  -82.688140\n",
       "36              Oklahoma       160683.210526  34.955082  -97.268406\n",
       "37                Oregon        43958.583333  43.979280 -120.737257\n",
       "38          Pennsylvania       168536.823529  40.969989  -77.727883\n",
       "39        South Carolina       251913.125000  33.687439  -80.436374\n",
       "40          South Dakota                 NaN  44.647176 -100.348761\n",
       "41             Tennessee        59317.352941  35.773008  -86.282008\n",
       "42                 Texas       223232.095745  31.263890  -98.545612\n",
       "43                  Utah        10227.727273  39.422519 -111.714358\n",
       "44               Vermont            0.000000  44.599072  -72.500261\n",
       "45              Virginia       149429.058824  37.123224  -78.492772\n",
       "46            Washington       101944.022727  38.895037  -77.036543\n",
       "47         West Virginia       179794.333333  38.475841  -80.840841\n",
       "48             Wisconsin        45876.000000  44.430898  -89.688464\n",
       "49               Wyoming        11833.333333  43.170026 -107.568534"
      ]
     },
     "execution_count": 7,
     "metadata": {},
     "output_type": "execute_result"
    }
   ],
   "source": [
    "# Initialize the geolocator\n",
    "geolocator = Nominatim(user_agent=\"my_geocoder\")\n",
    "\n",
    "# Function to get latitude and longitude\n",
    "def get_lat_lon(location):\n",
    "    try:\n",
    "        location = geolocator.geocode(location)\n",
    "        return (location.latitude, location.longitude)\n",
    "    except:\n",
    "        return None\n",
    "\n",
    "# Apply the function to the 'U.S._STATE' column\n",
    "average_customers_by_state['Latitude, Longitude'] = average_customers_by_state['U.S._STATE'].apply(get_lat_lon)\n",
    "\n",
    "# Split the 'Latitude, Longitude' column into separate 'Latitude' and 'Longitude' columns\n",
    "average_customers_by_state[['Latitude', 'Longitude']] = pd.DataFrame(average_customers_by_state['Latitude, Longitude'].tolist(), index=average_customers_by_state.index)\n",
    "\n",
    "# Drop the 'Latitude, Longitude' column\n",
    "average_customers_by_state = average_customers_by_state.drop('Latitude, Longitude', axis=1)\n",
    "\n",
    "# Display the resulting DataFrame\n",
    "average_customers_by_state"
   ]
  },
  {
   "cell_type": "markdown",
   "metadata": {},
   "source": [
    "# Visualizing Customer Impact with Folium Heatmap\n",
    "This code snippet utilizes Folium to create an interactive heatmap visualizing the impact of power outages based on the number of affected customers. The map is centered on Minnesota, serving as the default location due to the order of the Excel file. The heatmap layer is constructed using latitude, longitude, and the 'CUSTOMERS.AFFECTED' column. Each point on the map contributes to the heatmap intensity, providing a spatial representation of the customer impact. "
   ]
  },
  {
   "cell_type": "code",
   "execution_count": 8,
   "metadata": {},
   "outputs": [
    {
     "data": {
      "text/html": [
       "<div style=\"width:100%;\"><div style=\"position:relative;width:100%;height:0;padding-bottom:60%;\"><span style=\"color:#565656\">Make this Notebook Trusted to load map: File -> Trust Notebook</span><iframe srcdoc=\"&lt;!DOCTYPE html&gt;\n",
       "&lt;html&gt;\n",
       "&lt;head&gt;\n",
       "    \n",
       "    &lt;meta http-equiv=&quot;content-type&quot; content=&quot;text/html; charset=UTF-8&quot; /&gt;\n",
       "    \n",
       "        &lt;script&gt;\n",
       "            L_NO_TOUCH = false;\n",
       "            L_DISABLE_3D = false;\n",
       "        &lt;/script&gt;\n",
       "    \n",
       "    &lt;style&gt;html, body {width: 100%;height: 100%;margin: 0;padding: 0;}&lt;/style&gt;\n",
       "    &lt;style&gt;#map {position:absolute;top:0;bottom:0;right:0;left:0;}&lt;/style&gt;\n",
       "    &lt;script src=&quot;https://cdn.jsdelivr.net/npm/leaflet@1.9.3/dist/leaflet.js&quot;&gt;&lt;/script&gt;\n",
       "    &lt;script src=&quot;https://code.jquery.com/jquery-1.12.4.min.js&quot;&gt;&lt;/script&gt;\n",
       "    &lt;script src=&quot;https://cdn.jsdelivr.net/npm/bootstrap@5.2.2/dist/js/bootstrap.bundle.min.js&quot;&gt;&lt;/script&gt;\n",
       "    &lt;script src=&quot;https://cdnjs.cloudflare.com/ajax/libs/Leaflet.awesome-markers/2.0.2/leaflet.awesome-markers.js&quot;&gt;&lt;/script&gt;\n",
       "    &lt;link rel=&quot;stylesheet&quot; href=&quot;https://cdn.jsdelivr.net/npm/leaflet@1.9.3/dist/leaflet.css&quot;/&gt;\n",
       "    &lt;link rel=&quot;stylesheet&quot; href=&quot;https://cdn.jsdelivr.net/npm/bootstrap@5.2.2/dist/css/bootstrap.min.css&quot;/&gt;\n",
       "    &lt;link rel=&quot;stylesheet&quot; href=&quot;https://netdna.bootstrapcdn.com/bootstrap/3.0.0/css/bootstrap.min.css&quot;/&gt;\n",
       "    &lt;link rel=&quot;stylesheet&quot; href=&quot;https://cdn.jsdelivr.net/npm/@fortawesome/fontawesome-free@6.2.0/css/all.min.css&quot;/&gt;\n",
       "    &lt;link rel=&quot;stylesheet&quot; href=&quot;https://cdnjs.cloudflare.com/ajax/libs/Leaflet.awesome-markers/2.0.2/leaflet.awesome-markers.css&quot;/&gt;\n",
       "    &lt;link rel=&quot;stylesheet&quot; href=&quot;https://cdn.jsdelivr.net/gh/python-visualization/folium/folium/templates/leaflet.awesome.rotate.min.css&quot;/&gt;\n",
       "    \n",
       "            &lt;meta name=&quot;viewport&quot; content=&quot;width=device-width,\n",
       "                initial-scale=1.0, maximum-scale=1.0, user-scalable=no&quot; /&gt;\n",
       "            &lt;style&gt;\n",
       "                #map_3eeaa893a24ff556659c2a0cb15f4b2c {\n",
       "                    position: relative;\n",
       "                    width: 100.0%;\n",
       "                    height: 100.0%;\n",
       "                    left: 0.0%;\n",
       "                    top: 0.0%;\n",
       "                }\n",
       "                .leaflet-container { font-size: 1rem; }\n",
       "            &lt;/style&gt;\n",
       "        \n",
       "    &lt;script src=&quot;https://cdn.jsdelivr.net/gh/python-visualization/folium@main/folium/templates/leaflet_heat.min.js&quot;&gt;&lt;/script&gt;\n",
       "&lt;/head&gt;\n",
       "&lt;body&gt;\n",
       "    \n",
       "    \n",
       "            &lt;div class=&quot;folium-map&quot; id=&quot;map_3eeaa893a24ff556659c2a0cb15f4b2c&quot; &gt;&lt;/div&gt;\n",
       "        \n",
       "&lt;/body&gt;\n",
       "&lt;script&gt;\n",
       "    \n",
       "    \n",
       "            var map_3eeaa893a24ff556659c2a0cb15f4b2c = L.map(\n",
       "                &quot;map_3eeaa893a24ff556659c2a0cb15f4b2c&quot;,\n",
       "                {\n",
       "                    center: [46.7296, -94.6859],\n",
       "                    crs: L.CRS.EPSG3857,\n",
       "                    zoom: 6,\n",
       "                    zoomControl: true,\n",
       "                    preferCanvas: false,\n",
       "                }\n",
       "            );\n",
       "\n",
       "            \n",
       "\n",
       "        \n",
       "    \n",
       "            var tile_layer_4da8b5c64ed680d689dffcdc95c65836 = L.tileLayer(\n",
       "                &quot;https://{s}.tile.openstreetmap.org/{z}/{x}/{y}.png&quot;,\n",
       "                {&quot;attribution&quot;: &quot;Data by \\u0026copy; \\u003ca target=\\&quot;_blank\\&quot; href=\\&quot;http://openstreetmap.org\\&quot;\\u003eOpenStreetMap\\u003c/a\\u003e, under \\u003ca target=\\&quot;_blank\\&quot; href=\\&quot;http://www.openstreetmap.org/copyright\\&quot;\\u003eODbL\\u003c/a\\u003e.&quot;, &quot;detectRetina&quot;: false, &quot;maxNativeZoom&quot;: 18, &quot;maxZoom&quot;: 18, &quot;minZoom&quot;: 0, &quot;noWrap&quot;: false, &quot;opacity&quot;: 1, &quot;subdomains&quot;: &quot;abc&quot;, &quot;tms&quot;: false}\n",
       "            ).addTo(map_3eeaa893a24ff556659c2a0cb15f4b2c);\n",
       "        \n",
       "    \n",
       "            var heat_map_9d443921d3ec9fd445d310397a7ec88d = L.heatLayer(\n",
       "                [[33.2588817, -86.8295337, 94328.8], [64.4459613, -149.680909, 14273.0], [34.395342, -111.763275, 64402.666666666664], [35.2048883, -92.4479108, 47673.846153846156], [36.7014631, -118.755997, 201365.71653543308], [38.7251776, -105.607716, 41060.63636363636], [41.6500201, -72.7342163, 60339.230769230766], [38.6920451, -75.4013315, 3475.0], [38.89384735, -76.98804281910948, 194709.22222222222], [27.7567667, -81.4639835, 289369.0909090909], [32.3293809, -83.1137366, 120680.1875], [19.593801499999998, -155.42837009716908, 147237.2], [43.6447642, -114.015407, 5833.333333333333], [40.0796606, -89.4337288, 207027.1590909091], [40.3270127, -86.1746933, 69551.44117647059], [41.9216734, -93.3122705, 94000.0], [38.27312, -98.5821872, 108000.0], [37.5726028, -85.1551411, 130531.0], [30.8703881, -92.007126, 151003.1], [45.709097, -68.8590201, 54839.35294117647], [39.5162401, -76.9382069, 120534.86666666667], [42.3788774, -72.032366, 77983.4], [43.6211955, -84.6824346, 152878.24444444446], [45.9896587, -94.6113288, 124006.57142857143], [32.9715285, -89.7348497, 5000.0], [38.7604815, -92.5617875, 50611.07692307692], [41.7370229, -99.5873816, 87070.66666666667], [39.5158825, -116.853722, 22220.0], [43.4849133, -71.6553992, 13869.818181818182], [40.0757384, -74.4041622, 160216.8064516129], [34.5802074, -105.9960475, 166666.66666666666], [40.7127281, -74.0060152, 190675.86666666667], [35.6729639, -79.0392919, 99624.83333333333], [47.6201461, -100.540737, 34500.0], [40.2253569, -82.6881395, 136782.61111111112], [34.9550817, -97.2684063, 160683.2105263158], [43.9792797, -120.737257, 43958.583333333336], [40.9699889, -77.7278831, 168536.82352941178], [33.6874388, -80.4363743, 251913.125], [35.7730076, -86.2820081, 59317.35294117647], [31.2638905, -98.5456116, 223232.09574468085], [39.4225192, -111.714358, 10227.727272727272], [44.5990718, -72.5002608, 0.0], [37.1232245, -78.4927721, 149429.0588235294], [38.8950368, -77.0365427, 101944.02272727272], [38.4758406, -80.8408415, 179794.33333333334], [44.4308975, -89.6884637, 45876.0], [43.1700264, -107.568534, 11833.333333333334]],\n",
       "                {&quot;blur&quot;: 15, &quot;maxZoom&quot;: 18, &quot;minOpacity&quot;: 0.5, &quot;radius&quot;: 25}\n",
       "            ).addTo(map_3eeaa893a24ff556659c2a0cb15f4b2c);\n",
       "        \n",
       "&lt;/script&gt;\n",
       "&lt;/html&gt;\" style=\"position:absolute;width:100%;height:100%;left:0;top:0;border:none !important;\" allowfullscreen webkitallowfullscreen mozallowfullscreen></iframe></div></div>"
      ],
      "text/plain": [
       "<folium.folium.Map at 0x1b6cfc2edc0>"
      ]
     },
     "execution_count": 8,
     "metadata": {},
     "output_type": "execute_result"
    }
   ],
   "source": [
    "# Remove Nan entries\n",
    "average_customers_by_state = average_customers_by_state[~average_customers_by_state[\"CUSTOMERS.AFFECTED\"].isna()]\n",
    "\n",
    "# Create a Map instance\n",
    "m = folium.Map(location=[46.7296, -94.6859], zoom_start=6)  # Location coordinates for Minnesota\n",
    "\n",
    "# Prepare data for the heatmap\n",
    "data = average_customers_by_state[['Latitude', 'Longitude', 'CUSTOMERS.AFFECTED']].values.tolist()\n",
    "\n",
    "# Add the heatmap to the map\n",
    "HeatMap(data).add_to(m)\n",
    "\n",
    "# Display the map\n",
    "m"
   ]
  },
  {
   "cell_type": "markdown",
   "metadata": {},
   "source": [
    "# Average Outage Duration per State\n",
    "In this section, we’re interested in understanding how the duration of power outages varies across different states. To do this, we first calculate the average outage duration for each state using the groupby function in pandas. This gives us a new DataFrame, avg_outage_duration, where each row corresponds to a state and the ‘OUTAGE.DURATION’ column contains the average outage duration for that state.\n",
    "\n",
    "Next, we create a bar plot using Plotly Express (px.bar). The x-axis of the plot represents the different states, and the y-axis represents the average outage duration. Each bar in the plot corresponds to a state. The height of the bar represents the average outage duration for that state.\n",
    "\n",
    "By visualizing the data in this way, we can easily compare the average outage duration across different states."
   ]
  },
  {
   "cell_type": "code",
   "execution_count": 9,
   "metadata": {},
   "outputs": [
    {
     "data": {
      "application/vnd.plotly.v1+json": {
       "config": {
        "plotlyServerURL": "https://plot.ly"
       },
       "data": [
        {
         "alignmentgroup": "True",
         "hovertemplate": "State=%{x}<br>Average Outage Duration=%{y}<extra></extra>",
         "legendgroup": "",
         "marker": {
          "color": "#636efa",
          "pattern": {
           "shape": ""
          }
         },
         "name": "",
         "offsetgroup": "",
         "orientation": "v",
         "showlegend": false,
         "textposition": "auto",
         "type": "bar",
         "x": [
          "Alabama",
          "Alaska",
          "Arizona",
          "Arkansas",
          "California",
          "Colorado",
          "Connecticut",
          "Delaware",
          "District of Columbia",
          "Florida",
          "Georgia",
          "Hawaii",
          "Idaho",
          "Illinois",
          "Indiana",
          "Iowa",
          "Kansas",
          "Kentucky",
          "Louisiana",
          "Maine",
          "Maryland",
          "Massachusetts",
          "Michigan",
          "Minnesota",
          "Mississippi",
          "Missouri",
          "Montana",
          "Nebraska",
          "Nevada",
          "New Hampshire",
          "New Jersey",
          "New Mexico",
          "New York",
          "North Carolina",
          "North Dakota",
          "Ohio",
          "Oklahoma",
          "Oregon",
          "Pennsylvania",
          "South Carolina",
          "South Dakota",
          "Tennessee",
          "Texas",
          "Utah",
          "Vermont",
          "Virginia",
          "Washington",
          "West Virginia",
          "Wisconsin",
          "Wyoming"
         ],
         "xaxis": "x",
         "y": [
          1152.8,
          null,
          4552.92,
          1514.36,
          1666.3383838383838,
          901.0714285714286,
          1278.8333333333333,
          144.925,
          4303.6,
          4094.6666666666665,
          1345.4117647058824,
          845.4,
          414.625,
          1602.4545454545455,
          3521.6428571428573,
          4793.75,
          4376.285714285715,
          5093.923076923077,
          4084.5526315789475,
          1097.0555555555557,
          2313.0862068965516,
          944.1666666666666,
          5302.978947368421,
          2727.9333333333334,
          84,
          3374.0666666666666,
          54,
          2455.75,
          553.2857142857143,
          279.64285714285717,
          4450.90625,
          140.375,
          6034.957142857143,
          1457.2820512820513,
          720,
          2867.8571428571427,
          3019.090909090909,
          766.68,
          3811.7017543859647,
          3135,
          120,
          1041.967741935484,
          2704.8196721311474,
          250.21951219512195,
          35.44444444444444,
          1051.1944444444443,
          1508.1460674157304,
          6979,
          7904.105263157895,
          33.333333333333336
         ],
         "yaxis": "y"
        }
       ],
       "layout": {
        "barmode": "relative",
        "legend": {
         "tracegroupgap": 0
        },
        "template": {
         "data": {
          "bar": [
           {
            "error_x": {
             "color": "#2a3f5f"
            },
            "error_y": {
             "color": "#2a3f5f"
            },
            "marker": {
             "line": {
              "color": "#E5ECF6",
              "width": 0.5
             },
             "pattern": {
              "fillmode": "overlay",
              "size": 10,
              "solidity": 0.2
             }
            },
            "type": "bar"
           }
          ],
          "barpolar": [
           {
            "marker": {
             "line": {
              "color": "#E5ECF6",
              "width": 0.5
             },
             "pattern": {
              "fillmode": "overlay",
              "size": 10,
              "solidity": 0.2
             }
            },
            "type": "barpolar"
           }
          ],
          "carpet": [
           {
            "aaxis": {
             "endlinecolor": "#2a3f5f",
             "gridcolor": "white",
             "linecolor": "white",
             "minorgridcolor": "white",
             "startlinecolor": "#2a3f5f"
            },
            "baxis": {
             "endlinecolor": "#2a3f5f",
             "gridcolor": "white",
             "linecolor": "white",
             "minorgridcolor": "white",
             "startlinecolor": "#2a3f5f"
            },
            "type": "carpet"
           }
          ],
          "choropleth": [
           {
            "colorbar": {
             "outlinewidth": 0,
             "ticks": ""
            },
            "type": "choropleth"
           }
          ],
          "contour": [
           {
            "colorbar": {
             "outlinewidth": 0,
             "ticks": ""
            },
            "colorscale": [
             [
              0,
              "#0d0887"
             ],
             [
              0.1111111111111111,
              "#46039f"
             ],
             [
              0.2222222222222222,
              "#7201a8"
             ],
             [
              0.3333333333333333,
              "#9c179e"
             ],
             [
              0.4444444444444444,
              "#bd3786"
             ],
             [
              0.5555555555555556,
              "#d8576b"
             ],
             [
              0.6666666666666666,
              "#ed7953"
             ],
             [
              0.7777777777777778,
              "#fb9f3a"
             ],
             [
              0.8888888888888888,
              "#fdca26"
             ],
             [
              1,
              "#f0f921"
             ]
            ],
            "type": "contour"
           }
          ],
          "contourcarpet": [
           {
            "colorbar": {
             "outlinewidth": 0,
             "ticks": ""
            },
            "type": "contourcarpet"
           }
          ],
          "heatmap": [
           {
            "colorbar": {
             "outlinewidth": 0,
             "ticks": ""
            },
            "colorscale": [
             [
              0,
              "#0d0887"
             ],
             [
              0.1111111111111111,
              "#46039f"
             ],
             [
              0.2222222222222222,
              "#7201a8"
             ],
             [
              0.3333333333333333,
              "#9c179e"
             ],
             [
              0.4444444444444444,
              "#bd3786"
             ],
             [
              0.5555555555555556,
              "#d8576b"
             ],
             [
              0.6666666666666666,
              "#ed7953"
             ],
             [
              0.7777777777777778,
              "#fb9f3a"
             ],
             [
              0.8888888888888888,
              "#fdca26"
             ],
             [
              1,
              "#f0f921"
             ]
            ],
            "type": "heatmap"
           }
          ],
          "heatmapgl": [
           {
            "colorbar": {
             "outlinewidth": 0,
             "ticks": ""
            },
            "colorscale": [
             [
              0,
              "#0d0887"
             ],
             [
              0.1111111111111111,
              "#46039f"
             ],
             [
              0.2222222222222222,
              "#7201a8"
             ],
             [
              0.3333333333333333,
              "#9c179e"
             ],
             [
              0.4444444444444444,
              "#bd3786"
             ],
             [
              0.5555555555555556,
              "#d8576b"
             ],
             [
              0.6666666666666666,
              "#ed7953"
             ],
             [
              0.7777777777777778,
              "#fb9f3a"
             ],
             [
              0.8888888888888888,
              "#fdca26"
             ],
             [
              1,
              "#f0f921"
             ]
            ],
            "type": "heatmapgl"
           }
          ],
          "histogram": [
           {
            "marker": {
             "pattern": {
              "fillmode": "overlay",
              "size": 10,
              "solidity": 0.2
             }
            },
            "type": "histogram"
           }
          ],
          "histogram2d": [
           {
            "colorbar": {
             "outlinewidth": 0,
             "ticks": ""
            },
            "colorscale": [
             [
              0,
              "#0d0887"
             ],
             [
              0.1111111111111111,
              "#46039f"
             ],
             [
              0.2222222222222222,
              "#7201a8"
             ],
             [
              0.3333333333333333,
              "#9c179e"
             ],
             [
              0.4444444444444444,
              "#bd3786"
             ],
             [
              0.5555555555555556,
              "#d8576b"
             ],
             [
              0.6666666666666666,
              "#ed7953"
             ],
             [
              0.7777777777777778,
              "#fb9f3a"
             ],
             [
              0.8888888888888888,
              "#fdca26"
             ],
             [
              1,
              "#f0f921"
             ]
            ],
            "type": "histogram2d"
           }
          ],
          "histogram2dcontour": [
           {
            "colorbar": {
             "outlinewidth": 0,
             "ticks": ""
            },
            "colorscale": [
             [
              0,
              "#0d0887"
             ],
             [
              0.1111111111111111,
              "#46039f"
             ],
             [
              0.2222222222222222,
              "#7201a8"
             ],
             [
              0.3333333333333333,
              "#9c179e"
             ],
             [
              0.4444444444444444,
              "#bd3786"
             ],
             [
              0.5555555555555556,
              "#d8576b"
             ],
             [
              0.6666666666666666,
              "#ed7953"
             ],
             [
              0.7777777777777778,
              "#fb9f3a"
             ],
             [
              0.8888888888888888,
              "#fdca26"
             ],
             [
              1,
              "#f0f921"
             ]
            ],
            "type": "histogram2dcontour"
           }
          ],
          "mesh3d": [
           {
            "colorbar": {
             "outlinewidth": 0,
             "ticks": ""
            },
            "type": "mesh3d"
           }
          ],
          "parcoords": [
           {
            "line": {
             "colorbar": {
              "outlinewidth": 0,
              "ticks": ""
             }
            },
            "type": "parcoords"
           }
          ],
          "pie": [
           {
            "automargin": true,
            "type": "pie"
           }
          ],
          "scatter": [
           {
            "fillpattern": {
             "fillmode": "overlay",
             "size": 10,
             "solidity": 0.2
            },
            "type": "scatter"
           }
          ],
          "scatter3d": [
           {
            "line": {
             "colorbar": {
              "outlinewidth": 0,
              "ticks": ""
             }
            },
            "marker": {
             "colorbar": {
              "outlinewidth": 0,
              "ticks": ""
             }
            },
            "type": "scatter3d"
           }
          ],
          "scattercarpet": [
           {
            "marker": {
             "colorbar": {
              "outlinewidth": 0,
              "ticks": ""
             }
            },
            "type": "scattercarpet"
           }
          ],
          "scattergeo": [
           {
            "marker": {
             "colorbar": {
              "outlinewidth": 0,
              "ticks": ""
             }
            },
            "type": "scattergeo"
           }
          ],
          "scattergl": [
           {
            "marker": {
             "colorbar": {
              "outlinewidth": 0,
              "ticks": ""
             }
            },
            "type": "scattergl"
           }
          ],
          "scattermapbox": [
           {
            "marker": {
             "colorbar": {
              "outlinewidth": 0,
              "ticks": ""
             }
            },
            "type": "scattermapbox"
           }
          ],
          "scatterpolar": [
           {
            "marker": {
             "colorbar": {
              "outlinewidth": 0,
              "ticks": ""
             }
            },
            "type": "scatterpolar"
           }
          ],
          "scatterpolargl": [
           {
            "marker": {
             "colorbar": {
              "outlinewidth": 0,
              "ticks": ""
             }
            },
            "type": "scatterpolargl"
           }
          ],
          "scatterternary": [
           {
            "marker": {
             "colorbar": {
              "outlinewidth": 0,
              "ticks": ""
             }
            },
            "type": "scatterternary"
           }
          ],
          "surface": [
           {
            "colorbar": {
             "outlinewidth": 0,
             "ticks": ""
            },
            "colorscale": [
             [
              0,
              "#0d0887"
             ],
             [
              0.1111111111111111,
              "#46039f"
             ],
             [
              0.2222222222222222,
              "#7201a8"
             ],
             [
              0.3333333333333333,
              "#9c179e"
             ],
             [
              0.4444444444444444,
              "#bd3786"
             ],
             [
              0.5555555555555556,
              "#d8576b"
             ],
             [
              0.6666666666666666,
              "#ed7953"
             ],
             [
              0.7777777777777778,
              "#fb9f3a"
             ],
             [
              0.8888888888888888,
              "#fdca26"
             ],
             [
              1,
              "#f0f921"
             ]
            ],
            "type": "surface"
           }
          ],
          "table": [
           {
            "cells": {
             "fill": {
              "color": "#EBF0F8"
             },
             "line": {
              "color": "white"
             }
            },
            "header": {
             "fill": {
              "color": "#C8D4E3"
             },
             "line": {
              "color": "white"
             }
            },
            "type": "table"
           }
          ]
         },
         "layout": {
          "annotationdefaults": {
           "arrowcolor": "#2a3f5f",
           "arrowhead": 0,
           "arrowwidth": 1
          },
          "autotypenumbers": "strict",
          "coloraxis": {
           "colorbar": {
            "outlinewidth": 0,
            "ticks": ""
           }
          },
          "colorscale": {
           "diverging": [
            [
             0,
             "#8e0152"
            ],
            [
             0.1,
             "#c51b7d"
            ],
            [
             0.2,
             "#de77ae"
            ],
            [
             0.3,
             "#f1b6da"
            ],
            [
             0.4,
             "#fde0ef"
            ],
            [
             0.5,
             "#f7f7f7"
            ],
            [
             0.6,
             "#e6f5d0"
            ],
            [
             0.7,
             "#b8e186"
            ],
            [
             0.8,
             "#7fbc41"
            ],
            [
             0.9,
             "#4d9221"
            ],
            [
             1,
             "#276419"
            ]
           ],
           "sequential": [
            [
             0,
             "#0d0887"
            ],
            [
             0.1111111111111111,
             "#46039f"
            ],
            [
             0.2222222222222222,
             "#7201a8"
            ],
            [
             0.3333333333333333,
             "#9c179e"
            ],
            [
             0.4444444444444444,
             "#bd3786"
            ],
            [
             0.5555555555555556,
             "#d8576b"
            ],
            [
             0.6666666666666666,
             "#ed7953"
            ],
            [
             0.7777777777777778,
             "#fb9f3a"
            ],
            [
             0.8888888888888888,
             "#fdca26"
            ],
            [
             1,
             "#f0f921"
            ]
           ],
           "sequentialminus": [
            [
             0,
             "#0d0887"
            ],
            [
             0.1111111111111111,
             "#46039f"
            ],
            [
             0.2222222222222222,
             "#7201a8"
            ],
            [
             0.3333333333333333,
             "#9c179e"
            ],
            [
             0.4444444444444444,
             "#bd3786"
            ],
            [
             0.5555555555555556,
             "#d8576b"
            ],
            [
             0.6666666666666666,
             "#ed7953"
            ],
            [
             0.7777777777777778,
             "#fb9f3a"
            ],
            [
             0.8888888888888888,
             "#fdca26"
            ],
            [
             1,
             "#f0f921"
            ]
           ]
          },
          "colorway": [
           "#636efa",
           "#EF553B",
           "#00cc96",
           "#ab63fa",
           "#FFA15A",
           "#19d3f3",
           "#FF6692",
           "#B6E880",
           "#FF97FF",
           "#FECB52"
          ],
          "font": {
           "color": "#2a3f5f"
          },
          "geo": {
           "bgcolor": "white",
           "lakecolor": "white",
           "landcolor": "#E5ECF6",
           "showlakes": true,
           "showland": true,
           "subunitcolor": "white"
          },
          "hoverlabel": {
           "align": "left"
          },
          "hovermode": "closest",
          "mapbox": {
           "style": "light"
          },
          "paper_bgcolor": "white",
          "plot_bgcolor": "#E5ECF6",
          "polar": {
           "angularaxis": {
            "gridcolor": "white",
            "linecolor": "white",
            "ticks": ""
           },
           "bgcolor": "#E5ECF6",
           "radialaxis": {
            "gridcolor": "white",
            "linecolor": "white",
            "ticks": ""
           }
          },
          "scene": {
           "xaxis": {
            "backgroundcolor": "#E5ECF6",
            "gridcolor": "white",
            "gridwidth": 2,
            "linecolor": "white",
            "showbackground": true,
            "ticks": "",
            "zerolinecolor": "white"
           },
           "yaxis": {
            "backgroundcolor": "#E5ECF6",
            "gridcolor": "white",
            "gridwidth": 2,
            "linecolor": "white",
            "showbackground": true,
            "ticks": "",
            "zerolinecolor": "white"
           },
           "zaxis": {
            "backgroundcolor": "#E5ECF6",
            "gridcolor": "white",
            "gridwidth": 2,
            "linecolor": "white",
            "showbackground": true,
            "ticks": "",
            "zerolinecolor": "white"
           }
          },
          "shapedefaults": {
           "line": {
            "color": "#2a3f5f"
           }
          },
          "ternary": {
           "aaxis": {
            "gridcolor": "white",
            "linecolor": "white",
            "ticks": ""
           },
           "baxis": {
            "gridcolor": "white",
            "linecolor": "white",
            "ticks": ""
           },
           "bgcolor": "#E5ECF6",
           "caxis": {
            "gridcolor": "white",
            "linecolor": "white",
            "ticks": ""
           }
          },
          "title": {
           "x": 0.05
          },
          "xaxis": {
           "automargin": true,
           "gridcolor": "white",
           "linecolor": "white",
           "ticks": "",
           "title": {
            "standoff": 15
           },
           "zerolinecolor": "white",
           "zerolinewidth": 2
          },
          "yaxis": {
           "automargin": true,
           "gridcolor": "white",
           "linecolor": "white",
           "ticks": "",
           "title": {
            "standoff": 15
           },
           "zerolinecolor": "white",
           "zerolinewidth": 2
          }
         }
        },
        "title": {
         "text": "Average Outage Duration per State"
        },
        "xaxis": {
         "anchor": "y",
         "domain": [
          0,
          1
         ],
         "title": {
          "text": "State"
         }
        },
        "yaxis": {
         "anchor": "x",
         "domain": [
          0,
          1
         ],
         "title": {
          "text": "Average Outage Duration"
         }
        }
       }
      }
     },
     "metadata": {},
     "output_type": "display_data"
    }
   ],
   "source": [
    "# Calculate the average outage duration per state\n",
    "avg_outage_duration = outage_cleaned.groupby('U.S._STATE')['OUTAGE.DURATION'].mean().reset_index()\n",
    "\n",
    "# Create a bar plot\n",
    "fig = px.bar(avg_outage_duration, x='U.S._STATE', y='OUTAGE.DURATION',\n",
    "             labels={'U.S._STATE':'State', 'OUTAGE.DURATION':'Average Outage Duration'},\n",
    "             title='Average Outage Duration per State')\n",
    "\n",
    "# Show the plot\n",
    "fig.show()\n",
    "fig.write_html(os.path.join('Assets', 'avg_outage_duration.html'), include_plotlyjs='cdn')\n"
   ]
  },
  {
   "cell_type": "markdown",
   "metadata": {},
   "source": [
    "### Assessment of Missingness"
   ]
  },
  {
   "cell_type": "code",
   "execution_count": null,
   "metadata": {
    "ExecuteTime": {
     "end_time": "2019-10-31T23:36:28.662099Z",
     "start_time": "2019-10-31T23:36:28.660016Z"
    }
   },
   "outputs": [],
   "source": []
  },
  {
   "cell_type": "markdown",
   "metadata": {},
   "source": [
    "# NMAR Analysis\n",
    "\n",
    "We believe the column CAUSE.CATEGORY.DETAIL is likely to be NMAR as the column revolves around a detailed description of the event categories, and too complex of a description may cause nothing to be marked down instead. Possible data that could help make it MAR would be the uniqueness or complexity of the cause since more complex causes may not be easily inputed into the data.\n",
    "\n"
   ]
  },
  {
   "cell_type": "markdown",
   "metadata": {},
   "source": [
    "# Missingness Dependency\n",
    "\n"
   ]
  },
  {
   "cell_type": "code",
   "execution_count": 10,
   "metadata": {},
   "outputs": [
    {
     "name": "stdout",
     "output_type": "stream",
     "text": [
      "KstestResult(statistic=0.12307261003644519, pvalue=0.3376185403211189, statistic_location=430000.0, statistic_sign=-1) KstestResult(statistic=0.21325109802822168, pvalue=0.010450324966936536, statistic_location=19970292.0, statistic_sign=-1)\n"
     ]
    },
    {
     "data": {
      "application/vnd.plotly.v1+json": {
       "config": {
        "plotlyServerURL": "https://plot.ly"
       },
       "data": [
        {
         "alignmentgroup": "True",
         "bingroup": "x",
         "histnorm": "probability",
         "hovertemplate": "missing=False<br>TOTAL.SALES=%{x}<br>probability=%{y}<extra></extra>",
         "legendgroup": "False",
         "marker": {
          "color": "#636efa",
          "opacity": 0.7,
          "pattern": {
           "shape": ""
          }
         },
         "name": "False",
         "offsetgroup": "False",
         "orientation": "v",
         "showlegend": true,
         "type": "histogram",
         "x": [
          6562520,
          5284231,
          5222116,
          5787064,
          5970339,
          5374150,
          6374935,
          5607498,
          5599486,
          5490631,
          5490631,
          5535009,
          6562520,
          5262668,
          5574073,
          8258806,
          9791474,
          8258806,
          7278927,
          9144470,
          8926587,
          9877219,
          7583977,
          9549176,
          8950358,
          8664304,
          7278927,
          8404698,
          8395017,
          8404698,
          7278927,
          7063873,
          8848352,
          8404698,
          7278927,
          9549176,
          8631202,
          8707973,
          7278927,
          7790440,
          8080023,
          9549176,
          7278927,
          8404698,
          9549176,
          8739380,
          6442931,
          5398464,
          6291012,
          6442931,
          5330888,
          6188772,
          6442931,
          6083211,
          5966551,
          6717006,
          5352037,
          5055727,
          6442931,
          5892307,
          5757447,
          6291012,
          6442931,
          6291012,
          6442931,
          2822167,
          2577255,
          2481277,
          2407180,
          8180730,
          9311816,
          8667198,
          10846247,
          8013690,
          10002112,
          10086037,
          8450792,
          8180730,
          8907617,
          7799973,
          8237896,
          7445186,
          9001598,
          7779271,
          10002112,
          8086396,
          10034838,
          8117814,
          10034838,
          8134221,
          8378192,
          10260246,
          8089925,
          9092427,
          8964092,
          8237593,
          7445186,
          8763874,
          9328886,
          null,
          8995326,
          11002234,
          8995326,
          8481747,
          9160788,
          8134221,
          8008227,
          9306895,
          8555330,
          8770574,
          8658859,
          7858010,
          8528059,
          8308074,
          8944946,
          10311612,
          8096999,
          9327963,
          8237896,
          10846247,
          8237896,
          7799973,
          8999885,
          8986322,
          10086037,
          9017849,
          9933745,
          8995326,
          9327963,
          7724563,
          8763874,
          8950183,
          8267271,
          9327963,
          10368366,
          8763874,
          8964092,
          8548464,
          8667198,
          9776717,
          8828035,
          10034838,
          7823228,
          10846247,
          8555330,
          10708773,
          9328886,
          8907617,
          8117814,
          8378192,
          10639207,
          8355044,
          8944946,
          10368366,
          8431533,
          8180730,
          10846247,
          10846247,
          9122606,
          7960881,
          8612724,
          9933745,
          8280337,
          9886881,
          39740458,
          27945669,
          27945669,
          null,
          39226454,
          30082500,
          33491405,
          23854318,
          27654566,
          28893988,
          34707247,
          25670267,
          33553242,
          33553242,
          40357061,
          33193019,
          38540463,
          32458960,
          24043000,
          34465581,
          26164763,
          27654566,
          30251814,
          41667168,
          41667168,
          25670267,
          29324642,
          33978964,
          26464992,
          32002502,
          22746099,
          24998018,
          30580544,
          30082500,
          33245579,
          27945669,
          31637886,
          26967196,
          30082500,
          33245579,
          33193019,
          26880571,
          35633215,
          28330456,
          36275885,
          27789572,
          24237577,
          35785373,
          null,
          30908046,
          26384824,
          23901974,
          23378775,
          37508391,
          27789572,
          36275885,
          28330456,
          28085863,
          39328028,
          35730168,
          24043000,
          26517691,
          33978964,
          31525789,
          21870637,
          27945669,
          25670267,
          34088196,
          30908046,
          23166947,
          25670267,
          39740458,
          25400068,
          28644756,
          25728887,
          35730168,
          30580544,
          34655355,
          29007544,
          36817135,
          28531900,
          25230186,
          33656686,
          27654566,
          29993367,
          36817135,
          26338924,
          36275885,
          30082500,
          41667168,
          23378775,
          26164763,
          31956045,
          41667168,
          28893988,
          25461708,
          30580544,
          25670267,
          28893988,
          35730168,
          28531900,
          30908046,
          30580544,
          33491405,
          34707247,
          29499229,
          39740458,
          25670267,
          25380423,
          38732076,
          27789572,
          26883068,
          31525789,
          36600689,
          25132126,
          40357061,
          28331887,
          36817135,
          26464992,
          25461708,
          22424411,
          27726661,
          9110926,
          9430041,
          9205202,
          8139959,
          7371969,
          8017586,
          9430041,
          9124826,
          9027043,
          8287573,
          8139959,
          8139959,
          10504000,
          8125037,
          8139959,
          8287573,
          8013425,
          10644457,
          7934607,
          9274798,
          9766472,
          9121925,
          7914725,
          8698240,
          8271642,
          8017586,
          9027043,
          9363617,
          10644457,
          7669655,
          9766472,
          10504000,
          8271642,
          9647930,
          8139959,
          9121925,
          9124826,
          9430041,
          9027043,
          9853190,
          9121925,
          9430041,
          7907462,
          7038185,
          8257127,
          8934377,
          6479167,
          4151539,
          3699788,
          3640973,
          3602227,
          10661657,
          12512370,
          14587244,
          12880287,
          10746745,
          15636182,
          10953971,
          11093533,
          12512370,
          13479208,
          12154984,
          12223612,
          11937603,
          12389743,
          14759220,
          15636182,
          15636182,
          10700552,
          11688135,
          12154984,
          13175400,
          13339394,
          10403395,
          13391265,
          14172569,
          13156935,
          11686951,
          12148127,
          13677722,
          13015252,
          10223608,
          13665101,
          13272311,
          12545025,
          14063905,
          10746745,
          13175400,
          12154984,
          14524133,
          11594099,
          14759220,
          12545025,
          14759220,
          10286783,
          8636742,
          8852112,
          8636742,
          8767319,
          9215371,
          7190121,
          7366208,
          7565294,
          7565294,
          6609969,
          8514890,
          7334593,
          7044482,
          7931284,
          6636190,
          6957091,
          8852112,
          8988060,
          8373220,
          7372409,
          8593354,
          8610778,
          8373220,
          null,
          6957091,
          7642530,
          8852112,
          7491167,
          7366208,
          7840102,
          7848762,
          6957091,
          7797125,
          7146468,
          7731265,
          7146468,
          8636742,
          7464557,
          7565294,
          6785327,
          7412771,
          8514890,
          6542025,
          8486806,
          9257152,
          8988060,
          6788884,
          7146468,
          7309613,
          8636742,
          8486806,
          7311595,
          7436369,
          6957091,
          7334593,
          7334593,
          6957091,
          7020528,
          7342873,
          7734340,
          7565294,
          6970472,
          7366208,
          7687275,
          7177447,
          7412771,
          8852112,
          8988060,
          8852112,
          6974162,
          6957091,
          7334593,
          7565294,
          7734340,
          7731265,
          7734340,
          7146468,
          6636190,
          7334593,
          8988060,
          8423104,
          7734340,
          7177447,
          6536704,
          7366208,
          8988060,
          7190121,
          8988060,
          7201767,
          7057869,
          4715638,
          4715638,
          5570101,
          8548328,
          7071255,
          5509794,
          8298927,
          7078856,
          5341392,
          6389121,
          5549419,
          5549419,
          5783132,
          7738942,
          5184547,
          5570101,
          5226956,
          5570101,
          7078856,
          4715638,
          5150759,
          5083188,
          6333137,
          7071255,
          5418546,
          6367508,
          5277647,
          5654256,
          5695024,
          5277647,
          6782930,
          5745344,
          4452722,
          5155310,
          4452722,
          6278411,
          4524914,
          4708475,
          6098191,
          4452722,
          5167745,
          5268119,
          5155310,
          4672407,
          5169554,
          6278411,
          6782930,
          5045543,
          6676731,
          4452722,
          6296613,
          6247406,
          5372325,
          5482301,
          5418546,
          4786894,
          5167745,
          5169554,
          4452722,
          5169554,
          5289853,
          5268119,
          4452722,
          6957521,
          5418546,
          5372325,
          5045543,
          5654256,
          4158706,
          5176902,
          4753488,
          5022748,
          4452722,
          4452722,
          6957521,
          5833935,
          6676731,
          6098191,
          5418546,
          4246043,
          6782930,
          5745344,
          13779739,
          11287927,
          10953611,
          11160581,
          11781478,
          12495939,
          11287927,
          12815127,
          11091812,
          11738155,
          12056707,
          12202753,
          13761069,
          12481231,
          13591088,
          12958106,
          13027791,
          12202753,
          12666515,
          12637681,
          11287927,
          13836753,
          11872524,
          14385585,
          12992227,
          11091812,
          12355048,
          12992227,
          null,
          12355048,
          12284653,
          13591088,
          13346603,
          13684505,
          12355048,
          12255316,
          13761069,
          14020374,
          13779739,
          13346603,
          14385585,
          14178091,
          11160581,
          13346603,
          12923209,
          14385585,
          11287927,
          12337305,
          13591088,
          13761069,
          12337305,
          11287927,
          11287927,
          11091812,
          10995382,
          12835148,
          12495939,
          8188193,
          7762820,
          7487036,
          8088387,
          6704186,
          6442827,
          7767665,
          8212696,
          8482896,
          8482896,
          8212696,
          7767665,
          8482896,
          2305683,
          2399055,
          2392042,
          2344232,
          2344232,
          2689898,
          2574185,
          2216016,
          2560849,
          2216016,
          2267401,
          2399055,
          2768207,
          2574185,
          2689898,
          2188325,
          2890938,
          2192416,
          2344232,
          2208136,
          2529857,
          2188325,
          2743924,
          2216458,
          2200942,
          2177281,
          2318322,
          2818384,
          2492126,
          2318322,
          2268269,
          2188325,
          2889635,
          2809233,
          2392042,
          2941900,
          2324351,
          2344232,
          2192416,
          2269166,
          3069813,
          12091413,
          12091413,
          14996755,
          14579765,
          10820298,
          12391847,
          12794812,
          12821117,
          14475383,
          13942962,
          13264303,
          14579765,
          15289627,
          12243748,
          14089972,
          13919175,
          14199635,
          12804884,
          11675943,
          15553889,
          14552914,
          14123130,
          15289627,
          11675943,
          14761794,
          12391847,
          12301983,
          13482365,
          12430324,
          12821117,
          12887164,
          15553889,
          12243748,
          12821117,
          11739373,
          15553889,
          14579765,
          12991997,
          13241594,
          11257186,
          11627578,
          14552914,
          9597808,
          11963827,
          11189364,
          9245272,
          11402776,
          9996911,
          12108140,
          13086893,
          11006447,
          10625020,
          11777304,
          13086893,
          null,
          10832900,
          11562367,
          12873077,
          13267650,
          10286592,
          11103291,
          10082029,
          11239313,
          10232001,
          11229201,
          10625020,
          9195341,
          10760501,
          10700601,
          13267650,
          10972259,
          9825955,
          11229201,
          null,
          10899464,
          12873077,
          13267650,
          11383721,
          10760501,
          12210188,
          10972259,
          6476106,
          6614106,
          6670510,
          7827652,
          5647321,
          5651084,
          5647321,
          8374523,
          7320536,
          6552570,
          6808089,
          7827652,
          6614106,
          6105400,
          6808089,
          6082133,
          7320536,
          5242935,
          6578782,
          5486658,
          5647321,
          6808089,
          7212763,
          6670682,
          5486658,
          5973784,
          8570959,
          7827652,
          5954081,
          5486658,
          5647321,
          5973784,
          7531108,
          7476646,
          7643655,
          6513433,
          6586660,
          6899368,
          6586660,
          7643655,
          4189416,
          4512872,
          3868621,
          3673934,
          3956492,
          3856593,
          4318263,
          4703865,
          4014413,
          4393408,
          4007383,
          4183695,
          null,
          4529651,
          3573211,
          4393408,
          3640038,
          3956492,
          4007383,
          4318263,
          4393408,
          3641613,
          3638061,
          4183695,
          3547135,
          902386,
          1084951,
          1167163,
          920981,
          1018592,
          846772,
          1004907,
          1015794,
          999646,
          1167163,
          6433254,
          5861119,
          7824579,
          7824579,
          8224669,
          7835624,
          9118872,
          7580241,
          6132823,
          6132823,
          5823739,
          5493089,
          6266605,
          6755507,
          6259942,
          1214292,
          990197,
          873267,
          933076,
          846219,
          1029890,
          996096,
          1097708,
          816529,
          841219,
          986394,
          853333,
          829672,
          851828,
          940976,
          1283959,
          885713,
          1029890,
          1029890,
          1040930,
          816529,
          885713,
          873267,
          933076,
          1040930,
          829672,
          927076,
          933076,
          841219,
          951681,
          873267,
          816529,
          null,
          979391,
          946394,
          951681,
          842791,
          1071153,
          1097708,
          990197,
          3917027,
          3590530,
          4132984,
          3917027,
          3330865,
          3917027,
          3590530,
          3663965,
          1242527,
          1059449,
          1050775,
          10846529,
          11163410,
          11163410,
          14159584,
          11299044,
          12201514,
          14159584,
          11361905,
          10689332,
          12405870,
          13993053,
          10674899,
          12154725,
          10674899,
          12843931,
          14225043,
          14574946,
          12176916,
          11025368,
          10825773,
          11025368,
          12699456,
          14662838,
          11228223,
          12176916,
          10689332,
          12283409,
          12424996,
          11530654,
          12283323,
          12154725,
          13851002,
          12424996,
          14159584,
          14662838,
          11361905,
          12511957,
          14159584,
          11228223,
          14203370,
          11573522,
          10689332,
          11242659,
          11573522,
          10674899,
          13851002,
          12297255,
          11028819,
          12843931,
          14159584,
          12359479,
          14159584,
          13692504,
          14662838,
          13843996,
          12283323,
          12805244,
          11085078,
          14159584,
          12106243,
          11085078,
          11163410,
          12046524,
          14286789,
          11530654,
          11361905,
          12287262,
          13980141,
          12511957,
          12699456,
          8015508,
          8057532,
          7183486,
          8505369,
          8505369,
          7954648,
          6888955,
          8505369,
          6672269,
          8505369,
          8023652,
          7856828,
          6863383,
          7699580,
          7954648,
          5483500,
          6236365,
          6982794,
          5895644,
          7168846,
          7856828,
          8057532,
          7168846,
          7168846,
          6893162,
          7856828,
          8433323,
          8433323,
          6127940,
          7856828,
          8057532,
          6406309,
          6486644,
          7228383,
          6893162,
          8433323,
          6236365,
          5814212,
          16025933,
          22575319,
          23004710,
          22804437,
          16515248,
          21982109,
          16959888,
          20510745,
          15229219,
          20194924,
          16515248,
          17107025,
          17107025,
          20841967,
          15137142,
          22256850,
          20264386,
          23004710,
          17107025,
          16515248,
          17648170,
          19824036,
          22804437,
          21982109,
          20597429,
          19824036,
          20841967,
          20194924,
          16515248,
          16515248,
          19824036,
          22420966,
          19824036,
          21592345,
          19824036,
          19824036,
          20194924,
          19824036,
          20841967,
          23004710,
          20841967,
          19824036,
          15229219,
          18842683,
          16985644,
          24974681,
          20942151,
          20582284,
          24125319,
          18727999,
          19388692,
          22619921,
          25206304,
          22741963,
          25147418,
          23475096,
          26405948,
          21981278,
          26288469,
          18076185,
          19212525,
          21515349,
          23995943,
          25635015,
          25340794,
          20439478,
          24988989,
          23995943,
          23355017,
          25919908,
          19138651,
          19159063,
          22619921,
          20861122,
          25582494,
          21310183,
          21178613,
          19782727,
          19970292,
          21310183,
          19970292,
          20927036,
          22304475,
          20256041,
          21866506,
          21901510,
          18727999,
          21901510,
          21901510,
          19840018,
          19388692,
          18993756,
          19826857,
          22723895,
          22151808,
          21351409,
          20582284,
          25919908,
          20470914,
          20256041,
          18993756,
          18947640,
          22224419,
          19731468,
          25635015,
          18941265,
          18411708,
          19005521,
          21808172,
          25206304,
          24988989,
          19138651,
          19388692,
          19138651,
          21384185,
          19017650,
          17876563,
          26405948,
          25005524,
          26405948,
          21981278,
          25919908,
          21901510,
          19585631,
          16962605,
          21515349,
          22619921,
          21744317,
          19038040,
          19862257,
          22506210,
          20861667,
          26288469,
          22299203,
          25635015,
          22299203,
          20861122,
          18076185,
          20256041,
          17781301,
          20927036,
          22930603,
          20256041,
          18947640,
          22447753,
          23816739,
          20861667,
          21974546,
          22723895,
          24988989,
          21178613,
          19970292,
          21384185,
          24507429,
          19907608,
          22015226,
          21942679,
          22723895,
          23616311,
          26288469,
          22028050,
          24533682,
          21515349,
          19377182,
          21387224,
          25206304,
          19983832,
          23334005,
          19022242,
          20333685,
          20033300,
          24125319,
          23328704,
          24988989,
          26232375,
          22741963,
          19731468,
          20712609,
          21788563,
          20114545,
          22036601,
          23995943,
          21788563,
          21351409,
          19138651,
          22506210,
          24681491,
          21901510,
          25582494,
          21788563,
          21178613,
          26288469,
          21515349,
          22299203,
          24988989,
          21515349,
          22506210,
          20333685,
          22015226,
          18916761,
          22667368,
          23616311,
          23816739,
          19862257,
          21808172,
          19862257,
          22667368,
          22667368,
          20188608,
          22447753,
          21351409,
          22667368,
          22447753,
          20712609,
          19585631,
          17876563,
          18727999,
          21744317,
          19022242,
          22028050,
          22667368,
          21384185,
          19259976,
          20114545,
          25635015,
          19875740,
          24414205,
          19840018,
          21942679,
          24974681,
          19377182,
          22036601,
          19970292,
          19050378,
          18656348,
          20114545,
          22530176,
          22151808,
          26288469,
          19167557,
          20861667,
          19377182,
          19847009,
          3772847,
          3974957,
          3772847,
          3494367,
          3843905,
          4330118,
          4581194,
          3415507,
          3346671,
          3415507,
          4649836,
          4201911,
          4253036,
          5147213,
          4300120,
          3665356,
          3266478,
          4300120,
          4618234,
          4745922,
          4421959,
          3342743,
          3843905,
          4834799,
          3202284,
          10103576,
          11284286,
          10355383,
          9823118,
          8261610,
          9959314,
          10600512,
          7553119,
          9056448,
          9946849,
          10887121,
          8067143,
          9870197,
          8497367,
          10358394,
          11352424,
          11352424,
          9403768,
          9241797,
          8926177,
          8696014,
          10700731,
          8926177,
          10103576,
          9232209,
          9505687,
          9019086,
          10835131,
          9728455,
          11076073,
          10835131,
          9400680,
          8899503,
          8701398,
          9358568,
          9241797,
          3039805,
          2315602,
          2166169,
          2282594,
          1416356,
          1528811,
          1433063,
          1365456,
          1368127,
          1452960,
          2125121,
          1739847,
          1437691,
          2218192,
          1739847,
          1960025,
          1739847,
          1756432,
          447034,
          427661,
          446236,
          444823,
          473575,
          497098,
          434478,
          443915,
          409204,
          10381851,
          10973692,
          11103575,
          11018150,
          10772709,
          12894687,
          10834890,
          11280647,
          9897876,
          10581464,
          9262260,
          10819446,
          11895035,
          10819446,
          11018150,
          12894687,
          9559928,
          2300770,
          2165826,
          2995189,
          2287897,
          2340505,
          2893149,
          2065419,
          2635480,
          2383806,
          2518712,
          2661660,
          2957329,
          2518712,
          2442711,
          2447603,
          3246923,
          2616524,
          2374160,
          4622775,
          4693211,
          3978308,
          5029445,
          6686268,
          4920158,
          6686268,
          4344399,
          4420337,
          null,
          6206348,
          6686268,
          4584162,
          6686268,
          4584162,
          5938338,
          6804721,
          4597901,
          4231978,
          4622775,
          4693211,
          4586920,
          4923422,
          4582843,
          5096565,
          4923422,
          4115849,
          4494764,
          4577240,
          4115849,
          4251082,
          4251082,
          5093293,
          4156978,
          4139922,
          4574558,
          4808251,
          5684134,
          4577240,
          4294884,
          1047944,
          1030593,
          1017606,
          915907,
          1030593,
          989416,
          1030593,
          901223,
          1088895,
          1008808,
          985385,
          926257,
          1077281,
          903177,
          970200,
          1054369,
          991827,
          915907,
          838970,
          833194,
          912727,
          985109,
          891995,
          838970,
          779845,
          779845,
          824542,
          855846,
          779845,
          891995,
          816214,
          833194,
          2599927,
          3618500,
          2720283,
          2608404,
          2727874,
          2501277,
          2579567,
          4223288,
          4058095,
          4237235,
          4746909,
          5182136,
          4108146,
          4282715,
          4253635,
          4539747,
          3709983,
          4783529,
          4253635,
          4019838,
          4145577,
          3024559,
          3092395,
          2726452,
          3270802,
          3092395,
          3858223,
          3190147,
          835405,
          852355,
          922915,
          891580,
          922915,
          null,
          2031531,
          2034123,
          2063171,
          2015509,
          1886871,
          1657605,
          null,
          1313678,
          924051,
          924051
         ],
         "xaxis": "x",
         "yaxis": "y"
        },
        {
         "alignmentgroup": "True",
         "hovertemplate": "missing=False<br>TOTAL.SALES=%{x}<extra></extra>",
         "legendgroup": "False",
         "marker": {
          "color": "#636efa"
         },
         "name": "False",
         "notched": true,
         "offsetgroup": "False",
         "showlegend": false,
         "type": "box",
         "x": [
          6562520,
          5284231,
          5222116,
          5787064,
          5970339,
          5374150,
          6374935,
          5607498,
          5599486,
          5490631,
          5490631,
          5535009,
          6562520,
          5262668,
          5574073,
          8258806,
          9791474,
          8258806,
          7278927,
          9144470,
          8926587,
          9877219,
          7583977,
          9549176,
          8950358,
          8664304,
          7278927,
          8404698,
          8395017,
          8404698,
          7278927,
          7063873,
          8848352,
          8404698,
          7278927,
          9549176,
          8631202,
          8707973,
          7278927,
          7790440,
          8080023,
          9549176,
          7278927,
          8404698,
          9549176,
          8739380,
          6442931,
          5398464,
          6291012,
          6442931,
          5330888,
          6188772,
          6442931,
          6083211,
          5966551,
          6717006,
          5352037,
          5055727,
          6442931,
          5892307,
          5757447,
          6291012,
          6442931,
          6291012,
          6442931,
          2822167,
          2577255,
          2481277,
          2407180,
          8180730,
          9311816,
          8667198,
          10846247,
          8013690,
          10002112,
          10086037,
          8450792,
          8180730,
          8907617,
          7799973,
          8237896,
          7445186,
          9001598,
          7779271,
          10002112,
          8086396,
          10034838,
          8117814,
          10034838,
          8134221,
          8378192,
          10260246,
          8089925,
          9092427,
          8964092,
          8237593,
          7445186,
          8763874,
          9328886,
          null,
          8995326,
          11002234,
          8995326,
          8481747,
          9160788,
          8134221,
          8008227,
          9306895,
          8555330,
          8770574,
          8658859,
          7858010,
          8528059,
          8308074,
          8944946,
          10311612,
          8096999,
          9327963,
          8237896,
          10846247,
          8237896,
          7799973,
          8999885,
          8986322,
          10086037,
          9017849,
          9933745,
          8995326,
          9327963,
          7724563,
          8763874,
          8950183,
          8267271,
          9327963,
          10368366,
          8763874,
          8964092,
          8548464,
          8667198,
          9776717,
          8828035,
          10034838,
          7823228,
          10846247,
          8555330,
          10708773,
          9328886,
          8907617,
          8117814,
          8378192,
          10639207,
          8355044,
          8944946,
          10368366,
          8431533,
          8180730,
          10846247,
          10846247,
          9122606,
          7960881,
          8612724,
          9933745,
          8280337,
          9886881,
          39740458,
          27945669,
          27945669,
          null,
          39226454,
          30082500,
          33491405,
          23854318,
          27654566,
          28893988,
          34707247,
          25670267,
          33553242,
          33553242,
          40357061,
          33193019,
          38540463,
          32458960,
          24043000,
          34465581,
          26164763,
          27654566,
          30251814,
          41667168,
          41667168,
          25670267,
          29324642,
          33978964,
          26464992,
          32002502,
          22746099,
          24998018,
          30580544,
          30082500,
          33245579,
          27945669,
          31637886,
          26967196,
          30082500,
          33245579,
          33193019,
          26880571,
          35633215,
          28330456,
          36275885,
          27789572,
          24237577,
          35785373,
          null,
          30908046,
          26384824,
          23901974,
          23378775,
          37508391,
          27789572,
          36275885,
          28330456,
          28085863,
          39328028,
          35730168,
          24043000,
          26517691,
          33978964,
          31525789,
          21870637,
          27945669,
          25670267,
          34088196,
          30908046,
          23166947,
          25670267,
          39740458,
          25400068,
          28644756,
          25728887,
          35730168,
          30580544,
          34655355,
          29007544,
          36817135,
          28531900,
          25230186,
          33656686,
          27654566,
          29993367,
          36817135,
          26338924,
          36275885,
          30082500,
          41667168,
          23378775,
          26164763,
          31956045,
          41667168,
          28893988,
          25461708,
          30580544,
          25670267,
          28893988,
          35730168,
          28531900,
          30908046,
          30580544,
          33491405,
          34707247,
          29499229,
          39740458,
          25670267,
          25380423,
          38732076,
          27789572,
          26883068,
          31525789,
          36600689,
          25132126,
          40357061,
          28331887,
          36817135,
          26464992,
          25461708,
          22424411,
          27726661,
          9110926,
          9430041,
          9205202,
          8139959,
          7371969,
          8017586,
          9430041,
          9124826,
          9027043,
          8287573,
          8139959,
          8139959,
          10504000,
          8125037,
          8139959,
          8287573,
          8013425,
          10644457,
          7934607,
          9274798,
          9766472,
          9121925,
          7914725,
          8698240,
          8271642,
          8017586,
          9027043,
          9363617,
          10644457,
          7669655,
          9766472,
          10504000,
          8271642,
          9647930,
          8139959,
          9121925,
          9124826,
          9430041,
          9027043,
          9853190,
          9121925,
          9430041,
          7907462,
          7038185,
          8257127,
          8934377,
          6479167,
          4151539,
          3699788,
          3640973,
          3602227,
          10661657,
          12512370,
          14587244,
          12880287,
          10746745,
          15636182,
          10953971,
          11093533,
          12512370,
          13479208,
          12154984,
          12223612,
          11937603,
          12389743,
          14759220,
          15636182,
          15636182,
          10700552,
          11688135,
          12154984,
          13175400,
          13339394,
          10403395,
          13391265,
          14172569,
          13156935,
          11686951,
          12148127,
          13677722,
          13015252,
          10223608,
          13665101,
          13272311,
          12545025,
          14063905,
          10746745,
          13175400,
          12154984,
          14524133,
          11594099,
          14759220,
          12545025,
          14759220,
          10286783,
          8636742,
          8852112,
          8636742,
          8767319,
          9215371,
          7190121,
          7366208,
          7565294,
          7565294,
          6609969,
          8514890,
          7334593,
          7044482,
          7931284,
          6636190,
          6957091,
          8852112,
          8988060,
          8373220,
          7372409,
          8593354,
          8610778,
          8373220,
          null,
          6957091,
          7642530,
          8852112,
          7491167,
          7366208,
          7840102,
          7848762,
          6957091,
          7797125,
          7146468,
          7731265,
          7146468,
          8636742,
          7464557,
          7565294,
          6785327,
          7412771,
          8514890,
          6542025,
          8486806,
          9257152,
          8988060,
          6788884,
          7146468,
          7309613,
          8636742,
          8486806,
          7311595,
          7436369,
          6957091,
          7334593,
          7334593,
          6957091,
          7020528,
          7342873,
          7734340,
          7565294,
          6970472,
          7366208,
          7687275,
          7177447,
          7412771,
          8852112,
          8988060,
          8852112,
          6974162,
          6957091,
          7334593,
          7565294,
          7734340,
          7731265,
          7734340,
          7146468,
          6636190,
          7334593,
          8988060,
          8423104,
          7734340,
          7177447,
          6536704,
          7366208,
          8988060,
          7190121,
          8988060,
          7201767,
          7057869,
          4715638,
          4715638,
          5570101,
          8548328,
          7071255,
          5509794,
          8298927,
          7078856,
          5341392,
          6389121,
          5549419,
          5549419,
          5783132,
          7738942,
          5184547,
          5570101,
          5226956,
          5570101,
          7078856,
          4715638,
          5150759,
          5083188,
          6333137,
          7071255,
          5418546,
          6367508,
          5277647,
          5654256,
          5695024,
          5277647,
          6782930,
          5745344,
          4452722,
          5155310,
          4452722,
          6278411,
          4524914,
          4708475,
          6098191,
          4452722,
          5167745,
          5268119,
          5155310,
          4672407,
          5169554,
          6278411,
          6782930,
          5045543,
          6676731,
          4452722,
          6296613,
          6247406,
          5372325,
          5482301,
          5418546,
          4786894,
          5167745,
          5169554,
          4452722,
          5169554,
          5289853,
          5268119,
          4452722,
          6957521,
          5418546,
          5372325,
          5045543,
          5654256,
          4158706,
          5176902,
          4753488,
          5022748,
          4452722,
          4452722,
          6957521,
          5833935,
          6676731,
          6098191,
          5418546,
          4246043,
          6782930,
          5745344,
          13779739,
          11287927,
          10953611,
          11160581,
          11781478,
          12495939,
          11287927,
          12815127,
          11091812,
          11738155,
          12056707,
          12202753,
          13761069,
          12481231,
          13591088,
          12958106,
          13027791,
          12202753,
          12666515,
          12637681,
          11287927,
          13836753,
          11872524,
          14385585,
          12992227,
          11091812,
          12355048,
          12992227,
          null,
          12355048,
          12284653,
          13591088,
          13346603,
          13684505,
          12355048,
          12255316,
          13761069,
          14020374,
          13779739,
          13346603,
          14385585,
          14178091,
          11160581,
          13346603,
          12923209,
          14385585,
          11287927,
          12337305,
          13591088,
          13761069,
          12337305,
          11287927,
          11287927,
          11091812,
          10995382,
          12835148,
          12495939,
          8188193,
          7762820,
          7487036,
          8088387,
          6704186,
          6442827,
          7767665,
          8212696,
          8482896,
          8482896,
          8212696,
          7767665,
          8482896,
          2305683,
          2399055,
          2392042,
          2344232,
          2344232,
          2689898,
          2574185,
          2216016,
          2560849,
          2216016,
          2267401,
          2399055,
          2768207,
          2574185,
          2689898,
          2188325,
          2890938,
          2192416,
          2344232,
          2208136,
          2529857,
          2188325,
          2743924,
          2216458,
          2200942,
          2177281,
          2318322,
          2818384,
          2492126,
          2318322,
          2268269,
          2188325,
          2889635,
          2809233,
          2392042,
          2941900,
          2324351,
          2344232,
          2192416,
          2269166,
          3069813,
          12091413,
          12091413,
          14996755,
          14579765,
          10820298,
          12391847,
          12794812,
          12821117,
          14475383,
          13942962,
          13264303,
          14579765,
          15289627,
          12243748,
          14089972,
          13919175,
          14199635,
          12804884,
          11675943,
          15553889,
          14552914,
          14123130,
          15289627,
          11675943,
          14761794,
          12391847,
          12301983,
          13482365,
          12430324,
          12821117,
          12887164,
          15553889,
          12243748,
          12821117,
          11739373,
          15553889,
          14579765,
          12991997,
          13241594,
          11257186,
          11627578,
          14552914,
          9597808,
          11963827,
          11189364,
          9245272,
          11402776,
          9996911,
          12108140,
          13086893,
          11006447,
          10625020,
          11777304,
          13086893,
          null,
          10832900,
          11562367,
          12873077,
          13267650,
          10286592,
          11103291,
          10082029,
          11239313,
          10232001,
          11229201,
          10625020,
          9195341,
          10760501,
          10700601,
          13267650,
          10972259,
          9825955,
          11229201,
          null,
          10899464,
          12873077,
          13267650,
          11383721,
          10760501,
          12210188,
          10972259,
          6476106,
          6614106,
          6670510,
          7827652,
          5647321,
          5651084,
          5647321,
          8374523,
          7320536,
          6552570,
          6808089,
          7827652,
          6614106,
          6105400,
          6808089,
          6082133,
          7320536,
          5242935,
          6578782,
          5486658,
          5647321,
          6808089,
          7212763,
          6670682,
          5486658,
          5973784,
          8570959,
          7827652,
          5954081,
          5486658,
          5647321,
          5973784,
          7531108,
          7476646,
          7643655,
          6513433,
          6586660,
          6899368,
          6586660,
          7643655,
          4189416,
          4512872,
          3868621,
          3673934,
          3956492,
          3856593,
          4318263,
          4703865,
          4014413,
          4393408,
          4007383,
          4183695,
          null,
          4529651,
          3573211,
          4393408,
          3640038,
          3956492,
          4007383,
          4318263,
          4393408,
          3641613,
          3638061,
          4183695,
          3547135,
          902386,
          1084951,
          1167163,
          920981,
          1018592,
          846772,
          1004907,
          1015794,
          999646,
          1167163,
          6433254,
          5861119,
          7824579,
          7824579,
          8224669,
          7835624,
          9118872,
          7580241,
          6132823,
          6132823,
          5823739,
          5493089,
          6266605,
          6755507,
          6259942,
          1214292,
          990197,
          873267,
          933076,
          846219,
          1029890,
          996096,
          1097708,
          816529,
          841219,
          986394,
          853333,
          829672,
          851828,
          940976,
          1283959,
          885713,
          1029890,
          1029890,
          1040930,
          816529,
          885713,
          873267,
          933076,
          1040930,
          829672,
          927076,
          933076,
          841219,
          951681,
          873267,
          816529,
          null,
          979391,
          946394,
          951681,
          842791,
          1071153,
          1097708,
          990197,
          3917027,
          3590530,
          4132984,
          3917027,
          3330865,
          3917027,
          3590530,
          3663965,
          1242527,
          1059449,
          1050775,
          10846529,
          11163410,
          11163410,
          14159584,
          11299044,
          12201514,
          14159584,
          11361905,
          10689332,
          12405870,
          13993053,
          10674899,
          12154725,
          10674899,
          12843931,
          14225043,
          14574946,
          12176916,
          11025368,
          10825773,
          11025368,
          12699456,
          14662838,
          11228223,
          12176916,
          10689332,
          12283409,
          12424996,
          11530654,
          12283323,
          12154725,
          13851002,
          12424996,
          14159584,
          14662838,
          11361905,
          12511957,
          14159584,
          11228223,
          14203370,
          11573522,
          10689332,
          11242659,
          11573522,
          10674899,
          13851002,
          12297255,
          11028819,
          12843931,
          14159584,
          12359479,
          14159584,
          13692504,
          14662838,
          13843996,
          12283323,
          12805244,
          11085078,
          14159584,
          12106243,
          11085078,
          11163410,
          12046524,
          14286789,
          11530654,
          11361905,
          12287262,
          13980141,
          12511957,
          12699456,
          8015508,
          8057532,
          7183486,
          8505369,
          8505369,
          7954648,
          6888955,
          8505369,
          6672269,
          8505369,
          8023652,
          7856828,
          6863383,
          7699580,
          7954648,
          5483500,
          6236365,
          6982794,
          5895644,
          7168846,
          7856828,
          8057532,
          7168846,
          7168846,
          6893162,
          7856828,
          8433323,
          8433323,
          6127940,
          7856828,
          8057532,
          6406309,
          6486644,
          7228383,
          6893162,
          8433323,
          6236365,
          5814212,
          16025933,
          22575319,
          23004710,
          22804437,
          16515248,
          21982109,
          16959888,
          20510745,
          15229219,
          20194924,
          16515248,
          17107025,
          17107025,
          20841967,
          15137142,
          22256850,
          20264386,
          23004710,
          17107025,
          16515248,
          17648170,
          19824036,
          22804437,
          21982109,
          20597429,
          19824036,
          20841967,
          20194924,
          16515248,
          16515248,
          19824036,
          22420966,
          19824036,
          21592345,
          19824036,
          19824036,
          20194924,
          19824036,
          20841967,
          23004710,
          20841967,
          19824036,
          15229219,
          18842683,
          16985644,
          24974681,
          20942151,
          20582284,
          24125319,
          18727999,
          19388692,
          22619921,
          25206304,
          22741963,
          25147418,
          23475096,
          26405948,
          21981278,
          26288469,
          18076185,
          19212525,
          21515349,
          23995943,
          25635015,
          25340794,
          20439478,
          24988989,
          23995943,
          23355017,
          25919908,
          19138651,
          19159063,
          22619921,
          20861122,
          25582494,
          21310183,
          21178613,
          19782727,
          19970292,
          21310183,
          19970292,
          20927036,
          22304475,
          20256041,
          21866506,
          21901510,
          18727999,
          21901510,
          21901510,
          19840018,
          19388692,
          18993756,
          19826857,
          22723895,
          22151808,
          21351409,
          20582284,
          25919908,
          20470914,
          20256041,
          18993756,
          18947640,
          22224419,
          19731468,
          25635015,
          18941265,
          18411708,
          19005521,
          21808172,
          25206304,
          24988989,
          19138651,
          19388692,
          19138651,
          21384185,
          19017650,
          17876563,
          26405948,
          25005524,
          26405948,
          21981278,
          25919908,
          21901510,
          19585631,
          16962605,
          21515349,
          22619921,
          21744317,
          19038040,
          19862257,
          22506210,
          20861667,
          26288469,
          22299203,
          25635015,
          22299203,
          20861122,
          18076185,
          20256041,
          17781301,
          20927036,
          22930603,
          20256041,
          18947640,
          22447753,
          23816739,
          20861667,
          21974546,
          22723895,
          24988989,
          21178613,
          19970292,
          21384185,
          24507429,
          19907608,
          22015226,
          21942679,
          22723895,
          23616311,
          26288469,
          22028050,
          24533682,
          21515349,
          19377182,
          21387224,
          25206304,
          19983832,
          23334005,
          19022242,
          20333685,
          20033300,
          24125319,
          23328704,
          24988989,
          26232375,
          22741963,
          19731468,
          20712609,
          21788563,
          20114545,
          22036601,
          23995943,
          21788563,
          21351409,
          19138651,
          22506210,
          24681491,
          21901510,
          25582494,
          21788563,
          21178613,
          26288469,
          21515349,
          22299203,
          24988989,
          21515349,
          22506210,
          20333685,
          22015226,
          18916761,
          22667368,
          23616311,
          23816739,
          19862257,
          21808172,
          19862257,
          22667368,
          22667368,
          20188608,
          22447753,
          21351409,
          22667368,
          22447753,
          20712609,
          19585631,
          17876563,
          18727999,
          21744317,
          19022242,
          22028050,
          22667368,
          21384185,
          19259976,
          20114545,
          25635015,
          19875740,
          24414205,
          19840018,
          21942679,
          24974681,
          19377182,
          22036601,
          19970292,
          19050378,
          18656348,
          20114545,
          22530176,
          22151808,
          26288469,
          19167557,
          20861667,
          19377182,
          19847009,
          3772847,
          3974957,
          3772847,
          3494367,
          3843905,
          4330118,
          4581194,
          3415507,
          3346671,
          3415507,
          4649836,
          4201911,
          4253036,
          5147213,
          4300120,
          3665356,
          3266478,
          4300120,
          4618234,
          4745922,
          4421959,
          3342743,
          3843905,
          4834799,
          3202284,
          10103576,
          11284286,
          10355383,
          9823118,
          8261610,
          9959314,
          10600512,
          7553119,
          9056448,
          9946849,
          10887121,
          8067143,
          9870197,
          8497367,
          10358394,
          11352424,
          11352424,
          9403768,
          9241797,
          8926177,
          8696014,
          10700731,
          8926177,
          10103576,
          9232209,
          9505687,
          9019086,
          10835131,
          9728455,
          11076073,
          10835131,
          9400680,
          8899503,
          8701398,
          9358568,
          9241797,
          3039805,
          2315602,
          2166169,
          2282594,
          1416356,
          1528811,
          1433063,
          1365456,
          1368127,
          1452960,
          2125121,
          1739847,
          1437691,
          2218192,
          1739847,
          1960025,
          1739847,
          1756432,
          447034,
          427661,
          446236,
          444823,
          473575,
          497098,
          434478,
          443915,
          409204,
          10381851,
          10973692,
          11103575,
          11018150,
          10772709,
          12894687,
          10834890,
          11280647,
          9897876,
          10581464,
          9262260,
          10819446,
          11895035,
          10819446,
          11018150,
          12894687,
          9559928,
          2300770,
          2165826,
          2995189,
          2287897,
          2340505,
          2893149,
          2065419,
          2635480,
          2383806,
          2518712,
          2661660,
          2957329,
          2518712,
          2442711,
          2447603,
          3246923,
          2616524,
          2374160,
          4622775,
          4693211,
          3978308,
          5029445,
          6686268,
          4920158,
          6686268,
          4344399,
          4420337,
          null,
          6206348,
          6686268,
          4584162,
          6686268,
          4584162,
          5938338,
          6804721,
          4597901,
          4231978,
          4622775,
          4693211,
          4586920,
          4923422,
          4582843,
          5096565,
          4923422,
          4115849,
          4494764,
          4577240,
          4115849,
          4251082,
          4251082,
          5093293,
          4156978,
          4139922,
          4574558,
          4808251,
          5684134,
          4577240,
          4294884,
          1047944,
          1030593,
          1017606,
          915907,
          1030593,
          989416,
          1030593,
          901223,
          1088895,
          1008808,
          985385,
          926257,
          1077281,
          903177,
          970200,
          1054369,
          991827,
          915907,
          838970,
          833194,
          912727,
          985109,
          891995,
          838970,
          779845,
          779845,
          824542,
          855846,
          779845,
          891995,
          816214,
          833194,
          2599927,
          3618500,
          2720283,
          2608404,
          2727874,
          2501277,
          2579567,
          4223288,
          4058095,
          4237235,
          4746909,
          5182136,
          4108146,
          4282715,
          4253635,
          4539747,
          3709983,
          4783529,
          4253635,
          4019838,
          4145577,
          3024559,
          3092395,
          2726452,
          3270802,
          3092395,
          3858223,
          3190147,
          835405,
          852355,
          922915,
          891580,
          922915,
          null,
          2031531,
          2034123,
          2063171,
          2015509,
          1886871,
          1657605,
          null,
          1313678,
          924051,
          924051
         ],
         "xaxis": "x2",
         "yaxis": "y2"
        },
        {
         "alignmentgroup": "True",
         "bingroup": "x",
         "histnorm": "probability",
         "hovertemplate": "missing=True<br>TOTAL.SALES=%{x}<br>probability=%{y}<extra></extra>",
         "legendgroup": "True",
         "marker": {
          "color": "#EF553B",
          "opacity": 0.7,
          "pattern": {
           "shape": ""
          }
         },
         "name": "True",
         "offsetgroup": "True",
         "orientation": "v",
         "showlegend": true,
         "type": "histogram",
         "x": [
          9499547,
          null,
          6776403,
          5757447,
          33193019,
          27846934,
          34707247,
          null,
          28745852,
          9080103,
          null,
          10513961,
          null,
          7797125,
          7797125,
          7190121,
          7302488,
          7797125,
          7302488,
          7372409,
          6669170,
          4330353,
          5549419,
          5170548,
          14083913,
          null,
          6578782,
          6614106,
          6578782,
          3856593,
          6433254,
          5493089,
          null,
          11855894,
          6672269,
          7154368,
          21901510,
          26288469,
          21327504,
          20712609,
          21351409,
          18076185,
          19983832,
          21784929,
          18411708,
          20712609,
          24117856,
          22041117,
          null,
          4622775,
          4231978,
          864735,
          4074285,
          null,
          3722254,
          1657605,
          null,
          null
         ],
         "xaxis": "x",
         "yaxis": "y"
        },
        {
         "alignmentgroup": "True",
         "hovertemplate": "missing=True<br>TOTAL.SALES=%{x}<extra></extra>",
         "legendgroup": "True",
         "marker": {
          "color": "#EF553B"
         },
         "name": "True",
         "notched": true,
         "offsetgroup": "True",
         "showlegend": false,
         "type": "box",
         "x": [
          9499547,
          null,
          6776403,
          5757447,
          33193019,
          27846934,
          34707247,
          null,
          28745852,
          9080103,
          null,
          10513961,
          null,
          7797125,
          7797125,
          7190121,
          7302488,
          7797125,
          7302488,
          7372409,
          6669170,
          4330353,
          5549419,
          5170548,
          14083913,
          null,
          6578782,
          6614106,
          6578782,
          3856593,
          6433254,
          5493089,
          null,
          11855894,
          6672269,
          7154368,
          21901510,
          26288469,
          21327504,
          20712609,
          21351409,
          18076185,
          19983832,
          21784929,
          18411708,
          20712609,
          24117856,
          22041117,
          null,
          4622775,
          4231978,
          864735,
          4074285,
          null,
          3722254,
          1657605,
          null,
          null
         ],
         "xaxis": "x2",
         "yaxis": "y2"
        }
       ],
       "layout": {
        "barmode": "overlay",
        "legend": {
         "title": {
          "text": "missing"
         },
         "tracegroupgap": 0
        },
        "template": {
         "data": {
          "bar": [
           {
            "error_x": {
             "color": "#2a3f5f"
            },
            "error_y": {
             "color": "#2a3f5f"
            },
            "marker": {
             "line": {
              "color": "#E5ECF6",
              "width": 0.5
             },
             "pattern": {
              "fillmode": "overlay",
              "size": 10,
              "solidity": 0.2
             }
            },
            "type": "bar"
           }
          ],
          "barpolar": [
           {
            "marker": {
             "line": {
              "color": "#E5ECF6",
              "width": 0.5
             },
             "pattern": {
              "fillmode": "overlay",
              "size": 10,
              "solidity": 0.2
             }
            },
            "type": "barpolar"
           }
          ],
          "carpet": [
           {
            "aaxis": {
             "endlinecolor": "#2a3f5f",
             "gridcolor": "white",
             "linecolor": "white",
             "minorgridcolor": "white",
             "startlinecolor": "#2a3f5f"
            },
            "baxis": {
             "endlinecolor": "#2a3f5f",
             "gridcolor": "white",
             "linecolor": "white",
             "minorgridcolor": "white",
             "startlinecolor": "#2a3f5f"
            },
            "type": "carpet"
           }
          ],
          "choropleth": [
           {
            "colorbar": {
             "outlinewidth": 0,
             "ticks": ""
            },
            "type": "choropleth"
           }
          ],
          "contour": [
           {
            "colorbar": {
             "outlinewidth": 0,
             "ticks": ""
            },
            "colorscale": [
             [
              0,
              "#0d0887"
             ],
             [
              0.1111111111111111,
              "#46039f"
             ],
             [
              0.2222222222222222,
              "#7201a8"
             ],
             [
              0.3333333333333333,
              "#9c179e"
             ],
             [
              0.4444444444444444,
              "#bd3786"
             ],
             [
              0.5555555555555556,
              "#d8576b"
             ],
             [
              0.6666666666666666,
              "#ed7953"
             ],
             [
              0.7777777777777778,
              "#fb9f3a"
             ],
             [
              0.8888888888888888,
              "#fdca26"
             ],
             [
              1,
              "#f0f921"
             ]
            ],
            "type": "contour"
           }
          ],
          "contourcarpet": [
           {
            "colorbar": {
             "outlinewidth": 0,
             "ticks": ""
            },
            "type": "contourcarpet"
           }
          ],
          "heatmap": [
           {
            "colorbar": {
             "outlinewidth": 0,
             "ticks": ""
            },
            "colorscale": [
             [
              0,
              "#0d0887"
             ],
             [
              0.1111111111111111,
              "#46039f"
             ],
             [
              0.2222222222222222,
              "#7201a8"
             ],
             [
              0.3333333333333333,
              "#9c179e"
             ],
             [
              0.4444444444444444,
              "#bd3786"
             ],
             [
              0.5555555555555556,
              "#d8576b"
             ],
             [
              0.6666666666666666,
              "#ed7953"
             ],
             [
              0.7777777777777778,
              "#fb9f3a"
             ],
             [
              0.8888888888888888,
              "#fdca26"
             ],
             [
              1,
              "#f0f921"
             ]
            ],
            "type": "heatmap"
           }
          ],
          "heatmapgl": [
           {
            "colorbar": {
             "outlinewidth": 0,
             "ticks": ""
            },
            "colorscale": [
             [
              0,
              "#0d0887"
             ],
             [
              0.1111111111111111,
              "#46039f"
             ],
             [
              0.2222222222222222,
              "#7201a8"
             ],
             [
              0.3333333333333333,
              "#9c179e"
             ],
             [
              0.4444444444444444,
              "#bd3786"
             ],
             [
              0.5555555555555556,
              "#d8576b"
             ],
             [
              0.6666666666666666,
              "#ed7953"
             ],
             [
              0.7777777777777778,
              "#fb9f3a"
             ],
             [
              0.8888888888888888,
              "#fdca26"
             ],
             [
              1,
              "#f0f921"
             ]
            ],
            "type": "heatmapgl"
           }
          ],
          "histogram": [
           {
            "marker": {
             "pattern": {
              "fillmode": "overlay",
              "size": 10,
              "solidity": 0.2
             }
            },
            "type": "histogram"
           }
          ],
          "histogram2d": [
           {
            "colorbar": {
             "outlinewidth": 0,
             "ticks": ""
            },
            "colorscale": [
             [
              0,
              "#0d0887"
             ],
             [
              0.1111111111111111,
              "#46039f"
             ],
             [
              0.2222222222222222,
              "#7201a8"
             ],
             [
              0.3333333333333333,
              "#9c179e"
             ],
             [
              0.4444444444444444,
              "#bd3786"
             ],
             [
              0.5555555555555556,
              "#d8576b"
             ],
             [
              0.6666666666666666,
              "#ed7953"
             ],
             [
              0.7777777777777778,
              "#fb9f3a"
             ],
             [
              0.8888888888888888,
              "#fdca26"
             ],
             [
              1,
              "#f0f921"
             ]
            ],
            "type": "histogram2d"
           }
          ],
          "histogram2dcontour": [
           {
            "colorbar": {
             "outlinewidth": 0,
             "ticks": ""
            },
            "colorscale": [
             [
              0,
              "#0d0887"
             ],
             [
              0.1111111111111111,
              "#46039f"
             ],
             [
              0.2222222222222222,
              "#7201a8"
             ],
             [
              0.3333333333333333,
              "#9c179e"
             ],
             [
              0.4444444444444444,
              "#bd3786"
             ],
             [
              0.5555555555555556,
              "#d8576b"
             ],
             [
              0.6666666666666666,
              "#ed7953"
             ],
             [
              0.7777777777777778,
              "#fb9f3a"
             ],
             [
              0.8888888888888888,
              "#fdca26"
             ],
             [
              1,
              "#f0f921"
             ]
            ],
            "type": "histogram2dcontour"
           }
          ],
          "mesh3d": [
           {
            "colorbar": {
             "outlinewidth": 0,
             "ticks": ""
            },
            "type": "mesh3d"
           }
          ],
          "parcoords": [
           {
            "line": {
             "colorbar": {
              "outlinewidth": 0,
              "ticks": ""
             }
            },
            "type": "parcoords"
           }
          ],
          "pie": [
           {
            "automargin": true,
            "type": "pie"
           }
          ],
          "scatter": [
           {
            "fillpattern": {
             "fillmode": "overlay",
             "size": 10,
             "solidity": 0.2
            },
            "type": "scatter"
           }
          ],
          "scatter3d": [
           {
            "line": {
             "colorbar": {
              "outlinewidth": 0,
              "ticks": ""
             }
            },
            "marker": {
             "colorbar": {
              "outlinewidth": 0,
              "ticks": ""
             }
            },
            "type": "scatter3d"
           }
          ],
          "scattercarpet": [
           {
            "marker": {
             "colorbar": {
              "outlinewidth": 0,
              "ticks": ""
             }
            },
            "type": "scattercarpet"
           }
          ],
          "scattergeo": [
           {
            "marker": {
             "colorbar": {
              "outlinewidth": 0,
              "ticks": ""
             }
            },
            "type": "scattergeo"
           }
          ],
          "scattergl": [
           {
            "marker": {
             "colorbar": {
              "outlinewidth": 0,
              "ticks": ""
             }
            },
            "type": "scattergl"
           }
          ],
          "scattermapbox": [
           {
            "marker": {
             "colorbar": {
              "outlinewidth": 0,
              "ticks": ""
             }
            },
            "type": "scattermapbox"
           }
          ],
          "scatterpolar": [
           {
            "marker": {
             "colorbar": {
              "outlinewidth": 0,
              "ticks": ""
             }
            },
            "type": "scatterpolar"
           }
          ],
          "scatterpolargl": [
           {
            "marker": {
             "colorbar": {
              "outlinewidth": 0,
              "ticks": ""
             }
            },
            "type": "scatterpolargl"
           }
          ],
          "scatterternary": [
           {
            "marker": {
             "colorbar": {
              "outlinewidth": 0,
              "ticks": ""
             }
            },
            "type": "scatterternary"
           }
          ],
          "surface": [
           {
            "colorbar": {
             "outlinewidth": 0,
             "ticks": ""
            },
            "colorscale": [
             [
              0,
              "#0d0887"
             ],
             [
              0.1111111111111111,
              "#46039f"
             ],
             [
              0.2222222222222222,
              "#7201a8"
             ],
             [
              0.3333333333333333,
              "#9c179e"
             ],
             [
              0.4444444444444444,
              "#bd3786"
             ],
             [
              0.5555555555555556,
              "#d8576b"
             ],
             [
              0.6666666666666666,
              "#ed7953"
             ],
             [
              0.7777777777777778,
              "#fb9f3a"
             ],
             [
              0.8888888888888888,
              "#fdca26"
             ],
             [
              1,
              "#f0f921"
             ]
            ],
            "type": "surface"
           }
          ],
          "table": [
           {
            "cells": {
             "fill": {
              "color": "#EBF0F8"
             },
             "line": {
              "color": "white"
             }
            },
            "header": {
             "fill": {
              "color": "#C8D4E3"
             },
             "line": {
              "color": "white"
             }
            },
            "type": "table"
           }
          ]
         },
         "layout": {
          "annotationdefaults": {
           "arrowcolor": "#2a3f5f",
           "arrowhead": 0,
           "arrowwidth": 1
          },
          "autotypenumbers": "strict",
          "coloraxis": {
           "colorbar": {
            "outlinewidth": 0,
            "ticks": ""
           }
          },
          "colorscale": {
           "diverging": [
            [
             0,
             "#8e0152"
            ],
            [
             0.1,
             "#c51b7d"
            ],
            [
             0.2,
             "#de77ae"
            ],
            [
             0.3,
             "#f1b6da"
            ],
            [
             0.4,
             "#fde0ef"
            ],
            [
             0.5,
             "#f7f7f7"
            ],
            [
             0.6,
             "#e6f5d0"
            ],
            [
             0.7,
             "#b8e186"
            ],
            [
             0.8,
             "#7fbc41"
            ],
            [
             0.9,
             "#4d9221"
            ],
            [
             1,
             "#276419"
            ]
           ],
           "sequential": [
            [
             0,
             "#0d0887"
            ],
            [
             0.1111111111111111,
             "#46039f"
            ],
            [
             0.2222222222222222,
             "#7201a8"
            ],
            [
             0.3333333333333333,
             "#9c179e"
            ],
            [
             0.4444444444444444,
             "#bd3786"
            ],
            [
             0.5555555555555556,
             "#d8576b"
            ],
            [
             0.6666666666666666,
             "#ed7953"
            ],
            [
             0.7777777777777778,
             "#fb9f3a"
            ],
            [
             0.8888888888888888,
             "#fdca26"
            ],
            [
             1,
             "#f0f921"
            ]
           ],
           "sequentialminus": [
            [
             0,
             "#0d0887"
            ],
            [
             0.1111111111111111,
             "#46039f"
            ],
            [
             0.2222222222222222,
             "#7201a8"
            ],
            [
             0.3333333333333333,
             "#9c179e"
            ],
            [
             0.4444444444444444,
             "#bd3786"
            ],
            [
             0.5555555555555556,
             "#d8576b"
            ],
            [
             0.6666666666666666,
             "#ed7953"
            ],
            [
             0.7777777777777778,
             "#fb9f3a"
            ],
            [
             0.8888888888888888,
             "#fdca26"
            ],
            [
             1,
             "#f0f921"
            ]
           ]
          },
          "colorway": [
           "#636efa",
           "#EF553B",
           "#00cc96",
           "#ab63fa",
           "#FFA15A",
           "#19d3f3",
           "#FF6692",
           "#B6E880",
           "#FF97FF",
           "#FECB52"
          ],
          "font": {
           "color": "#2a3f5f"
          },
          "geo": {
           "bgcolor": "white",
           "lakecolor": "white",
           "landcolor": "#E5ECF6",
           "showlakes": true,
           "showland": true,
           "subunitcolor": "white"
          },
          "hoverlabel": {
           "align": "left"
          },
          "hovermode": "closest",
          "mapbox": {
           "style": "light"
          },
          "paper_bgcolor": "white",
          "plot_bgcolor": "#E5ECF6",
          "polar": {
           "angularaxis": {
            "gridcolor": "white",
            "linecolor": "white",
            "ticks": ""
           },
           "bgcolor": "#E5ECF6",
           "radialaxis": {
            "gridcolor": "white",
            "linecolor": "white",
            "ticks": ""
           }
          },
          "scene": {
           "xaxis": {
            "backgroundcolor": "#E5ECF6",
            "gridcolor": "white",
            "gridwidth": 2,
            "linecolor": "white",
            "showbackground": true,
            "ticks": "",
            "zerolinecolor": "white"
           },
           "yaxis": {
            "backgroundcolor": "#E5ECF6",
            "gridcolor": "white",
            "gridwidth": 2,
            "linecolor": "white",
            "showbackground": true,
            "ticks": "",
            "zerolinecolor": "white"
           },
           "zaxis": {
            "backgroundcolor": "#E5ECF6",
            "gridcolor": "white",
            "gridwidth": 2,
            "linecolor": "white",
            "showbackground": true,
            "ticks": "",
            "zerolinecolor": "white"
           }
          },
          "shapedefaults": {
           "line": {
            "color": "#2a3f5f"
           }
          },
          "ternary": {
           "aaxis": {
            "gridcolor": "white",
            "linecolor": "white",
            "ticks": ""
           },
           "baxis": {
            "gridcolor": "white",
            "linecolor": "white",
            "ticks": ""
           },
           "bgcolor": "#E5ECF6",
           "caxis": {
            "gridcolor": "white",
            "linecolor": "white",
            "ticks": ""
           }
          },
          "title": {
           "x": 0.05
          },
          "xaxis": {
           "automargin": true,
           "gridcolor": "white",
           "linecolor": "white",
           "ticks": "",
           "title": {
            "standoff": 15
           },
           "zerolinecolor": "white",
           "zerolinewidth": 2
          },
          "yaxis": {
           "automargin": true,
           "gridcolor": "white",
           "linecolor": "white",
           "ticks": "",
           "title": {
            "standoff": 15
           },
           "zerolinecolor": "white",
           "zerolinewidth": 2
          }
         }
        },
        "title": {
         "text": "total sales by missingness of outage duration"
        },
        "xaxis": {
         "anchor": "y",
         "domain": [
          0,
          1
         ],
         "title": {
          "text": "TOTAL.SALES"
         }
        },
        "xaxis2": {
         "anchor": "y2",
         "domain": [
          0,
          1
         ],
         "matches": "x",
         "showgrid": true,
         "showticklabels": false
        },
        "yaxis": {
         "anchor": "x",
         "domain": [
          0,
          0.7326
         ],
         "title": {
          "text": "probability"
         }
        },
        "yaxis2": {
         "anchor": "x2",
         "domain": [
          0.7426,
          1
         ],
         "matches": "y2",
         "showgrid": false,
         "showline": false,
         "showticklabels": false,
         "ticks": ""
        }
       }
      }
     },
     "metadata": {},
     "output_type": "display_data"
    }
   ],
   "source": [
    "def ks_query(missing, dependent):\n",
    "    mar = outage_cleaned.copy()\n",
    "    mar[dependent] = mar[dependent].astype(float)\n",
    "    mar['missing'] = mar[missing].isna()\n",
    "    res = ks_2samp(mar.query('missing')[dependent], mar.query('not missing')[dependent])\n",
    "    return res\n",
    "\n",
    "dur_vs_cust = ks_query('OUTAGE.DURATION', 'CUSTOMERS.AFFECTED')\n",
    "dur_vs_sales = ks_query('OUTAGE.DURATION', 'TOTAL.SALES')\n",
    "\n",
    "print(dur_vs_cust, dur_vs_sales)\n",
    "\n",
    "duration_missing = outage_cleaned.copy()\n",
    "duration_missing['missing'] = duration_missing['OUTAGE.DURATION'].isna()\n",
    "\n",
    "fig1 = px.histogram(duration_missing, x='CUSTOMERS.AFFECTED', color='missing', histnorm='probability', marginal='box',\n",
    "             title=\"customers affected by missingness of outage duration\", barmode='overlay', opacity=0.7)\n",
    "fig1.write_html(r'missing1.html', include_plotlyjs='cdn')\n",
    "\n",
    "fig2 = px.histogram(duration_missing, x='TOTAL.SALES', color='missing', histnorm='probability', marginal='box',\n",
    "             title=\"total sales by missingness of outage duration\", barmode='overlay', opacity=0.7)\n",
    "fig2.show()\n",
    "fig2.write_html(r'missing2.html', include_plotlyjs='cdn')\n"
   ]
  },
  {
   "cell_type": "markdown",
   "metadata": {},
   "source": [
    "### Hypothesis Testing"
   ]
  },
  {
   "cell_type": "markdown",
   "metadata": {},
   "source": [
    "# Permutation Test for Mean Outage Duration (2005 vs. 2015)\n",
    "\n",
    "In this section, we perform a permutation test to assess whether there is a significant difference in the mean outage duration between the years 2005 and 2015.\n",
    "\n",
    "## Hypotheses\n",
    "\n",
    "- **Null Hypothesis (H0):** There is no difference in mean outage duration for outages that occured in 2005 and in 2015.\n",
    "- **Alternative Hypothesis (H1):** The mean outage duration for outages that occured in 2005 is larger than those that occured in 2015.\n",
    "\n",
    "## Test Statistic\n",
    "\n",
    "We choose the difference in mean outage duration between the two years as our test statistic. The observed difference is calculated using the actual data, and we compare this against a distribution of differences obtained by shuffling the outage duration data.\n",
    "\n",
    "## Significance Level\n",
    "\n",
    "We set the significance level at 0.05, which is a common choice in hypothesis testing.\n",
    "\n",
    "## Permutation Test Procedure\n",
    "\n",
    "1. **Data Preparation:**\n",
    "    - We filter the dataset to include only rows from the years 2005 and 2015.\n",
    "    - Missing values are dropped from the dataset.\n",
    "\n",
    "2. **Observation:**\n",
    "    - The observed difference in mean outage duration between 2005 and 2015 is computed.\n",
    "\n",
    "3. **Permutation Test Loop (500 Repetitions):**\n",
    "    - In each iteration, the outage duration data is shuffled, and the difference in mean outage duration is calculated.\n",
    "    - These differences form a distribution under the null hypothesis.\n",
    "\n",
    "4. **P-value Calculation:**\n",
    "    - The proportion of permuted mean differences that are greater than or equal to the observed difference is calculated.\n",
    "\n",
    "## Results\n",
    "\n",
    "The resulting p-value is the probability of observing a difference in mean outage duration as extreme as the observed difference under the assumption that there is no true difference between the years 2005 and 2015.\n",
    "\n",
    "## Conclusion\n",
    "\n",
    "- **P-value:** 0.0\n",
    "- **Conclusion:** If the p-value is less than the chosen significance level (0.05), we reject the null hypothesis in favor of the alternative hypothesis, suggesting a significant difference in mean outage duration between the years 2005 and 2015. From our tests, we have sufficient evidence to reject our null hypothesis. We therefore reject the idea that outage durations have stayed the same over the past 10 years.\n",
    "\n",
    "## Justification\n",
    "\n",
    "- The choice of a permutation test is appropriate when the assumptions of parametric tests are not met, or the distribution of the data is unknown.\n",
    "- The test statistic (difference in means) aligns with the question of interest, comparing the average outage duration between the two years.\n",
    "- A significance level of 0.05 is commonly used and provides a balance between Type I and Type II errors."
   ]
  },
  {
   "cell_type": "code",
   "execution_count": 11,
   "metadata": {},
   "outputs": [
    {
     "name": "stderr",
     "output_type": "stream",
     "text": [
      "C:\\Users\\lukel\\AppData\\Local\\Temp\\ipykernel_40616\\591779296.py:7: SettingWithCopyWarning:\n",
      "\n",
      "\n",
      "A value is trying to be set on a copy of a slice from a DataFrame.\n",
      "Try using .loc[row_indexer,col_indexer] = value instead\n",
      "\n",
      "See the caveats in the documentation: https://pandas.pydata.org/pandas-docs/stable/user_guide/indexing.html#returning-a-view-versus-a-copy\n",
      "\n"
     ]
    },
    {
     "name": "stdout",
     "output_type": "stream",
     "text": [
      "[1418.7967260298615, -1140.5830115830117, -255.88817663817645, -164.04910955207788, -848.2872818852311, 424.2827635327635, -770.7599715099716, 62.754272351141935, -352.18250749426943, 816.5573025856047, 161.98430611885033, -177.47454545454548, -843.1858578733911, -53.77991452991455, 646.068946497518, -58.929090909090974, 1493.577679720537, 305.27991452991455, -390.35686707115246, -1455.9434523809525, -174.84241770102517, 349.3381903220002, 842.7249162405219, 1290.0696819268246, -926.9555065269351, 766.3218181818183, -498.8226495726499, -362.7257834757834, 429.4154437456323, -10.740081114441637, 1307.3311965811965, 0.18551204265486376, 213.34250764525996, 1136.8527272727274, 1047.017629069977, -1348.9945454545455, 853.9757150566652, 202.94727272727278, 945.1575822989748, -650.3763636363635, -634.8724030152603, 218.19090909090892, 830.409090909091, -536.1654545454544, -336.56934700485726, -306.83738082388936, -328.2243589743589, 750.2939878654165, 900.7323223417388, 350.05999999999995, 179.12181818181807, 490.3511396011395, 1054.6381590548403, 282.7075013491635, 305.52181818181816, 1170.75, -144.54363636363632, -356.44181818181823, -371.00384346610736, -229.42559523809496, -166.40099715099677, 560.9158121964383, -10.143636363636233, -318.8107573304551, 2.419145690312689, 1083.9072727272724, -702.6403133903132, 707.883072867633, -687.3125, 452.8100377765786, 177.26000000000022, -291.10185185185173, -96.77348777348789, 857.8440170940171, 731.9945454545455, 1058.2781818181816, -284.9072727272728, -348.378562235705, 885.1128883986025, -110.05059523809496, -443.905307705872, 851.0111530850872, 292.4451185879757, -455.5588401430996, -153.41685769705555, -1153.1135602186564, 1665.9, -879.9188703004138, -273.4944454240872, -947.7296276308691, -18.11454545454535, 609.6718132178494, -678.0127272727275, 1583.2291779096959, 430.3363095238092, 273.06547940277005, -771.0935420039575, -928.8636363636365, -563.9877707896574, -910.5654545454545, -373.0565476190477, -259.5195178989029, 323.0576923076924, 1417.416620702335, 265.30840455840416, -599.6709090909092, -880.7292411975147, -199.32181818181834, -1467.5981818181817, -542.6836753906987, -558.3098290598289, 509.98510755653615, 76.36823169634818, -2.4927272727272793, 160.95035852178717, 225.09821428571422, 695.2800211602894, -383.6203346203347, -48.37362835042268, 79.81302956128775, -717.4890909090907, -718.0249287749286, -98.1379744558376, 321.9951430113333, -1063.2611980572044, -590.9434523809525, -24.08365508365523, -1155.3353121064938, 1360.3581818181815, -708.7086894586894, -164.75657289943, 771.747150997151, 240.1545454545453, -135.287704763698, 323.4280626780628, -436.6289173789173, -967.7970085470085, 411.90727272727236, 58.32182047130755, -188.59472934472933, 1409.4137434790428, -20.784165050255524, 260.17448060305196, -1067.2165839308698, 1281.3763636363637, 297.87569706781824, -139.72818852311548, 1131.5405405405404, 1088.7379024665788, -357.26371649577277, -496.8345454545456, -114.3466819221967, 346.543298400441, 897.7821550638605, -538.7708333333333, 549.4041184041184, -578.8515253041794, -334.6622257053291, 546.7145454545457, 1748.489090909091, 925.4322152341019, 155.849715099715, -1040.8850454227813, -134.3459255261737, -474.5509090909095, -1091.5540564849796, -647.4266381766381, -566.5982142857142, 824.5106837606836, 82.22312182263249, 1303.3515020687175, 623.0781818181817, -637.7745997481561, -106.80779403985207, -625.7742165242166, 752.3191489361702, -344.6212308234876, -977.3420913419152, -86.95073375262064, -365.72181818181843, -317.976074833603, -487.374701231844, -199.01942795466812, 1166.2025171624714, -745.7074590019397, 517.4490909090905, 851.126281705343, 249.02362898959655, 873.8709090909092, 1022.3218181818183, -363.5808499382824, -1650.1869041194461, -149.0183857326715, 922.6211548839719, 16.276705276705343, 89.72435897435889, 252.3200956058099, 679.1816873538405, 867.815527065527, -1002.1727272727271, 115.05144810217689, 794.5693470048573, -806.8697607483361, -1046.7690232056125, 1222.769158350593, -119.27762456333903, -889.7072727272728, -307.9763636363632, 651.9945454545455, 818.8327037236913, 92.40834712263313, 462.15278543849945, 599.747272727273, -778.4732142857142, -442.12749287749284, 190.78727272727247, -464.3410553410554, 207.7236624379484, 329.91023565389423, 593.8269230769229, 259.94081669365005, 1497.6666666666667, -137.54059829059815, 972.6618339295801, -309.94585357078586, 972.0605413105413, -6.03062678062679, -157.90283900546683, -105.50363636363636, -111.27615370472495, -718.0768123763266, -251.47222222222217, -974.122863824429, 118.93017104567116, 1619.7479316050742, 1666.3680126961735, -8.45277927684856, 874.6272727272731, -25.232905982905777, -1081.7046376300475, 675.8445143256467, 1661.507272727273, 858.7247222745245, 451.51144164759717, 246.70535714285734, -978.6517094017095, -1280.9509090909094, -510.8740780715957, 277.16025641025635, 478.66964285714266, -157.19818181818164, 20.21860636146357, -223.5418240690774, -1130.7545454545457, 278.2713675213672, -687.2636363636366, 64.1972934472933, 309.0719553876597, 337.52181818181816, 982.4672727272728, 48.240820937676745, 500.72150997150993, 256.5049857549857, 295.5443425076455, 702.2074114049292, -1239.5254545454547, -1254.3618181818183, 805.9910714285716, 844.9836363636364, -550.7382948986724, 922.6873219373219, -29.372727272726934, 342.9838205552487, -272.1836661270013, 540.9540576162681, 1637.457069314212, -1122.5833333333335, 161.89170803456545, 280.1487405773123, -175.5646270499028, 547.6979224122083, 700.1400000000003, 148.06457996042445, -1260.3184523809525, 79.85087245907562, -651.5292022792023, -936.1879834502608, -12.846295274866861, 496.6686123140653, -1089.9052706552707, 57.230909090909336, 1046.3778268063984, -719.7343304843305, -123.61018168735382, -258.1560948703809, 410.80109328160825, 12.174501424501614, -622.5263532763533, -1473.881818181818, 161.7073214606944, -1166.3300953408884, -763.6677459974815, -444.2146069436949, 624.2127272727271, -163.63872035300574, 690.8018181818184, 1731.5037690751979, -1322.818672423098, 239.2898959619115, -434.5509090909095, -1068.2645452833742, -751.9850427350425, -700.6350969685557, -63.60897435897414, -1065.7339484089625, -786.335214247928, 475.09649122807014, 976.5301313185828, 35.2381818181816, 96.74599748156152, 513.1033278176137, 9.114545454545805, 1109.3539886039887, -740.757150566649, -370.4927272727273, -246.9704982910598, 994.8018181818184, -17.825498575498386, -613.5181818181816, -589.8810937218925, 267.58727272727265, 572.5181818181818, -209.91369671558323, 195.38363636363647, -784.2927350427349, -991.985119047619, -34.09330484330485, -137.22209965067123, -418.8621070049644, -476.6080161794448, -868.3952991452991, -969.2586796186363, 828.8201115308507, -236.60042735042725, 128.66540744738268, -612.2283547875154, -151.010793308149, 656.1545454545453, -874.9395574743658, 453.1290909090908, 656.2423097679439, -560.2756410256411, -659.5534105534105, 768.4423076923076, -963.3072727272727, -296.25133296561853, -359.7628205128203, 329.5922619047619, 137.73178629249878, -916.4286721918534, -608.4237891737889, 295.9613095238092, -582.4910950449655, -1410.609090909091, -770.5444015444016, -566.1070336391438, -611.386752136752, -229.03921568627447, 640.574404761905, -225.0029417172277, -488.58080529509107, -1566.4596150386762, 683.0007122507122, 521.9447742399711, 947.5290909090909, 959.3184025903938, 482.6571325778018, 294.86011904761926, 203.38363636363647, 191.6890909090912, 287.6018181818181, -376.6053246986867, 61.9384588256039, 1074.3313348615766, -1145.0313005936318, 979.5714285714284, 292.2919589854291, 1063.1072727272726, 933.5654545454545, -1090.6618096779998, 355.7232142857142, 1487.1262563921707, -64.28181818181793, 790.8276668465551, 223.40557220948676, -789.8595071055943, -359.54332634521325, 274.9520366778347, 861.6317683036518, 579.7969059183306, 158.4707977207977, -1016.1483728626586, -156.1509090909094, -238.19586894586882, -1890.7193739881272, -976.2589098532494, 198.05918330634995, 1062.2054545454548, -1819.1093721892428, -419.36545454545467, -408.3109090909088, -1283.830909090909, -892.4709090909091, -285.1356359057386, -476.9111350962403, 1127.5684523809523, -760.7171574678184, 182.5836363636363, -43.24909090909068, 239.24002849002818, -338.6708953851812, 176.4297302063128, -443.3363636363638, 74.10363636363627, 632.8582621082624, 289.40545454545463, -606.1906189384588, -107.4567095750308, 128.86965811965774, -165.82440476190504, 1082.0029761904761, -540.3184523809525, -17.082368082367793, -126.18727272727301, -242.3653534808418, 314.6246438746439, 239.82209030401145, 1093.1842057924086, -483.0745454545454, -352.19805720453314, 9.581908831909004, -1122.639880952381, 417.23090909090934, -1075.9136904761906, -671.526199669057, -608.6182766684658, 1038.4707977207977, -458.7371794871797, 507.9654545454541, 927.8440170940171, 160.24181818181796, -843.9791666666667, 619.2400284900282, -22.230373230373516, -956.5945313905379, -583.8745454545456, -137.71343766864538, 1164.5305942514547, 988.3377459091744, 257.4313172280022, 1442.2781818181818, -59.51090909090908, -118.68928111785272, 469.40098748016226, 836.9275602132743, 261.17466446037906, -25.044436607300213, -425.8541666666665, -1483.7397013851412, -906.201818181818, 58.69871794871824, 745.6754918183492, -1914.9, -250.72597425498134, -296.04407267494116, 75.15090909090895, -1079.9836007758774, -906.1575657289943, 228.13653534808418, -525.4599999999998, -790.9904778698644, -277.53714696887937, 306.8053253394464, 1871.572727272727, -700.4127272727274, -1708.5, -883.1082701463588, -244.0922827846739, 78.03558651854655, 301.34829059829053, 606.7581818181816, -128.65999999999985, 281.8541666666665, 465.9351851851852, 26.360959266443388, -1132.326923076923, 592.6179444750874, 637.2457264957266, -29.262277388019356, 386.14230294480694]\n"
     ]
    },
    {
     "data": {
      "application/vnd.plotly.v1+json": {
       "config": {
        "plotlyServerURL": "https://plot.ly"
       },
       "data": [
        {
         "alignmentgroup": "True",
         "bingroup": "x",
         "histnorm": "probability",
         "hovertemplate": "x=%{x}<br>probability=%{y}<extra></extra>",
         "legendgroup": "",
         "marker": {
          "color": "#636efa",
          "opacity": 0.7,
          "pattern": {
           "shape": ""
          }
         },
         "name": "",
         "offsetgroup": "",
         "orientation": "v",
         "showlegend": false,
         "type": "histogram",
         "x": [
          1418.7967260298615,
          -1140.5830115830117,
          -255.88817663817645,
          -164.04910955207788,
          -848.2872818852311,
          424.2827635327635,
          -770.7599715099716,
          62.754272351141935,
          -352.18250749426943,
          816.5573025856047,
          161.98430611885033,
          -177.47454545454548,
          -843.1858578733911,
          -53.77991452991455,
          646.068946497518,
          -58.929090909090974,
          1493.577679720537,
          305.27991452991455,
          -390.35686707115246,
          -1455.9434523809525,
          -174.84241770102517,
          349.3381903220002,
          842.7249162405219,
          1290.0696819268246,
          -926.9555065269351,
          766.3218181818183,
          -498.8226495726499,
          -362.7257834757834,
          429.4154437456323,
          -10.740081114441637,
          1307.3311965811965,
          0.18551204265486376,
          213.34250764525996,
          1136.8527272727274,
          1047.017629069977,
          -1348.9945454545455,
          853.9757150566652,
          202.94727272727278,
          945.1575822989748,
          -650.3763636363635,
          -634.8724030152603,
          218.19090909090892,
          830.409090909091,
          -536.1654545454544,
          -336.56934700485726,
          -306.83738082388936,
          -328.2243589743589,
          750.2939878654165,
          900.7323223417388,
          350.05999999999995,
          179.12181818181807,
          490.3511396011395,
          1054.6381590548403,
          282.7075013491635,
          305.52181818181816,
          1170.75,
          -144.54363636363632,
          -356.44181818181823,
          -371.00384346610736,
          -229.42559523809496,
          -166.40099715099677,
          560.9158121964383,
          -10.143636363636233,
          -318.8107573304551,
          2.419145690312689,
          1083.9072727272724,
          -702.6403133903132,
          707.883072867633,
          -687.3125,
          452.8100377765786,
          177.26000000000022,
          -291.10185185185173,
          -96.77348777348789,
          857.8440170940171,
          731.9945454545455,
          1058.2781818181816,
          -284.9072727272728,
          -348.378562235705,
          885.1128883986025,
          -110.05059523809496,
          -443.905307705872,
          851.0111530850872,
          292.4451185879757,
          -455.5588401430996,
          -153.41685769705555,
          -1153.1135602186564,
          1665.9,
          -879.9188703004138,
          -273.4944454240872,
          -947.7296276308691,
          -18.11454545454535,
          609.6718132178494,
          -678.0127272727275,
          1583.2291779096959,
          430.3363095238092,
          273.06547940277005,
          -771.0935420039575,
          -928.8636363636365,
          -563.9877707896574,
          -910.5654545454545,
          -373.0565476190477,
          -259.5195178989029,
          323.0576923076924,
          1417.416620702335,
          265.30840455840416,
          -599.6709090909092,
          -880.7292411975147,
          -199.32181818181834,
          -1467.5981818181817,
          -542.6836753906987,
          -558.3098290598289,
          509.98510755653615,
          76.36823169634818,
          -2.4927272727272793,
          160.95035852178717,
          225.09821428571422,
          695.2800211602894,
          -383.6203346203347,
          -48.37362835042268,
          79.81302956128775,
          -717.4890909090907,
          -718.0249287749286,
          -98.1379744558376,
          321.9951430113333,
          -1063.2611980572044,
          -590.9434523809525,
          -24.08365508365523,
          -1155.3353121064938,
          1360.3581818181815,
          -708.7086894586894,
          -164.75657289943,
          771.747150997151,
          240.1545454545453,
          -135.287704763698,
          323.4280626780628,
          -436.6289173789173,
          -967.7970085470085,
          411.90727272727236,
          58.32182047130755,
          -188.59472934472933,
          1409.4137434790428,
          -20.784165050255524,
          260.17448060305196,
          -1067.2165839308698,
          1281.3763636363637,
          297.87569706781824,
          -139.72818852311548,
          1131.5405405405404,
          1088.7379024665788,
          -357.26371649577277,
          -496.8345454545456,
          -114.3466819221967,
          346.543298400441,
          897.7821550638605,
          -538.7708333333333,
          549.4041184041184,
          -578.8515253041794,
          -334.6622257053291,
          546.7145454545457,
          1748.489090909091,
          925.4322152341019,
          155.849715099715,
          -1040.8850454227813,
          -134.3459255261737,
          -474.5509090909095,
          -1091.5540564849796,
          -647.4266381766381,
          -566.5982142857142,
          824.5106837606836,
          82.22312182263249,
          1303.3515020687175,
          623.0781818181817,
          -637.7745997481561,
          -106.80779403985207,
          -625.7742165242166,
          752.3191489361702,
          -344.6212308234876,
          -977.3420913419152,
          -86.95073375262064,
          -365.72181818181843,
          -317.976074833603,
          -487.374701231844,
          -199.01942795466812,
          1166.2025171624714,
          -745.7074590019397,
          517.4490909090905,
          851.126281705343,
          249.02362898959655,
          873.8709090909092,
          1022.3218181818183,
          -363.5808499382824,
          -1650.1869041194461,
          -149.0183857326715,
          922.6211548839719,
          16.276705276705343,
          89.72435897435889,
          252.3200956058099,
          679.1816873538405,
          867.815527065527,
          -1002.1727272727271,
          115.05144810217689,
          794.5693470048573,
          -806.8697607483361,
          -1046.7690232056125,
          1222.769158350593,
          -119.27762456333903,
          -889.7072727272728,
          -307.9763636363632,
          651.9945454545455,
          818.8327037236913,
          92.40834712263313,
          462.15278543849945,
          599.747272727273,
          -778.4732142857142,
          -442.12749287749284,
          190.78727272727247,
          -464.3410553410554,
          207.7236624379484,
          329.91023565389423,
          593.8269230769229,
          259.94081669365005,
          1497.6666666666667,
          -137.54059829059815,
          972.6618339295801,
          -309.94585357078586,
          972.0605413105413,
          -6.03062678062679,
          -157.90283900546683,
          -105.50363636363636,
          -111.27615370472495,
          -718.0768123763266,
          -251.47222222222217,
          -974.122863824429,
          118.93017104567116,
          1619.7479316050742,
          1666.3680126961735,
          -8.45277927684856,
          874.6272727272731,
          -25.232905982905777,
          -1081.7046376300475,
          675.8445143256467,
          1661.507272727273,
          858.7247222745245,
          451.51144164759717,
          246.70535714285734,
          -978.6517094017095,
          -1280.9509090909094,
          -510.8740780715957,
          277.16025641025635,
          478.66964285714266,
          -157.19818181818164,
          20.21860636146357,
          -223.5418240690774,
          -1130.7545454545457,
          278.2713675213672,
          -687.2636363636366,
          64.1972934472933,
          309.0719553876597,
          337.52181818181816,
          982.4672727272728,
          48.240820937676745,
          500.72150997150993,
          256.5049857549857,
          295.5443425076455,
          702.2074114049292,
          -1239.5254545454547,
          -1254.3618181818183,
          805.9910714285716,
          844.9836363636364,
          -550.7382948986724,
          922.6873219373219,
          -29.372727272726934,
          342.9838205552487,
          -272.1836661270013,
          540.9540576162681,
          1637.457069314212,
          -1122.5833333333335,
          161.89170803456545,
          280.1487405773123,
          -175.5646270499028,
          547.6979224122083,
          700.1400000000003,
          148.06457996042445,
          -1260.3184523809525,
          79.85087245907562,
          -651.5292022792023,
          -936.1879834502608,
          -12.846295274866861,
          496.6686123140653,
          -1089.9052706552707,
          57.230909090909336,
          1046.3778268063984,
          -719.7343304843305,
          -123.61018168735382,
          -258.1560948703809,
          410.80109328160825,
          12.174501424501614,
          -622.5263532763533,
          -1473.881818181818,
          161.7073214606944,
          -1166.3300953408884,
          -763.6677459974815,
          -444.2146069436949,
          624.2127272727271,
          -163.63872035300574,
          690.8018181818184,
          1731.5037690751979,
          -1322.818672423098,
          239.2898959619115,
          -434.5509090909095,
          -1068.2645452833742,
          -751.9850427350425,
          -700.6350969685557,
          -63.60897435897414,
          -1065.7339484089625,
          -786.335214247928,
          475.09649122807014,
          976.5301313185828,
          35.2381818181816,
          96.74599748156152,
          513.1033278176137,
          9.114545454545805,
          1109.3539886039887,
          -740.757150566649,
          -370.4927272727273,
          -246.9704982910598,
          994.8018181818184,
          -17.825498575498386,
          -613.5181818181816,
          -589.8810937218925,
          267.58727272727265,
          572.5181818181818,
          -209.91369671558323,
          195.38363636363647,
          -784.2927350427349,
          -991.985119047619,
          -34.09330484330485,
          -137.22209965067123,
          -418.8621070049644,
          -476.6080161794448,
          -868.3952991452991,
          -969.2586796186363,
          828.8201115308507,
          -236.60042735042725,
          128.66540744738268,
          -612.2283547875154,
          -151.010793308149,
          656.1545454545453,
          -874.9395574743658,
          453.1290909090908,
          656.2423097679439,
          -560.2756410256411,
          -659.5534105534105,
          768.4423076923076,
          -963.3072727272727,
          -296.25133296561853,
          -359.7628205128203,
          329.5922619047619,
          137.73178629249878,
          -916.4286721918534,
          -608.4237891737889,
          295.9613095238092,
          -582.4910950449655,
          -1410.609090909091,
          -770.5444015444016,
          -566.1070336391438,
          -611.386752136752,
          -229.03921568627447,
          640.574404761905,
          -225.0029417172277,
          -488.58080529509107,
          -1566.4596150386762,
          683.0007122507122,
          521.9447742399711,
          947.5290909090909,
          959.3184025903938,
          482.6571325778018,
          294.86011904761926,
          203.38363636363647,
          191.6890909090912,
          287.6018181818181,
          -376.6053246986867,
          61.9384588256039,
          1074.3313348615766,
          -1145.0313005936318,
          979.5714285714284,
          292.2919589854291,
          1063.1072727272726,
          933.5654545454545,
          -1090.6618096779998,
          355.7232142857142,
          1487.1262563921707,
          -64.28181818181793,
          790.8276668465551,
          223.40557220948676,
          -789.8595071055943,
          -359.54332634521325,
          274.9520366778347,
          861.6317683036518,
          579.7969059183306,
          158.4707977207977,
          -1016.1483728626586,
          -156.1509090909094,
          -238.19586894586882,
          -1890.7193739881272,
          -976.2589098532494,
          198.05918330634995,
          1062.2054545454548,
          -1819.1093721892428,
          -419.36545454545467,
          -408.3109090909088,
          -1283.830909090909,
          -892.4709090909091,
          -285.1356359057386,
          -476.9111350962403,
          1127.5684523809523,
          -760.7171574678184,
          182.5836363636363,
          -43.24909090909068,
          239.24002849002818,
          -338.6708953851812,
          176.4297302063128,
          -443.3363636363638,
          74.10363636363627,
          632.8582621082624,
          289.40545454545463,
          -606.1906189384588,
          -107.4567095750308,
          128.86965811965774,
          -165.82440476190504,
          1082.0029761904761,
          -540.3184523809525,
          -17.082368082367793,
          -126.18727272727301,
          -242.3653534808418,
          314.6246438746439,
          239.82209030401145,
          1093.1842057924086,
          -483.0745454545454,
          -352.19805720453314,
          9.581908831909004,
          -1122.639880952381,
          417.23090909090934,
          -1075.9136904761906,
          -671.526199669057,
          -608.6182766684658,
          1038.4707977207977,
          -458.7371794871797,
          507.9654545454541,
          927.8440170940171,
          160.24181818181796,
          -843.9791666666667,
          619.2400284900282,
          -22.230373230373516,
          -956.5945313905379,
          -583.8745454545456,
          -137.71343766864538,
          1164.5305942514547,
          988.3377459091744,
          257.4313172280022,
          1442.2781818181818,
          -59.51090909090908,
          -118.68928111785272,
          469.40098748016226,
          836.9275602132743,
          261.17466446037906,
          -25.044436607300213,
          -425.8541666666665,
          -1483.7397013851412,
          -906.201818181818,
          58.69871794871824,
          745.6754918183492,
          -1914.9,
          -250.72597425498134,
          -296.04407267494116,
          75.15090909090895,
          -1079.9836007758774,
          -906.1575657289943,
          228.13653534808418,
          -525.4599999999998,
          -790.9904778698644,
          -277.53714696887937,
          306.8053253394464,
          1871.572727272727,
          -700.4127272727274,
          -1708.5,
          -883.1082701463588,
          -244.0922827846739,
          78.03558651854655,
          301.34829059829053,
          606.7581818181816,
          -128.65999999999985,
          281.8541666666665,
          465.9351851851852,
          26.360959266443388,
          -1132.326923076923,
          592.6179444750874,
          637.2457264957266,
          -29.262277388019356,
          386.14230294480694
         ],
         "xaxis": "x",
         "yaxis": "y"
        },
        {
         "alignmentgroup": "True",
         "hovertemplate": "x=%{x}<extra></extra>",
         "legendgroup": "",
         "marker": {
          "color": "#636efa"
         },
         "name": "",
         "notched": true,
         "offsetgroup": "",
         "showlegend": false,
         "type": "box",
         "x": [
          1418.7967260298615,
          -1140.5830115830117,
          -255.88817663817645,
          -164.04910955207788,
          -848.2872818852311,
          424.2827635327635,
          -770.7599715099716,
          62.754272351141935,
          -352.18250749426943,
          816.5573025856047,
          161.98430611885033,
          -177.47454545454548,
          -843.1858578733911,
          -53.77991452991455,
          646.068946497518,
          -58.929090909090974,
          1493.577679720537,
          305.27991452991455,
          -390.35686707115246,
          -1455.9434523809525,
          -174.84241770102517,
          349.3381903220002,
          842.7249162405219,
          1290.0696819268246,
          -926.9555065269351,
          766.3218181818183,
          -498.8226495726499,
          -362.7257834757834,
          429.4154437456323,
          -10.740081114441637,
          1307.3311965811965,
          0.18551204265486376,
          213.34250764525996,
          1136.8527272727274,
          1047.017629069977,
          -1348.9945454545455,
          853.9757150566652,
          202.94727272727278,
          945.1575822989748,
          -650.3763636363635,
          -634.8724030152603,
          218.19090909090892,
          830.409090909091,
          -536.1654545454544,
          -336.56934700485726,
          -306.83738082388936,
          -328.2243589743589,
          750.2939878654165,
          900.7323223417388,
          350.05999999999995,
          179.12181818181807,
          490.3511396011395,
          1054.6381590548403,
          282.7075013491635,
          305.52181818181816,
          1170.75,
          -144.54363636363632,
          -356.44181818181823,
          -371.00384346610736,
          -229.42559523809496,
          -166.40099715099677,
          560.9158121964383,
          -10.143636363636233,
          -318.8107573304551,
          2.419145690312689,
          1083.9072727272724,
          -702.6403133903132,
          707.883072867633,
          -687.3125,
          452.8100377765786,
          177.26000000000022,
          -291.10185185185173,
          -96.77348777348789,
          857.8440170940171,
          731.9945454545455,
          1058.2781818181816,
          -284.9072727272728,
          -348.378562235705,
          885.1128883986025,
          -110.05059523809496,
          -443.905307705872,
          851.0111530850872,
          292.4451185879757,
          -455.5588401430996,
          -153.41685769705555,
          -1153.1135602186564,
          1665.9,
          -879.9188703004138,
          -273.4944454240872,
          -947.7296276308691,
          -18.11454545454535,
          609.6718132178494,
          -678.0127272727275,
          1583.2291779096959,
          430.3363095238092,
          273.06547940277005,
          -771.0935420039575,
          -928.8636363636365,
          -563.9877707896574,
          -910.5654545454545,
          -373.0565476190477,
          -259.5195178989029,
          323.0576923076924,
          1417.416620702335,
          265.30840455840416,
          -599.6709090909092,
          -880.7292411975147,
          -199.32181818181834,
          -1467.5981818181817,
          -542.6836753906987,
          -558.3098290598289,
          509.98510755653615,
          76.36823169634818,
          -2.4927272727272793,
          160.95035852178717,
          225.09821428571422,
          695.2800211602894,
          -383.6203346203347,
          -48.37362835042268,
          79.81302956128775,
          -717.4890909090907,
          -718.0249287749286,
          -98.1379744558376,
          321.9951430113333,
          -1063.2611980572044,
          -590.9434523809525,
          -24.08365508365523,
          -1155.3353121064938,
          1360.3581818181815,
          -708.7086894586894,
          -164.75657289943,
          771.747150997151,
          240.1545454545453,
          -135.287704763698,
          323.4280626780628,
          -436.6289173789173,
          -967.7970085470085,
          411.90727272727236,
          58.32182047130755,
          -188.59472934472933,
          1409.4137434790428,
          -20.784165050255524,
          260.17448060305196,
          -1067.2165839308698,
          1281.3763636363637,
          297.87569706781824,
          -139.72818852311548,
          1131.5405405405404,
          1088.7379024665788,
          -357.26371649577277,
          -496.8345454545456,
          -114.3466819221967,
          346.543298400441,
          897.7821550638605,
          -538.7708333333333,
          549.4041184041184,
          -578.8515253041794,
          -334.6622257053291,
          546.7145454545457,
          1748.489090909091,
          925.4322152341019,
          155.849715099715,
          -1040.8850454227813,
          -134.3459255261737,
          -474.5509090909095,
          -1091.5540564849796,
          -647.4266381766381,
          -566.5982142857142,
          824.5106837606836,
          82.22312182263249,
          1303.3515020687175,
          623.0781818181817,
          -637.7745997481561,
          -106.80779403985207,
          -625.7742165242166,
          752.3191489361702,
          -344.6212308234876,
          -977.3420913419152,
          -86.95073375262064,
          -365.72181818181843,
          -317.976074833603,
          -487.374701231844,
          -199.01942795466812,
          1166.2025171624714,
          -745.7074590019397,
          517.4490909090905,
          851.126281705343,
          249.02362898959655,
          873.8709090909092,
          1022.3218181818183,
          -363.5808499382824,
          -1650.1869041194461,
          -149.0183857326715,
          922.6211548839719,
          16.276705276705343,
          89.72435897435889,
          252.3200956058099,
          679.1816873538405,
          867.815527065527,
          -1002.1727272727271,
          115.05144810217689,
          794.5693470048573,
          -806.8697607483361,
          -1046.7690232056125,
          1222.769158350593,
          -119.27762456333903,
          -889.7072727272728,
          -307.9763636363632,
          651.9945454545455,
          818.8327037236913,
          92.40834712263313,
          462.15278543849945,
          599.747272727273,
          -778.4732142857142,
          -442.12749287749284,
          190.78727272727247,
          -464.3410553410554,
          207.7236624379484,
          329.91023565389423,
          593.8269230769229,
          259.94081669365005,
          1497.6666666666667,
          -137.54059829059815,
          972.6618339295801,
          -309.94585357078586,
          972.0605413105413,
          -6.03062678062679,
          -157.90283900546683,
          -105.50363636363636,
          -111.27615370472495,
          -718.0768123763266,
          -251.47222222222217,
          -974.122863824429,
          118.93017104567116,
          1619.7479316050742,
          1666.3680126961735,
          -8.45277927684856,
          874.6272727272731,
          -25.232905982905777,
          -1081.7046376300475,
          675.8445143256467,
          1661.507272727273,
          858.7247222745245,
          451.51144164759717,
          246.70535714285734,
          -978.6517094017095,
          -1280.9509090909094,
          -510.8740780715957,
          277.16025641025635,
          478.66964285714266,
          -157.19818181818164,
          20.21860636146357,
          -223.5418240690774,
          -1130.7545454545457,
          278.2713675213672,
          -687.2636363636366,
          64.1972934472933,
          309.0719553876597,
          337.52181818181816,
          982.4672727272728,
          48.240820937676745,
          500.72150997150993,
          256.5049857549857,
          295.5443425076455,
          702.2074114049292,
          -1239.5254545454547,
          -1254.3618181818183,
          805.9910714285716,
          844.9836363636364,
          -550.7382948986724,
          922.6873219373219,
          -29.372727272726934,
          342.9838205552487,
          -272.1836661270013,
          540.9540576162681,
          1637.457069314212,
          -1122.5833333333335,
          161.89170803456545,
          280.1487405773123,
          -175.5646270499028,
          547.6979224122083,
          700.1400000000003,
          148.06457996042445,
          -1260.3184523809525,
          79.85087245907562,
          -651.5292022792023,
          -936.1879834502608,
          -12.846295274866861,
          496.6686123140653,
          -1089.9052706552707,
          57.230909090909336,
          1046.3778268063984,
          -719.7343304843305,
          -123.61018168735382,
          -258.1560948703809,
          410.80109328160825,
          12.174501424501614,
          -622.5263532763533,
          -1473.881818181818,
          161.7073214606944,
          -1166.3300953408884,
          -763.6677459974815,
          -444.2146069436949,
          624.2127272727271,
          -163.63872035300574,
          690.8018181818184,
          1731.5037690751979,
          -1322.818672423098,
          239.2898959619115,
          -434.5509090909095,
          -1068.2645452833742,
          -751.9850427350425,
          -700.6350969685557,
          -63.60897435897414,
          -1065.7339484089625,
          -786.335214247928,
          475.09649122807014,
          976.5301313185828,
          35.2381818181816,
          96.74599748156152,
          513.1033278176137,
          9.114545454545805,
          1109.3539886039887,
          -740.757150566649,
          -370.4927272727273,
          -246.9704982910598,
          994.8018181818184,
          -17.825498575498386,
          -613.5181818181816,
          -589.8810937218925,
          267.58727272727265,
          572.5181818181818,
          -209.91369671558323,
          195.38363636363647,
          -784.2927350427349,
          -991.985119047619,
          -34.09330484330485,
          -137.22209965067123,
          -418.8621070049644,
          -476.6080161794448,
          -868.3952991452991,
          -969.2586796186363,
          828.8201115308507,
          -236.60042735042725,
          128.66540744738268,
          -612.2283547875154,
          -151.010793308149,
          656.1545454545453,
          -874.9395574743658,
          453.1290909090908,
          656.2423097679439,
          -560.2756410256411,
          -659.5534105534105,
          768.4423076923076,
          -963.3072727272727,
          -296.25133296561853,
          -359.7628205128203,
          329.5922619047619,
          137.73178629249878,
          -916.4286721918534,
          -608.4237891737889,
          295.9613095238092,
          -582.4910950449655,
          -1410.609090909091,
          -770.5444015444016,
          -566.1070336391438,
          -611.386752136752,
          -229.03921568627447,
          640.574404761905,
          -225.0029417172277,
          -488.58080529509107,
          -1566.4596150386762,
          683.0007122507122,
          521.9447742399711,
          947.5290909090909,
          959.3184025903938,
          482.6571325778018,
          294.86011904761926,
          203.38363636363647,
          191.6890909090912,
          287.6018181818181,
          -376.6053246986867,
          61.9384588256039,
          1074.3313348615766,
          -1145.0313005936318,
          979.5714285714284,
          292.2919589854291,
          1063.1072727272726,
          933.5654545454545,
          -1090.6618096779998,
          355.7232142857142,
          1487.1262563921707,
          -64.28181818181793,
          790.8276668465551,
          223.40557220948676,
          -789.8595071055943,
          -359.54332634521325,
          274.9520366778347,
          861.6317683036518,
          579.7969059183306,
          158.4707977207977,
          -1016.1483728626586,
          -156.1509090909094,
          -238.19586894586882,
          -1890.7193739881272,
          -976.2589098532494,
          198.05918330634995,
          1062.2054545454548,
          -1819.1093721892428,
          -419.36545454545467,
          -408.3109090909088,
          -1283.830909090909,
          -892.4709090909091,
          -285.1356359057386,
          -476.9111350962403,
          1127.5684523809523,
          -760.7171574678184,
          182.5836363636363,
          -43.24909090909068,
          239.24002849002818,
          -338.6708953851812,
          176.4297302063128,
          -443.3363636363638,
          74.10363636363627,
          632.8582621082624,
          289.40545454545463,
          -606.1906189384588,
          -107.4567095750308,
          128.86965811965774,
          -165.82440476190504,
          1082.0029761904761,
          -540.3184523809525,
          -17.082368082367793,
          -126.18727272727301,
          -242.3653534808418,
          314.6246438746439,
          239.82209030401145,
          1093.1842057924086,
          -483.0745454545454,
          -352.19805720453314,
          9.581908831909004,
          -1122.639880952381,
          417.23090909090934,
          -1075.9136904761906,
          -671.526199669057,
          -608.6182766684658,
          1038.4707977207977,
          -458.7371794871797,
          507.9654545454541,
          927.8440170940171,
          160.24181818181796,
          -843.9791666666667,
          619.2400284900282,
          -22.230373230373516,
          -956.5945313905379,
          -583.8745454545456,
          -137.71343766864538,
          1164.5305942514547,
          988.3377459091744,
          257.4313172280022,
          1442.2781818181818,
          -59.51090909090908,
          -118.68928111785272,
          469.40098748016226,
          836.9275602132743,
          261.17466446037906,
          -25.044436607300213,
          -425.8541666666665,
          -1483.7397013851412,
          -906.201818181818,
          58.69871794871824,
          745.6754918183492,
          -1914.9,
          -250.72597425498134,
          -296.04407267494116,
          75.15090909090895,
          -1079.9836007758774,
          -906.1575657289943,
          228.13653534808418,
          -525.4599999999998,
          -790.9904778698644,
          -277.53714696887937,
          306.8053253394464,
          1871.572727272727,
          -700.4127272727274,
          -1708.5,
          -883.1082701463588,
          -244.0922827846739,
          78.03558651854655,
          301.34829059829053,
          606.7581818181816,
          -128.65999999999985,
          281.8541666666665,
          465.9351851851852,
          26.360959266443388,
          -1132.326923076923,
          592.6179444750874,
          637.2457264957266,
          -29.262277388019356,
          386.14230294480694
         ],
         "xaxis": "x2",
         "yaxis": "y2"
        }
       ],
       "layout": {
        "barmode": "overlay",
        "legend": {
         "tracegroupgap": 0
        },
        "shapes": [
         {
          "line": {
           "dash": "dash",
           "width": 3
          },
          "type": "line",
          "x0": 4353.133123689728,
          "x1": 4353.133123689728,
          "xref": "x",
          "y0": 0,
          "y1": 1,
          "yref": "y domain"
         },
         {
          "line": {
           "dash": "dash",
           "width": 3
          },
          "type": "line",
          "x0": 4353.133123689728,
          "x1": 4353.133123689728,
          "xref": "x2",
          "y0": 0,
          "y1": 1,
          "yref": "y2 domain"
         }
        ],
        "template": {
         "data": {
          "bar": [
           {
            "error_x": {
             "color": "#2a3f5f"
            },
            "error_y": {
             "color": "#2a3f5f"
            },
            "marker": {
             "line": {
              "color": "#E5ECF6",
              "width": 0.5
             },
             "pattern": {
              "fillmode": "overlay",
              "size": 10,
              "solidity": 0.2
             }
            },
            "type": "bar"
           }
          ],
          "barpolar": [
           {
            "marker": {
             "line": {
              "color": "#E5ECF6",
              "width": 0.5
             },
             "pattern": {
              "fillmode": "overlay",
              "size": 10,
              "solidity": 0.2
             }
            },
            "type": "barpolar"
           }
          ],
          "carpet": [
           {
            "aaxis": {
             "endlinecolor": "#2a3f5f",
             "gridcolor": "white",
             "linecolor": "white",
             "minorgridcolor": "white",
             "startlinecolor": "#2a3f5f"
            },
            "baxis": {
             "endlinecolor": "#2a3f5f",
             "gridcolor": "white",
             "linecolor": "white",
             "minorgridcolor": "white",
             "startlinecolor": "#2a3f5f"
            },
            "type": "carpet"
           }
          ],
          "choropleth": [
           {
            "colorbar": {
             "outlinewidth": 0,
             "ticks": ""
            },
            "type": "choropleth"
           }
          ],
          "contour": [
           {
            "colorbar": {
             "outlinewidth": 0,
             "ticks": ""
            },
            "colorscale": [
             [
              0,
              "#0d0887"
             ],
             [
              0.1111111111111111,
              "#46039f"
             ],
             [
              0.2222222222222222,
              "#7201a8"
             ],
             [
              0.3333333333333333,
              "#9c179e"
             ],
             [
              0.4444444444444444,
              "#bd3786"
             ],
             [
              0.5555555555555556,
              "#d8576b"
             ],
             [
              0.6666666666666666,
              "#ed7953"
             ],
             [
              0.7777777777777778,
              "#fb9f3a"
             ],
             [
              0.8888888888888888,
              "#fdca26"
             ],
             [
              1,
              "#f0f921"
             ]
            ],
            "type": "contour"
           }
          ],
          "contourcarpet": [
           {
            "colorbar": {
             "outlinewidth": 0,
             "ticks": ""
            },
            "type": "contourcarpet"
           }
          ],
          "heatmap": [
           {
            "colorbar": {
             "outlinewidth": 0,
             "ticks": ""
            },
            "colorscale": [
             [
              0,
              "#0d0887"
             ],
             [
              0.1111111111111111,
              "#46039f"
             ],
             [
              0.2222222222222222,
              "#7201a8"
             ],
             [
              0.3333333333333333,
              "#9c179e"
             ],
             [
              0.4444444444444444,
              "#bd3786"
             ],
             [
              0.5555555555555556,
              "#d8576b"
             ],
             [
              0.6666666666666666,
              "#ed7953"
             ],
             [
              0.7777777777777778,
              "#fb9f3a"
             ],
             [
              0.8888888888888888,
              "#fdca26"
             ],
             [
              1,
              "#f0f921"
             ]
            ],
            "type": "heatmap"
           }
          ],
          "heatmapgl": [
           {
            "colorbar": {
             "outlinewidth": 0,
             "ticks": ""
            },
            "colorscale": [
             [
              0,
              "#0d0887"
             ],
             [
              0.1111111111111111,
              "#46039f"
             ],
             [
              0.2222222222222222,
              "#7201a8"
             ],
             [
              0.3333333333333333,
              "#9c179e"
             ],
             [
              0.4444444444444444,
              "#bd3786"
             ],
             [
              0.5555555555555556,
              "#d8576b"
             ],
             [
              0.6666666666666666,
              "#ed7953"
             ],
             [
              0.7777777777777778,
              "#fb9f3a"
             ],
             [
              0.8888888888888888,
              "#fdca26"
             ],
             [
              1,
              "#f0f921"
             ]
            ],
            "type": "heatmapgl"
           }
          ],
          "histogram": [
           {
            "marker": {
             "pattern": {
              "fillmode": "overlay",
              "size": 10,
              "solidity": 0.2
             }
            },
            "type": "histogram"
           }
          ],
          "histogram2d": [
           {
            "colorbar": {
             "outlinewidth": 0,
             "ticks": ""
            },
            "colorscale": [
             [
              0,
              "#0d0887"
             ],
             [
              0.1111111111111111,
              "#46039f"
             ],
             [
              0.2222222222222222,
              "#7201a8"
             ],
             [
              0.3333333333333333,
              "#9c179e"
             ],
             [
              0.4444444444444444,
              "#bd3786"
             ],
             [
              0.5555555555555556,
              "#d8576b"
             ],
             [
              0.6666666666666666,
              "#ed7953"
             ],
             [
              0.7777777777777778,
              "#fb9f3a"
             ],
             [
              0.8888888888888888,
              "#fdca26"
             ],
             [
              1,
              "#f0f921"
             ]
            ],
            "type": "histogram2d"
           }
          ],
          "histogram2dcontour": [
           {
            "colorbar": {
             "outlinewidth": 0,
             "ticks": ""
            },
            "colorscale": [
             [
              0,
              "#0d0887"
             ],
             [
              0.1111111111111111,
              "#46039f"
             ],
             [
              0.2222222222222222,
              "#7201a8"
             ],
             [
              0.3333333333333333,
              "#9c179e"
             ],
             [
              0.4444444444444444,
              "#bd3786"
             ],
             [
              0.5555555555555556,
              "#d8576b"
             ],
             [
              0.6666666666666666,
              "#ed7953"
             ],
             [
              0.7777777777777778,
              "#fb9f3a"
             ],
             [
              0.8888888888888888,
              "#fdca26"
             ],
             [
              1,
              "#f0f921"
             ]
            ],
            "type": "histogram2dcontour"
           }
          ],
          "mesh3d": [
           {
            "colorbar": {
             "outlinewidth": 0,
             "ticks": ""
            },
            "type": "mesh3d"
           }
          ],
          "parcoords": [
           {
            "line": {
             "colorbar": {
              "outlinewidth": 0,
              "ticks": ""
             }
            },
            "type": "parcoords"
           }
          ],
          "pie": [
           {
            "automargin": true,
            "type": "pie"
           }
          ],
          "scatter": [
           {
            "fillpattern": {
             "fillmode": "overlay",
             "size": 10,
             "solidity": 0.2
            },
            "type": "scatter"
           }
          ],
          "scatter3d": [
           {
            "line": {
             "colorbar": {
              "outlinewidth": 0,
              "ticks": ""
             }
            },
            "marker": {
             "colorbar": {
              "outlinewidth": 0,
              "ticks": ""
             }
            },
            "type": "scatter3d"
           }
          ],
          "scattercarpet": [
           {
            "marker": {
             "colorbar": {
              "outlinewidth": 0,
              "ticks": ""
             }
            },
            "type": "scattercarpet"
           }
          ],
          "scattergeo": [
           {
            "marker": {
             "colorbar": {
              "outlinewidth": 0,
              "ticks": ""
             }
            },
            "type": "scattergeo"
           }
          ],
          "scattergl": [
           {
            "marker": {
             "colorbar": {
              "outlinewidth": 0,
              "ticks": ""
             }
            },
            "type": "scattergl"
           }
          ],
          "scattermapbox": [
           {
            "marker": {
             "colorbar": {
              "outlinewidth": 0,
              "ticks": ""
             }
            },
            "type": "scattermapbox"
           }
          ],
          "scatterpolar": [
           {
            "marker": {
             "colorbar": {
              "outlinewidth": 0,
              "ticks": ""
             }
            },
            "type": "scatterpolar"
           }
          ],
          "scatterpolargl": [
           {
            "marker": {
             "colorbar": {
              "outlinewidth": 0,
              "ticks": ""
             }
            },
            "type": "scatterpolargl"
           }
          ],
          "scatterternary": [
           {
            "marker": {
             "colorbar": {
              "outlinewidth": 0,
              "ticks": ""
             }
            },
            "type": "scatterternary"
           }
          ],
          "surface": [
           {
            "colorbar": {
             "outlinewidth": 0,
             "ticks": ""
            },
            "colorscale": [
             [
              0,
              "#0d0887"
             ],
             [
              0.1111111111111111,
              "#46039f"
             ],
             [
              0.2222222222222222,
              "#7201a8"
             ],
             [
              0.3333333333333333,
              "#9c179e"
             ],
             [
              0.4444444444444444,
              "#bd3786"
             ],
             [
              0.5555555555555556,
              "#d8576b"
             ],
             [
              0.6666666666666666,
              "#ed7953"
             ],
             [
              0.7777777777777778,
              "#fb9f3a"
             ],
             [
              0.8888888888888888,
              "#fdca26"
             ],
             [
              1,
              "#f0f921"
             ]
            ],
            "type": "surface"
           }
          ],
          "table": [
           {
            "cells": {
             "fill": {
              "color": "#EBF0F8"
             },
             "line": {
              "color": "white"
             }
            },
            "header": {
             "fill": {
              "color": "#C8D4E3"
             },
             "line": {
              "color": "white"
             }
            },
            "type": "table"
           }
          ]
         },
         "layout": {
          "annotationdefaults": {
           "arrowcolor": "#2a3f5f",
           "arrowhead": 0,
           "arrowwidth": 1
          },
          "autotypenumbers": "strict",
          "coloraxis": {
           "colorbar": {
            "outlinewidth": 0,
            "ticks": ""
           }
          },
          "colorscale": {
           "diverging": [
            [
             0,
             "#8e0152"
            ],
            [
             0.1,
             "#c51b7d"
            ],
            [
             0.2,
             "#de77ae"
            ],
            [
             0.3,
             "#f1b6da"
            ],
            [
             0.4,
             "#fde0ef"
            ],
            [
             0.5,
             "#f7f7f7"
            ],
            [
             0.6,
             "#e6f5d0"
            ],
            [
             0.7,
             "#b8e186"
            ],
            [
             0.8,
             "#7fbc41"
            ],
            [
             0.9,
             "#4d9221"
            ],
            [
             1,
             "#276419"
            ]
           ],
           "sequential": [
            [
             0,
             "#0d0887"
            ],
            [
             0.1111111111111111,
             "#46039f"
            ],
            [
             0.2222222222222222,
             "#7201a8"
            ],
            [
             0.3333333333333333,
             "#9c179e"
            ],
            [
             0.4444444444444444,
             "#bd3786"
            ],
            [
             0.5555555555555556,
             "#d8576b"
            ],
            [
             0.6666666666666666,
             "#ed7953"
            ],
            [
             0.7777777777777778,
             "#fb9f3a"
            ],
            [
             0.8888888888888888,
             "#fdca26"
            ],
            [
             1,
             "#f0f921"
            ]
           ],
           "sequentialminus": [
            [
             0,
             "#0d0887"
            ],
            [
             0.1111111111111111,
             "#46039f"
            ],
            [
             0.2222222222222222,
             "#7201a8"
            ],
            [
             0.3333333333333333,
             "#9c179e"
            ],
            [
             0.4444444444444444,
             "#bd3786"
            ],
            [
             0.5555555555555556,
             "#d8576b"
            ],
            [
             0.6666666666666666,
             "#ed7953"
            ],
            [
             0.7777777777777778,
             "#fb9f3a"
            ],
            [
             0.8888888888888888,
             "#fdca26"
            ],
            [
             1,
             "#f0f921"
            ]
           ]
          },
          "colorway": [
           "#636efa",
           "#EF553B",
           "#00cc96",
           "#ab63fa",
           "#FFA15A",
           "#19d3f3",
           "#FF6692",
           "#B6E880",
           "#FF97FF",
           "#FECB52"
          ],
          "font": {
           "color": "#2a3f5f"
          },
          "geo": {
           "bgcolor": "white",
           "lakecolor": "white",
           "landcolor": "#E5ECF6",
           "showlakes": true,
           "showland": true,
           "subunitcolor": "white"
          },
          "hoverlabel": {
           "align": "left"
          },
          "hovermode": "closest",
          "mapbox": {
           "style": "light"
          },
          "paper_bgcolor": "white",
          "plot_bgcolor": "#E5ECF6",
          "polar": {
           "angularaxis": {
            "gridcolor": "white",
            "linecolor": "white",
            "ticks": ""
           },
           "bgcolor": "#E5ECF6",
           "radialaxis": {
            "gridcolor": "white",
            "linecolor": "white",
            "ticks": ""
           }
          },
          "scene": {
           "xaxis": {
            "backgroundcolor": "#E5ECF6",
            "gridcolor": "white",
            "gridwidth": 2,
            "linecolor": "white",
            "showbackground": true,
            "ticks": "",
            "zerolinecolor": "white"
           },
           "yaxis": {
            "backgroundcolor": "#E5ECF6",
            "gridcolor": "white",
            "gridwidth": 2,
            "linecolor": "white",
            "showbackground": true,
            "ticks": "",
            "zerolinecolor": "white"
           },
           "zaxis": {
            "backgroundcolor": "#E5ECF6",
            "gridcolor": "white",
            "gridwidth": 2,
            "linecolor": "white",
            "showbackground": true,
            "ticks": "",
            "zerolinecolor": "white"
           }
          },
          "shapedefaults": {
           "line": {
            "color": "#2a3f5f"
           }
          },
          "ternary": {
           "aaxis": {
            "gridcolor": "white",
            "linecolor": "white",
            "ticks": ""
           },
           "baxis": {
            "gridcolor": "white",
            "linecolor": "white",
            "ticks": ""
           },
           "bgcolor": "#E5ECF6",
           "caxis": {
            "gridcolor": "white",
            "linecolor": "white",
            "ticks": ""
           }
          },
          "title": {
           "x": 0.05
          },
          "xaxis": {
           "automargin": true,
           "gridcolor": "white",
           "linecolor": "white",
           "ticks": "",
           "title": {
            "standoff": 15
           },
           "zerolinecolor": "white",
           "zerolinewidth": 2
          },
          "yaxis": {
           "automargin": true,
           "gridcolor": "white",
           "linecolor": "white",
           "ticks": "",
           "title": {
            "standoff": 15
           },
           "zerolinecolor": "white",
           "zerolinewidth": 2
          }
         }
        },
        "title": {
         "text": "Empirical Distribution of the Mean Difference"
        },
        "xaxis": {
         "anchor": "y",
         "domain": [
          0,
          1
         ],
         "title": {
          "text": "x"
         }
        },
        "xaxis2": {
         "anchor": "y2",
         "domain": [
          0,
          1
         ],
         "matches": "x",
         "showgrid": true,
         "showticklabels": false
        },
        "yaxis": {
         "anchor": "x",
         "domain": [
          0,
          0.8316
         ],
         "title": {
          "text": "probability"
         }
        },
        "yaxis2": {
         "anchor": "x2",
         "domain": [
          0.8416,
          1
         ],
         "matches": "y2",
         "showgrid": false,
         "showline": false,
         "showticklabels": false,
         "ticks": ""
        }
       }
      }
     },
     "metadata": {},
     "output_type": "display_data"
    }
   ],
   "source": [
    "df = outage_cleaned.copy()\n",
    "n_repetitions = 500\n",
    "\n",
    "df['OUTAGE.DURATION'] = df['OUTAGE.DURATION'].astype(float)\n",
    "\n",
    "shuffled = df[(df['OUTAGE.START'].dt.year == 2005) | (df['OUTAGE.START'].dt.year == 2015)]\n",
    "shuffled['old_year'] = shuffled['OUTAGE.START'].dt.year == 2005\n",
    "\n",
    "\n",
    "observed_difference = shuffled.groupby('old_year')['OUTAGE.DURATION'].mean().diff().iloc[-1]\n",
    "\n",
    "\n",
    "differences = []\n",
    "for _ in range(n_repetitions):\n",
    "    \n",
    "    with_shuffled = shuffled.assign(Shuffled_Duration=np.random.permutation(shuffled['OUTAGE.DURATION']))\n",
    "\n",
    "    group_means = (\n",
    "        with_shuffled\n",
    "        .groupby('old_year')\n",
    "        .mean()\n",
    "        .loc[:, 'Shuffled_Duration']\n",
    "    )\n",
    "    difference = group_means.diff().iloc[-1]\n",
    "    \n",
    "    differences.append(difference)\n",
    "\n",
    "p = (np.array(differences) >= observed_difference).mean()\n",
    "print(differences)\n",
    "fig = px.histogram(x=differences, histnorm='probability', marginal='box',\n",
    "             title=\"Empirical Distribution of the Mean Difference\", barmode='overlay', opacity=0.7)\n",
    "fig.add_vline(x=observed_difference, line_width=3, line_dash=\"dash\")\n",
    "fig.show()\n",
    "fig.write_html(os.path.join('Assets', 'conclusion.html'), include_plotlyjs='cdn')"
   ]
  },
  {
   "cell_type": "code",
   "execution_count": null,
   "metadata": {},
   "outputs": [],
   "source": []
  }
 ],
 "metadata": {
  "kernelspec": {
   "display_name": "Python 3 (ipykernel)",
   "language": "python",
   "name": "python3"
  },
  "language_info": {
   "codemirror_mode": {
    "name": "ipython",
    "version": 3
   },
   "file_extension": ".py",
   "mimetype": "text/x-python",
   "name": "python",
   "nbconvert_exporter": "python",
   "pygments_lexer": "ipython3",
   "version": "3.8.18"
  }
 },
 "nbformat": 4,
 "nbformat_minor": 2
}
