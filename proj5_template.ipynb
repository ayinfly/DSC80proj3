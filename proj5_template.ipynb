{
 "cells": [
  {
   "cell_type": "markdown",
   "metadata": {},
   "source": [
    "# Your Title Here\n",
    "\n",
    "**Name(s)**: Luke Lin, Andrew Yin\n",
    "\n",
    "**Website Link**: (your website link)"
   ]
  },
  {
   "cell_type": "markdown",
   "metadata": {},
   "source": [
    "## Code"
   ]
  },
  {
   "cell_type": "code",
   "execution_count": 1,
   "metadata": {
    "ExecuteTime": {
     "end_time": "2019-10-31T23:36:28.652554Z",
     "start_time": "2019-10-31T23:36:27.180520Z"
    }
   },
   "outputs": [],
   "source": [
    "import pandas as pd\n",
    "import numpy as np\n",
    "import os\n",
    "\n",
    "import plotly.express as px\n",
    "pd.options.plotting.backend = 'plotly'"
   ]
  },
  {
   "cell_type": "markdown",
   "metadata": {},
   "source": [
    "### Framing the Problem"
   ]
  },
  {
   "cell_type": "code",
   "execution_count": 3,
   "metadata": {
    "ExecuteTime": {
     "end_time": "2019-10-31T23:36:28.657068Z",
     "start_time": "2019-10-31T23:36:28.654650Z"
    }
   },
   "outputs": [
    {
     "name": "stdout",
     "output_type": "stream",
     "text": [
      "(1534, 54)\n"
     ]
    }
   ],
   "source": [
    "# Read the Excel file into a pandas DataFrame\n",
    "outage = pd.read_excel(\"outage.xlsx\", sheet_name=\"Masterdata\")\n",
    "\n",
    "# Drop informational rows\n",
    "outage_cleaned = outage.drop(range(4)).dropna(axis=1, how='all')\n",
    "\n",
    "# Set column names based on the first row\n",
    "outage_cleaned.columns = outage_cleaned.iloc[0]\n",
    "\n",
    "# Drop rows related to units and variables\n",
    "outage_cleaned = outage_cleaned.drop([4, 5])\n",
    "outage_cleaned = outage_cleaned.drop(columns=\"variables\")\n",
    "\n",
    "# Combine 'OUTAGE.START.DATE' and 'OUTAGE.START.TIME' into a new datetime column\n",
    "outage_cleaned['OUTAGE.START'] = pd.to_datetime(outage_cleaned['OUTAGE.START.DATE']) + pd.to_timedelta(outage_cleaned['OUTAGE.START.TIME'].astype(str))\n",
    "\n",
    "# Combine 'OUTAGE.RESTORATION.DATE' and 'OUTAGE.RESTORATION.TIME' into a new datetime column\n",
    "outage_cleaned['OUTAGE.RESTORATION'] = pd.to_datetime(outage_cleaned['OUTAGE.RESTORATION.DATE']) + pd.to_timedelta(outage_cleaned['OUTAGE.RESTORATION.TIME'].astype(str))\n",
    "\n",
    "# Drop the original date and time columns\n",
    "outage_cleaned = outage_cleaned.drop(['OUTAGE.START.DATE', 'OUTAGE.START.TIME', 'OUTAGE.RESTORATION.DATE', 'OUTAGE.RESTORATION.TIME'], axis=1)\n",
    "\n",
    "# Replace \"NA\" with NaN for missing values\n",
    "outage_cleaned.replace(\"NA\", np.nan, inplace=True)\n",
    "\n",
    "#Essential Columns Analysis\n",
    "essential_col = [\n",
    "    \"U.S._STATE\", \n",
    "    'OUTAGE.START',\n",
    "    \"OUTAGE.RESTORATION\", \n",
    "    \"CUSTOMERS.AFFECTED\", \n",
    "    \"OUTAGE.DURATION\", \n",
    "    \"DEMAND.LOSS.MW\", \n",
    "    \"RES.PRICE\", \n",
    "    \"NERC.REGION\", \n",
    "    \"CLIMATE.REGION\",\n",
    "    \"CAUSE.CATEGORY\",\n",
    "    \"TOTAL.SALES\"\n",
    "]\n",
    "# Display the cleaned DataFrame\n",
    "# outage_cleaned = outage_cleaned[essential_col]\n",
    "print(outage_cleaned.shape)\n"
   ]
  },
  {
   "cell_type": "code",
   "execution_count": null,
   "metadata": {},
   "outputs": [],
   "source": []
  },
  {
   "cell_type": "markdown",
   "metadata": {},
   "source": [
    "### Baseline Model"
   ]
  },
  {
   "cell_type": "code",
   "execution_count": null,
   "metadata": {
    "ExecuteTime": {
     "end_time": "2019-10-31T23:36:28.662099Z",
     "start_time": "2019-10-31T23:36:28.660016Z"
    }
   },
   "outputs": [],
   "source": [
    "# TODO"
   ]
  },
  {
   "cell_type": "markdown",
   "metadata": {},
   "source": [
    "### Final Model"
   ]
  },
  {
   "cell_type": "code",
   "execution_count": null,
   "metadata": {
    "ExecuteTime": {
     "end_time": "2019-10-31T23:36:28.662099Z",
     "start_time": "2019-10-31T23:36:28.660016Z"
    }
   },
   "outputs": [],
   "source": [
    "# TODO"
   ]
  },
  {
   "cell_type": "markdown",
   "metadata": {},
   "source": [
    "### Fairness Analysis"
   ]
  },
  {
   "cell_type": "code",
   "execution_count": null,
   "metadata": {
    "ExecuteTime": {
     "end_time": "2019-10-31T23:36:28.666489Z",
     "start_time": "2019-10-31T23:36:28.664381Z"
    }
   },
   "outputs": [],
   "source": [
    "# TODO"
   ]
  }
 ],
 "metadata": {
  "kernelspec": {
   "display_name": "Python 3 (ipykernel)",
   "language": "python",
   "name": "python3"
  },
  "language_info": {
   "codemirror_mode": {
    "name": "ipython",
    "version": 3
   },
   "file_extension": ".py",
   "mimetype": "text/x-python",
   "name": "python",
   "nbconvert_exporter": "python",
   "pygments_lexer": "ipython3",
   "version": "3.8.18"
  }
 },
 "nbformat": 4,
 "nbformat_minor": 2
}
