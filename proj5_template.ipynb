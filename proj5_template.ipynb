{
 "cells": [
  {
   "cell_type": "markdown",
   "metadata": {},
   "source": [
    "# Question I Choose\n",
    "## Predict the percentage of residential customers (RES.CUST.PCT) affected by a major power outage.\n",
    "\n",
    "**Name(s)**: Luke Lin, Andrew Yin\n",
    "\n",
    "**Website Link**: (your website link)"
   ]
  },
  {
   "cell_type": "markdown",
   "metadata": {},
   "source": [
    "## Code"
   ]
  },
  {
   "cell_type": "code",
   "execution_count": 2,
   "metadata": {
    "ExecuteTime": {
     "end_time": "2019-10-31T23:36:28.652554Z",
     "start_time": "2019-10-31T23:36:27.180520Z"
    }
   },
   "outputs": [],
   "source": [
    "import pandas as pd\n",
    "import numpy as np\n",
    "import os\n",
    "\n",
    "import plotly.express as px\n",
    "pd.options.plotting.backend = 'plotly'"
   ]
  },
  {
   "cell_type": "markdown",
   "metadata": {},
   "source": [
    "### Framing the Problem"
   ]
  },
  {
   "cell_type": "code",
   "execution_count": 9,
   "metadata": {
    "ExecuteTime": {
     "end_time": "2019-10-31T23:36:28.657068Z",
     "start_time": "2019-10-31T23:36:28.654650Z"
    }
   },
   "outputs": [
    {
     "name": "stdout",
     "output_type": "stream",
     "text": [
      "(1534, 54)\n"
     ]
    }
   ],
   "source": [
    "# Read the Excel file into a pandas DataFrame\n",
    "outage = pd.read_excel(\"outage.xlsx\", sheet_name=\"Masterdata\")\n",
    "\n",
    "# Drop informational rows\n",
    "outage_cleaned = outage.drop(range(4)).dropna(axis=1, how='all')\n",
    "\n",
    "# Set column names based on the first row\n",
    "outage_cleaned.columns = outage_cleaned.iloc[0]\n",
    "\n",
    "# Drop rows related to units and variables\n",
    "outage_cleaned = outage_cleaned.drop([4, 5])\n",
    "outage_cleaned = outage_cleaned.drop(columns=\"variables\")\n",
    "\n",
    "# Combine 'OUTAGE.START.DATE' and 'OUTAGE.START.TIME' into a new datetime column\n",
    "outage_cleaned['OUTAGE.START'] = pd.to_datetime(outage_cleaned['OUTAGE.START.DATE']) + pd.to_timedelta(outage_cleaned['OUTAGE.START.TIME'].astype(str))\n",
    "\n",
    "# Combine 'OUTAGE.RESTORATION.DATE' and 'OUTAGE.RESTORATION.TIME' into a new datetime column\n",
    "outage_cleaned['OUTAGE.RESTORATION'] = pd.to_datetime(outage_cleaned['OUTAGE.RESTORATION.DATE']) + pd.to_timedelta(outage_cleaned['OUTAGE.RESTORATION.TIME'].astype(str))\n",
    "\n",
    "# Drop the original date and time columns\n",
    "outage_cleaned = outage_cleaned.drop(['OUTAGE.START.DATE', 'OUTAGE.START.TIME', 'OUTAGE.RESTORATION.DATE', 'OUTAGE.RESTORATION.TIME'], axis=1)\n",
    "\n",
    "# Replace \"NA\" with NaN for missing values\n",
    "outage_cleaned.replace(\"NA\", np.nan, inplace=True)\n",
    "\n",
    "#Essential Columns Analysis\n",
    "essential_col = [\n",
    "    \"U.S._STATE\", \n",
    "    'OUTAGE.START',\n",
    "    \"OUTAGE.RESTORATION\", \n",
    "    \"CUSTOMERS.AFFECTED\", \n",
    "    \"OUTAGE.DURATION\", \n",
    "    \"DEMAND.LOSS.MW\", \n",
    "    \"RES.PRICE\", \n",
    "    \"NERC.REGION\", \n",
    "    \"CLIMATE.REGION\",\n",
    "    \"CAUSE.CATEGORY\",\n",
    "    \"TOTAL.SALES\"\n",
    "]\n",
    "# Display the cleaned DataFrame\n",
    "# outage_cleaned = outage_cleaned[essential_col]\n",
    "print(outage_cleaned.shape)\n",
    "outage_cleaned.head().to_clipboard()"
   ]
  },
  {
   "cell_type": "markdown",
   "metadata": {},
   "source": [
    "## More Cleaning and Encoding\n",
    "(add details later)"
   ]
  },
  {
   "cell_type": "code",
   "execution_count": 10,
   "metadata": {},
   "outputs": [],
   "source": [
    "import pandas as pd\n",
    "import numpy as np\n",
    "from sklearn.preprocessing import LabelEncoder\n",
    "\n",
    "processed_outage = outage_cleaned.copy()\n",
    "\n",
    "# Fill numerical columns with the mean\n",
    "num_cols = processed_outage.select_dtypes(include=[np.number]).columns\n",
    "processed_outage[num_cols] = processed_outage[num_cols].fillna(processed_outage[num_cols].mean())\n",
    "\n",
    "# Fill categorical columns with the mode\n",
    "cat_cols = processed_outage.select_dtypes(include=['object']).columns\n",
    "processed_outage[cat_cols] = processed_outage[cat_cols].fillna(processed_outage[cat_cols].mode().iloc[0])\n",
    "\n",
    "# 2. Convert Date/Time Columns\n",
    "processed_outage['OUTAGE.START'] = pd.to_datetime(processed_outage['OUTAGE.START'])\n",
    "processed_outage['OUTAGE.RESTORATION'] = pd.to_datetime(processed_outage['OUTAGE.RESTORATION'])\n",
    "\n",
    "# Create a new feature for outage duration in minutes\n",
    "processed_outage['OUTAGE.DURATION'] = (processed_outage['OUTAGE.RESTORATION'] - processed_outage['OUTAGE.START']).dt.total_seconds() / 60\n",
    "\n",
    "# 3. Encode Categorical Variables\n",
    "le = LabelEncoder()\n",
    "for col in cat_cols:\n",
    "    processed_outage[col] = le.fit_transform(processed_outage[col])\n"
   ]
  },
  {
   "cell_type": "markdown",
   "metadata": {},
   "source": [
    "### Baseline Model"
   ]
  },
  {
   "cell_type": "code",
   "execution_count": 17,
   "metadata": {
    "ExecuteTime": {
     "end_time": "2019-10-31T23:36:28.662099Z",
     "start_time": "2019-10-31T23:36:28.660016Z"
    }
   },
   "outputs": [
    {
     "name": "stdout",
     "output_type": "stream",
     "text": [
      "Test RMSE: 21.38164939292652\n"
     ]
    }
   ],
   "source": [
    "from sklearn.model_selection import train_test_split\n",
    "from sklearn.pipeline import Pipeline\n",
    "from sklearn.compose import ColumnTransformer\n",
    "from sklearn.preprocessing import StandardScaler, OneHotEncoder\n",
    "from sklearn.linear_model import LinearRegression\n",
    "from sklearn.metrics import mean_squared_error\n",
    "\n",
    "# Select features and target\n",
    "features = processed_outage[['U.S._STATE', 'OUTAGE.DURATION']]\n",
    "target = processed_outage['RES.CUST.PCT']\n",
    "\n",
    "# Split the data into training and test sets\n",
    "X_train, X_test, y_train, y_test = train_test_split(features, target, test_size=0.3, random_state=42)\n",
    "\n",
    "# Define preprocessing for numerical columns (scale them)\n",
    "num_processor = Pipeline([\n",
    "    ('scaler', StandardScaler())\n",
    "])\n",
    "\n",
    "# Define preprocessing for categorical columns (encode them)\n",
    "cat_processor = Pipeline([\n",
    "    ('encoder', OneHotEncoder(handle_unknown='ignore'))\n",
    "])\n",
    "\n",
    "# Combine preprocessing steps\n",
    "preprocessor = ColumnTransformer(\n",
    "    transformers=[\n",
    "        ('num', num_processor, ['OUTAGE.DURATION']),\n",
    "        ('cat', cat_processor, ['U.S._STATE'])\n",
    "    ])\n",
    "\n",
    "# Create the pipeline\n",
    "pipeline = Pipeline(steps=[\n",
    "    ('preprocessor', preprocessor),\n",
    "    ('regressor', LinearRegression())\n",
    "])\n",
    "\n",
    "# Train the model\n",
    "pipeline.fit(X_train, y_train)\n",
    "\n",
    "# Evaluate the model\n",
    "y_pred = pipeline.predict(X_test)\n",
    "print('Test RMSE:', np.sqrt(mean_squared_error(y_test, y_pred)))"
   ]
  },
  {
   "cell_type": "markdown",
   "metadata": {},
   "source": [
    "## Improve Baseline"
   ]
  },
  {
   "cell_type": "code",
   "execution_count": 19,
   "metadata": {},
   "outputs": [
    {
     "name": "stdout",
     "output_type": "stream",
     "text": [
      "Best parameters: {'regressor__fit_intercept': False}\n",
      "Best RMSE on training set: 23.26830298012474\n",
      "Test RMSE: 21.381654948380188\n"
     ]
    }
   ],
   "source": [
    "from sklearn.model_selection import GridSearchCV\n",
    "\n",
    "# Define the parameter grid\n",
    "param_grid = {\n",
    "    'regressor__fit_intercept': [True, False]\n",
    "}\n",
    "\n",
    "# Create the GridSearchCV object\n",
    "grid_search = GridSearchCV(pipeline, param_grid, cv=5, scoring='neg_mean_squared_error', n_jobs=-1)\n",
    "\n",
    "# Fit it to the data and find the best parameters\n",
    "grid_search.fit(X_train, y_train)\n",
    "\n",
    "# Print the best parameters and the corresponding RMSE on the training set\n",
    "print('Best parameters:', grid_search.best_params_)\n",
    "print('Best RMSE on training set:', np.sqrt(-grid_search.best_score_))\n",
    "\n",
    "# Evaluate the best model on the test set\n",
    "y_pred = grid_search.predict(X_test)\n",
    "print('Test RMSE:', np.sqrt(mean_squared_error(y_test, y_pred)))"
   ]
  },
  {
   "cell_type": "markdown",
   "metadata": {},
   "source": [
    "### Final Model"
   ]
  },
  {
   "cell_type": "code",
   "execution_count": null,
   "metadata": {
    "ExecuteTime": {
     "end_time": "2019-10-31T23:36:28.662099Z",
     "start_time": "2019-10-31T23:36:28.660016Z"
    }
   },
   "outputs": [],
   "source": [
    "# TODO"
   ]
  },
  {
   "cell_type": "markdown",
   "metadata": {},
   "source": [
    "### Fairness Analysis"
   ]
  },
  {
   "cell_type": "code",
   "execution_count": null,
   "metadata": {
    "ExecuteTime": {
     "end_time": "2019-10-31T23:36:28.666489Z",
     "start_time": "2019-10-31T23:36:28.664381Z"
    }
   },
   "outputs": [],
   "source": [
    "# TODO"
   ]
  }
 ],
 "metadata": {
  "kernelspec": {
   "display_name": "Python 3 (ipykernel)",
   "language": "python",
   "name": "python3"
  },
  "language_info": {
   "codemirror_mode": {
    "name": "ipython",
    "version": 3
   },
   "file_extension": ".py",
   "mimetype": "text/x-python",
   "name": "python",
   "nbconvert_exporter": "python",
   "pygments_lexer": "ipython3",
   "version": "3.8.18"
  }
 },
 "nbformat": 4,
 "nbformat_minor": 2
}
